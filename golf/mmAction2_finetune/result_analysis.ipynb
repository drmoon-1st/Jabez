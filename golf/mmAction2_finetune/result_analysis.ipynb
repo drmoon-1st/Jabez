{
 "cells": [
  {
   "cell_type": "code",
   "execution_count": null,
   "id": "ff901fe1",
   "metadata": {},
   "outputs": [
    {
     "data": {
      "image/png": "[encoded data removed]",
      "text/plain": [
       "<Figure size 640x480 with 1 Axes>"
      ]
     },
     "metadata": {},
     "output_type": "display_data"
    }
   ],
   "source": [
    "import pickle\n",
    "import pandas as pd\n",
    "import matplotlib.pyplot as plt\n",
    "from sklearn.metrics import confusion_matrix\n",
    "\n",
    "# 1) Load the dumped test results\n",
    "result_path = r\"D:\\mmaction2\\result\\result.pkl\"\n",
    "with open(result_path, \"rb\") as f:\n",
    "    results = pickle.load(f)\n",
    "\n",
    "# 2) Convert to DataFrame\n",
    "rows = []\n",
    "for entry in results:\n",
    "    rows.append({\n",
    "        \"gt_label\": int(entry[\"gt_label\"].item()),\n",
    "        \"pred_label\": int(entry[\"pred_label\"].item()),\n",
    "    })\n",
    "df = pd.DataFrame(rows)\n",
    "\n",
    "# 3) Compute overall Top-1 accuracy\n",
    "accuracy = (df[\"gt_label\"] == df[\"pred_label\"]).mean()\n",
    "print(f\"Overall Top-1 Accuracy: {accuracy:.2%}\\n\")\n",
    "\n",
    "# 4) Compute confusion matrix\n",
    "labels = sorted(df[\"gt_label\"].unique())\n",
    "cm = confusion_matrix(df[\"gt_label\"], df[\"pred_label\"], labels=labels)\n",
    "cm_df = pd.DataFrame(cm, index=[f\"Actual_{l}\" for l in labels],\n",
    "                     columns=[f\"Pred_{l}\" for l in labels])\n",
    "print(\"Confusion Matrix:\\n\", cm_df, \"\\n\")\n",
    "\n",
    "# 5) Plot confusion matrix\n",
    "plt.figure()\n",
    "plt.imshow(cm, interpolation='nearest', cmap=plt.cm.Blues)\n",
    "plt.title(\"Confusion Matrix\")\n",
    "plt.xlabel(\"Predicted Label\")\n",
    "plt.ylabel(\"True Label\")\n",
    "plt.xticks(range(len(labels)), labels)\n",
    "plt.yticks(range(len(labels)), labels)\n",
    "for i in range(len(labels)):\n",
    "    for j in range(len(labels)):\n",
    "        plt.text(j, i, cm[i, j], ha=\"center\", va=\"center\")\n",
    "plt.colorbar()\n",
    "plt.tight_layout()\n",
    "plt.show()\n"
   ]
  }
 ],
 "metadata": {
  "kernelspec": {
   "display_name": "mmaction",
   "language": "python",
   "name": "python3"
  },
  "language_info": {
   "codemirror_mode": {
    "name": "ipython",
    "version": 3
   },
   "file_extension": ".py",
   "mimetype": "text/x-python",
   "name": "python",
   "nbconvert_exporter": "python",
   "pygments_lexer": "ipython3",
   "version": "3.8.20"
  }
 },
 "nbformat": 4,
 "nbformat_minor": 5
}
