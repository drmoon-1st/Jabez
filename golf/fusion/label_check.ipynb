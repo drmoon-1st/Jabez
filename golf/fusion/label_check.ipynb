{
 "cells": [
  {
   "cell_type": "code",
   "execution_count": 12,
   "id": "087b38a1",
   "metadata": {},
   "outputs": [
    {
     "name": "stdout",
     "output_type": "stream",
     "text": [
      "TS-only Train  acc: 1.0\n",
      "TS-only Train  AUC: 1.0\n",
      "TS-only Test   acc: 0.4092526690391459\n",
      "TS-only Test   AUC: 0.4127128953771289\n",
      "\n",
      "ST-only Train acc: 0.6982758620689655\n",
      "ST-only Train AUC: 0.7400198281559816\n",
      "ST-only Test  acc: 0.5231316725978647\n",
      "ST-only Test  AUC: 0.4989355231143553\n",
      "\n",
      "Fusion Train acc: 1.0\n",
      "Fusion Train AUC: 1.0\n",
      "Fusion Test  acc: 0.4199288256227758\n",
      "Fusion Test  AUC: 0.40379156528791565\n"
     ]
    }
   ],
   "source": [
    "import numpy as np\n",
    "from sklearn.linear_model import LogisticRegression\n",
    "from sklearn.metrics import accuracy_score, roc_auc_score\n",
    "\n",
    "# ——————————————————————————————————\n",
    "# 1) 데이터 로드\n",
    "# ——————————————————————————————————\n",
    "# TS (TimeSformer) 임베딩\n",
    "X_ts_train = np.load('embbeding_data/timesformer/train/embeddings.npy')\n",
    "y_train     = np.load('embbeding_data/timesformer/train/labels.npy').ravel()\n",
    "X_ts_test  = np.load('embbeding_data/timesformer/test/embeddings.npy')\n",
    "y_test     = np.load('embbeding_data/timesformer/test/labels.npy').ravel()\n",
    "\n",
    "# ST (ST-GCN) 임베딩 (3D → 2D flatten)\n",
    "X_st_train = np.load('embbeding_data/stgcnpp/train/embeddings.npy')\n",
    "X_st_test  = np.load('embbeding_data/stgcnpp/test/embeddings.npy')\n",
    "# 세그먼트 축(1)을 평균 처리\n",
    "X_st_train = X_st_train.mean(axis=1)\n",
    "X_st_test  = X_st_test.mean(axis=1)\n",
    "\n",
    "# ——————————————————————————————————\n",
    "# 2) TS-only 성능\n",
    "# ——————————————————————————————————\n",
    "clf_ts = LogisticRegression(max_iter=1000).fit(X_ts_train, y_train)\n",
    "pred_ts_train = clf_ts.predict(X_ts_train)\n",
    "prob_ts_train = clf_ts.predict_proba(X_ts_train)[:,1]\n",
    "pred_ts_test  = clf_ts.predict(X_ts_test)\n",
    "prob_ts_test  = clf_ts.predict_proba(X_ts_test)[:,1]\n",
    "\n",
    "print(\"TS-only Train  acc:\", accuracy_score(y_train, pred_ts_train))\n",
    "print(\"TS-only Train  AUC:\", roc_auc_score(y_train, prob_ts_train))\n",
    "print(\"TS-only Test   acc:\", accuracy_score(y_test,  pred_ts_test))\n",
    "print(\"TS-only Test   AUC:\", roc_auc_score(y_test,  prob_ts_test))\n",
    "\n",
    "# ——————————————————————————————————\n",
    "# 3) ST-only 성능\n",
    "# ——————————————————————————————————\n",
    "clf_st = LogisticRegression(max_iter=1000).fit(X_st_train, y_train)\n",
    "pred_st_train = clf_st.predict(X_st_train)\n",
    "prob_st_train = clf_st.predict_proba(X_st_train)[:,1]\n",
    "pred_st_test  = clf_st.predict(X_st_test)\n",
    "prob_st_test  = clf_st.predict_proba(X_st_test)[:,1]\n",
    "\n",
    "print(\"\\nST-only Train acc:\", accuracy_score(y_train, pred_st_train))\n",
    "print(\"ST-only Train AUC:\", roc_auc_score(y_train, prob_st_train))\n",
    "print(\"ST-only Test  acc:\", accuracy_score(y_test,  pred_st_test))\n",
    "print(\"ST-only Test  AUC:\", roc_auc_score(y_test,  prob_st_test))\n",
    "\n",
    "# ——————————————————————————————————\n",
    "# 4) Fusion 성능 (두 임베딩 concatenate)\n",
    "# ——————————————————————————————————\n",
    "X_f_train = np.hstack([X_ts_train, X_st_train])\n",
    "X_f_test  = np.hstack([X_ts_test,  X_st_test])\n",
    "clf_f = LogisticRegression(max_iter=1000).fit(X_f_train, y_train)\n",
    "pred_f_train = clf_f.predict(X_f_train)\n",
    "prob_f_train = clf_f.predict_proba(X_f_train)[:,1]\n",
    "pred_f_test  = clf_f.predict(X_f_test)\n",
    "prob_f_test  = clf_f.predict_proba(X_f_test)[:,1]\n",
    "\n",
    "print(\"\\nFusion Train acc:\", accuracy_score(y_train, pred_f_train))\n",
    "print(\"Fusion Train AUC:\", roc_auc_score(y_train, prob_f_train))\n",
    "print(\"Fusion Test  acc:\", accuracy_score(y_test,  pred_f_test))\n",
    "print(\"Fusion Test  AUC:\", roc_auc_score(y_test,  prob_f_test))\n"
   ]
  }
 ],
 "metadata": {
  "kernelspec": {
   "display_name": "classifier_fusion",
   "language": "python",
   "name": "python3"
  },
  "language_info": {
   "codemirror_mode": {
    "name": "ipython",
    "version": 3
   },
   "file_extension": ".py",
   "mimetype": "text/x-python",
   "name": "python",
   "nbconvert_exporter": "python",
   "pygments_lexer": "ipython3",
   "version": "3.10.18"
  }
 },
 "nbformat": 4,
 "nbformat_minor": 5
}
