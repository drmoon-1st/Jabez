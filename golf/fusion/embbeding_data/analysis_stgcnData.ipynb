{
 "cells": [
  {
   "cell_type": "code",
   "execution_count": 4,
   "id": "24ccfc21",
   "metadata": {},
   "outputs": [
    {
     "name": "stdout",
     "output_type": "stream",
     "text": [
      "Embeddings shape: (392, 10, 256)\n",
      "Labels shape    : (392,)\n",
      "\n",
      "Class distribution:\n",
      "   class  count\n",
      "0      0    198\n",
      "1      1    194\n",
      "\n",
      "⚠️  NaN 포함 샘플 수: 0 / 392\n",
      "Embedding norms → mean: 20.0341, std: 2.5646\n"
     ]
    }
   ],
   "source": [
    "import numpy as np\n",
    "import pandas as pd\n",
    "from sklearn.decomposition import PCA\n",
    "import matplotlib.pyplot as plt\n",
    "from pathlib import Path\n",
    "\n",
    "BASE   = Path(r\"D:\\Jabez\\golf\\fusion\\embbeding_data\\stgcnpp\")\n",
    "SELECT = \"train\"          # \"train\" or \"valid\"\n",
    "\n",
    "EMB_PATH   = BASE / SELECT / \"embeddings.npy\"\n",
    "LABEL_PATH = BASE / SELECT / \"labels.npy\"\n",
    "\n",
    "# 1) 데이터 로드\n",
    "embeddings = np.load(EMB_PATH)\n",
    "labels     = np.squeeze(np.load(LABEL_PATH))\n",
    "\n",
    "# 2) 기본 정보\n",
    "print(f\"Embeddings shape: {embeddings.shape}\")\n",
    "print(f\"Labels shape    : {labels.shape}\")\n",
    "\n",
    "# 3) 클래스 분포\n",
    "unique, counts = np.unique(labels, return_counts=True)\n",
    "dist_df = pd.DataFrame({\"class\": unique, \"count\": counts})\n",
    "print(\"\\nClass distribution:\")\n",
    "print(dist_df)\n",
    "\n",
    "# 4) NaN 포함 여부 확인 ------------------------------------\n",
    "#   → 모든 비특징 차원(axis≥1)에 대해 하나라도 NaN이면 해당 샘플을 True 로 표시\n",
    "nan_rows = np.isnan(embeddings).any(axis=tuple(range(1, embeddings.ndim)))\n",
    "num_nan  = nan_rows.sum()\n",
    "print(f\"\\n⚠️  NaN 포함 샘플 수: {num_nan} / {len(nan_rows)}\")\n",
    "if num_nan:\n",
    "    print(\"   예시 인덱스:\", np.where(nan_rows)[0][:10])\n",
    "\n",
    "# (선택) NaN을 0으로 바꿔 후속 통계·시각화를 이어가려면:\n",
    "clean_emb = np.nan_to_num(embeddings, nan=0.0, posinf=0.0, neginf=0.0)\n",
    "\n",
    "# 5) 임베딩 노름 통계 (NaN 치환본 사용)\n",
    "norms = np.linalg.norm(clean_emb.reshape(clean_emb.shape[0], -1), axis=1)\n",
    "print(f\"Embedding norms → mean: {norms.mean():.4f}, std: {norms.std():.4f}\")\n"
   ]
  },
  {
   "cell_type": "code",
   "execution_count": 5,
   "id": "b121e917",
   "metadata": {},
   "outputs": [
    {
     "name": "stdout",
     "output_type": "stream",
     "text": [
      "원본 num_classes = 60\n",
      "Loads checkpoint by local backend from path: D:\\mmaction2\\checkpoints\\stgcnpp_8xb16-joint-u100-80e_ntu60-xsub-keypoint-2d_20221228-86e1e77a.pth\n",
      "🔍 Reconstructed head accuracy: 0.00%\n",
      "Sample 0: GT=1, Pred=11\n",
      "Sample 1: GT=1, Pred=43\n",
      "Sample 2: GT=1, Pred=10\n",
      "Sample 3: GT=1, Pred=29\n",
      "Sample 4: GT=1, Pred=11\n"
     ]
    }
   ],
   "source": [
    "import numpy as np\n",
    "import torch\n",
    "from mmengine.config import Config\n",
    "from mmengine.runner import load_checkpoint\n",
    "from mmaction.registry import MODELS\n",
    "from sklearn.metrics import accuracy_score\n",
    "\n",
    "# 파일 경로\n",
    "EMB_PATH   = \"train_embeddings.npy\"\n",
    "LABEL_PATH = \"train_labels.npy\"\n",
    "CFG_PATH   = r\"D:\\mmaction2\\configs\\skeleton\\stgcnpp\\my_stgcnpp.py\"\n",
    "CKPT_PATH  = r\"D:\\mmaction2\\checkpoints\\stgcnpp_8xb16-joint-u100-80e_ntu60-xsub-keypoint-2d_20221228-86e1e77a.pth\"\n",
    "\n",
    "# 1) 임베딩·라벨 로드\n",
    "embeddings = np.load(EMB_PATH)   # (N,10,256) or (N,256)\n",
    "labels     = np.load(LABEL_PATH) # (N,)\n",
    "\n",
    "# 비디오 단위 평균\n",
    "if embeddings.ndim == 3:\n",
    "    embeddings = embeddings.mean(axis=1)  # (N,256)\n",
    "\n",
    "# 2) 체크포인트 불러와서 orig_num_classes 추출\n",
    "ckpt = torch.load(CKPT_PATH, map_location=\"cpu\")\n",
    "state_dict = ckpt.get(\"state_dict\", ckpt)\n",
    "orig_num_classes = state_dict[\"cls_head.fc.weight\"].shape[0]\n",
    "print(f\"원본 num_classes = {orig_num_classes}\")\n",
    "\n",
    "# 3) config 로드 후 cls_head.num_classes 덮어쓰기\n",
    "cfg = Config.fromfile(CFG_PATH)\n",
    "cfg.model.cls_head.num_classes = orig_num_classes\n",
    "\n",
    "# 4) 모델 빌드 및 가중치 로드\n",
    "model = MODELS.build(cfg.model).to(\"cpu\")\n",
    "load_checkpoint(model, CKPT_PATH, map_location=\"cpu\", strict=False)\n",
    "\n",
    "# 5) fc 레이어 가져오기\n",
    "fc = model.cls_head.fc  # nn.Linear(256 -> orig_num_classes)\n",
    "\n",
    "# 6) 임베딩 → logits 재생성 & 예측\n",
    "with torch.no_grad():\n",
    "    emb_tensor = torch.from_numpy(embeddings).float()       # (N,256)\n",
    "    logits     = emb_tensor @ fc.weight.t() + fc.bias.unsqueeze(0)  # (N,orig_num_classes)\n",
    "    preds      = logits.argmax(dim=1).numpy()               # (N,)\n",
    "\n",
    "# 7) 정확도 계산\n",
    "acc = accuracy_score(labels, preds)\n",
    "print(f\"🔍 Reconstructed head accuracy: {acc*100:.2f}%\")\n",
    "\n",
    "# 8) 샘플별 비교 (최대 5개)\n",
    "for i in range(min(5, len(labels))):\n",
    "    print(f\"Sample {i}: GT={labels[i]}, Pred={preds[i]}\")\n"
   ]
  }
 ],
 "metadata": {
  "kernelspec": {
   "display_name": "mmaction",
   "language": "python",
   "name": "python3"
  },
  "language_info": {
   "codemirror_mode": {
    "name": "ipython",
    "version": 3
   },
   "file_extension": ".py",
   "mimetype": "text/x-python",
   "name": "python",
   "nbconvert_exporter": "python",
   "pygments_lexer": "ipython3",
   "version": "3.8.20"
  }
 },
 "nbformat": 4,
 "nbformat_minor": 5
}
