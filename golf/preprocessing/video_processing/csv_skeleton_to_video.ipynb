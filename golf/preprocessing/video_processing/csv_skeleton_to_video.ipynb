{
 "cells": [
  {
   "cell_type": "code",
   "execution_count": 1,
   "id": "a924c9bc",
   "metadata": {},
   "outputs": [
    {
     "name": "stdout",
     "output_type": "stream",
     "text": [
      "선택된 CSV 파일: 20201210_General_116_DOC_A_M30_MS_071_crop.csv\n"
     ]
    },
    {
     "name": "stderr",
     "output_type": "stream",
     "text": [
      "20201210_General_116_DOC_A_M30_MS_071_crop_skel.mp4: 100%|██████████| 193/193 [00:00<00:00, 312.83it/s]"
     ]
    },
    {
     "name": "stdout",
     "output_type": "stream",
     "text": [
      "🎞️  영상 저장 완료 → D:\\golfDataset\\dataset\\test\\balanced_true\\crop_keypoint\\20201210_General_116_DOC_A_M30_MS_071_crop_skel.mp4\n"
     ]
    },
    {
     "name": "stderr",
     "output_type": "stream",
     "text": [
      "\n"
     ]
    }
   ],
   "source": [
    "# %% -------------------------------------------------\n",
    "# 📹  CSV → Skeleton Video  (BODY_25, 전 프레임)\n",
    "# ----------------------------------------------------\n",
    "import cv2, pandas as pd, numpy as np\n",
    "from pathlib import Path\n",
    "from tqdm import tqdm\n",
    "\n",
    "# 이미 선언된 EDGES · load_csv() 재사용\n",
    "# -----------------------------------------------\n",
    "# EDGES  : BODY_25 관절 연결 리스트\n",
    "# load_csv() : csv → [T,25,3] numpy 배열\n",
    "\n",
    "EDGES = [\n",
    "    (0,1),\n",
    "      (1,2),(2,3),(3,4),          # Right arm\n",
    "      (1,5),(5,6),(6,7),          # Left  arm\n",
    "      (1,8),\n",
    "        (8,9),(9,10),(10,11),     # Right leg\n",
    "          (11,24),(11,22),(22,23),\n",
    "        (8,12),(12,13),(13,14),   # Left leg\n",
    "          (14,21),(14,19),(19,20),\n",
    "    (0,15),(15,17),\n",
    "    (0,16),(16,18)\n",
    "]\n",
    "\n",
    "def load_csv(csv_path: Path) -> np.ndarray:\n",
    "    \"\"\"return arr [T,25,3] (x,y,c)\"\"\"\n",
    "    df = pd.read_csv(csv_path)\n",
    "    arr = df.values.reshape(len(df), 25, 3)\n",
    "    return arr\n",
    "\n",
    "\n",
    "def csv_to_video(csv_path: str|Path,\n",
    "                 out_mp4 : str|Path = None,\n",
    "                 fps:int = 30,\n",
    "                 height:int = 720,\n",
    "                 width:int  = 720,\n",
    "                 conf_th:float = .05):\n",
    "    \"\"\"\n",
    "    csv_path : crop_keypoint/<name>.csv\n",
    "    out_mp4  : 저장 경로 (None → csv와 같은 이름 + '_skel.mp4')\n",
    "    \"\"\"\n",
    "    csv_path = Path(csv_path)\n",
    "    if out_mp4 is None:\n",
    "        out_mp4 = csv_path.with_name(csv_path.stem + \"_skel.mp4\")\n",
    "\n",
    "    arr = load_csv(csv_path)                     # [T,25,3]\n",
    "    # ---------- 좌표 정규화(캔버스 매핑) ----------\n",
    "    xs, ys = arr[:,:,0], arr[:,:,1]\n",
    "    xmin, xmax = np.nanmin(xs), np.nanmax(xs)\n",
    "    ymin, ymax = np.nanmin(ys), np.nanmax(ys)\n",
    "    scale = min((width-40)/(xmax-xmin+1e-5), (height-40)/(ymax-ymin+1e-5))\n",
    "    off_x, off_y = 20 - xmin*scale, 20 - ymin*scale   # padding 20px\n",
    "\n",
    "    # ---------- VideoWriter 초기화 --------------\n",
    "    fourcc = cv2.VideoWriter_fourcc(*\"mp4v\")\n",
    "    vw = cv2.VideoWriter(str(out_mp4), fourcc, fps, (width, height))\n",
    "\n",
    "    # ---------- 프레임 루프 ---------------------\n",
    "    for frame in tqdm(arr, desc=out_mp4.name):\n",
    "        canvas = np.ones((height, width, 3), np.uint8)*255   # white BG\n",
    "        pts = []\n",
    "        for x,y,c in frame:\n",
    "            if c < conf_th:\n",
    "                pts.append(None); continue\n",
    "            px, py = int(x*scale + off_x), int(y*scale + off_y)\n",
    "            pts.append((px,py))\n",
    "            cv2.circle(canvas, (px,py), 3, (0,0,255), -1)\n",
    "        # 뼈대 라인\n",
    "        for i,j in EDGES:\n",
    "            if i >= len(pts) or j >= len(pts): continue\n",
    "            if pts[i] and pts[j]:\n",
    "                cv2.line(canvas, pts[i], pts[j], (0,128,0), 2)\n",
    "        vw.write(canvas)\n",
    "\n",
    "    vw.release()\n",
    "    print(f\"🎞️  영상 저장 완료 → {out_mp4}\")\n",
    "\n",
    "# ===== 사용 예 =====\n",
    "CUR_DIR =  Path(r\"D:\\golfDataset\\dataset\\test\")               # 노트북 작업 디렉터리\n",
    "\n",
    "ROOT_DIR = CUR_DIR / \"balanced_true\"    # t,f 폴더 선택\n",
    "\n",
    "KEY_DIR = ROOT_DIR / \"crop_keypoint\"\n",
    "# KEY_DIR의 랜덤한 CSV 파일을 선택\n",
    "import random  \n",
    "csv_files = list(KEY_DIR.glob(\"*.csv\"))\n",
    "csv_file = random.choice(csv_files)  # 예시로 랜덤 선택\n",
    "print(f\"선택된 CSV 파일: {csv_file.name}\")\n",
    "csv_to_video(csv_file)                # fps·해상도 옵션은 필요 시 수정"
   ]
  }
 ],
 "metadata": {
  "kernelspec": {
   "display_name": "timesformer",
   "language": "python",
   "name": "python3"
  },
  "language_info": {
   "codemirror_mode": {
    "name": "ipython",
    "version": 3
   },
   "file_extension": ".py",
   "mimetype": "text/x-python",
   "name": "python",
   "nbconvert_exporter": "python",
   "pygments_lexer": "ipython3",
   "version": "3.12.11"
  }
 },
 "nbformat": 4,
 "nbformat_minor": 5
}
