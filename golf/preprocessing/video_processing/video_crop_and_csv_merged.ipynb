{
 "cells": [
  {
   "cell_type": "code",
   "execution_count": 1,
   "id": "cf740e9e",
   "metadata": {},
   "outputs": [
    {
     "name": "stderr",
     "output_type": "stream",
     "text": [
      "Processing balanced_true:   2%|▎         | 1/40 [00:38<25:16, 38.88s/it]"
     ]
    },
    {
     "name": "stdout",
     "output_type": "stream",
     "text": [
      "✅ balanced_true / 20201124_General_037_DOS_A_M40_MS_001 saved\n"
     ]
    },
    {
     "name": "stderr",
     "output_type": "stream",
     "text": [
      "Processing balanced_true:   5%|▌         | 2/40 [01:06<20:30, 32.37s/it]"
     ]
    },
    {
     "name": "stdout",
     "output_type": "stream",
     "text": [
      "✅ balanced_true / 20201124_General_037_DOS_A_M40_MS_002 saved\n"
     ]
    },
    {
     "name": "stderr",
     "output_type": "stream",
     "text": [
      "Processing balanced_true:   8%|▊         | 3/40 [01:39<20:11, 32.73s/it]"
     ]
    },
    {
     "name": "stdout",
     "output_type": "stream",
     "text": [
      "✅ balanced_true / 20201124_General_037_DOS_A_M40_MS_003 saved\n"
     ]
    },
    {
     "name": "stderr",
     "output_type": "stream",
     "text": [
      "Processing balanced_true:  10%|█         | 4/40 [02:05<17:51, 29.77s/it]"
     ]
    },
    {
     "name": "stdout",
     "output_type": "stream",
     "text": [
      "✅ balanced_true / 20201124_General_037_DOS_A_M40_MS_004 saved\n"
     ]
    },
    {
     "name": "stderr",
     "output_type": "stream",
     "text": [
      "Processing balanced_true:  12%|█▎        | 5/40 [02:31<16:38, 28.52s/it]"
     ]
    },
    {
     "name": "stdout",
     "output_type": "stream",
     "text": [
      "✅ balanced_true / 20201124_General_037_DOS_A_M40_MS_005 saved\n"
     ]
    },
    {
     "name": "stderr",
     "output_type": "stream",
     "text": [
      "Processing balanced_true:  15%|█▌        | 6/40 [02:57<15:46, 27.85s/it]"
     ]
    },
    {
     "name": "stdout",
     "output_type": "stream",
     "text": [
      "✅ balanced_true / 20201124_General_037_DOS_A_M40_MS_006 saved\n"
     ]
    },
    {
     "name": "stderr",
     "output_type": "stream",
     "text": [
      "Processing balanced_true:  18%|█▊        | 7/40 [03:22<14:43, 26.77s/it]"
     ]
    },
    {
     "name": "stdout",
     "output_type": "stream",
     "text": [
      "✅ balanced_true / 20201124_General_037_DOS_A_M40_MS_007 saved\n"
     ]
    },
    {
     "name": "stderr",
     "output_type": "stream",
     "text": [
      "Processing balanced_true:  20%|██        | 8/40 [08:51<1:05:33, 122.91s/it]"
     ]
    },
    {
     "name": "stdout",
     "output_type": "stream",
     "text": [
      "✅ balanced_true / 20201124_General_037_DOS_A_M40_MS_008 saved\n"
     ]
    },
    {
     "name": "stderr",
     "output_type": "stream",
     "text": [
      "Processing balanced_true:  22%|██▎       | 9/40 [09:15<47:36, 92.13s/it]   "
     ]
    },
    {
     "name": "stdout",
     "output_type": "stream",
     "text": [
      "✅ balanced_true / 20201124_General_037_DOS_A_M40_MS_009 saved\n"
     ]
    },
    {
     "name": "stderr",
     "output_type": "stream",
     "text": [
      "Processing balanced_true:  25%|██▌       | 10/40 [09:48<36:56, 73.87s/it]"
     ]
    },
    {
     "name": "stdout",
     "output_type": "stream",
     "text": [
      "✅ balanced_true / 20201124_General_037_DOS_A_M40_MS_010 saved\n"
     ]
    },
    {
     "name": "stderr",
     "output_type": "stream",
     "text": [
      "Processing balanced_true:  28%|██▊       | 11/40 [10:14<28:32, 59.03s/it]"
     ]
    },
    {
     "name": "stdout",
     "output_type": "stream",
     "text": [
      "✅ balanced_true / 20201124_General_037_DOS_A_M40_MS_011 saved\n"
     ]
    },
    {
     "name": "stderr",
     "output_type": "stream",
     "text": [
      "Processing balanced_true:  30%|███       | 12/40 [10:40<22:54, 49.08s/it]"
     ]
    },
    {
     "name": "stdout",
     "output_type": "stream",
     "text": [
      "✅ balanced_true / 20201124_General_037_DOS_A_M40_MS_012 saved\n"
     ]
    },
    {
     "name": "stderr",
     "output_type": "stream",
     "text": [
      "Processing balanced_true:  32%|███▎      | 13/40 [11:06<18:56, 42.11s/it]"
     ]
    },
    {
     "name": "stdout",
     "output_type": "stream",
     "text": [
      "✅ balanced_true / 20201124_General_037_DOS_A_M40_MS_013 saved\n"
     ]
    },
    {
     "name": "stderr",
     "output_type": "stream",
     "text": [
      "Processing balanced_true:  35%|███▌      | 14/40 [11:30<15:49, 36.52s/it]"
     ]
    },
    {
     "name": "stdout",
     "output_type": "stream",
     "text": [
      "✅ balanced_true / 20201124_General_037_DOS_A_M40_MS_014 saved\n"
     ]
    },
    {
     "name": "stderr",
     "output_type": "stream",
     "text": [
      "Processing balanced_true:  38%|███▊      | 15/40 [11:56<13:53, 33.35s/it]"
     ]
    },
    {
     "name": "stdout",
     "output_type": "stream",
     "text": [
      "✅ balanced_true / 20201124_General_037_DOS_A_M40_MS_015 saved\n"
     ]
    },
    {
     "name": "stderr",
     "output_type": "stream",
     "text": [
      "Processing balanced_true:  40%|████      | 16/40 [12:20<12:12, 30.52s/it]"
     ]
    },
    {
     "name": "stdout",
     "output_type": "stream",
     "text": [
      "✅ balanced_true / 20201124_General_037_DOS_A_M40_MS_016 saved\n"
     ]
    },
    {
     "name": "stderr",
     "output_type": "stream",
     "text": [
      "Processing balanced_true:  42%|████▎     | 17/40 [12:52<11:54, 31.07s/it]"
     ]
    },
    {
     "name": "stdout",
     "output_type": "stream",
     "text": [
      "✅ balanced_true / 20201124_General_037_DOS_A_M40_MS_017 saved\n"
     ]
    },
    {
     "name": "stderr",
     "output_type": "stream",
     "text": [
      "Processing balanced_true:  45%|████▌     | 18/40 [13:16<10:35, 28.87s/it]"
     ]
    },
    {
     "name": "stdout",
     "output_type": "stream",
     "text": [
      "✅ balanced_true / 20201124_General_037_DOS_A_M40_MS_018 saved\n"
     ]
    },
    {
     "name": "stderr",
     "output_type": "stream",
     "text": [
      "Processing balanced_true:  48%|████▊     | 19/40 [13:39<09:32, 27.28s/it]"
     ]
    },
    {
     "name": "stdout",
     "output_type": "stream",
     "text": [
      "✅ balanced_true / 20201124_General_037_DOS_A_M40_MS_019 saved\n"
     ]
    },
    {
     "name": "stderr",
     "output_type": "stream",
     "text": [
      "Processing balanced_true:  50%|█████     | 20/40 [14:09<09:20, 28.02s/it]"
     ]
    },
    {
     "name": "stdout",
     "output_type": "stream",
     "text": [
      "✅ balanced_true / 20201124_General_037_DOS_A_M40_MS_020 saved\n"
     ]
    },
    {
     "name": "stderr",
     "output_type": "stream",
     "text": [
      "Processing balanced_true:  52%|█████▎    | 21/40 [14:33<08:30, 26.89s/it]"
     ]
    },
    {
     "name": "stdout",
     "output_type": "stream",
     "text": [
      "✅ balanced_true / 20201124_General_037_DOS_A_M40_MS_021 saved\n"
     ]
    },
    {
     "name": "stderr",
     "output_type": "stream",
     "text": [
      "Processing balanced_true:  55%|█████▌    | 22/40 [14:59<07:56, 26.48s/it]"
     ]
    },
    {
     "name": "stdout",
     "output_type": "stream",
     "text": [
      "✅ balanced_true / 20201124_General_037_DOS_A_M40_MS_022 saved\n"
     ]
    },
    {
     "name": "stderr",
     "output_type": "stream",
     "text": [
      "Processing balanced_true:  57%|█████▊    | 23/40 [15:29<07:49, 27.64s/it]"
     ]
    },
    {
     "name": "stdout",
     "output_type": "stream",
     "text": [
      "✅ balanced_true / 20201124_General_037_DOS_A_M40_MS_023 saved\n"
     ]
    },
    {
     "name": "stderr",
     "output_type": "stream",
     "text": [
      "Processing balanced_true:  60%|██████    | 24/40 [15:58<07:29, 28.11s/it]"
     ]
    },
    {
     "name": "stdout",
     "output_type": "stream",
     "text": [
      "✅ balanced_true / 20201124_General_037_DOS_A_M40_MS_024 saved\n"
     ]
    },
    {
     "name": "stderr",
     "output_type": "stream",
     "text": [
      "Processing balanced_true:  62%|██████▎   | 25/40 [16:22<06:40, 26.69s/it]"
     ]
    },
    {
     "name": "stdout",
     "output_type": "stream",
     "text": [
      "✅ balanced_true / 20201124_General_037_DOS_A_M40_MS_025 saved\n"
     ]
    },
    {
     "name": "stderr",
     "output_type": "stream",
     "text": [
      "Processing balanced_true:  65%|██████▌   | 26/40 [16:46<06:02, 25.90s/it]"
     ]
    },
    {
     "name": "stdout",
     "output_type": "stream",
     "text": [
      "✅ balanced_true / 20201124_General_037_DOS_A_M40_MS_026 saved\n"
     ]
    },
    {
     "name": "stderr",
     "output_type": "stream",
     "text": [
      "Processing balanced_true:  68%|██████▊   | 27/40 [17:17<05:58, 27.60s/it]"
     ]
    },
    {
     "name": "stdout",
     "output_type": "stream",
     "text": [
      "✅ balanced_true / 20201124_General_037_DOS_A_M40_MS_027 saved\n"
     ]
    },
    {
     "name": "stderr",
     "output_type": "stream",
     "text": [
      "Processing balanced_true:  70%|███████   | 28/40 [17:49<05:45, 28.82s/it]"
     ]
    },
    {
     "name": "stdout",
     "output_type": "stream",
     "text": [
      "✅ balanced_true / 20201124_General_037_DOS_A_M40_MS_028 saved\n"
     ]
    },
    {
     "name": "stderr",
     "output_type": "stream",
     "text": [
      "Processing balanced_true:  72%|███████▎  | 29/40 [18:14<05:06, 27.83s/it]"
     ]
    },
    {
     "name": "stdout",
     "output_type": "stream",
     "text": [
      "✅ balanced_true / 20201124_General_037_DOS_A_M40_MS_029 saved\n"
     ]
    },
    {
     "name": "stderr",
     "output_type": "stream",
     "text": [
      "Processing balanced_true:  75%|███████▌  | 30/40 [18:39<04:27, 26.79s/it]"
     ]
    },
    {
     "name": "stdout",
     "output_type": "stream",
     "text": [
      "✅ balanced_true / 20201124_General_037_DOS_A_M40_MS_030 saved\n"
     ]
    },
    {
     "name": "stderr",
     "output_type": "stream",
     "text": [
      "Processing balanced_true:  78%|███████▊  | 31/40 [19:07<04:06, 27.35s/it]"
     ]
    },
    {
     "name": "stdout",
     "output_type": "stream",
     "text": [
      "✅ balanced_true / 20201124_General_037_DOS_A_M40_MS_031 saved\n"
     ]
    },
    {
     "name": "stderr",
     "output_type": "stream",
     "text": [
      "Processing balanced_true:  80%|████████  | 32/40 [19:41<03:53, 29.19s/it]"
     ]
    },
    {
     "name": "stdout",
     "output_type": "stream",
     "text": [
      "✅ balanced_true / 20201124_General_037_DOS_A_M40_MS_032 saved\n"
     ]
    },
    {
     "name": "stderr",
     "output_type": "stream",
     "text": [
      "Processing balanced_true:  82%|████████▎ | 33/40 [20:05<03:12, 27.49s/it]"
     ]
    },
    {
     "name": "stdout",
     "output_type": "stream",
     "text": [
      "✅ balanced_true / 20201124_General_037_DOS_A_M40_MS_033 saved\n"
     ]
    },
    {
     "name": "stderr",
     "output_type": "stream",
     "text": [
      "Processing balanced_true:  85%|████████▌ | 34/40 [20:28<02:38, 26.39s/it]"
     ]
    },
    {
     "name": "stdout",
     "output_type": "stream",
     "text": [
      "✅ balanced_true / 20201124_General_037_DOS_A_M40_MS_034 saved\n"
     ]
    },
    {
     "name": "stderr",
     "output_type": "stream",
     "text": [
      "Processing balanced_true:  88%|████████▊ | 35/40 [20:56<02:14, 26.83s/it]"
     ]
    },
    {
     "name": "stdout",
     "output_type": "stream",
     "text": [
      "✅ balanced_true / 20201124_General_037_DOS_A_M40_MS_035 saved\n"
     ]
    },
    {
     "name": "stderr",
     "output_type": "stream",
     "text": [
      "Processing balanced_true:  90%|█████████ | 36/40 [21:22<01:46, 26.55s/it]"
     ]
    },
    {
     "name": "stdout",
     "output_type": "stream",
     "text": [
      "✅ balanced_true / 20201124_General_037_DOS_A_M40_MS_036 saved\n"
     ]
    },
    {
     "name": "stderr",
     "output_type": "stream",
     "text": [
      "Processing balanced_true:  92%|█████████▎| 37/40 [21:48<01:18, 26.31s/it]"
     ]
    },
    {
     "name": "stdout",
     "output_type": "stream",
     "text": [
      "✅ balanced_true / 20201124_General_037_DOS_A_M40_MS_037 saved\n"
     ]
    },
    {
     "name": "stderr",
     "output_type": "stream",
     "text": [
      "Processing balanced_true:  95%|█████████▌| 38/40 [22:18<00:54, 27.34s/it]"
     ]
    },
    {
     "name": "stdout",
     "output_type": "stream",
     "text": [
      "✅ balanced_true / 20201124_General_037_DOS_A_M40_MS_038 saved\n"
     ]
    },
    {
     "name": "stderr",
     "output_type": "stream",
     "text": [
      "Processing balanced_true:  98%|█████████▊| 39/40 [22:43<00:26, 26.91s/it]"
     ]
    },
    {
     "name": "stdout",
     "output_type": "stream",
     "text": [
      "✅ balanced_true / 20201124_General_037_DOS_A_M40_MS_039 saved\n"
     ]
    },
    {
     "name": "stderr",
     "output_type": "stream",
     "text": [
      "Processing balanced_true: 100%|██████████| 40/40 [23:10<00:00, 34.77s/it]\n"
     ]
    },
    {
     "name": "stdout",
     "output_type": "stream",
     "text": [
      "✅ balanced_true / 20201124_General_037_DOS_A_M40_MS_040 saved\n"
     ]
    },
    {
     "name": "stderr",
     "output_type": "stream",
     "text": [
      "Processing false: 100%|██████████| 1/1 [00:22<00:00, 22.80s/it]"
     ]
    },
    {
     "name": "stdout",
     "output_type": "stream",
     "text": [
      "✅ false / 20201123_General_030_DOS_A_M40_MM_070 saved\n"
     ]
    },
    {
     "name": "stderr",
     "output_type": "stream",
     "text": [
      "\n"
     ]
    }
   ],
   "source": [
    "import os\n",
    "import subprocess\n",
    "import json\n",
    "import shutil\n",
    "from pathlib import Path\n",
    "import numpy as np\n",
    "import pandas as pd\n",
    "from tqdm import tqdm\n",
    "from sklearn.cluster import DBSCAN\n",
    "\n",
    "# ✏️ Base 작업 디렉토리 및 서브폴더 목록\n",
    "CUR_DIR = Path(r\"D:\\golfDataset\\dataset\\test\")  # 현재 작업 루트 디렉토리\n",
    "BALANCED_FOLDERS = [\"balanced_true\", \"false\"]   # 처리할 두 가지 서브 디렉토리\n",
    "FPS = 30\n",
    "\n",
    "# OpenPose 설정\n",
    "OPENPOSE_EXE  = Path(r\"C:/openpose/openpose/bin/OpenPoseDemo.exe\")\n",
    "OPENPOSE_ROOT = OPENPOSE_EXE.parent.parent  # …/openpose 폴더\n",
    "PAD_RATIO     = 0.10\n",
    "\n",
    "# Torso Keypoint 인덱스 (Neck, MidHip, RShoulder, LShoulder, RootHip)\n",
    "TORSO_IDXS = [1, 8, 11, 14, 17]\n",
    "# Keypoint 이름 및 CSV 컬럼 생성\n",
    "KP   = [\"Nose\",\"Neck\",\"RShoulder\",\"RElbow\",\"RWrist\",\"LShoulder\",\"LElbow\",\"LWrist\",\n",
    "        \"MidHip\",\"RHip\",\"RKnee\",\"RAnkle\",\"LHip\",\"LKnee\",\"LAnkle\",\"REye\",\"LEye\",\n",
    "        \"REar\",\"LEar\",\"LBigToe\",\"LSmallToe\",\"LHeel\",\"RBigToe\",\"RSmallToe\",\"RHeel\"]\n",
    "COLS = [f\"{n}_{a}\" for n in KP for a in (\"x\",\"y\",\"c\")]\n",
    "\n",
    "# ---------- OpenPose 실행 함수 --------------------------------------\n",
    "def run_openpose(video: Path, out_dir: Path):\n",
    "    \"\"\"OpenPose CLI를 통해 JSON으로 keypoints 추출\"\"\"\n",
    "    out_dir.mkdir(parents=True, exist_ok=True)\n",
    "    cmd = [str(OPENPOSE_EXE),\n",
    "           \"--video\", str(video),\n",
    "           \"--write_json\", str(out_dir),\n",
    "           \"--display\", \"0\", \"--render_pose\", \"0\",\n",
    "           \"--number_people_max\", \"1\",\n",
    "           \"--model_folder\", str(OPENPOSE_ROOT / \"models\")]\n",
    "    subprocess.run(cmd, check=True, cwd=OPENPOSE_ROOT)\n",
    "\n",
    "# ---------- 주요 인물 박스 추출 함수 ---------------------------------\n",
    "def main_person_boxes(json_dir: Path):\n",
    "    centers, boxes = [], []\n",
    "    for jf in sorted(json_dir.glob(\"*.json\")):\n",
    "        data = json.load(open(jf))\n",
    "        people = data.get(\"people\")\n",
    "        if not people:\n",
    "            continue\n",
    "        kps = np.array(people[0][\"pose_keypoints_2d\"]).reshape(-1, 3)\n",
    "        if kps[8, 2] < 0.10:  # MidHip confidence 확인\n",
    "            continue\n",
    "        cx, cy = kps[8, :2]\n",
    "        valid = kps[:, 2] > 0.05\n",
    "        xs, ys = kps[valid, 0], kps[valid, 1]\n",
    "        centers.append([cx, cy])\n",
    "        boxes.append([xs.min(), ys.min(), xs.max(), ys.max()])\n",
    "\n",
    "    if not centers:\n",
    "        return []\n",
    "    centers = np.array(centers)\n",
    "    labels = DBSCAN(eps=100, min_samples=5).fit_predict(centers)\n",
    "    if (labels != -1).any():\n",
    "        main_label = np.bincount(labels[labels != -1]).argmax()\n",
    "    else:\n",
    "        main_label = 0\n",
    "    return [boxes[i] for i, lb in enumerate(labels) if lb == main_label]\n",
    "\n",
    "# ---------- Union Box 계산 함수 ------------------------------------\n",
    "def union_box(box_list):\n",
    "    arr = np.array(box_list)\n",
    "    x1, y1 = arr[:, :2].min(0)\n",
    "    x2, y2 = arr[:, 2:].max(0)\n",
    "    w, h    = x2 - x1, y2 - y1\n",
    "    pad_w   = w * PAD_RATIO\n",
    "    pad_h   = h * PAD_RATIO\n",
    "    return int(x1 - pad_w), int(y1 - pad_h), int(w + 2 * pad_w), int(h + 2 * pad_h)\n",
    "\n",
    "# ---------- FFmpeg Crop 함수 ----------------------------------------\n",
    "def crop_video(src: Path, dst: Path, bbox):\n",
    "    x, y, w, h = bbox\n",
    "    cmd = [\"ffmpeg\", \"-y\", \"-i\", str(src),\n",
    "           \"-filter:v\", f\"crop={w}:{h}:{x}:{y}\",\n",
    "           \"-pix_fmt\", \"yuv420p\", str(dst)]\n",
    "    subprocess.run(cmd, check=True)\n",
    "\n",
    "# ---------- JSON → CSV 변환 함수 ------------------------------------\n",
    "def json_dir_to_csv(json_dir: Path, csv_path: Path):\n",
    "    rows = []\n",
    "    for jf in sorted(json_dir.glob(\"*.json\")):\n",
    "        data = json.load(open(jf))\n",
    "        people = data.get(\"people\")\n",
    "        if not people:\n",
    "            rows.append([np.nan] * len(COLS))\n",
    "        else:\n",
    "            rows.append(people[0][\"pose_keypoints_2d\"])\n",
    "    pd.DataFrame(rows, columns=COLS).to_csv(csv_path, index=False)\n",
    "\n",
    "# ---------- 전체 파이프라인 함수 -----------------------------------\n",
    "def preprocess_all(root_dir: Path):\n",
    "    VIDEO_DIR      = root_dir / \"video\"\n",
    "    CROP_VIDEO_DIR = root_dir / \"crop_video\"\n",
    "    CROP_KP_DIR    = root_dir / \"crop_keypoint\"\n",
    "    TMP_JSON_DIR   = root_dir / \"_tmp_json\"\n",
    "    for d in [CROP_VIDEO_DIR, CROP_KP_DIR, TMP_JSON_DIR]:\n",
    "        d.mkdir(parents=True, exist_ok=True)\n",
    "\n",
    "    for vid in tqdm(sorted(VIDEO_DIR.glob(\"*.mp4\")), desc=f\"Processing {root_dir.name}\"):\n",
    "        name    = vid.stem\n",
    "        raw_dir = TMP_JSON_DIR / f\"raw_{name}\"\n",
    "        run_openpose(vid, raw_dir)\n",
    "\n",
    "        boxes = main_person_boxes(raw_dir)\n",
    "        if not boxes:\n",
    "            print(f\"⚠️  No valid person in {vid.name}\")\n",
    "            continue\n",
    "        bbox = union_box(boxes)\n",
    "\n",
    "        crop_mp4 = CROP_VIDEO_DIR / f\"{name}_crop.mp4\"\n",
    "        crop_video(vid, crop_mp4, bbox)\n",
    "\n",
    "        crop_dir  = TMP_JSON_DIR / f\"crop_{name}\"\n",
    "        run_openpose(crop_mp4, crop_dir)\n",
    "\n",
    "        csv_path = CROP_KP_DIR / f\"{name}.csv\"\n",
    "        json_dir_to_csv(crop_dir, csv_path)\n",
    "        print(f\"✅ {root_dir.name} / {name} saved\")\n",
    "\n",
    "    # 중간 JSON 삭제가 필요하다면 아래 주석 해제\n",
    "    # shutil.rmtree(TMP_JSON_DIR)\n",
    "\n",
    "# ---------- 스크립트 실행부 -----------------------------------------\n",
    "if __name__ == \"__main__\":\n",
    "    for folder in BALANCED_FOLDERS:\n",
    "        root = CUR_DIR / folder\n",
    "        preprocess_all(root)\n"
   ]
  }
 ],
 "metadata": {
  "kernelspec": {
   "display_name": "timesformer",
   "language": "python",
   "name": "python3"
  },
  "language_info": {
   "codemirror_mode": {
    "name": "ipython",
    "version": 3
   },
   "file_extension": ".py",
   "mimetype": "text/x-python",
   "name": "python",
   "nbconvert_exporter": "python",
   "pygments_lexer": "ipython3",
   "version": "3.12.11"
  }
 },
 "nbformat": 4,
 "nbformat_minor": 5
}
