{
 "cells": [
  {
   "cell_type": "markdown",
   "id": "4cba3d34",
   "metadata": {},
   "source": [
    "# train, valid"
   ]
  },
  {
   "cell_type": "code",
   "execution_count": null,
   "id": "cf740e9e",
   "metadata": {},
   "outputs": [
    {
     "name": "stderr",
     "output_type": "stream",
     "text": [
      "Processing balanced_true:   0%|          | 0/600 [00:00<?, ?it/s]"
     ]
    },
    {
     "name": "stdout",
     "output_type": "stream",
     "text": [
      "⏭️  Skip 20201116_General_001_DOS_A_M40_MM_003: already processed.\n",
      "⏭️  Skip 20201116_General_001_DOS_A_M40_MM_009: already processed.\n",
      "⏭️  Skip 20201116_General_001_DOS_A_M40_MM_011: already processed.\n",
      "⏭️  Skip 20201116_General_001_DOS_A_M40_MM_026: already processed.\n",
      "⏭️  Skip 20201116_General_001_DOS_A_M40_MM_034: already processed.\n",
      "⏭️  Skip 20201117_General_007_DOC_A_M40_MM_006: already processed.\n",
      "⏭️  Skip 20201117_General_007_DOC_A_M40_MM_025: already processed.\n",
      "⏭️  Skip 20201117_General_007_DOC_A_M40_MM_029: already processed.\n",
      "⏭️  Skip 20201117_General_007_DOC_A_M40_MM_040: already processed.\n",
      "⏭️  Skip 20201117_General_007_DOC_A_M40_MM_043: already processed.\n",
      "⏭️  Skip 20201117_General_007_DOC_A_M40_MM_044: already processed.\n",
      "⏭️  Skip 20201117_General_007_DOC_A_M40_MM_047: already processed.\n",
      "⏭️  Skip 20201117_General_007_DOC_A_M40_MM_054: already processed.\n",
      "⏭️  Skip 20201117_General_007_DOC_A_M40_MM_057: already processed.\n",
      "⏭️  Skip 20201117_General_007_DOC_A_M40_MM_063: already processed.\n",
      "⏭️  Skip 20201117_General_007_DOC_A_M40_MM_071: already processed.\n",
      "⏭️  Skip 20201117_General_008_DOC_A_M40_MM_010: already processed.\n",
      "⏭️  Skip 20201117_General_008_DOC_A_M40_MM_013: already processed.\n",
      "⏭️  Skip 20201117_General_008_DOC_A_M40_MM_018: already processed.\n",
      "⏭️  Skip 20201117_General_008_DOC_A_M40_MM_026: already processed.\n",
      "⏭️  Skip 20201117_General_008_DOC_A_M40_MM_027: already processed.\n",
      "⏭️  Skip 20201117_General_008_DOC_A_M40_MM_033: already processed.\n",
      "⏭️  Skip 20201117_General_008_DOC_A_M40_MM_034: already processed.\n",
      "⏭️  Skip 20201117_General_008_DOC_A_M40_MM_042: already processed.\n",
      "⏭️  Skip 20201117_General_008_DOC_A_M40_MM_048: already processed.\n",
      "⏭️  Skip 20201117_General_008_DOC_A_M40_MM_061: already processed.\n",
      "⏭️  Skip 20201117_General_008_DOC_A_M40_MM_063: already processed.\n",
      "⏭️  Skip 20201117_General_008_DOC_A_M40_MM_067: already processed.\n",
      "⏭️  Skip 20201117_General_009_DOC_A_M40_SM_029: already processed.\n",
      "⏭️  Skip 20201117_General_009_DOC_A_M40_SM_032: already processed.\n",
      "⏭️  Skip 20201117_General_009_DOC_A_M40_SM_043: already processed.\n",
      "⏭️  Skip 20201117_General_009_NOC_A_M40_SM_045: already processed.\n",
      "⏭️  Skip 20201117_General_009_NOC_A_M40_SM_052: already processed.\n",
      "⏭️  Skip 20201117_General_009_NOC_A_M40_SM_058: already processed.\n",
      "⏭️  Skip 20201117_General_010_DOC_A_M40_MM_001: already processed.\n",
      "⏭️  Skip 20201117_General_010_DOC_A_M40_MM_003: already processed.\n",
      "⏭️  Skip 20201117_General_010_DOC_A_M40_MM_011: already processed.\n",
      "⏭️  Skip 20201117_General_010_DOC_A_M40_MM_033: already processed.\n",
      "⏭️  Skip 20201117_General_010_DOC_A_M40_MM_036: already processed.\n",
      "⏭️  Skip 20201117_General_010_DOC_A_M40_MM_042: already processed.\n",
      "⏭️  Skip 20201117_General_010_DOC_A_M40_MM_045: already processed.\n",
      "⏭️  Skip 20201117_General_010_DOC_A_M40_MM_046: already processed.\n",
      "⏭️  Skip 20201117_General_010_DOC_A_M40_MM_047: already processed.\n",
      "⏭️  Skip 20201117_General_010_DOC_A_M40_MM_049: already processed.\n",
      "⏭️  Skip 20201117_General_010_DOC_A_M40_MM_053: already processed.\n",
      "⏭️  Skip 20201117_General_010_NOC_A_M40_MM_065: already processed.\n",
      "⏭️  Skip 20201117_General_010_NOC_A_M40_MM_066: already processed.\n",
      "⏭️  Skip 20201117_General_010_NOC_A_M40_MM_071: already processed.\n",
      "⏭️  Skip 20201117_General_010_NOC_A_M40_MM_072: already processed.\n",
      "⏭️  Skip 20201117_General_011_DOC_A_M40_BM_001: already processed.\n",
      "⏭️  Skip 20201117_General_011_DOC_A_M40_BM_006: already processed.\n",
      "⏭️  Skip 20201117_General_011_DOC_A_M40_BM_007: already processed.\n",
      "⏭️  Skip 20201117_General_011_DOC_A_M40_BM_008: already processed.\n",
      "⏭️  Skip 20201117_General_011_DOC_A_M40_BM_017: already processed.\n",
      "⏭️  Skip 20201117_General_011_DOC_A_M40_BM_020: already processed.\n",
      "⏭️  Skip 20201117_General_011_DOC_A_M40_BM_034: already processed.\n",
      "⏭️  Skip 20201117_General_011_DOC_A_M40_BM_039: already processed.\n",
      "⏭️  Skip 20201117_General_011_DOC_A_M40_BM_044: already processed.\n",
      "⏭️  Skip 20201117_General_011_NOC_A_M40_BM_056: already processed.\n",
      "⏭️  Skip 20201117_General_011_NOC_A_M40_BM_067: already processed.\n",
      "⏭️  Skip 20201117_General_011_NOC_A_M40_BM_072: already processed.\n",
      "⏭️  Skip 20201117_General_011_NOC_A_M40_BM_075: already processed.\n",
      "⏭️  Skip 20201117_General_012_DOC_A_M40_MM_005: already processed.\n",
      "⏭️  Skip 20201117_General_012_DOC_A_M40_MM_020: already processed.\n",
      "⏭️  Skip 20201117_General_012_DOC_A_M40_MM_022: already processed.\n",
      "⏭️  Skip 20201117_General_012_DOC_A_M40_MM_025: already processed.\n",
      "⏭️  Skip 20201117_General_012_DOC_A_M40_MM_030: already processed.\n",
      "⏭️  Skip 20201117_General_012_DOC_A_M40_MM_037: already processed.\n",
      "⏭️  Skip 20201117_General_012_DOC_A_M40_MM_041: already processed.\n",
      "⏭️  Skip 20201117_General_012_DOC_A_M40_MM_046: already processed.\n",
      "⏭️  Skip 20201117_General_012_NOC_A_M40_MM_056: already processed.\n",
      "⏭️  Skip 20201117_General_012_NOC_A_M40_MM_065: already processed.\n",
      "⏭️  Skip 20201117_General_012_NOC_A_M40_MM_069: already processed.\n",
      "⏭️  Skip 20201118_General_013_DOC_A_M30_BS_005: already processed.\n",
      "⏭️  Skip 20201118_General_013_DOC_A_M30_BS_007: already processed.\n",
      "⏭️  Skip 20201118_General_013_DOC_A_M30_BS_016: already processed.\n",
      "⏭️  Skip 20201118_General_013_DOC_A_M30_BS_019: already processed.\n",
      "⏭️  Skip 20201118_General_013_DOC_A_M30_BS_029: already processed.\n",
      "⏭️  Skip 20201118_General_013_DOC_A_M30_BS_031: already processed.\n",
      "⏭️  Skip 20201118_General_013_DOC_A_M30_BS_040: already processed.\n",
      "⏭️  Skip 20201118_General_013_DOC_A_M30_BS_044: already processed.\n",
      "⏭️  Skip 20201118_General_013_DOC_A_M30_BS_052: already processed.\n",
      "⏭️  Skip 20201118_General_013_DOC_A_M30_BS_054: already processed.\n",
      "⏭️  Skip 20201118_General_013_DOC_A_M30_BS_055: already processed.\n",
      "⏭️  Skip 20201118_General_013_DOC_A_M30_BS_062: already processed.\n",
      "⏭️  Skip 20201118_General_013_DOC_A_M30_BS_065: already processed.\n",
      "⏭️  Skip 20201118_General_014_DOC_A_M40_MT_001: already processed.\n",
      "⏭️  Skip 20201118_General_014_DOC_A_M40_MT_004: already processed.\n",
      "⏭️  Skip 20201118_General_014_DOC_A_M40_MT_019: already processed.\n",
      "⏭️  Skip 20201118_General_014_DOC_A_M40_MT_025: already processed.\n",
      "⏭️  Skip 20201118_General_014_DOC_A_M40_MT_026: already processed.\n",
      "⏭️  Skip 20201118_General_014_DOC_A_M40_MT_032: already processed.\n",
      "⏭️  Skip 20201118_General_014_DOC_A_M40_MT_034: already processed.\n",
      "⏭️  Skip 20201118_General_014_DOC_A_M40_MT_035: already processed.\n",
      "⏭️  Skip 20201118_General_014_DOC_A_M40_MT_036: already processed.\n",
      "⏭️  Skip 20201118_General_014_DOC_A_M40_MT_043: already processed.\n",
      "⏭️  Skip 20201118_General_014_DOC_A_M40_MT_044: already processed.\n",
      "⏭️  Skip 20201118_General_014_DOC_A_M40_MT_050: already processed.\n",
      "⏭️  Skip 20201118_General_014_DOC_A_M40_MT_051: already processed.\n",
      "⏭️  Skip 20201118_General_014_DOC_A_M40_MT_054: already processed.\n",
      "⏭️  Skip 20201118_General_014_DOC_A_M40_MT_056: already processed.\n",
      "⏭️  Skip 20201118_General_014_DOC_A_M40_MT_062: already processed.\n",
      "⏭️  Skip 20201118_General_014_DOC_A_M40_MT_064: already processed.\n",
      "⏭️  Skip 20201118_General_014_DOC_A_M40_MT_071: already processed.\n",
      "⏭️  Skip 20201118_General_015_DOC_A_M40_SM_002: already processed.\n",
      "⏭️  Skip 20201118_General_015_DOC_A_M40_SM_005: already processed.\n",
      "⏭️  Skip 20201118_General_015_DOC_A_M40_SM_012: already processed.\n",
      "⏭️  Skip 20201118_General_015_DOC_A_M40_SM_021: already processed.\n",
      "⏭️  Skip 20201118_General_015_DOC_A_M40_SM_022: already processed.\n",
      "⏭️  Skip 20201118_General_015_DOC_A_M40_SM_027: already processed.\n",
      "⏭️  Skip 20201118_General_015_DOC_A_M40_SM_031: already processed.\n",
      "⏭️  Skip 20201118_General_015_DOC_A_M40_SM_033: already processed.\n",
      "⏭️  Skip 20201118_General_015_DOC_A_M40_SM_040: already processed.\n",
      "⏭️  Skip 20201118_General_015_DOC_A_M40_SM_045: already processed.\n",
      "⏭️  Skip 20201118_General_015_DOC_A_M40_SM_050: already processed.\n",
      "⏭️  Skip 20201118_General_015_DOC_A_M40_SM_053: already processed.\n",
      "⏭️  Skip 20201118_General_015_DOC_A_M40_SM_054: already processed.\n",
      "⏭️  Skip 20201118_General_015_DOC_A_M40_SM_057: already processed.\n",
      "⏭️  Skip 20201118_General_015_DOC_A_M40_SM_061: already processed.\n",
      "⏭️  Skip 20201118_General_015_DOC_A_M40_SM_062: already processed.\n",
      "⏭️  Skip 20201118_General_015_DOC_A_M40_SM_063: already processed.\n",
      "⏭️  Skip 20201118_General_015_DOC_A_M40_SM_064: already processed.\n",
      "⏭️  Skip 20201118_General_015_DOC_A_M40_SM_065: already processed.\n",
      "⏭️  Skip 20201118_General_015_DOC_A_M40_SM_071: already processed.\n",
      "⏭️  Skip 20201118_General_017_DOC_A_M40_MM_001: already processed.\n",
      "⏭️  Skip 20201118_General_017_DOC_A_M40_MM_010: already processed.\n",
      "⏭️  Skip 20201118_General_017_DOC_A_M40_MM_011: already processed.\n",
      "⏭️  Skip 20201118_General_017_DOC_A_M40_MM_014: already processed.\n",
      "⏭️  Skip 20201118_General_017_DOC_A_M40_MM_023: already processed.\n",
      "⏭️  Skip 20201118_General_017_DOC_A_M40_MM_027: already processed.\n",
      "⏭️  Skip 20201118_General_017_DOR_A_M40_MM_029: already processed.\n",
      "⏭️  Skip 20201118_General_017_DOR_A_M40_MM_030: already processed.\n",
      "⏭️  Skip 20201118_General_017_DOR_A_M40_MM_031: already processed.\n",
      "⏭️  Skip 20201118_General_017_DOR_A_M40_MM_040: already processed.\n",
      "⏭️  Skip 20201118_General_017_DOR_A_M40_MM_042: already processed.\n",
      "⏭️  Skip 20201118_General_017_DOR_A_M40_MM_047: already processed.\n",
      "⏭️  Skip 20201118_General_017_DOR_A_M40_MM_048: already processed.\n",
      "⏭️  Skip 20201118_General_017_DOR_A_M40_MM_053: already processed.\n",
      "⏭️  Skip 20201118_General_017_DOR_A_M40_MM_055: already processed.\n",
      "⏭️  Skip 20201118_General_017_NOC_A_M40_MM_060: already processed.\n",
      "⏭️  Skip 20201118_General_017_NOC_A_M40_MM_061: already processed.\n",
      "⏭️  Skip 20201118_General_017_NOC_A_M40_MM_065: already processed.\n",
      "⏭️  Skip 20201118_General_017_NOC_A_M40_MM_073: already processed.\n",
      "⏭️  Skip 20201118_General_018_DOC_A_M40_MM_001: already processed.\n",
      "⏭️  Skip 20201118_General_018_DOC_A_M40_MM_006: already processed.\n",
      "⏭️  Skip 20201118_General_018_DOC_A_M40_MM_013: already processed.\n",
      "⏭️  Skip 20201118_General_018_DOC_A_M40_MM_017: already processed.\n",
      "⏭️  Skip 20201118_General_018_DOC_A_M40_MM_019: already processed.\n",
      "⏭️  Skip 20201118_General_018_DOC_A_M40_MM_021: already processed.\n",
      "⏭️  Skip 20201118_General_018_DOR_A_M40_MM_029: already processed.\n",
      "⏭️  Skip 20201118_General_018_DOR_A_M40_MM_033: already processed.\n",
      "⏭️  Skip 20201118_General_018_DOR_A_M40_MM_034: already processed.\n",
      "⏭️  Skip 20201118_General_018_DOR_A_M40_MM_042: already processed.\n",
      "⏭️  Skip 20201118_General_018_NOC_A_M40_MM_051: already processed.\n",
      "⏭️  Skip 20201118_General_018_NOC_A_M40_MM_053: already processed.\n",
      "⏭️  Skip 20201118_General_019_DOC_A_M30_MM_001: already processed.\n",
      "⏭️  Skip 20201118_General_019_DOC_A_M30_MM_003: already processed.\n",
      "⏭️  Skip 20201118_General_019_DOC_A_M30_MM_006: already processed.\n",
      "⏭️  Skip 20201118_General_019_DOC_A_M30_MM_010: already processed.\n",
      "⏭️  Skip 20201118_General_019_DOC_A_M30_MM_015: already processed.\n",
      "⏭️  Skip 20201118_General_019_DOC_A_M30_MM_018: already processed.\n",
      "⏭️  Skip 20201118_General_019_DOC_A_M30_MM_022: already processed.\n",
      "⏭️  Skip 20201118_General_019_DOC_A_M30_MM_027: already processed.\n",
      "⏭️  Skip 20201118_General_019_DOC_A_M30_MM_029: already processed.\n",
      "⏭️  Skip 20201118_General_019_DOC_A_M30_MM_053: already processed.\n",
      "⏭️  Skip 20201118_General_019_DOR_A_M30_MM_032: already processed.\n",
      "⏭️  Skip 20201118_General_019_DOR_A_M30_MM_034: already processed.\n",
      "⏭️  Skip 20201118_General_019_NOC_A_M30_MM_056: already processed.\n",
      "⏭️  Skip 20201118_General_019_NOC_A_M30_MM_064: already processed.\n",
      "⏭️  Skip 20201118_General_019_NOC_A_M30_MM_066: already processed.\n",
      "⏭️  Skip 20201118_General_019_NOC_A_M30_MM_069: already processed.\n",
      "⏭️  Skip 20201118_General_019_NOC_A_M30_MM_070: already processed.\n",
      "⏭️  Skip 20201120_General_021_DOC_A_M40_MM_006: already processed.\n",
      "⏭️  Skip 20201120_General_021_DOC_A_M40_MM_007: already processed.\n",
      "⏭️  Skip 20201120_General_021_DOC_A_M40_MM_010: already processed.\n",
      "⏭️  Skip 20201120_General_021_DOC_A_M40_MM_013: already processed.\n",
      "⏭️  Skip 20201120_General_021_DOC_A_M40_MM_015: already processed.\n",
      "⏭️  Skip 20201120_General_021_DOC_A_M40_MM_024: already processed.\n",
      "⏭️  Skip 20201120_General_021_DOC_A_M40_MM_032: already processed.\n",
      "⏭️  Skip 20201120_General_021_DOC_A_M40_MM_054: already processed.\n",
      "⏭️  Skip 20201120_General_021_DOC_A_M40_MM_056: already processed.\n",
      "⏭️  Skip 20201120_General_021_NOC_A_M40_MM_034: already processed.\n",
      "⏭️  Skip 20201120_General_021_NOC_A_M40_MM_035: already processed.\n",
      "⏭️  Skip 20201120_General_021_NOC_A_M40_MM_044: already processed.\n",
      "⏭️  Skip 20201120_General_021_NOC_A_M40_MM_050: already processed.\n",
      "⏭️  Skip 20201120_General_022_DOC_A_M40_MS_006: already processed.\n",
      "⏭️  Skip 20201120_General_022_DOC_A_M40_MS_017: already processed.\n",
      "⏭️  Skip 20201120_General_022_DOC_A_M40_MS_018: already processed.\n",
      "⏭️  Skip 20201120_General_022_DOC_A_M40_MS_019: already processed.\n",
      "⏭️  Skip 20201120_General_022_DOC_A_M40_MS_023: already processed.\n",
      "⏭️  Skip 20201120_General_022_DOC_A_M40_MS_025: already processed.\n",
      "⏭️  Skip 20201120_General_022_DOC_A_M40_MS_026: already processed.\n",
      "⏭️  Skip 20201120_General_022_DOC_A_M40_MS_034: already processed.\n",
      "⏭️  Skip 20201120_General_022_DOC_A_M40_MS_037: already processed.\n",
      "⏭️  Skip 20201120_General_022_DOC_A_M40_MS_038: already processed.\n",
      "⏭️  Skip 20201120_General_022_DOC_A_M40_MS_043: already processed.\n",
      "⏭️  Skip 20201120_General_022_DOC_A_M40_MS_046: already processed.\n",
      "⏭️  Skip 20201120_General_022_DOC_A_M40_MS_062: already processed.\n",
      "⏭️  Skip 20201120_General_022_DOC_A_M40_MS_067: already processed.\n",
      "⏭️  Skip 20201120_General_022_DOC_A_M40_MS_068: already processed.\n",
      "⏭️  Skip 20201120_General_022_DOC_A_M40_MS_069: already processed.\n",
      "⏭️  Skip 20201120_General_023_DOC_A_M40_MM_001: already processed.\n",
      "⏭️  Skip 20201120_General_023_DOC_A_M40_MM_004: already processed.\n",
      "⏭️  Skip 20201120_General_023_DOC_A_M40_MM_008: already processed.\n",
      "⏭️  Skip 20201120_General_023_DOC_A_M40_MM_009: already processed.\n",
      "⏭️  Skip 20201120_General_023_DOC_A_M40_MM_017: already processed.\n",
      "⏭️  Skip 20201120_General_023_DOC_A_M40_MM_032: already processed.\n",
      "⏭️  Skip 20201120_General_023_DOC_A_M40_MM_035: already processed.\n",
      "⏭️  Skip 20201120_General_023_DOC_A_M40_MM_043: already processed.\n",
      "⏭️  Skip 20201120_General_023_DOC_A_M40_MM_047: already processed.\n",
      "⏭️  Skip 20201120_General_023_DOC_A_M40_MM_048: already processed.\n",
      "⏭️  Skip 20201120_General_023_DOC_A_M40_MM_064: already processed.\n",
      "⏭️  Skip 20201120_General_023_DOC_A_M40_MM_067: already processed.\n",
      "⏭️  Skip 20201120_General_023_DOC_A_M40_MM_068: already processed.\n",
      "⏭️  Skip 20201120_General_024_DOC_A_M40_MM_001: already processed.\n",
      "⏭️  Skip 20201120_General_024_DOC_A_M40_MM_005: already processed.\n",
      "⏭️  Skip 20201120_General_024_DOC_A_M40_MM_012: already processed.\n",
      "⏭️  Skip 20201120_General_024_DOC_A_M40_MM_018: already processed.\n",
      "⏭️  Skip 20201120_General_024_DOC_A_M40_MM_021: already processed.\n",
      "⏭️  Skip 20201120_General_024_DOC_A_M40_MM_025: already processed.\n",
      "⏭️  Skip 20201120_General_024_DOC_A_M40_MM_039: already processed.\n",
      "⏭️  Skip 20201120_General_024_DOC_A_M40_MM_044: already processed.\n",
      "⏭️  Skip 20201120_General_024_DOC_A_M40_MM_048: already processed.\n",
      "⏭️  Skip 20201120_General_024_NOC_A_M40_MM_057: already processed.\n",
      "⏭️  Skip 20201120_General_024_NOC_A_M40_MM_060: already processed.\n",
      "⏭️  Skip 20201120_General_024_NOC_A_M40_MM_067: already processed.\n",
      "⏭️  Skip 20201120_General_024_NOC_A_M40_MM_069: already processed.\n",
      "⏭️  Skip 20201120_General_024_NOC_A_M40_MM_071: already processed.\n",
      "⏭️  Skip 20201120_General_024_NOC_A_M40_MM_074: already processed.\n",
      "⏭️  Skip 20201120_General_025_DOC_A_M40_MM_005: already processed.\n",
      "⏭️  Skip 20201120_General_025_DOC_A_M40_MM_006: already processed.\n",
      "⏭️  Skip 20201120_General_025_DOC_A_M40_MM_008: already processed.\n",
      "⏭️  Skip 20201120_General_025_DOC_A_M40_MM_011: already processed.\n",
      "⏭️  Skip 20201120_General_025_DOC_A_M40_MM_013: already processed.\n",
      "⏭️  Skip 20201120_General_025_DOC_A_M40_MM_015: already processed.\n",
      "⏭️  Skip 20201120_General_025_DOC_A_M40_MM_018: already processed.\n",
      "⏭️  Skip 20201120_General_025_DOC_A_M40_MM_020: already processed.\n",
      "⏭️  Skip 20201120_General_025_DOC_A_M40_MM_023: already processed.\n",
      "⏭️  Skip 20201120_General_025_DOC_A_M40_MM_024: already processed.\n",
      "⏭️  Skip 20201120_General_025_DOC_A_M40_MM_032: already processed.\n",
      "⏭️  Skip 20201120_General_025_DOC_A_M40_MM_035: already processed.\n",
      "⏭️  Skip 20201120_General_025_DOC_A_M40_MM_036: already processed.\n",
      "⏭️  Skip 20201120_General_025_DOC_A_M40_MM_037: already processed.\n",
      "⏭️  Skip 20201120_General_025_DOC_A_M40_MM_038: already processed.\n",
      "⏭️  Skip 20201120_General_025_DOC_A_M40_MM_046: already processed.\n",
      "⏭️  Skip 20201120_General_025_DOC_A_M40_MM_052: already processed.\n",
      "⏭️  Skip 20201120_General_025_DOC_A_M40_MM_059: already processed.\n",
      "⏭️  Skip 20201120_General_025_DOC_A_M40_MM_066: already processed.\n",
      "⏭️  Skip 20201120_General_025_DOC_A_M40_MM_069: already processed.\n",
      "⏭️  Skip 20201120_General_025_DOC_A_M40_MM_072: already processed.\n",
      "⏭️  Skip 20201120_General_025_DOC_A_M40_MM_076: already processed.\n",
      "⏭️  Skip 20201120_General_025_DOC_A_M40_MM_077: already processed.\n",
      "⏭️  Skip 20201120_General_025_DOC_A_M40_MM_083: already processed.\n",
      "⏭️  Skip 20201120_General_026_DOC_A_M40_MM_008: already processed.\n",
      "⏭️  Skip 20201120_General_026_DOC_A_M40_MM_024: already processed.\n",
      "⏭️  Skip 20201120_General_026_DOC_A_M40_MM_029: already processed.\n",
      "⏭️  Skip 20201120_General_026_DOC_A_M40_MM_030: already processed.\n",
      "⏭️  Skip 20201120_General_026_DOC_A_M40_MM_033: already processed.\n",
      "⏭️  Skip 20201120_General_026_DOC_A_M40_MM_037: already processed.\n",
      "⏭️  Skip 20201120_General_026_DOC_A_M40_MM_042: already processed.\n",
      "⏭️  Skip 20201120_General_026_DOC_A_M40_MM_048: already processed.\n",
      "⏭️  Skip 20201120_General_026_DOC_A_M40_MM_051: already processed.\n",
      "⏭️  Skip 20201120_General_026_NOC_A_M40_MM_073: already processed.\n",
      "⏭️  Skip 20201120_General_026_NOC_A_M40_MM_075: already processed.\n",
      "⏭️  Skip 20201120_General_026_NOC_A_M40_MM_077: already processed.\n",
      "⏭️  Skip 20201120_General_027_DOC_A_M40_MM_001: already processed.\n",
      "⏭️  Skip 20201120_General_027_DOC_A_M40_MM_003: already processed.\n",
      "⏭️  Skip 20201120_General_027_DOC_A_M40_MM_004: already processed.\n",
      "⏭️  Skip 20201120_General_027_DOC_A_M40_MM_008: already processed.\n",
      "⏭️  Skip 20201120_General_027_DOC_A_M40_MM_013: already processed.\n",
      "⏭️  Skip 20201120_General_027_DOC_A_M40_MM_015: already processed.\n",
      "⏭️  Skip 20201120_General_027_DOC_A_M40_MM_023: already processed.\n",
      "⏭️  Skip 20201120_General_027_DOC_A_M40_MM_025: already processed.\n",
      "⏭️  Skip 20201120_General_027_DOC_A_M40_MM_028: already processed.\n",
      "⏭️  Skip 20201120_General_027_DOC_A_M40_MM_030: already processed.\n",
      "⏭️  Skip 20201120_General_027_DOC_A_M40_MM_031: already processed.\n",
      "⏭️  Skip 20201120_General_027_DOC_A_M40_MM_033: already processed.\n",
      "⏭️  Skip 20201120_General_027_DOC_A_M40_MM_035: already processed.\n",
      "⏭️  Skip 20201120_General_027_DOC_A_M40_MM_040: already processed.\n",
      "⏭️  Skip 20201120_General_027_DOC_A_M40_MM_043: already processed.\n",
      "⏭️  Skip 20201120_General_027_DOC_A_M40_MM_047: already processed.\n",
      "⏭️  Skip 20201120_General_027_DOC_A_M40_MM_049: already processed.\n",
      "⏭️  Skip 20201120_General_027_DOC_A_M40_MM_050: already processed.\n",
      "⏭️  Skip 20201120_General_027_DOC_A_M40_MM_051: already processed.\n",
      "⏭️  Skip 20201120_General_027_DOC_A_M40_MM_062: already processed.\n",
      "⏭️  Skip 20201120_General_027_DOC_A_M40_MM_068: already processed.\n",
      "⏭️  Skip 20201120_General_028_DOC_A_M40_MM_005: already processed.\n",
      "⏭️  Skip 20201120_General_028_DOC_A_M40_MM_022: already processed.\n",
      "⏭️  Skip 20201120_General_028_DOC_A_M40_MM_023: already processed.\n",
      "⏭️  Skip 20201120_General_028_DOC_A_M40_MM_024: already processed.\n",
      "⏭️  Skip 20201120_General_028_DOC_A_M40_MM_036: already processed.\n",
      "⏭️  Skip 20201120_General_028_DOC_A_M40_MM_039: already processed.\n",
      "⏭️  Skip 20201120_General_028_DOC_A_M40_MM_041: already processed.\n",
      "⏭️  Skip 20201120_General_028_DOC_A_M40_MM_046: already processed.\n",
      "⏭️  Skip 20201120_General_028_DOC_A_M40_MM_048: already processed.\n",
      "⏭️  Skip 20201120_General_028_DOC_A_M40_MM_050: already processed.\n",
      "⏭️  Skip 20201120_General_028_DOC_A_M40_MM_057: already processed.\n",
      "⏭️  Skip 20201120_General_028_NOC_A_M40_MM_060: already processed.\n",
      "⏭️  Skip 20201120_General_028_NOC_A_M40_MM_064: already processed.\n",
      "⏭️  Skip 20201120_General_028_NOC_A_M40_MM_066: already processed.\n",
      "⏭️  Skip 20201120_General_028_NOC_A_M40_MM_072: already processed.\n",
      "⏭️  Skip 20201120_General_028_NOC_A_M40_MM_077: already processed.\n",
      "⏭️  Skip 20201120_General_028_NOC_A_M40_MM_078: already processed.\n",
      "⏭️  Skip 20201120_General_028_NOC_A_M40_MM_081: already processed.\n",
      "⏭️  Skip 20201123_General_029_DOS_A_M40_MM_002: already processed.\n",
      "⏭️  Skip 20201123_General_029_DOS_A_M40_MM_003: already processed.\n",
      "⏭️  Skip 20201123_General_029_DOS_A_M40_MM_005: already processed.\n",
      "⏭️  Skip 20201123_General_029_DOS_A_M40_MM_012: already processed.\n",
      "⏭️  Skip 20201123_General_029_DOS_A_M40_MM_028: already processed.\n",
      "⏭️  Skip 20201123_General_029_DOS_A_M40_MM_033: already processed.\n",
      "⏭️  Skip 20201123_General_029_DOS_A_M40_MM_037: already processed.\n",
      "⏭️  Skip 20201123_General_029_DOS_A_M40_MM_044: already processed.\n",
      "⏭️  Skip 20201123_General_029_DOS_A_M40_MM_045: already processed.\n",
      "⏭️  Skip 20201123_General_029_DOS_A_M40_MM_057: already processed.\n",
      "⏭️  Skip 20201123_General_029_DOS_A_M40_MM_065: already processed.\n",
      "⏭️  Skip 20201123_General_031_DOS_A_M30_MM_013: already processed.\n",
      "⏭️  Skip 20201123_General_031_DOS_A_M30_MM_031: already processed.\n",
      "⏭️  Skip 20201123_General_031_DOS_A_M30_MM_033: already processed.\n",
      "⏭️  Skip 20201123_General_031_DOS_A_M30_MM_034: already processed.\n",
      "⏭️  Skip 20201123_General_031_DOS_A_M30_MM_035: already processed.\n",
      "⏭️  Skip 20201123_General_031_DOS_A_M30_MM_047: already processed.\n",
      "⏭️  Skip 20201123_General_031_DOS_A_M30_MM_051: already processed.\n",
      "⏭️  Skip 20201123_General_031_DOS_A_M30_MM_054: already processed.\n",
      "⏭️  Skip 20201124_General_033_DOS_A_M40_MM_005: already processed.\n",
      "⏭️  Skip 20201124_General_033_DOS_A_M40_MM_008: already processed.\n",
      "⏭️  Skip 20201124_General_033_DOS_A_M40_MM_011: already processed.\n",
      "⏭️  Skip 20201124_General_033_DOS_A_M40_MM_015: already processed.\n",
      "⏭️  Skip 20201124_General_033_DOS_A_M40_MM_018: already processed.\n",
      "⏭️  Skip 20201124_General_033_DOS_A_M40_MM_019: already processed.\n",
      "⏭️  Skip 20201124_General_033_DOS_A_M40_MM_023: already processed.\n",
      "⏭️  Skip 20201124_General_033_DOS_A_M40_MM_024: already processed.\n",
      "⏭️  Skip 20201124_General_033_DOS_A_M40_MM_026: already processed.\n",
      "⏭️  Skip 20201124_General_033_DOS_A_M40_MM_027: already processed.\n",
      "⏭️  Skip 20201124_General_033_DOS_A_M40_MM_032: already processed.\n",
      "⏭️  Skip 20201124_General_033_DOS_A_M40_MM_038: already processed.\n",
      "⏭️  Skip 20201124_General_033_DOS_A_M40_MM_041: already processed.\n",
      "⏭️  Skip 20201124_General_033_DOS_A_M40_MM_048: already processed.\n",
      "⏭️  Skip 20201124_General_033_DOS_A_M40_MM_053: already processed.\n",
      "⏭️  Skip 20201124_General_033_DOS_A_M40_MM_054: already processed.\n",
      "⏭️  Skip 20201124_General_033_DOS_A_M40_MM_061: already processed.\n",
      "⏭️  Skip 20201124_General_033_DOS_A_M40_MM_063: already processed.\n",
      "⏭️  Skip 20201124_General_033_DOS_A_M40_MM_065: already processed.\n",
      "⏭️  Skip 20201124_General_033_DOS_A_M40_MM_070: already processed.\n",
      "⏭️  Skip 20201124_General_033_DOS_A_M40_MM_071: already processed.\n",
      "⏭️  Skip 20201124_General_034_DOS_A_M40_MM_003: already processed.\n",
      "⏭️  Skip 20201124_General_034_DOS_A_M40_MM_004: already processed.\n",
      "⏭️  Skip 20201124_General_034_DOS_A_M40_MM_011: already processed.\n",
      "⏭️  Skip 20201124_General_034_DOS_A_M40_MM_016: already processed.\n",
      "⏭️  Skip 20201124_General_034_DOS_A_M40_MM_020: already processed.\n",
      "⏭️  Skip 20201124_General_034_DOS_A_M40_MM_027: already processed.\n",
      "⏭️  Skip 20201124_General_034_DOS_A_M40_MM_028: already processed.\n",
      "⏭️  Skip 20201124_General_034_DOS_A_M40_MM_033: already processed.\n",
      "⏭️  Skip 20201124_General_034_DOS_A_M40_MM_036: already processed.\n",
      "⏭️  Skip 20201124_General_034_DOS_A_M40_MM_038: already processed.\n",
      "⏭️  Skip 20201124_General_034_DOS_A_M40_MM_040: already processed.\n",
      "⏭️  Skip 20201124_General_034_DOS_A_M40_MM_046: already processed.\n",
      "⏭️  Skip 20201124_General_034_DOS_A_M40_MM_050: already processed.\n",
      "⏭️  Skip 20201124_General_034_DOS_A_M40_MM_052: already processed.\n",
      "⏭️  Skip 20201124_General_034_DOS_A_M40_MM_062: already processed.\n",
      "⏭️  Skip 20201124_General_034_DOS_A_M40_MM_063: already processed.\n",
      "⏭️  Skip 20201124_General_034_DOS_A_M40_MM_064: already processed.\n",
      "⏭️  Skip 20201124_General_034_DOS_A_M40_MM_066: already processed.\n",
      "⏭️  Skip 20201124_General_034_DOS_A_M40_MM_070: already processed.\n",
      "⏭️  Skip 20201124_General_034_DOS_A_M40_MM_073: already processed.\n",
      "⏭️  Skip 20201124_General_034_DOS_A_M40_MM_074: already processed.\n",
      "⏭️  Skip 20201124_General_034_DOS_A_M40_MM_075: already processed.\n",
      "⏭️  Skip 20201124_General_034_DOS_A_M40_MM_083: already processed.\n",
      "⏭️  Skip 20201124_General_034_DOS_A_M40_MM_084: already processed.\n",
      "⏭️  Skip 20201124_General_034_DOS_A_M40_MM_085: already processed.\n",
      "⏭️  Skip 20201124_General_034_DOS_A_M40_MM_086: already processed.\n",
      "⏭️  Skip 20201124_General_034_DOS_A_M40_MM_088: already processed.\n",
      "⏭️  Skip 20201124_General_035_DOS_A_M40_BT_001: already processed.\n",
      "⏭️  Skip 20201124_General_035_DOS_A_M40_BT_004: already processed.\n",
      "⏭️  Skip 20201124_General_035_DOS_A_M40_BT_007: already processed.\n",
      "⏭️  Skip 20201124_General_035_DOS_A_M40_BT_013: already processed.\n",
      "⏭️  Skip 20201124_General_035_DOS_A_M40_BT_019: already processed.\n",
      "⏭️  Skip 20201124_General_035_DOS_A_M40_BT_021: already processed.\n",
      "⏭️  Skip 20201124_General_035_DOS_A_M40_BT_028: already processed.\n",
      "⏭️  Skip 20201124_General_035_DOS_A_M40_BT_031: already processed.\n",
      "⏭️  Skip 20201124_General_035_DOS_A_M40_BT_032: already processed.\n",
      "⏭️  Skip 20201124_General_035_DOS_A_M40_BT_036: already processed.\n",
      "⏭️  Skip 20201124_General_035_DOS_A_M40_BT_049: already processed.\n",
      "⏭️  Skip 20201124_General_035_DOS_A_M40_BT_052: already processed.\n",
      "⏭️  Skip 20201124_General_035_DOS_A_M40_BT_054: already processed.\n",
      "⏭️  Skip 20201124_General_035_DOS_A_M40_BT_055: already processed.\n",
      "⏭️  Skip 20201124_General_035_DOS_A_M40_BT_058: already processed.\n",
      "⏭️  Skip 20201124_General_035_DOS_A_M40_BT_060: already processed.\n",
      "⏭️  Skip 20201124_General_035_DOS_A_M40_BT_069: already processed.\n",
      "⏭️  Skip 20201124_General_036_DOS_A_M50_MM_003: already processed.\n",
      "⏭️  Skip 20201124_General_036_DOS_A_M50_MM_017: already processed.\n",
      "⏭️  Skip 20201124_General_036_DOS_A_M50_MM_018: already processed.\n",
      "⏭️  Skip 20201124_General_036_DOS_A_M50_MM_023: already processed.\n",
      "⏭️  Skip 20201124_General_036_DOS_A_M50_MM_029: already processed.\n",
      "⏭️  Skip 20201124_General_036_DOS_A_M50_MM_033: already processed.\n",
      "⏭️  Skip 20201124_General_036_DOS_A_M50_MM_034: already processed.\n",
      "⏭️  Skip 20201124_General_036_DOS_A_M50_MM_041: already processed.\n",
      "⏭️  Skip 20201124_General_036_DOS_A_M50_MM_042: already processed.\n",
      "⏭️  Skip 20201124_General_036_DOS_A_M50_MM_051: already processed.\n",
      "⏭️  Skip 20201124_General_036_DOS_A_M50_MM_056: already processed.\n",
      "⏭️  Skip 20201124_General_036_DOS_A_M50_MM_059: already processed.\n",
      "⏭️  Skip 20201124_General_036_DOS_A_M50_MM_068: already processed.\n",
      "⏭️  Skip 20201124_General_036_DOS_A_M50_MM_069: already processed.\n",
      "⏭️  Skip 20201124_General_036_DOS_A_M50_MM_071: already processed.\n",
      "⏭️  Skip 20201124_General_036_DOS_A_M50_MM_073: already processed.\n",
      "⏭️  Skip 20201124_General_040_DOS_A_M40_MM_038: already processed.\n",
      "⏭️  Skip 20201124_General_040_DOS_A_M40_MM_044: already processed.\n",
      "⏭️  Skip 20201124_General_040_DOS_A_M40_MM_051: already processed.\n",
      "⏭️  Skip 20201124_General_040_DOS_A_M40_MM_064: already processed.\n",
      "⏭️  Skip 20201124_General_040_DOS_A_M40_MM_066: already processed.\n",
      "⏭️  Skip 20201124_General_040_NOS_A_M40_MM_073: already processed.\n",
      "⏭️  Skip 20201124_General_040_NOS_A_M40_MM_079: already processed.\n",
      "⏭️  Skip 20201125_General_041_DOS_A_M40_MS_005: already processed.\n",
      "⏭️  Skip 20201125_General_041_DOS_A_M40_MS_028: already processed.\n",
      "⏭️  Skip 20201125_General_041_DOS_A_M40_MS_035: already processed.\n",
      "⏭️  Skip 20201125_General_041_DOS_A_M40_MS_057: already processed.\n",
      "⏭️  Skip 20201125_General_042_DOS_A_M20_MS_012: already processed.\n",
      "⏭️  Skip 20201125_General_042_DOS_A_M20_MS_019: already processed.\n",
      "⏭️  Skip 20201125_General_042_DOS_A_M20_MS_031: already processed.\n",
      "⏭️  Skip 20201125_General_042_DOS_A_M20_MS_036: already processed.\n",
      "⏭️  Skip 20201125_General_042_DOS_A_M20_MS_052: already processed.\n",
      "⏭️  Skip 20201125_General_042_DOS_A_M20_MS_058: already processed.\n",
      "⏭️  Skip 20201125_General_043_DOS_A_M20_MS_012: already processed.\n",
      "⏭️  Skip 20201125_General_043_DOS_A_M20_MS_014: already processed.\n",
      "⏭️  Skip 20201125_General_043_DOS_A_M20_MS_031: already processed.\n",
      "⏭️  Skip 20201125_General_043_DOS_A_M20_MS_041: already processed.\n",
      "⏭️  Skip 20201125_General_043_DOS_A_M20_MS_043: already processed.\n",
      "⏭️  Skip 20201125_General_043_DOS_A_M20_MS_047: already processed.\n",
      "⏭️  Skip 20201125_General_043_DOS_A_M20_MS_062: already processed.\n",
      "⏭️  Skip 20201125_General_043_DOS_A_M20_MS_072: already processed.\n",
      "⏭️  Skip 20201125_General_043_DOS_A_M20_MS_080: already processed.\n",
      "⏭️  Skip 20201125_General_043_DOS_A_M20_MS_086: already processed.\n",
      "⏭️  Skip 20201125_General_044_DOS_A_M20_SM_001: already processed.\n",
      "⏭️  Skip 20201125_General_044_DOS_A_M20_SM_009: already processed.\n",
      "⏭️  Skip 20201125_General_044_DOS_A_M20_SM_017: already processed.\n",
      "⏭️  Skip 20201125_General_044_DOS_A_M20_SM_040: already processed.\n",
      "⏭️  Skip 20201125_General_044_DOS_A_M20_SM_047: already processed.\n",
      "⏭️  Skip 20201125_General_044_DOS_A_M20_SM_061: already processed.\n",
      "⏭️  Skip 20201125_General_044_DOS_A_M20_SM_078: already processed.\n",
      "⏭️  Skip 20201126_General_045_DOS_A_M30_MM_011: already processed.\n",
      "⏭️  Skip 20201126_General_045_DOS_A_M30_MM_013: already processed.\n",
      "⏭️  Skip 20201126_General_045_DOS_A_M30_MM_033: already processed.\n",
      "⏭️  Skip 20201126_General_045_DOS_A_M30_MM_062: already processed.\n",
      "⏭️  Skip 20201126_General_045_DOS_A_M30_MM_066: already processed.\n",
      "⏭️  Skip 20201126_General_046_DOS_A_M30_MM_012: already processed.\n",
      "⏭️  Skip 20201126_General_046_DOS_A_M30_MM_016: already processed.\n",
      "⏭️  Skip 20201126_General_046_DOS_A_M30_MM_039: already processed.\n",
      "⏭️  Skip 20201126_General_046_DOS_A_M30_MM_045: already processed.\n",
      "⏭️  Skip 20201126_General_047_DOS_A_M30_MM_018: already processed.\n",
      "⏭️  Skip 20201126_General_047_DOS_A_M30_MM_021: already processed.\n",
      "⏭️  Skip 20201126_General_047_DOS_A_M30_MM_026: already processed.\n",
      "⏭️  Skip 20201126_General_047_DOS_A_M30_MM_030: already processed.\n",
      "⏭️  Skip 20201126_General_047_DOS_A_M30_MM_046: already processed.\n",
      "⏭️  Skip 20201126_General_047_DOS_A_M30_MM_058: already processed.\n",
      "⏭️  Skip 20201126_General_047_DOS_A_M30_MM_069: already processed.\n",
      "⏭️  Skip 20201127_General_049_DOS_A_M30_MM_003: already processed.\n",
      "⏭️  Skip 20201127_General_049_DOS_A_M30_MM_005: already processed.\n",
      "⏭️  Skip 20201127_General_049_DOS_A_M30_MM_014: already processed.\n",
      "⏭️  Skip 20201127_General_049_DOS_A_M30_MM_032: already processed.\n",
      "⏭️  Skip 20201127_General_049_DOS_A_M30_MM_052: already processed.\n",
      "⏭️  Skip 20201127_General_049_DOS_A_M30_MM_061: already processed.\n",
      "⏭️  Skip 20201127_General_050_DOS_A_M40_MM_021: already processed.\n",
      "⏭️  Skip 20201127_General_050_DOS_A_M40_MM_037: already processed.\n",
      "⏭️  Skip 20201127_General_050_DOS_A_M40_MM_051: already processed.\n",
      "⏭️  Skip 20201127_General_050_DOS_A_M40_MM_067: already processed.\n",
      "⏭️  Skip 20201127_General_050_DOS_A_M40_MM_075: already processed.\n",
      "⏭️  Skip 20201127_General_050_DOS_A_M40_MM_077: already processed.\n",
      "⏭️  Skip 20201127_General_051_DOS_A_M40_MM_003: already processed.\n",
      "⏭️  Skip 20201127_General_051_DOS_A_M40_MM_007: already processed.\n",
      "⏭️  Skip 20201127_General_051_DOS_A_M40_MM_011: already processed.\n",
      "⏭️  Skip 20201127_General_051_DOS_A_M40_MM_032: already processed.\n",
      "⏭️  Skip 20201127_General_051_DOS_A_M40_MM_034: already processed.\n",
      "⏭️  Skip 20201127_General_051_DOS_A_M40_MM_035: already processed.\n",
      "⏭️  Skip 20201127_General_051_DOS_A_M40_MM_039: already processed.\n",
      "⏭️  Skip 20201127_General_051_DOS_A_M40_MM_065: already processed.\n",
      "⏭️  Skip 20201127_General_053_DOC_A_M30_MM_005: already processed.\n",
      "⏭️  Skip 20201127_General_053_DOC_A_M30_MM_006: already processed.\n",
      "⏭️  Skip 20201127_General_053_DOC_A_M30_MM_024: already processed.\n",
      "⏭️  Skip 20201127_General_053_DOC_A_M30_MM_040: already processed.\n",
      "⏭️  Skip 20201127_General_053_DOC_A_M30_MM_048: already processed.\n",
      "⏭️  Skip 20201127_General_053_DOC_A_M30_MM_049: already processed.\n",
      "⏭️  Skip 20201127_General_053_DOC_A_M30_MM_068: already processed.\n",
      "⏭️  Skip 20201127_General_053_DOC_A_M30_MM_076: already processed.\n",
      "⏭️  Skip 20201127_General_055_DOC_A_M40_MM_010: already processed.\n",
      "⏭️  Skip 20201127_General_055_DOC_A_M40_MM_012: already processed.\n",
      "⏭️  Skip 20201127_General_055_DOC_A_M40_MM_026: already processed.\n",
      "⏭️  Skip 20201127_General_055_DOC_A_M40_MM_028: already processed.\n",
      "⏭️  Skip 20201127_General_055_DOC_A_M40_MM_047: already processed.\n",
      "⏭️  Skip 20201127_General_055_DOC_A_M40_MM_056: already processed.\n",
      "⏭️  Skip 20201127_General_055_DOC_A_M40_MM_061: already processed.\n",
      "⏭️  Skip 20201127_General_055_DOC_A_M40_MM_072: already processed.\n",
      "⏭️  Skip 20201127_General_055_DOC_A_M40_MM_081: already processed.\n",
      "⏭️  Skip 20201130_General_057_DOS_A_M50_MM_008: already processed.\n",
      "⏭️  Skip 20201130_General_057_DOS_A_M50_MM_018: already processed.\n",
      "⏭️  Skip 20201130_General_057_DOS_A_M50_MM_023: already processed.\n",
      "⏭️  Skip 20201130_General_057_DOS_A_M50_MM_030: already processed.\n",
      "⏭️  Skip 20201130_General_057_DOS_A_M50_MM_037: already processed.\n",
      "⏭️  Skip 20201130_General_057_DOS_A_M50_MM_042: already processed.\n",
      "⏭️  Skip 20201130_General_057_DOS_A_M50_MM_065: already processed.\n",
      "⏭️  Skip 20201130_General_057_DOS_A_M50_MM_072: already processed.\n",
      "⏭️  Skip 20201130_General_057_DOS_A_M50_MM_077: already processed.\n",
      "⏭️  Skip 20201130_General_057_DOS_A_M50_MM_081: already processed.\n",
      "⏭️  Skip 20201130_General_057_DOS_A_M50_MM_083: already processed.\n",
      "⏭️  Skip 20201130_General_057_DOS_A_M50_MM_087: already processed.\n",
      "⏭️  Skip 20201130_General_059_DOS_A_M50_MM_001: already processed.\n",
      "⏭️  Skip 20201130_General_059_DOS_A_M50_MM_002: already processed.\n",
      "⏭️  Skip 20201130_General_059_DOS_A_M50_MM_004: already processed.\n",
      "⏭️  Skip 20201130_General_059_DOS_A_M50_MM_011: already processed.\n",
      "⏭️  Skip 20201130_General_059_DOS_A_M50_MM_046: already processed.\n",
      "⏭️  Skip 20201130_General_059_DOS_A_M50_MM_049: already processed.\n",
      "⏭️  Skip 20201130_General_059_DOS_A_M50_MM_060: already processed.\n",
      "⏭️  Skip 20201130_General_060_DOS_A_M50_MM_003: already processed.\n",
      "⏭️  Skip 20201130_General_060_DOS_A_M50_MM_006: already processed.\n",
      "⏭️  Skip 20201130_General_060_DOS_A_M50_MM_012: already processed.\n",
      "⏭️  Skip 20201130_General_060_DOS_A_M50_MM_017: already processed.\n",
      "⏭️  Skip 20201130_General_060_DOS_A_M50_MM_023: already processed.\n",
      "⏭️  Skip 20201130_General_060_DOS_A_M50_MM_037: already processed.\n",
      "⏭️  Skip 20201130_General_060_DOS_A_M50_MM_038: already processed.\n",
      "⏭️  Skip 20201201_General_061_DOS_A_M40_MM_003: already processed.\n",
      "⏭️  Skip 20201201_General_061_DOS_A_M40_MM_011: already processed.\n",
      "⏭️  Skip 20201201_General_061_DOS_A_M40_MM_013: already processed.\n",
      "⏭️  Skip 20201201_General_061_DOS_A_M40_MM_016: already processed.\n",
      "⏭️  Skip 20201201_General_061_DOS_A_M40_MM_024: already processed.\n",
      "⏭️  Skip 20201201_General_061_DOS_A_M40_MM_030: already processed.\n",
      "⏭️  Skip 20201201_General_061_DOS_A_M40_MM_032: already processed.\n",
      "⏭️  Skip 20201201_General_061_DOS_A_M40_MM_038: already processed.\n",
      "⏭️  Skip 20201201_General_061_DOS_A_M40_MM_052: already processed.\n",
      "⏭️  Skip 20201201_General_061_DOS_A_M40_MM_061: already processed.\n",
      "⏭️  Skip 20201201_General_061_DOS_A_M40_MM_073: already processed.\n",
      "⏭️  Skip 20201201_General_062_DOS_A_M40_MM_006: already processed.\n",
      "⏭️  Skip 20201201_General_062_DOS_A_M40_MM_010: already processed.\n",
      "⏭️  Skip 20201201_General_062_DOS_A_M40_MM_012: already processed.\n",
      "⏭️  Skip 20201201_General_062_DOS_A_M40_MM_035: already processed.\n",
      "⏭️  Skip 20201201_General_062_DOS_A_M40_MM_041: already processed.\n",
      "⏭️  Skip 20201201_General_062_DOS_A_M40_MM_048: already processed.\n",
      "⏭️  Skip 20201201_General_062_DOS_A_M40_MM_050: already processed.\n",
      "⏭️  Skip 20201201_General_062_DOS_A_M40_MM_052: already processed.\n",
      "⏭️  Skip 20201201_General_062_DOS_A_M40_MM_058: already processed.\n",
      "⏭️  Skip 20201201_General_062_DOS_A_M40_MM_064: already processed.\n",
      "⏭️  Skip 20201201_General_062_DOS_A_M40_MM_066: already processed.\n",
      "⏭️  Skip 20201201_General_063_DOS_A_M50_MS_003: already processed.\n",
      "⏭️  Skip 20201201_General_063_DOS_A_M50_MS_006: already processed.\n",
      "⏭️  Skip 20201201_General_063_DOS_A_M50_MS_022: already processed.\n",
      "⏭️  Skip 20201201_General_063_DOS_A_M50_MS_028: already processed.\n",
      "⏭️  Skip 20201201_General_063_DOS_A_M50_MS_040: already processed.\n",
      "⏭️  Skip 20201201_General_063_DOS_A_M50_MS_045: already processed.\n",
      "⏭️  Skip 20201201_General_063_DOS_A_M50_MS_046: already processed.\n",
      "⏭️  Skip 20201201_General_063_DOS_A_M50_MS_048: already processed.\n",
      "⏭️  Skip 20201201_General_063_DOS_A_M50_MS_050: already processed.\n",
      "⏭️  Skip 20201201_General_063_DOS_A_M50_MS_054: already processed.\n",
      "⏭️  Skip 20201201_General_063_DOS_A_M50_MS_056: already processed.\n",
      "⏭️  Skip 20201201_General_064_DOS_A_M50_MM_003: already processed.\n",
      "⏭️  Skip 20201201_General_064_DOS_A_M50_MM_007: already processed.\n",
      "⏭️  Skip 20201201_General_064_DOS_A_M50_MM_009: already processed.\n",
      "⏭️  Skip 20201201_General_064_DOS_A_M50_MM_012: already processed.\n",
      "⏭️  Skip 20201201_General_064_DOS_A_M50_MM_014: already processed.\n",
      "⏭️  Skip 20201201_General_064_DOS_A_M50_MM_015: already processed.\n",
      "⏭️  Skip 20201201_General_064_DOS_A_M50_MM_025: already processed.\n",
      "⏭️  Skip 20201201_General_064_DOS_A_M50_MM_041: already processed.\n",
      "⏭️  Skip 20201201_General_064_DOS_A_M50_MM_056: already processed.\n",
      "⏭️  Skip 20201201_General_064_DOS_A_M50_MM_058: already processed.\n",
      "⏭️  Skip 20201201_General_064_DOS_A_M50_MM_074: already processed.\n",
      "⏭️  Skip 20201202_General_066_DOC_A_M40_MM_011: already processed.\n",
      "⏭️  Skip 20201202_General_066_DOC_A_M40_MM_016: already processed.\n",
      "⏭️  Skip 20201202_General_066_DOC_A_M40_MM_028: already processed.\n",
      "⏭️  Skip 20201202_General_066_DOC_A_M40_MM_033: already processed.\n",
      "⏭️  Skip 20201202_General_066_DOC_A_M40_MM_035: already processed.\n"
     ]
    },
    {
     "name": "stderr",
     "output_type": "stream",
     "text": [
      "Processing balanced_true:  94%|█████████▍| 567/600 [00:26<00:01, 21.21it/s]"
     ]
    },
    {
     "name": "stdout",
     "output_type": "stream",
     "text": [
      "✅ balanced_true / 20201202_General_066_DOC_A_M40_MM_058 saved\n"
     ]
    },
    {
     "name": "stderr",
     "output_type": "stream",
     "text": [
      "Processing balanced_true:  95%|█████████▍| 568/600 [00:53<00:03,  8.78it/s]"
     ]
    },
    {
     "name": "stdout",
     "output_type": "stream",
     "text": [
      "✅ balanced_true / 20201202_General_066_DOC_A_M40_MM_066 saved\n"
     ]
    },
    {
     "name": "stderr",
     "output_type": "stream",
     "text": [
      "Processing balanced_true:  95%|█████████▍| 569/600 [01:16<00:06,  5.14it/s]"
     ]
    },
    {
     "name": "stdout",
     "output_type": "stream",
     "text": [
      "✅ balanced_true / 20201202_General_066_DOC_A_M40_MM_071 saved\n"
     ]
    },
    {
     "name": "stderr",
     "output_type": "stream",
     "text": [
      "Processing balanced_true:  95%|█████████▌| 570/600 [01:44<00:10,  2.94it/s]"
     ]
    },
    {
     "name": "stdout",
     "output_type": "stream",
     "text": [
      "✅ balanced_true / 20201202_General_066_DOC_A_M40_MM_073 saved\n"
     ]
    },
    {
     "name": "stderr",
     "output_type": "stream",
     "text": [
      "Processing balanced_true:  95%|█████████▌| 571/600 [02:07<00:14,  1.99it/s]"
     ]
    },
    {
     "name": "stdout",
     "output_type": "stream",
     "text": [
      "✅ balanced_true / 20201202_General_066_DOC_A_M40_MM_084 saved\n"
     ]
    },
    {
     "name": "stderr",
     "output_type": "stream",
     "text": [
      "Processing balanced_true:  95%|█████████▌| 572/600 [02:35<00:21,  1.28it/s]"
     ]
    },
    {
     "name": "stdout",
     "output_type": "stream",
     "text": [
      "✅ balanced_true / 20201202_General_066_DOC_A_M40_MM_090 saved\n"
     ]
    },
    {
     "name": "stderr",
     "output_type": "stream",
     "text": [
      "Processing balanced_true:  96%|█████████▌| 573/600 [03:01<00:30,  1.14s/it]"
     ]
    },
    {
     "name": "stdout",
     "output_type": "stream",
     "text": [
      "✅ balanced_true / 20201202_General_067_DOS_A_M50_SM_001 saved\n"
     ]
    },
    {
     "name": "stderr",
     "output_type": "stream",
     "text": [
      "Processing balanced_true:  96%|█████████▌| 574/600 [03:28<00:43,  1.66s/it]"
     ]
    },
    {
     "name": "stdout",
     "output_type": "stream",
     "text": [
      "✅ balanced_true / 20201202_General_067_DOS_A_M50_SM_019 saved\n"
     ]
    },
    {
     "name": "stderr",
     "output_type": "stream",
     "text": [
      "Processing balanced_true:  96%|█████████▌| 575/600 [03:53<00:58,  2.32s/it]"
     ]
    },
    {
     "name": "stdout",
     "output_type": "stream",
     "text": [
      "✅ balanced_true / 20201202_General_067_DOS_A_M50_SM_027 saved\n"
     ]
    },
    {
     "name": "stderr",
     "output_type": "stream",
     "text": [
      "Processing balanced_true:  96%|█████████▌| 576/600 [04:18<01:16,  3.17s/it]"
     ]
    },
    {
     "name": "stdout",
     "output_type": "stream",
     "text": [
      "✅ balanced_true / 20201202_General_067_DOS_A_M50_SM_032 saved\n"
     ]
    },
    {
     "name": "stderr",
     "output_type": "stream",
     "text": [
      "Processing balanced_true:  96%|█████████▌| 577/600 [04:45<01:41,  4.41s/it]"
     ]
    },
    {
     "name": "stdout",
     "output_type": "stream",
     "text": [
      "✅ balanced_true / 20201202_General_067_DOS_A_M50_SM_036 saved\n"
     ]
    },
    {
     "name": "stderr",
     "output_type": "stream",
     "text": [
      "Processing balanced_true:  96%|█████████▋| 578/600 [05:10<02:08,  5.86s/it]"
     ]
    },
    {
     "name": "stdout",
     "output_type": "stream",
     "text": [
      "✅ balanced_true / 20201202_General_067_DOS_A_M50_SM_062 saved\n"
     ]
    },
    {
     "name": "stderr",
     "output_type": "stream",
     "text": [
      "Processing balanced_true:  96%|█████████▋| 579/600 [05:38<02:45,  7.87s/it]"
     ]
    },
    {
     "name": "stdout",
     "output_type": "stream",
     "text": [
      "✅ balanced_true / 20201202_General_067_DOS_A_M50_SM_065 saved\n"
     ]
    },
    {
     "name": "stderr",
     "output_type": "stream",
     "text": [
      "Processing balanced_true:  97%|█████████▋| 580/600 [06:07<03:23, 10.18s/it]"
     ]
    },
    {
     "name": "stdout",
     "output_type": "stream",
     "text": [
      "✅ balanced_true / 20201202_General_067_DOS_A_M50_SM_074 saved\n"
     ]
    },
    {
     "name": "stderr",
     "output_type": "stream",
     "text": [
      "Processing balanced_true:  97%|█████████▋| 581/600 [06:32<03:52, 12.26s/it]"
     ]
    },
    {
     "name": "stdout",
     "output_type": "stream",
     "text": [
      "✅ balanced_true / 20201203_General_069_DOS_A_M40_MM_016 saved\n"
     ]
    },
    {
     "name": "stderr",
     "output_type": "stream",
     "text": [
      "Processing balanced_true:  97%|█████████▋| 582/600 [06:57<04:18, 14.39s/it]"
     ]
    },
    {
     "name": "stdout",
     "output_type": "stream",
     "text": [
      "✅ balanced_true / 20201203_General_069_DOS_A_M40_MM_020 saved\n"
     ]
    },
    {
     "name": "stderr",
     "output_type": "stream",
     "text": [
      "Processing balanced_true:  97%|█████████▋| 583/600 [07:23<04:42, 16.62s/it]"
     ]
    },
    {
     "name": "stdout",
     "output_type": "stream",
     "text": [
      "✅ balanced_true / 20201203_General_069_DOS_A_M40_MM_030 saved\n"
     ]
    },
    {
     "name": "stderr",
     "output_type": "stream",
     "text": [
      "Processing balanced_true:  97%|█████████▋| 584/600 [07:51<05:05, 19.08s/it]"
     ]
    },
    {
     "name": "stdout",
     "output_type": "stream",
     "text": [
      "✅ balanced_true / 20201203_General_069_DOS_A_M40_MM_042 saved\n"
     ]
    },
    {
     "name": "stderr",
     "output_type": "stream",
     "text": [
      "Processing balanced_true:  98%|█████████▊| 585/600 [08:18<05:14, 20.96s/it]"
     ]
    },
    {
     "name": "stdout",
     "output_type": "stream",
     "text": [
      "✅ balanced_true / 20201203_General_069_DOS_A_M40_MM_052 saved\n"
     ]
    },
    {
     "name": "stderr",
     "output_type": "stream",
     "text": [
      "Processing balanced_true:  98%|█████████▊| 586/600 [08:44<05:11, 22.27s/it]"
     ]
    },
    {
     "name": "stdout",
     "output_type": "stream",
     "text": [
      "✅ balanced_true / 20201203_General_069_DOS_A_M40_MM_060 saved\n"
     ]
    },
    {
     "name": "stderr",
     "output_type": "stream",
     "text": [
      "Processing balanced_true:  98%|█████████▊| 587/600 [09:09<04:57, 22.88s/it]"
     ]
    },
    {
     "name": "stdout",
     "output_type": "stream",
     "text": [
      "✅ balanced_true / 20201203_General_070_DOS_A_M20_MM_016 saved\n"
     ]
    },
    {
     "name": "stderr",
     "output_type": "stream",
     "text": [
      "Processing balanced_true:  98%|█████████▊| 588/600 [09:34<04:41, 23.46s/it]"
     ]
    },
    {
     "name": "stdout",
     "output_type": "stream",
     "text": [
      "✅ balanced_true / 20201203_General_070_DOS_A_M20_MM_029 saved\n"
     ]
    },
    {
     "name": "stderr",
     "output_type": "stream",
     "text": [
      "Processing balanced_true:  98%|█████████▊| 589/600 [09:58<04:21, 23.80s/it]"
     ]
    },
    {
     "name": "stdout",
     "output_type": "stream",
     "text": [
      "✅ balanced_true / 20201203_General_070_DOS_A_M20_MM_030 saved\n"
     ]
    },
    {
     "name": "stderr",
     "output_type": "stream",
     "text": [
      "Processing balanced_true:  98%|█████████▊| 590/600 [10:21<03:56, 23.63s/it]"
     ]
    },
    {
     "name": "stdout",
     "output_type": "stream",
     "text": [
      "✅ balanced_true / 20201203_General_070_DOS_A_M20_MM_039 saved\n"
     ]
    },
    {
     "name": "stderr",
     "output_type": "stream",
     "text": [
      "Processing balanced_true:  98%|█████████▊| 591/600 [10:47<03:36, 24.07s/it]"
     ]
    },
    {
     "name": "stdout",
     "output_type": "stream",
     "text": [
      "✅ balanced_true / 20201203_General_070_DOS_A_M20_MM_046 saved\n"
     ]
    },
    {
     "name": "stderr",
     "output_type": "stream",
     "text": [
      "Processing balanced_true:  99%|█████████▊| 592/600 [11:03<02:53, 21.68s/it]"
     ]
    },
    {
     "name": "stdout",
     "output_type": "stream",
     "text": [
      "✅ balanced_true / 20201203_General_070_DOS_A_M20_MM_070 saved\n"
     ]
    },
    {
     "name": "stderr",
     "output_type": "stream",
     "text": [
      "Processing balanced_true:  99%|█████████▉| 593/600 [11:14<02:10, 18.63s/it]"
     ]
    },
    {
     "name": "stdout",
     "output_type": "stream",
     "text": [
      "✅ balanced_true / 20201203_General_070_DOS_A_M20_MM_072 saved\n"
     ]
    },
    {
     "name": "stderr",
     "output_type": "stream",
     "text": [
      "Processing balanced_true:  99%|█████████▉| 594/600 [11:42<02:09, 21.59s/it]"
     ]
    },
    {
     "name": "stdout",
     "output_type": "stream",
     "text": [
      "✅ balanced_true / 20201203_General_071_DOS_A_M40_MM_002 saved\n"
     ]
    },
    {
     "name": "stderr",
     "output_type": "stream",
     "text": [
      "Processing balanced_true:  99%|█████████▉| 595/600 [12:05<01:49, 21.81s/it]"
     ]
    },
    {
     "name": "stdout",
     "output_type": "stream",
     "text": [
      "✅ balanced_true / 20201203_General_071_DOS_A_M40_MM_014 saved\n"
     ]
    },
    {
     "name": "stderr",
     "output_type": "stream",
     "text": [
      "Processing balanced_true:  99%|█████████▉| 596/600 [12:31<01:31, 23.00s/it]"
     ]
    },
    {
     "name": "stdout",
     "output_type": "stream",
     "text": [
      "✅ balanced_true / 20201203_General_071_DOS_A_M40_MM_021 saved\n"
     ]
    },
    {
     "name": "stderr",
     "output_type": "stream",
     "text": [
      "Processing balanced_true: 100%|█████████▉| 597/600 [13:01<01:15, 25.27s/it]"
     ]
    },
    {
     "name": "stdout",
     "output_type": "stream",
     "text": [
      "✅ balanced_true / 20201203_General_071_DOS_A_M40_MM_032 saved\n"
     ]
    },
    {
     "name": "stderr",
     "output_type": "stream",
     "text": [
      "Processing balanced_true: 100%|█████████▉| 598/600 [13:27<00:51, 25.56s/it]"
     ]
    },
    {
     "name": "stdout",
     "output_type": "stream",
     "text": [
      "✅ balanced_true / 20201203_General_071_DOS_A_M40_MM_036 saved\n"
     ]
    },
    {
     "name": "stderr",
     "output_type": "stream",
     "text": [
      "Processing balanced_true: 100%|█████████▉| 599/600 [13:51<00:24, 25.00s/it]"
     ]
    },
    {
     "name": "stdout",
     "output_type": "stream",
     "text": [
      "✅ balanced_true / 20201203_General_071_DOS_A_M40_MM_048 saved\n"
     ]
    },
    {
     "name": "stderr",
     "output_type": "stream",
     "text": [
      "Processing balanced_true: 100%|██████████| 600/600 [14:16<00:00,  1.43s/it]"
     ]
    },
    {
     "name": "stdout",
     "output_type": "stream",
     "text": [
      "✅ balanced_true / 20201203_General_071_DOS_A_M40_MM_049 saved\n"
     ]
    },
    {
     "name": "stderr",
     "output_type": "stream",
     "text": [
      "\n",
      "Processing false:   0%|          | 0/408 [00:00<?, ?it/s]"
     ]
    },
    {
     "name": "stdout",
     "output_type": "stream",
     "text": [
      "⏭️  Skip 20201116_General_001_DOS_A_M40_MM_043: already processed.\n",
      "⏭️  Skip 20201116_General_001_DOS_A_M40_MM_044: already processed.\n",
      "⏭️  Skip 20201116_General_001_DOS_A_M40_MM_046: already processed.\n",
      "⏭️  Skip 20201116_General_001_DOS_A_M40_MM_047: already processed.\n",
      "⏭️  Skip 20201116_General_001_DOS_A_M40_MM_049: already processed.\n",
      "⏭️  Skip 20201116_General_001_DOS_A_M40_MM_051: already processed.\n",
      "⏭️  Skip 20201116_General_001_DOS_A_M40_MM_052: already processed.\n",
      "⏭️  Skip 20201116_General_001_DOS_A_M40_MM_053: already processed.\n",
      "⏭️  Skip 20201116_General_001_DOS_A_M40_MM_054: already processed.\n",
      "⏭️  Skip 20201116_General_001_DOS_A_M40_MM_056: already processed.\n",
      "⏭️  Skip 20201116_General_001_DOS_A_M40_MM_057: already processed.\n",
      "⏭️  Skip 20201116_General_001_DOS_A_M40_MM_058: already processed.\n",
      "⏭️  Skip 20201116_General_001_DOS_A_M40_MM_060: already processed.\n",
      "⏭️  Skip 20201116_General_001_DOS_A_M40_MM_061: already processed.\n",
      "⏭️  Skip 20201116_General_001_DOS_A_M40_MM_062: already processed.\n",
      "⏭️  Skip 20201116_General_001_DOS_A_M40_MM_065: already processed.\n",
      "⏭️  Skip 20201116_General_001_DOS_A_M40_MM_067: already processed.\n",
      "⏭️  Skip 20201116_General_001_DOS_A_M40_MM_068: already processed.\n",
      "⏭️  Skip 20201116_General_001_DOS_A_M40_MM_069: already processed.\n",
      "⏭️  Skip 20201117_General_005_DOC_A_M40_MM_001: already processed.\n",
      "⏭️  Skip 20201117_General_005_DOC_A_M40_MM_002: already processed.\n",
      "⏭️  Skip 20201117_General_005_DOC_A_M40_MM_003: already processed.\n",
      "⏭️  Skip 20201117_General_005_DOC_A_M40_MM_004: already processed.\n",
      "⏭️  Skip 20201117_General_005_DOC_A_M40_MM_005: already processed.\n",
      "⏭️  Skip 20201117_General_005_DOC_A_M40_MM_006: already processed.\n",
      "⏭️  Skip 20201117_General_005_DOC_A_M40_MM_007: already processed.\n",
      "⏭️  Skip 20201117_General_005_DOC_A_M40_MM_008: already processed.\n",
      "⏭️  Skip 20201117_General_005_DOC_A_M40_MM_009: already processed.\n",
      "⏭️  Skip 20201117_General_005_DOC_A_M40_MM_010: already processed.\n",
      "⏭️  Skip 20201117_General_005_DOC_A_M40_MM_011: already processed.\n",
      "⏭️  Skip 20201117_General_005_DOC_A_M40_MM_012: already processed.\n",
      "⏭️  Skip 20201117_General_005_DOC_A_M40_MM_013: already processed.\n",
      "⏭️  Skip 20201117_General_005_DOC_A_M40_MM_014: already processed.\n",
      "⏭️  Skip 20201117_General_005_DOC_A_M40_MM_015: already processed.\n",
      "⏭️  Skip 20201117_General_005_DOC_A_M40_MM_016: already processed.\n",
      "⏭️  Skip 20201117_General_005_DOC_A_M40_MM_017: already processed.\n",
      "⏭️  Skip 20201117_General_005_DOC_A_M40_MM_018: already processed.\n",
      "⏭️  Skip 20201117_General_005_DOC_A_M40_MM_019: already processed.\n",
      "⏭️  Skip 20201117_General_005_DOC_A_M40_MM_020: already processed.\n",
      "⏭️  Skip 20201117_General_005_DOC_A_M40_MM_021: already processed.\n",
      "⏭️  Skip 20201117_General_005_DOC_A_M40_MM_022: already processed.\n",
      "⏭️  Skip 20201117_General_005_DOC_A_M40_MM_023: already processed.\n",
      "⏭️  Skip 20201117_General_005_DOC_A_M40_MM_024: already processed.\n",
      "⏭️  Skip 20201117_General_005_DOC_A_M40_MM_025: already processed.\n",
      "⏭️  Skip 20201117_General_005_DOC_A_M40_MM_026: already processed.\n",
      "⏭️  Skip 20201117_General_005_DOC_A_M40_MM_027: already processed.\n",
      "⏭️  Skip 20201117_General_005_DOC_A_M40_MM_028: already processed.\n",
      "⏭️  Skip 20201117_General_005_DOC_A_M40_MM_029: already processed.\n",
      "⏭️  Skip 20201117_General_005_DOC_A_M40_MM_030: already processed.\n",
      "⏭️  Skip 20201117_General_005_DOC_A_M40_MM_031: already processed.\n",
      "⏭️  Skip 20201117_General_005_DOC_A_M40_MM_032: already processed.\n",
      "⏭️  Skip 20201117_General_005_DOC_A_M40_MM_033: already processed.\n",
      "⏭️  Skip 20201117_General_005_DOC_A_M40_MM_034: already processed.\n",
      "⏭️  Skip 20201117_General_005_DOC_A_M40_MM_035: already processed.\n",
      "⏭️  Skip 20201117_General_005_DOC_A_M40_MM_036: already processed.\n",
      "⏭️  Skip 20201117_General_005_DOC_A_M40_MM_037: already processed.\n",
      "⏭️  Skip 20201117_General_005_DOC_A_M40_MM_038: already processed.\n",
      "⏭️  Skip 20201117_General_005_DOC_A_M40_MM_039: already processed.\n",
      "⏭️  Skip 20201117_General_005_DOC_A_M40_MM_040: already processed.\n",
      "⏭️  Skip 20201117_General_005_DOC_A_M40_MM_041: already processed.\n",
      "⏭️  Skip 20201117_General_005_DOC_A_M40_MM_042: already processed.\n",
      "⏭️  Skip 20201117_General_005_DOC_A_M40_MM_043: already processed.\n",
      "⏭️  Skip 20201117_General_005_DOC_A_M40_MM_044: already processed.\n",
      "⏭️  Skip 20201117_General_005_DOC_A_M40_MM_045: already processed.\n",
      "⏭️  Skip 20201117_General_005_DOC_A_M40_MM_046: already processed.\n",
      "⏭️  Skip 20201117_General_005_DOC_A_M40_MM_047: already processed.\n",
      "⏭️  Skip 20201117_General_005_DOC_A_M40_MM_048: already processed.\n",
      "⏭️  Skip 20201117_General_005_DOC_A_M40_MM_049: already processed.\n",
      "⏭️  Skip 20201117_General_005_DOC_A_M40_MM_050: already processed.\n",
      "⏭️  Skip 20201117_General_005_DOC_A_M40_MM_051: already processed.\n",
      "⏭️  Skip 20201117_General_005_DOC_A_M40_MM_052: already processed.\n",
      "⏭️  Skip 20201117_General_005_DOC_A_M40_MM_053: already processed.\n",
      "⏭️  Skip 20201117_General_005_DOC_A_M40_MM_054: already processed.\n",
      "⏭️  Skip 20201117_General_005_DOC_A_M40_MM_055: already processed.\n",
      "⏭️  Skip 20201117_General_005_DOC_A_M40_MM_056: already processed.\n",
      "⏭️  Skip 20201117_General_005_DOC_A_M40_MM_057: already processed.\n",
      "⏭️  Skip 20201117_General_005_DOC_A_M40_MM_058: already processed.\n",
      "⏭️  Skip 20201117_General_005_DOC_A_M40_MM_059: already processed.\n",
      "⏭️  Skip 20201117_General_005_DOC_A_M40_MM_060: already processed.\n",
      "⏭️  Skip 20201117_General_005_DOC_A_M40_MM_061: already processed.\n",
      "⏭️  Skip 20201117_General_005_DOC_A_M40_MM_062: already processed.\n",
      "⏭️  Skip 20201117_General_006_DOC_A_M40_BS_001: already processed.\n",
      "⏭️  Skip 20201117_General_006_DOC_A_M40_BS_002: already processed.\n",
      "⏭️  Skip 20201117_General_006_DOC_A_M40_BS_003: already processed.\n",
      "⏭️  Skip 20201117_General_006_DOC_A_M40_BS_004: already processed.\n",
      "⏭️  Skip 20201117_General_006_DOC_A_M40_BS_005: already processed.\n",
      "⏭️  Skip 20201117_General_006_DOC_A_M40_BS_006: already processed.\n",
      "⏭️  Skip 20201117_General_006_DOC_A_M40_BS_007: already processed.\n",
      "⏭️  Skip 20201117_General_006_DOC_A_M40_BS_008: already processed.\n",
      "⏭️  Skip 20201117_General_006_DOC_A_M40_BS_009: already processed.\n",
      "⏭️  Skip 20201117_General_006_DOC_A_M40_BS_010: already processed.\n",
      "⏭️  Skip 20201117_General_006_DOC_A_M40_BS_011: already processed.\n",
      "⏭️  Skip 20201117_General_006_DOC_A_M40_BS_012: already processed.\n",
      "⏭️  Skip 20201117_General_006_DOC_A_M40_BS_013: already processed.\n",
      "⏭️  Skip 20201117_General_006_DOC_A_M40_BS_014: already processed.\n",
      "⏭️  Skip 20201117_General_006_DOC_A_M40_BS_015: already processed.\n",
      "⏭️  Skip 20201117_General_006_DOC_A_M40_BS_016: already processed.\n",
      "⏭️  Skip 20201117_General_006_DOC_A_M40_BS_017: already processed.\n",
      "⏭️  Skip 20201117_General_006_DOC_A_M40_BS_018: already processed.\n",
      "⏭️  Skip 20201117_General_006_DOC_A_M40_BS_019: already processed.\n",
      "⏭️  Skip 20201117_General_006_DOC_A_M40_BS_020: already processed.\n",
      "⏭️  Skip 20201117_General_006_DOC_A_M40_BS_021: already processed.\n",
      "⏭️  Skip 20201117_General_006_DOC_A_M40_BS_022: already processed.\n",
      "⏭️  Skip 20201117_General_006_DOC_A_M40_BS_023: already processed.\n",
      "⏭️  Skip 20201117_General_006_DOC_A_M40_BS_024: already processed.\n",
      "⏭️  Skip 20201117_General_006_DOC_A_M40_BS_025: already processed.\n",
      "⏭️  Skip 20201117_General_006_DOC_A_M40_BS_026: already processed.\n",
      "⏭️  Skip 20201117_General_006_DOC_A_M40_BS_027: already processed.\n",
      "⏭️  Skip 20201117_General_006_DOC_A_M40_BS_028: already processed.\n",
      "⏭️  Skip 20201117_General_006_DOC_A_M40_BS_029: already processed.\n",
      "⏭️  Skip 20201117_General_006_DOC_A_M40_BS_030: already processed.\n",
      "⏭️  Skip 20201117_General_006_DOC_A_M40_BS_031: already processed.\n",
      "⏭️  Skip 20201117_General_006_DOC_A_M40_BS_032: already processed.\n",
      "⏭️  Skip 20201117_General_006_DOC_A_M40_BS_033: already processed.\n",
      "⏭️  Skip 20201117_General_006_DOC_A_M40_BS_034: already processed.\n",
      "⏭️  Skip 20201117_General_006_DOC_A_M40_BS_035: already processed.\n",
      "⏭️  Skip 20201117_General_006_DOC_A_M40_BS_036: already processed.\n",
      "⏭️  Skip 20201117_General_006_DOC_A_M40_BS_037: already processed.\n",
      "⏭️  Skip 20201117_General_006_DOC_A_M40_BS_038: already processed.\n",
      "⏭️  Skip 20201117_General_006_DOC_A_M40_BS_039: already processed.\n",
      "⏭️  Skip 20201117_General_006_DOC_A_M40_BS_040: already processed.\n",
      "⏭️  Skip 20201117_General_006_DOC_A_M40_BS_041: already processed.\n",
      "⏭️  Skip 20201117_General_006_DOC_A_M40_BS_042: already processed.\n",
      "⏭️  Skip 20201117_General_006_DOC_A_M40_BS_043: already processed.\n",
      "⏭️  Skip 20201117_General_006_DOC_A_M40_BS_044: already processed.\n",
      "⏭️  Skip 20201117_General_006_DOC_A_M40_BS_045: already processed.\n",
      "⏭️  Skip 20201117_General_006_DOC_A_M40_BS_046: already processed.\n",
      "⏭️  Skip 20201117_General_006_DOC_A_M40_BS_047: already processed.\n",
      "⏭️  Skip 20201117_General_006_DOC_A_M40_BS_048: already processed.\n",
      "⏭️  Skip 20201117_General_006_DOC_A_M40_BS_049: already processed.\n",
      "⏭️  Skip 20201117_General_006_DOC_A_M40_BS_050: already processed.\n",
      "⏭️  Skip 20201117_General_006_DOC_A_M40_BS_051: already processed.\n",
      "⏭️  Skip 20201117_General_006_DOC_A_M40_BS_052: already processed.\n",
      "⏭️  Skip 20201117_General_006_DOC_A_M40_BS_053: already processed.\n",
      "⏭️  Skip 20201117_General_006_DOC_A_M40_BS_054: already processed.\n",
      "⏭️  Skip 20201117_General_006_DOC_A_M40_BS_055: already processed.\n",
      "⏭️  Skip 20201117_General_006_DOC_A_M40_BS_056: already processed.\n",
      "⏭️  Skip 20201117_General_006_DOC_A_M40_BS_057: already processed.\n",
      "⏭️  Skip 20201117_General_006_DOC_A_M40_BS_058: already processed.\n",
      "⏭️  Skip 20201117_General_006_DOC_A_M40_BS_059: already processed.\n",
      "⏭️  Skip 20201117_General_006_DOC_A_M40_BS_060: already processed.\n",
      "⏭️  Skip 20201117_General_006_DOC_A_M40_BS_061: already processed.\n",
      "⏭️  Skip 20201117_General_006_DOC_A_M40_BS_062: already processed.\n",
      "⏭️  Skip 20201117_General_006_DOC_A_M40_BS_063: already processed.\n",
      "⏭️  Skip 20201117_General_006_DOC_A_M40_BS_064: already processed.\n",
      "⏭️  Skip 20201117_General_006_DOC_A_M40_BS_065: already processed.\n",
      "⏭️  Skip 20201117_General_006_DOC_A_M40_BS_066: already processed.\n",
      "⏭️  Skip 20201117_General_006_DOC_A_M40_BS_067: already processed.\n",
      "⏭️  Skip 20201117_General_006_DOC_A_M40_BS_068: already processed.\n",
      "⏭️  Skip 20201117_General_006_DOC_A_M40_BS_069: already processed.\n",
      "⏭️  Skip 20201117_General_006_DOC_A_M40_BS_070: already processed.\n",
      "⏭️  Skip 20201123_General_029_DOS_A_M40_MM_062: already processed.\n",
      "⏭️  Skip 20201123_General_030_DOS_A_M40_MM_001: already processed.\n",
      "⏭️  Skip 20201123_General_030_DOS_A_M40_MM_002: already processed.\n",
      "⏭️  Skip 20201123_General_030_DOS_A_M40_MM_003: already processed.\n",
      "⏭️  Skip 20201123_General_030_DOS_A_M40_MM_004: already processed.\n",
      "⏭️  Skip 20201123_General_030_DOS_A_M40_MM_005: already processed.\n",
      "⏭️  Skip 20201123_General_030_DOS_A_M40_MM_006: already processed.\n",
      "⏭️  Skip 20201123_General_030_DOS_A_M40_MM_007: already processed.\n",
      "⏭️  Skip 20201123_General_030_DOS_A_M40_MM_008: already processed.\n",
      "⏭️  Skip 20201123_General_030_DOS_A_M40_MM_009: already processed.\n",
      "⏭️  Skip 20201123_General_030_DOS_A_M40_MM_010: already processed.\n",
      "⏭️  Skip 20201123_General_030_DOS_A_M40_MM_011: already processed.\n",
      "⏭️  Skip 20201123_General_030_DOS_A_M40_MM_012: already processed.\n",
      "⏭️  Skip 20201123_General_030_DOS_A_M40_MM_014: already processed.\n",
      "⏭️  Skip 20201123_General_030_DOS_A_M40_MM_015: already processed.\n",
      "⏭️  Skip 20201123_General_030_DOS_A_M40_MM_016: already processed.\n",
      "⏭️  Skip 20201123_General_030_DOS_A_M40_MM_017: already processed.\n",
      "⏭️  Skip 20201123_General_030_DOS_A_M40_MM_018: already processed.\n",
      "⏭️  Skip 20201123_General_030_DOS_A_M40_MM_019: already processed.\n",
      "⏭️  Skip 20201123_General_030_DOS_A_M40_MM_020: already processed.\n",
      "⏭️  Skip 20201123_General_030_DOS_A_M40_MM_021: already processed.\n",
      "⏭️  Skip 20201123_General_030_DOS_A_M40_MM_022: already processed.\n",
      "⏭️  Skip 20201123_General_030_DOS_A_M40_MM_023: already processed.\n",
      "⏭️  Skip 20201123_General_030_DOS_A_M40_MM_024: already processed.\n",
      "⏭️  Skip 20201123_General_030_DOS_A_M40_MM_025: already processed.\n",
      "⏭️  Skip 20201123_General_030_DOS_A_M40_MM_026: already processed.\n",
      "⏭️  Skip 20201123_General_030_DOS_A_M40_MM_027: already processed.\n",
      "⏭️  Skip 20201123_General_030_DOS_A_M40_MM_028: already processed.\n",
      "⏭️  Skip 20201123_General_030_DOS_A_M40_MM_029: already processed.\n",
      "⏭️  Skip 20201123_General_030_DOS_A_M40_MM_030: already processed.\n",
      "⏭️  Skip 20201123_General_030_DOS_A_M40_MM_031: already processed.\n",
      "⏭️  Skip 20201123_General_030_DOS_A_M40_MM_032: already processed.\n",
      "⏭️  Skip 20201123_General_030_DOS_A_M40_MM_033: already processed.\n",
      "⏭️  Skip 20201123_General_030_DOS_A_M40_MM_034: already processed.\n",
      "⏭️  Skip 20201123_General_030_DOS_A_M40_MM_035: already processed.\n",
      "⏭️  Skip 20201123_General_030_DOS_A_M40_MM_036: already processed.\n",
      "⏭️  Skip 20201123_General_030_DOS_A_M40_MM_037: already processed.\n",
      "⏭️  Skip 20201123_General_030_DOS_A_M40_MM_038: already processed.\n",
      "⏭️  Skip 20201123_General_030_DOS_A_M40_MM_039: already processed.\n",
      "⏭️  Skip 20201123_General_030_DOS_A_M40_MM_040: already processed.\n",
      "⏭️  Skip 20201123_General_030_DOS_A_M40_MM_041: already processed.\n",
      "⏭️  Skip 20201123_General_030_DOS_A_M40_MM_042: already processed.\n",
      "⏭️  Skip 20201123_General_030_DOS_A_M40_MM_043: already processed.\n",
      "⏭️  Skip 20201123_General_030_DOS_A_M40_MM_044: already processed.\n",
      "⏭️  Skip 20201123_General_030_DOS_A_M40_MM_045: already processed.\n",
      "⏭️  Skip 20201123_General_030_DOS_A_M40_MM_046: already processed.\n",
      "⏭️  Skip 20201123_General_030_DOS_A_M40_MM_047: already processed.\n",
      "⏭️  Skip 20201123_General_030_DOS_A_M40_MM_048: already processed.\n",
      "⏭️  Skip 20201123_General_030_DOS_A_M40_MM_049: already processed.\n",
      "⏭️  Skip 20201123_General_030_DOS_A_M40_MM_051: already processed.\n",
      "⏭️  Skip 20201123_General_030_DOS_A_M40_MM_052: already processed.\n",
      "⏭️  Skip 20201123_General_030_DOS_A_M40_MM_053: already processed.\n",
      "⏭️  Skip 20201123_General_030_DOS_A_M40_MM_054: already processed.\n",
      "⏭️  Skip 20201123_General_030_DOS_A_M40_MM_055: already processed.\n",
      "⏭️  Skip 20201123_General_030_DOS_A_M40_MM_056: already processed.\n",
      "⏭️  Skip 20201123_General_030_DOS_A_M40_MM_057: already processed.\n",
      "⏭️  Skip 20201123_General_030_DOS_A_M40_MM_058: already processed.\n",
      "⏭️  Skip 20201123_General_030_DOS_A_M40_MM_059: already processed.\n",
      "⏭️  Skip 20201123_General_030_DOS_A_M40_MM_060: already processed.\n",
      "⏭️  Skip 20201123_General_030_DOS_A_M40_MM_061: already processed.\n",
      "⏭️  Skip 20201123_General_030_DOS_A_M40_MM_062: already processed.\n",
      "⏭️  Skip 20201123_General_030_DOS_A_M40_MM_063: already processed.\n",
      "⏭️  Skip 20201123_General_030_DOS_A_M40_MM_066: already processed.\n",
      "⏭️  Skip 20201123_General_030_DOS_A_M40_MM_067: already processed.\n",
      "⏭️  Skip 20201123_General_030_DOS_A_M40_MM_068: already processed.\n",
      "⏭️  Skip 20201123_General_030_DOS_A_M40_MM_069: already processed.\n",
      "⏭️  Skip 20201123_General_030_DOS_A_M40_MM_070: already processed.\n"
     ]
    },
    {
     "name": "stderr",
     "output_type": "stream",
     "text": [
      "Processing false:  54%|█████▎    | 219/408 [00:28<00:24,  7.77it/s]"
     ]
    },
    {
     "name": "stdout",
     "output_type": "stream",
     "text": [
      "✅ false / 20201126_General_048_DOS_A_M30_MM_001 saved\n"
     ]
    },
    {
     "name": "stderr",
     "output_type": "stream",
     "text": [
      "Processing false:  54%|█████▍    | 220/408 [00:53<00:54,  3.43it/s]"
     ]
    },
    {
     "name": "stdout",
     "output_type": "stream",
     "text": [
      "✅ false / 20201126_General_048_DOS_A_M30_MM_002 saved\n"
     ]
    },
    {
     "name": "stderr",
     "output_type": "stream",
     "text": [
      "Processing false:  54%|█████▍    | 221/408 [01:19<01:39,  1.88it/s]"
     ]
    },
    {
     "name": "stdout",
     "output_type": "stream",
     "text": [
      "✅ false / 20201126_General_048_DOS_A_M30_MM_003 saved\n"
     ]
    },
    {
     "name": "stderr",
     "output_type": "stream",
     "text": [
      "Processing false:  54%|█████▍    | 222/408 [01:46<02:42,  1.14it/s]"
     ]
    },
    {
     "name": "stdout",
     "output_type": "stream",
     "text": [
      "✅ false / 20201126_General_048_DOS_A_M30_MM_006 saved\n"
     ]
    },
    {
     "name": "stderr",
     "output_type": "stream",
     "text": [
      "Processing false:  55%|█████▍    | 223/408 [02:08<03:52,  1.26s/it]"
     ]
    },
    {
     "name": "stdout",
     "output_type": "stream",
     "text": [
      "✅ false / 20201126_General_048_DOS_A_M30_MM_007 saved\n"
     ]
    },
    {
     "name": "stderr",
     "output_type": "stream",
     "text": [
      "Processing false:  55%|█████▍    | 224/408 [02:33<05:41,  1.85s/it]"
     ]
    },
    {
     "name": "stdout",
     "output_type": "stream",
     "text": [
      "✅ false / 20201126_General_048_DOS_A_M30_MM_009 saved\n"
     ]
    },
    {
     "name": "stderr",
     "output_type": "stream",
     "text": [
      "Processing false:  55%|█████▌    | 225/408 [03:02<08:30,  2.79s/it]"
     ]
    },
    {
     "name": "stdout",
     "output_type": "stream",
     "text": [
      "✅ false / 20201126_General_048_DOS_A_M30_MM_010 saved\n"
     ]
    },
    {
     "name": "stderr",
     "output_type": "stream",
     "text": [
      "Processing false:  55%|█████▌    | 226/408 [03:25<11:21,  3.75s/it]"
     ]
    },
    {
     "name": "stdout",
     "output_type": "stream",
     "text": [
      "✅ false / 20201126_General_048_DOS_A_M30_MM_011 saved\n"
     ]
    },
    {
     "name": "stderr",
     "output_type": "stream",
     "text": [
      "Processing false:  56%|█████▌    | 227/408 [03:51<15:29,  5.14s/it]"
     ]
    },
    {
     "name": "stdout",
     "output_type": "stream",
     "text": [
      "✅ false / 20201126_General_048_DOS_A_M30_MM_013 saved\n"
     ]
    },
    {
     "name": "stderr",
     "output_type": "stream",
     "text": [
      "Processing false:  56%|█████▌    | 228/408 [04:13<19:50,  6.61s/it]"
     ]
    },
    {
     "name": "stdout",
     "output_type": "stream",
     "text": [
      "✅ false / 20201126_General_048_DOS_A_M30_MM_014 saved\n"
     ]
    },
    {
     "name": "stderr",
     "output_type": "stream",
     "text": [
      "Processing false:  56%|█████▌    | 229/408 [04:37<25:02,  8.40s/it]"
     ]
    },
    {
     "name": "stdout",
     "output_type": "stream",
     "text": [
      "✅ false / 20201126_General_048_DOS_A_M30_MM_016 saved\n"
     ]
    },
    {
     "name": "stderr",
     "output_type": "stream",
     "text": [
      "Processing false:  56%|█████▋    | 230/408 [04:59<30:25, 10.26s/it]"
     ]
    },
    {
     "name": "stdout",
     "output_type": "stream",
     "text": [
      "✅ false / 20201126_General_048_DOS_A_M30_MM_017 saved\n"
     ]
    },
    {
     "name": "stderr",
     "output_type": "stream",
     "text": [
      "Processing false:  57%|█████▋    | 231/408 [05:25<37:26, 12.69s/it]"
     ]
    },
    {
     "name": "stdout",
     "output_type": "stream",
     "text": [
      "✅ false / 20201126_General_048_DOS_A_M30_MM_019 saved\n"
     ]
    },
    {
     "name": "stderr",
     "output_type": "stream",
     "text": [
      "Processing false:  57%|█████▋    | 232/408 [05:48<42:55, 14.63s/it]"
     ]
    },
    {
     "name": "stdout",
     "output_type": "stream",
     "text": [
      "✅ false / 20201126_General_048_DOS_A_M30_MM_020 saved\n"
     ]
    },
    {
     "name": "stderr",
     "output_type": "stream",
     "text": [
      "Processing false:  57%|█████▋    | 233/408 [06:12<48:26, 16.61s/it]"
     ]
    },
    {
     "name": "stdout",
     "output_type": "stream",
     "text": [
      "✅ false / 20201126_General_048_DOS_A_M30_MM_023 saved\n"
     ]
    },
    {
     "name": "stderr",
     "output_type": "stream",
     "text": [
      "Processing false:  57%|█████▋    | 234/408 [06:40<55:10, 19.03s/it]"
     ]
    },
    {
     "name": "stdout",
     "output_type": "stream",
     "text": [
      "✅ false / 20201126_General_048_DOS_A_M30_MM_024 saved\n"
     ]
    },
    {
     "name": "stderr",
     "output_type": "stream",
     "text": [
      "Processing false:  58%|█████▊    | 235/408 [07:04<58:32, 20.30s/it]"
     ]
    },
    {
     "name": "stdout",
     "output_type": "stream",
     "text": [
      "✅ false / 20201126_General_048_DOS_A_M30_MM_025 saved\n"
     ]
    },
    {
     "name": "stderr",
     "output_type": "stream",
     "text": [
      "Processing false:  58%|█████▊    | 236/408 [07:27<1:00:03, 20.95s/it]"
     ]
    },
    {
     "name": "stdout",
     "output_type": "stream",
     "text": [
      "✅ false / 20201126_General_048_DOS_A_M30_MM_028 saved\n"
     ]
    },
    {
     "name": "stderr",
     "output_type": "stream",
     "text": [
      "Processing false:  58%|█████▊    | 237/408 [07:49<1:00:57, 21.39s/it]"
     ]
    },
    {
     "name": "stdout",
     "output_type": "stream",
     "text": [
      "✅ false / 20201126_General_048_DOS_A_M30_MM_029 saved\n"
     ]
    },
    {
     "name": "stderr",
     "output_type": "stream",
     "text": [
      "Processing false:  58%|█████▊    | 238/408 [08:11<1:01:12, 21.60s/it]"
     ]
    },
    {
     "name": "stdout",
     "output_type": "stream",
     "text": [
      "✅ false / 20201126_General_048_DOS_A_M30_MM_030 saved\n"
     ]
    },
    {
     "name": "stderr",
     "output_type": "stream",
     "text": [
      "Processing false:  59%|█████▊    | 239/408 [08:37<1:03:47, 22.65s/it]"
     ]
    },
    {
     "name": "stdout",
     "output_type": "stream",
     "text": [
      "✅ false / 20201126_General_048_DOS_A_M30_MM_034 saved\n"
     ]
    },
    {
     "name": "stderr",
     "output_type": "stream",
     "text": [
      "Processing false:  59%|█████▉    | 240/408 [09:03<1:06:27, 23.74s/it]"
     ]
    },
    {
     "name": "stdout",
     "output_type": "stream",
     "text": [
      "✅ false / 20201126_General_048_DOS_A_M30_MM_035 saved\n"
     ]
    },
    {
     "name": "stderr",
     "output_type": "stream",
     "text": [
      "Processing false:  59%|█████▉    | 241/408 [09:28<1:06:57, 24.06s/it]"
     ]
    },
    {
     "name": "stdout",
     "output_type": "stream",
     "text": [
      "✅ false / 20201126_General_048_DOS_A_M30_MM_036 saved\n"
     ]
    },
    {
     "name": "stderr",
     "output_type": "stream",
     "text": [
      "Processing false:  59%|█████▉    | 242/408 [09:49<1:04:31, 23.32s/it]"
     ]
    },
    {
     "name": "stdout",
     "output_type": "stream",
     "text": [
      "✅ false / 20201126_General_048_DOS_A_M30_MM_037 saved\n"
     ]
    },
    {
     "name": "stderr",
     "output_type": "stream",
     "text": [
      "Processing false:  60%|█████▉    | 243/408 [10:12<1:03:29, 23.09s/it]"
     ]
    },
    {
     "name": "stdout",
     "output_type": "stream",
     "text": [
      "✅ false / 20201126_General_048_DOS_A_M30_MM_038 saved\n"
     ]
    },
    {
     "name": "stderr",
     "output_type": "stream",
     "text": [
      "Processing false:  60%|█████▉    | 244/408 [10:34<1:02:02, 22.70s/it]"
     ]
    },
    {
     "name": "stdout",
     "output_type": "stream",
     "text": [
      "✅ false / 20201126_General_048_DOS_A_M30_MM_039 saved\n"
     ]
    },
    {
     "name": "stderr",
     "output_type": "stream",
     "text": [
      "Processing false:  60%|██████    | 245/408 [10:57<1:02:26, 22.98s/it]"
     ]
    },
    {
     "name": "stdout",
     "output_type": "stream",
     "text": [
      "✅ false / 20201126_General_048_DOS_A_M30_MM_041 saved\n"
     ]
    },
    {
     "name": "stderr",
     "output_type": "stream",
     "text": [
      "Processing false:  60%|██████    | 246/408 [11:20<1:01:53, 22.92s/it]"
     ]
    },
    {
     "name": "stdout",
     "output_type": "stream",
     "text": [
      "✅ false / 20201126_General_048_DOS_A_M30_MM_042 saved\n"
     ]
    },
    {
     "name": "stderr",
     "output_type": "stream",
     "text": [
      "Processing false:  61%|██████    | 247/408 [11:44<1:01:59, 23.10s/it]"
     ]
    },
    {
     "name": "stdout",
     "output_type": "stream",
     "text": [
      "✅ false / 20201126_General_048_DOS_A_M30_MM_043 saved\n"
     ]
    },
    {
     "name": "stderr",
     "output_type": "stream",
     "text": [
      "Processing false:  61%|██████    | 248/408 [12:08<1:02:31, 23.45s/it]"
     ]
    },
    {
     "name": "stdout",
     "output_type": "stream",
     "text": [
      "✅ false / 20201126_General_048_DOS_A_M30_MM_044 saved\n"
     ]
    },
    {
     "name": "stderr",
     "output_type": "stream",
     "text": [
      "Processing false:  61%|██████    | 249/408 [12:33<1:03:11, 23.85s/it]"
     ]
    },
    {
     "name": "stdout",
     "output_type": "stream",
     "text": [
      "✅ false / 20201126_General_048_DOS_A_M30_MM_046 saved\n"
     ]
    },
    {
     "name": "stderr",
     "output_type": "stream",
     "text": [
      "Processing false:  61%|██████▏   | 250/408 [12:55<1:01:14, 23.25s/it]"
     ]
    },
    {
     "name": "stdout",
     "output_type": "stream",
     "text": [
      "✅ false / 20201126_General_048_DOS_A_M30_MM_047 saved\n"
     ]
    },
    {
     "name": "stderr",
     "output_type": "stream",
     "text": [
      "Processing false:  62%|██████▏   | 251/408 [13:17<59:57, 22.92s/it]  "
     ]
    },
    {
     "name": "stdout",
     "output_type": "stream",
     "text": [
      "✅ false / 20201126_General_048_DOS_A_M30_MM_048 saved\n"
     ]
    },
    {
     "name": "stderr",
     "output_type": "stream",
     "text": [
      "Processing false:  62%|██████▏   | 252/408 [13:42<1:01:24, 23.62s/it]"
     ]
    },
    {
     "name": "stdout",
     "output_type": "stream",
     "text": [
      "✅ false / 20201126_General_048_DOS_A_M30_MM_050 saved\n"
     ]
    },
    {
     "name": "stderr",
     "output_type": "stream",
     "text": [
      "Processing false:  62%|██████▏   | 253/408 [14:05<1:00:14, 23.32s/it]"
     ]
    },
    {
     "name": "stdout",
     "output_type": "stream",
     "text": [
      "✅ false / 20201126_General_048_DOS_A_M30_MM_051 saved\n"
     ]
    },
    {
     "name": "stderr",
     "output_type": "stream",
     "text": [
      "Processing false:  62%|██████▏   | 254/408 [14:27<58:53, 22.94s/it]  "
     ]
    },
    {
     "name": "stdout",
     "output_type": "stream",
     "text": [
      "✅ false / 20201126_General_048_DOS_A_M30_MM_052 saved\n"
     ]
    },
    {
     "name": "stderr",
     "output_type": "stream",
     "text": [
      "Processing false:  62%|██████▎   | 255/408 [14:49<58:01, 22.76s/it]"
     ]
    },
    {
     "name": "stdout",
     "output_type": "stream",
     "text": [
      "✅ false / 20201126_General_048_DOS_A_M30_MM_054 saved\n"
     ]
    },
    {
     "name": "stderr",
     "output_type": "stream",
     "text": [
      "Processing false:  63%|██████▎   | 256/408 [15:12<57:35, 22.74s/it]"
     ]
    },
    {
     "name": "stdout",
     "output_type": "stream",
     "text": [
      "✅ false / 20201126_General_048_DOS_A_M30_MM_055 saved\n"
     ]
    },
    {
     "name": "stderr",
     "output_type": "stream",
     "text": [
      "Processing false:  63%|██████▎   | 257/408 [15:35<57:51, 22.99s/it]"
     ]
    },
    {
     "name": "stdout",
     "output_type": "stream",
     "text": [
      "✅ false / 20201126_General_048_DOS_A_M30_MM_057 saved\n"
     ]
    },
    {
     "name": "stderr",
     "output_type": "stream",
     "text": [
      "Processing false:  63%|██████▎   | 258/408 [16:01<59:35, 23.84s/it]"
     ]
    },
    {
     "name": "stdout",
     "output_type": "stream",
     "text": [
      "✅ false / 20201126_General_048_DOS_A_M30_MM_058 saved\n"
     ]
    },
    {
     "name": "stderr",
     "output_type": "stream",
     "text": [
      "Processing false:  63%|██████▎   | 259/408 [16:24<58:26, 23.54s/it]"
     ]
    },
    {
     "name": "stdout",
     "output_type": "stream",
     "text": [
      "✅ false / 20201126_General_048_DOS_A_M30_MM_059 saved\n"
     ]
    },
    {
     "name": "stderr",
     "output_type": "stream",
     "text": [
      "Processing false:  64%|██████▎   | 260/408 [16:47<58:02, 23.53s/it]"
     ]
    },
    {
     "name": "stdout",
     "output_type": "stream",
     "text": [
      "✅ false / 20201126_General_048_DOS_A_M30_MM_062 saved\n"
     ]
    },
    {
     "name": "stderr",
     "output_type": "stream",
     "text": [
      "Processing false:  64%|██████▍   | 261/408 [17:09<56:34, 23.09s/it]"
     ]
    },
    {
     "name": "stdout",
     "output_type": "stream",
     "text": [
      "✅ false / 20201126_General_048_DOS_A_M30_MM_063 saved\n"
     ]
    },
    {
     "name": "stderr",
     "output_type": "stream",
     "text": [
      "Processing false:  64%|██████▍   | 262/408 [17:33<56:19, 23.15s/it]"
     ]
    },
    {
     "name": "stdout",
     "output_type": "stream",
     "text": [
      "✅ false / 20201126_General_048_DOS_A_M30_MM_066 saved\n"
     ]
    },
    {
     "name": "stderr",
     "output_type": "stream",
     "text": [
      "Processing false:  64%|██████▍   | 263/408 [17:55<55:04, 22.79s/it]"
     ]
    },
    {
     "name": "stdout",
     "output_type": "stream",
     "text": [
      "✅ false / 20201126_General_048_DOS_A_M30_MM_067 saved\n"
     ]
    },
    {
     "name": "stderr",
     "output_type": "stream",
     "text": [
      "Processing false:  65%|██████▍   | 264/408 [18:17<54:07, 22.55s/it]"
     ]
    },
    {
     "name": "stdout",
     "output_type": "stream",
     "text": [
      "✅ false / 20201126_General_048_DOS_A_M30_MM_069 saved\n"
     ]
    },
    {
     "name": "stderr",
     "output_type": "stream",
     "text": [
      "Processing false:  65%|██████▍   | 265/408 [18:41<55:23, 23.24s/it]"
     ]
    },
    {
     "name": "stdout",
     "output_type": "stream",
     "text": [
      "✅ false / 20201126_General_048_DOS_A_M30_MM_070 saved\n"
     ]
    },
    {
     "name": "stderr",
     "output_type": "stream",
     "text": [
      "Processing false:  65%|██████▌   | 266/408 [19:08<57:33, 24.32s/it]"
     ]
    },
    {
     "name": "stdout",
     "output_type": "stream",
     "text": [
      "✅ false / 20201130_General_058_DOS_A_M30_MM_001 saved\n"
     ]
    },
    {
     "name": "stderr",
     "output_type": "stream",
     "text": [
      "Processing false:  65%|██████▌   | 267/408 [19:37<59:59, 25.53s/it]"
     ]
    },
    {
     "name": "stdout",
     "output_type": "stream",
     "text": [
      "✅ false / 20201130_General_058_DOS_A_M30_MM_002 saved\n"
     ]
    },
    {
     "name": "stderr",
     "output_type": "stream",
     "text": [
      "Processing false:  66%|██████▌   | 268/408 [20:06<1:02:17, 26.69s/it]"
     ]
    },
    {
     "name": "stdout",
     "output_type": "stream",
     "text": [
      "✅ false / 20201130_General_058_DOS_A_M30_MM_003 saved\n"
     ]
    },
    {
     "name": "stderr",
     "output_type": "stream",
     "text": [
      "Processing false:  66%|██████▌   | 269/408 [20:32<1:00:58, 26.32s/it]"
     ]
    },
    {
     "name": "stdout",
     "output_type": "stream",
     "text": [
      "✅ false / 20201130_General_058_DOS_A_M30_MM_004 saved\n"
     ]
    },
    {
     "name": "stderr",
     "output_type": "stream",
     "text": [
      "Processing false:  66%|██████▌   | 270/408 [20:58<1:00:44, 26.41s/it]"
     ]
    },
    {
     "name": "stdout",
     "output_type": "stream",
     "text": [
      "✅ false / 20201130_General_058_DOS_A_M30_MM_007 saved\n"
     ]
    },
    {
     "name": "stderr",
     "output_type": "stream",
     "text": [
      "Processing false:  66%|██████▋   | 271/408 [21:23<59:01, 25.85s/it]  "
     ]
    },
    {
     "name": "stdout",
     "output_type": "stream",
     "text": [
      "✅ false / 20201130_General_058_DOS_A_M30_MM_008 saved\n"
     ]
    },
    {
     "name": "stderr",
     "output_type": "stream",
     "text": [
      "Processing false:  67%|██████▋   | 272/408 [21:46<56:50, 25.08s/it]"
     ]
    },
    {
     "name": "stdout",
     "output_type": "stream",
     "text": [
      "✅ false / 20201130_General_058_DOS_A_M30_MM_009 saved\n"
     ]
    },
    {
     "name": "stderr",
     "output_type": "stream",
     "text": [
      "Processing false:  67%|██████▋   | 273/408 [22:15<59:00, 26.23s/it]"
     ]
    },
    {
     "name": "stdout",
     "output_type": "stream",
     "text": [
      "✅ false / 20201130_General_058_DOS_A_M30_MM_012 saved\n"
     ]
    },
    {
     "name": "stderr",
     "output_type": "stream",
     "text": [
      "Processing false:  67%|██████▋   | 274/408 [22:41<58:28, 26.18s/it]"
     ]
    },
    {
     "name": "stdout",
     "output_type": "stream",
     "text": [
      "✅ false / 20201130_General_058_DOS_A_M30_MM_013 saved\n"
     ]
    },
    {
     "name": "stderr",
     "output_type": "stream",
     "text": [
      "Processing false:  67%|██████▋   | 275/408 [23:09<59:24, 26.80s/it]"
     ]
    },
    {
     "name": "stdout",
     "output_type": "stream",
     "text": [
      "✅ false / 20201130_General_058_DOS_A_M30_MM_014 saved\n"
     ]
    },
    {
     "name": "stderr",
     "output_type": "stream",
     "text": [
      "Processing false:  68%|██████▊   | 276/408 [23:37<59:33, 27.07s/it]"
     ]
    },
    {
     "name": "stdout",
     "output_type": "stream",
     "text": [
      "✅ false / 20201130_General_058_DOS_A_M30_MM_015 saved\n"
     ]
    },
    {
     "name": "stderr",
     "output_type": "stream",
     "text": [
      "Processing false:  68%|██████▊   | 277/408 [24:03<58:44, 26.90s/it]"
     ]
    },
    {
     "name": "stdout",
     "output_type": "stream",
     "text": [
      "✅ false / 20201130_General_058_DOS_A_M30_MM_017 saved\n"
     ]
    },
    {
     "name": "stderr",
     "output_type": "stream",
     "text": [
      "Processing false:  68%|██████▊   | 278/408 [24:32<59:12, 27.33s/it]"
     ]
    },
    {
     "name": "stdout",
     "output_type": "stream",
     "text": [
      "✅ false / 20201130_General_058_DOS_A_M30_MM_018 saved\n"
     ]
    },
    {
     "name": "stderr",
     "output_type": "stream",
     "text": [
      "Processing false:  68%|██████▊   | 279/408 [25:01<59:51, 27.84s/it]"
     ]
    },
    {
     "name": "stdout",
     "output_type": "stream",
     "text": [
      "✅ false / 20201130_General_058_DOS_A_M30_MM_022 saved\n"
     ]
    },
    {
     "name": "stderr",
     "output_type": "stream",
     "text": [
      "Processing false:  69%|██████▊   | 280/408 [25:28<58:56, 27.63s/it]"
     ]
    },
    {
     "name": "stdout",
     "output_type": "stream",
     "text": [
      "✅ false / 20201130_General_058_DOS_A_M30_MM_023 saved\n"
     ]
    },
    {
     "name": "stderr",
     "output_type": "stream",
     "text": [
      "Processing false:  69%|██████▉   | 281/408 [25:58<59:54, 28.30s/it]"
     ]
    },
    {
     "name": "stdout",
     "output_type": "stream",
     "text": [
      "✅ false / 20201130_General_058_DOS_A_M30_MM_025 saved\n"
     ]
    },
    {
     "name": "stderr",
     "output_type": "stream",
     "text": [
      "Processing false:  69%|██████▉   | 282/408 [26:24<57:55, 27.58s/it]"
     ]
    },
    {
     "name": "stdout",
     "output_type": "stream",
     "text": [
      "✅ false / 20201130_General_058_DOS_A_M30_MM_026 saved\n"
     ]
    },
    {
     "name": "stderr",
     "output_type": "stream",
     "text": [
      "Processing false:  69%|██████▉   | 283/408 [26:50<56:33, 27.15s/it]"
     ]
    },
    {
     "name": "stdout",
     "output_type": "stream",
     "text": [
      "✅ false / 20201130_General_058_DOS_A_M30_MM_027 saved\n"
     ]
    },
    {
     "name": "stderr",
     "output_type": "stream",
     "text": [
      "Processing false:  70%|██████▉   | 284/408 [27:19<57:12, 27.68s/it]"
     ]
    },
    {
     "name": "stdout",
     "output_type": "stream",
     "text": [
      "✅ false / 20201130_General_058_DOS_A_M30_MM_031 saved\n"
     ]
    },
    {
     "name": "stderr",
     "output_type": "stream",
     "text": [
      "Processing false:  70%|██████▉   | 285/408 [27:47<57:07, 27.86s/it]"
     ]
    },
    {
     "name": "stdout",
     "output_type": "stream",
     "text": [
      "✅ false / 20201130_General_058_DOS_A_M30_MM_032 saved\n"
     ]
    },
    {
     "name": "stderr",
     "output_type": "stream",
     "text": [
      "Processing false:  70%|███████   | 286/408 [28:18<58:24, 28.73s/it]"
     ]
    },
    {
     "name": "stdout",
     "output_type": "stream",
     "text": [
      "✅ false / 20201130_General_058_DOS_A_M30_MM_033 saved\n"
     ]
    },
    {
     "name": "stderr",
     "output_type": "stream",
     "text": [
      "Processing false:  70%|███████   | 287/408 [28:47<58:30, 29.01s/it]"
     ]
    },
    {
     "name": "stdout",
     "output_type": "stream",
     "text": [
      "✅ false / 20201130_General_058_DOS_A_M30_MM_034 saved\n"
     ]
    },
    {
     "name": "stderr",
     "output_type": "stream",
     "text": [
      "Processing false:  71%|███████   | 288/408 [29:16<57:35, 28.80s/it]"
     ]
    },
    {
     "name": "stdout",
     "output_type": "stream",
     "text": [
      "✅ false / 20201130_General_058_DOS_A_M30_MM_036 saved\n"
     ]
    },
    {
     "name": "stderr",
     "output_type": "stream",
     "text": [
      "Processing false:  71%|███████   | 289/408 [29:44<56:42, 28.59s/it]"
     ]
    },
    {
     "name": "stdout",
     "output_type": "stream",
     "text": [
      "✅ false / 20201130_General_058_DOS_A_M30_MM_039 saved\n"
     ]
    },
    {
     "name": "stderr",
     "output_type": "stream",
     "text": [
      "Processing false:  71%|███████   | 290/408 [30:07<52:46, 26.84s/it]"
     ]
    },
    {
     "name": "stdout",
     "output_type": "stream",
     "text": [
      "✅ false / 20201130_General_058_DOS_A_M30_MM_040 saved\n"
     ]
    },
    {
     "name": "stderr",
     "output_type": "stream",
     "text": [
      "Processing false:  71%|███████▏  | 291/408 [30:30<50:03, 25.67s/it]"
     ]
    },
    {
     "name": "stdout",
     "output_type": "stream",
     "text": [
      "✅ false / 20201130_General_058_DOS_A_M30_MM_041 saved\n"
     ]
    },
    {
     "name": "stderr",
     "output_type": "stream",
     "text": [
      "Processing false:  72%|███████▏  | 292/408 [30:54<49:05, 25.39s/it]"
     ]
    },
    {
     "name": "stdout",
     "output_type": "stream",
     "text": [
      "✅ false / 20201130_General_058_DOS_A_M30_MM_042 saved\n"
     ]
    },
    {
     "name": "stderr",
     "output_type": "stream",
     "text": [
      "Processing false:  72%|███████▏  | 293/408 [31:24<51:12, 26.72s/it]"
     ]
    },
    {
     "name": "stdout",
     "output_type": "stream",
     "text": [
      "✅ false / 20201130_General_058_DOS_A_M30_MM_045 saved\n"
     ]
    },
    {
     "name": "stderr",
     "output_type": "stream",
     "text": [
      "Processing false:  72%|███████▏  | 294/408 [31:49<49:54, 26.27s/it]"
     ]
    },
    {
     "name": "stdout",
     "output_type": "stream",
     "text": [
      "✅ false / 20201130_General_058_DOS_A_M30_MM_046 saved\n"
     ]
    },
    {
     "name": "stderr",
     "output_type": "stream",
     "text": [
      "Processing false:  72%|███████▏  | 295/408 [32:17<50:21, 26.74s/it]"
     ]
    },
    {
     "name": "stdout",
     "output_type": "stream",
     "text": [
      "✅ false / 20201130_General_058_DOS_A_M30_MM_047 saved\n"
     ]
    },
    {
     "name": "stderr",
     "output_type": "stream",
     "text": [
      "Processing false:  73%|███████▎  | 296/408 [32:41<48:03, 25.74s/it]"
     ]
    },
    {
     "name": "stdout",
     "output_type": "stream",
     "text": [
      "✅ false / 20201130_General_058_DOS_A_M30_MM_048 saved\n"
     ]
    },
    {
     "name": "stderr",
     "output_type": "stream",
     "text": [
      "Processing false:  73%|███████▎  | 297/408 [33:08<48:48, 26.39s/it]"
     ]
    },
    {
     "name": "stdout",
     "output_type": "stream",
     "text": [
      "✅ false / 20201130_General_058_DOS_A_M30_MM_050 saved\n"
     ]
    },
    {
     "name": "stderr",
     "output_type": "stream",
     "text": [
      "Processing false:  73%|███████▎  | 298/408 [33:35<48:30, 26.46s/it]"
     ]
    },
    {
     "name": "stdout",
     "output_type": "stream",
     "text": [
      "✅ false / 20201130_General_058_DOS_A_M30_MM_051 saved\n"
     ]
    },
    {
     "name": "stderr",
     "output_type": "stream",
     "text": [
      "Processing false:  73%|███████▎  | 299/408 [34:09<52:04, 28.67s/it]"
     ]
    },
    {
     "name": "stdout",
     "output_type": "stream",
     "text": [
      "✅ false / 20201130_General_058_DOS_A_M30_MM_053 saved\n"
     ]
    },
    {
     "name": "stderr",
     "output_type": "stream",
     "text": [
      "Processing false:  74%|███████▎  | 300/408 [34:35<50:00, 27.79s/it]"
     ]
    },
    {
     "name": "stdout",
     "output_type": "stream",
     "text": [
      "✅ false / 20201130_General_058_DOS_A_M30_MM_054 saved\n"
     ]
    },
    {
     "name": "stderr",
     "output_type": "stream",
     "text": [
      "Processing false:  74%|███████▍  | 301/408 [34:58<47:11, 26.46s/it]"
     ]
    },
    {
     "name": "stdout",
     "output_type": "stream",
     "text": [
      "✅ false / 20201130_General_058_DOS_A_M30_MM_055 saved\n"
     ]
    },
    {
     "name": "stderr",
     "output_type": "stream",
     "text": [
      "Processing false:  74%|███████▍  | 302/408 [35:23<45:52, 25.97s/it]"
     ]
    },
    {
     "name": "stdout",
     "output_type": "stream",
     "text": [
      "✅ false / 20201130_General_058_DOS_A_M30_MM_056 saved\n"
     ]
    },
    {
     "name": "stderr",
     "output_type": "stream",
     "text": [
      "Processing false:  74%|███████▍  | 303/408 [35:49<45:44, 26.14s/it]"
     ]
    },
    {
     "name": "stdout",
     "output_type": "stream",
     "text": [
      "✅ false / 20201130_General_058_DOS_A_M30_MM_059 saved\n"
     ]
    },
    {
     "name": "stderr",
     "output_type": "stream",
     "text": [
      "Processing false:  75%|███████▍  | 304/408 [36:16<45:27, 26.23s/it]"
     ]
    },
    {
     "name": "stdout",
     "output_type": "stream",
     "text": [
      "✅ false / 20201130_General_058_DOS_A_M30_MM_060 saved\n"
     ]
    },
    {
     "name": "stderr",
     "output_type": "stream",
     "text": [
      "Processing false:  75%|███████▍  | 305/408 [36:41<44:33, 25.96s/it]"
     ]
    },
    {
     "name": "stdout",
     "output_type": "stream",
     "text": [
      "✅ false / 20201130_General_058_DOS_A_M30_MM_064 saved\n"
     ]
    },
    {
     "name": "stderr",
     "output_type": "stream",
     "text": [
      "Processing false:  75%|███████▌  | 306/408 [37:11<46:13, 27.19s/it]"
     ]
    },
    {
     "name": "stdout",
     "output_type": "stream",
     "text": [
      "✅ false / 20201130_General_058_DOS_A_M30_MM_067 saved\n"
     ]
    },
    {
     "name": "stderr",
     "output_type": "stream",
     "text": [
      "Processing false:  75%|███████▌  | 307/408 [37:37<44:49, 26.63s/it]"
     ]
    },
    {
     "name": "stdout",
     "output_type": "stream",
     "text": [
      "✅ false / 20201130_General_058_DOS_A_M30_MM_068 saved\n"
     ]
    },
    {
     "name": "stderr",
     "output_type": "stream",
     "text": [
      "Processing false:  75%|███████▌  | 308/408 [38:06<46:01, 27.61s/it]"
     ]
    },
    {
     "name": "stdout",
     "output_type": "stream",
     "text": [
      "✅ false / 20201130_General_058_DOS_A_M30_MM_071 saved\n"
     ]
    },
    {
     "name": "stderr",
     "output_type": "stream",
     "text": [
      "Processing false:  76%|███████▌  | 309/408 [38:32<44:41, 27.09s/it]"
     ]
    },
    {
     "name": "stdout",
     "output_type": "stream",
     "text": [
      "✅ false / 20201130_General_058_DOS_A_M30_MM_072 saved\n"
     ]
    },
    {
     "name": "stderr",
     "output_type": "stream",
     "text": [
      "Processing false:  76%|███████▌  | 310/408 [38:56<42:23, 25.95s/it]"
     ]
    },
    {
     "name": "stdout",
     "output_type": "stream",
     "text": [
      "✅ false / 20201130_General_058_DOS_A_M30_MM_073 saved\n"
     ]
    },
    {
     "name": "stderr",
     "output_type": "stream",
     "text": [
      "Processing false:  76%|███████▌  | 311/408 [39:23<42:31, 26.31s/it]"
     ]
    },
    {
     "name": "stdout",
     "output_type": "stream",
     "text": [
      "✅ false / 20201130_General_058_DOS_A_M30_MM_076 saved\n"
     ]
    },
    {
     "name": "stderr",
     "output_type": "stream",
     "text": [
      "Processing false:  76%|███████▋  | 312/408 [39:52<43:40, 27.29s/it]"
     ]
    },
    {
     "name": "stdout",
     "output_type": "stream",
     "text": [
      "✅ false / 20201130_General_058_DOS_A_M30_MM_077 saved\n"
     ]
    },
    {
     "name": "stderr",
     "output_type": "stream",
     "text": [
      "Processing false:  77%|███████▋  | 313/408 [40:19<42:59, 27.16s/it]"
     ]
    },
    {
     "name": "stdout",
     "output_type": "stream",
     "text": [
      "✅ false / 20201130_General_058_DOS_A_M30_MM_080 saved\n"
     ]
    },
    {
     "name": "stderr",
     "output_type": "stream",
     "text": [
      "Processing false:  77%|███████▋  | 314/408 [40:47<42:41, 27.25s/it]"
     ]
    },
    {
     "name": "stdout",
     "output_type": "stream",
     "text": [
      "✅ false / 20201130_General_058_DOS_A_M30_MM_081 saved\n"
     ]
    },
    {
     "name": "stderr",
     "output_type": "stream",
     "text": [
      "Processing false:  77%|███████▋  | 315/408 [41:18<44:04, 28.43s/it]"
     ]
    },
    {
     "name": "stdout",
     "output_type": "stream",
     "text": [
      "✅ false / 20201202_General_065_DOC_A_M40_MM_001 saved\n"
     ]
    },
    {
     "name": "stderr",
     "output_type": "stream",
     "text": [
      "Processing false:  77%|███████▋  | 316/408 [41:45<43:11, 28.16s/it]"
     ]
    },
    {
     "name": "stdout",
     "output_type": "stream",
     "text": [
      "✅ false / 20201202_General_065_DOC_A_M40_MM_002 saved\n"
     ]
    },
    {
     "name": "stderr",
     "output_type": "stream",
     "text": [
      "Processing false:  78%|███████▊  | 317/408 [42:12<41:55, 27.65s/it]"
     ]
    },
    {
     "name": "stdout",
     "output_type": "stream",
     "text": [
      "✅ false / 20201202_General_065_DOC_A_M40_MM_003 saved\n"
     ]
    },
    {
     "name": "stderr",
     "output_type": "stream",
     "text": [
      "Processing false:  78%|███████▊  | 318/408 [42:38<40:49, 27.21s/it]"
     ]
    },
    {
     "name": "stdout",
     "output_type": "stream",
     "text": [
      "✅ false / 20201202_General_065_DOC_A_M40_MM_004 saved\n"
     ]
    },
    {
     "name": "stderr",
     "output_type": "stream",
     "text": [
      "Processing false:  78%|███████▊  | 319/408 [43:03<39:22, 26.55s/it]"
     ]
    },
    {
     "name": "stdout",
     "output_type": "stream",
     "text": [
      "✅ false / 20201202_General_065_DOC_A_M40_MM_006 saved\n"
     ]
    },
    {
     "name": "stderr",
     "output_type": "stream",
     "text": [
      "Processing false:  78%|███████▊  | 320/408 [43:31<39:42, 27.07s/it]"
     ]
    },
    {
     "name": "stdout",
     "output_type": "stream",
     "text": [
      "✅ false / 20201202_General_065_DOC_A_M40_MM_007 saved\n"
     ]
    },
    {
     "name": "stderr",
     "output_type": "stream",
     "text": [
      "Processing false:  79%|███████▊  | 321/408 [43:55<37:50, 26.10s/it]"
     ]
    },
    {
     "name": "stdout",
     "output_type": "stream",
     "text": [
      "✅ false / 20201202_General_065_DOC_A_M40_MM_008 saved\n"
     ]
    },
    {
     "name": "stderr",
     "output_type": "stream",
     "text": [
      "Processing false:  79%|███████▉  | 322/408 [44:26<39:21, 27.46s/it]"
     ]
    },
    {
     "name": "stdout",
     "output_type": "stream",
     "text": [
      "✅ false / 20201202_General_065_DOC_A_M40_MM_011 saved\n"
     ]
    },
    {
     "name": "stderr",
     "output_type": "stream",
     "text": [
      "Processing false:  79%|███████▉  | 323/408 [44:52<38:29, 27.18s/it]"
     ]
    },
    {
     "name": "stdout",
     "output_type": "stream",
     "text": [
      "✅ false / 20201202_General_065_DOC_A_M40_MM_012 saved\n"
     ]
    },
    {
     "name": "stderr",
     "output_type": "stream",
     "text": [
      "Processing false:  79%|███████▉  | 324/408 [45:21<38:46, 27.70s/it]"
     ]
    },
    {
     "name": "stdout",
     "output_type": "stream",
     "text": [
      "✅ false / 20201202_General_065_DOC_A_M40_MM_013 saved\n"
     ]
    },
    {
     "name": "stderr",
     "output_type": "stream",
     "text": [
      "Processing false:  80%|███████▉  | 325/408 [45:53<39:53, 28.84s/it]"
     ]
    },
    {
     "name": "stdout",
     "output_type": "stream",
     "text": [
      "✅ false / 20201202_General_065_DOC_A_M40_MM_016 saved\n"
     ]
    },
    {
     "name": "stderr",
     "output_type": "stream",
     "text": [
      "Processing false:  80%|███████▉  | 326/408 [46:23<40:05, 29.33s/it]"
     ]
    },
    {
     "name": "stdout",
     "output_type": "stream",
     "text": [
      "✅ false / 20201202_General_065_DOC_A_M40_MM_017 saved\n"
     ]
    },
    {
     "name": "stderr",
     "output_type": "stream",
     "text": [
      "Processing false:  80%|████████  | 327/408 [46:49<37:59, 28.15s/it]"
     ]
    },
    {
     "name": "stdout",
     "output_type": "stream",
     "text": [
      "✅ false / 20201202_General_065_DOC_A_M40_MM_018 saved\n"
     ]
    },
    {
     "name": "stderr",
     "output_type": "stream",
     "text": [
      "Processing false:  80%|████████  | 328/408 [47:22<39:28, 29.60s/it]"
     ]
    },
    {
     "name": "stdout",
     "output_type": "stream",
     "text": [
      "✅ false / 20201202_General_065_DOC_A_M40_MM_021 saved\n"
     ]
    },
    {
     "name": "stderr",
     "output_type": "stream",
     "text": [
      "Processing false:  81%|████████  | 329/408 [47:54<40:14, 30.56s/it]"
     ]
    },
    {
     "name": "stdout",
     "output_type": "stream",
     "text": [
      "✅ false / 20201202_General_065_DOC_A_M40_MM_022 saved\n"
     ]
    },
    {
     "name": "stderr",
     "output_type": "stream",
     "text": [
      "Processing false:  81%|████████  | 330/408 [48:20<37:37, 28.95s/it]"
     ]
    },
    {
     "name": "stdout",
     "output_type": "stream",
     "text": [
      "✅ false / 20201202_General_065_DOC_A_M40_MM_023 saved\n"
     ]
    },
    {
     "name": "stderr",
     "output_type": "stream",
     "text": [
      "Processing false:  81%|████████  | 331/408 [48:50<37:45, 29.42s/it]"
     ]
    },
    {
     "name": "stdout",
     "output_type": "stream",
     "text": [
      "✅ false / 20201202_General_065_DOC_A_M40_MM_026 saved\n"
     ]
    },
    {
     "name": "stderr",
     "output_type": "stream",
     "text": [
      "Processing false:  81%|████████▏ | 332/408 [49:23<38:33, 30.44s/it]"
     ]
    },
    {
     "name": "stdout",
     "output_type": "stream",
     "text": [
      "✅ false / 20201202_General_065_DOC_A_M40_MM_027 saved\n"
     ]
    },
    {
     "name": "stderr",
     "output_type": "stream",
     "text": [
      "Processing false:  82%|████████▏ | 333/408 [49:50<36:38, 29.31s/it]"
     ]
    },
    {
     "name": "stdout",
     "output_type": "stream",
     "text": [
      "✅ false / 20201202_General_065_DOC_A_M40_MM_028 saved\n"
     ]
    },
    {
     "name": "stderr",
     "output_type": "stream",
     "text": [
      "Processing false:  82%|████████▏ | 334/408 [50:18<35:48, 29.03s/it]"
     ]
    },
    {
     "name": "stdout",
     "output_type": "stream",
     "text": [
      "✅ false / 20201202_General_065_DOC_A_M40_MM_031 saved\n"
     ]
    },
    {
     "name": "stderr",
     "output_type": "stream",
     "text": [
      "Processing false:  82%|████████▏ | 335/408 [50:47<35:10, 28.91s/it]"
     ]
    },
    {
     "name": "stdout",
     "output_type": "stream",
     "text": [
      "✅ false / 20201202_General_065_DOC_A_M40_MM_032 saved\n"
     ]
    },
    {
     "name": "stderr",
     "output_type": "stream",
     "text": [
      "Processing false:  82%|████████▏ | 336/408 [51:12<33:17, 27.75s/it]"
     ]
    },
    {
     "name": "stdout",
     "output_type": "stream",
     "text": [
      "✅ false / 20201202_General_065_DOC_A_M40_MM_033 saved\n"
     ]
    },
    {
     "name": "stderr",
     "output_type": "stream",
     "text": [
      "Processing false:  83%|████████▎ | 337/408 [51:41<33:23, 28.22s/it]"
     ]
    },
    {
     "name": "stdout",
     "output_type": "stream",
     "text": [
      "✅ false / 20201202_General_065_DOC_A_M40_MM_035 saved\n"
     ]
    },
    {
     "name": "stderr",
     "output_type": "stream",
     "text": [
      "Processing false:  83%|████████▎ | 338/408 [52:10<33:20, 28.57s/it]"
     ]
    },
    {
     "name": "stdout",
     "output_type": "stream",
     "text": [
      "✅ false / 20201202_General_065_DOC_A_M40_MM_037 saved\n"
     ]
    },
    {
     "name": "stderr",
     "output_type": "stream",
     "text": [
      "Processing false:  83%|████████▎ | 339/408 [52:43<34:07, 29.67s/it]"
     ]
    },
    {
     "name": "stdout",
     "output_type": "stream",
     "text": [
      "✅ false / 20201202_General_065_DOC_A_M40_MM_038 saved\n"
     ]
    },
    {
     "name": "stderr",
     "output_type": "stream",
     "text": [
      "Processing false:  83%|████████▎ | 340/408 [53:12<33:23, 29.47s/it]"
     ]
    },
    {
     "name": "stdout",
     "output_type": "stream",
     "text": [
      "✅ false / 20201202_General_065_DOC_A_M40_MM_039 saved\n"
     ]
    },
    {
     "name": "stderr",
     "output_type": "stream",
     "text": [
      "Processing false:  84%|████████▎ | 341/408 [53:37<31:39, 28.34s/it]"
     ]
    },
    {
     "name": "stdout",
     "output_type": "stream",
     "text": [
      "✅ false / 20201202_General_065_DOC_A_M40_MM_041 saved\n"
     ]
    },
    {
     "name": "stderr",
     "output_type": "stream",
     "text": [
      "Processing false:  84%|████████▍ | 342/408 [54:08<31:49, 28.93s/it]"
     ]
    },
    {
     "name": "stdout",
     "output_type": "stream",
     "text": [
      "✅ false / 20201202_General_065_DOC_A_M40_MM_042 saved\n"
     ]
    },
    {
     "name": "stderr",
     "output_type": "stream",
     "text": [
      "Processing false:  84%|████████▍ | 343/408 [54:38<31:49, 29.38s/it]"
     ]
    },
    {
     "name": "stdout",
     "output_type": "stream",
     "text": [
      "✅ false / 20201202_General_065_DOC_A_M40_MM_043 saved\n"
     ]
    },
    {
     "name": "stderr",
     "output_type": "stream",
     "text": [
      "Processing false:  84%|████████▍ | 344/408 [55:12<32:55, 30.87s/it]"
     ]
    },
    {
     "name": "stdout",
     "output_type": "stream",
     "text": [
      "✅ false / 20201202_General_065_DOC_A_M40_MM_046 saved\n"
     ]
    },
    {
     "name": "stderr",
     "output_type": "stream",
     "text": [
      "Processing false:  85%|████████▍ | 345/408 [55:46<33:18, 31.72s/it]"
     ]
    },
    {
     "name": "stdout",
     "output_type": "stream",
     "text": [
      "✅ false / 20201202_General_065_DOC_A_M40_MM_047 saved\n"
     ]
    },
    {
     "name": "stderr",
     "output_type": "stream",
     "text": [
      "Processing false:  85%|████████▍ | 346/408 [56:18<32:53, 31.83s/it]"
     ]
    },
    {
     "name": "stdout",
     "output_type": "stream",
     "text": [
      "✅ false / 20201202_General_065_DOC_A_M40_MM_048 saved\n"
     ]
    },
    {
     "name": "stderr",
     "output_type": "stream",
     "text": [
      "Processing false:  85%|████████▌ | 347/408 [56:47<31:19, 30.81s/it]"
     ]
    },
    {
     "name": "stdout",
     "output_type": "stream",
     "text": [
      "✅ false / 20201202_General_065_DOC_A_M40_MM_050 saved\n"
     ]
    },
    {
     "name": "stderr",
     "output_type": "stream",
     "text": [
      "Processing false:  85%|████████▌ | 348/408 [57:17<30:49, 30.82s/it]"
     ]
    },
    {
     "name": "stdout",
     "output_type": "stream",
     "text": [
      "✅ false / 20201202_General_065_DOC_A_M40_MM_051 saved\n"
     ]
    },
    {
     "name": "stderr",
     "output_type": "stream",
     "text": [
      "Processing false:  86%|████████▌ | 349/408 [57:46<29:37, 30.12s/it]"
     ]
    },
    {
     "name": "stdout",
     "output_type": "stream",
     "text": [
      "✅ false / 20201202_General_065_DOC_A_M40_MM_052 saved\n"
     ]
    },
    {
     "name": "stderr",
     "output_type": "stream",
     "text": [
      "Processing false:  86%|████████▌ | 350/408 [58:16<29:07, 30.13s/it]"
     ]
    },
    {
     "name": "stdout",
     "output_type": "stream",
     "text": [
      "✅ false / 20201202_General_065_DOC_A_M40_MM_053 saved\n"
     ]
    },
    {
     "name": "stderr",
     "output_type": "stream",
     "text": [
      "Processing false:  86%|████████▌ | 351/408 [58:47<28:51, 30.38s/it]"
     ]
    },
    {
     "name": "stdout",
     "output_type": "stream",
     "text": [
      "✅ false / 20201202_General_065_DOC_A_M40_MM_055 saved\n"
     ]
    },
    {
     "name": "stderr",
     "output_type": "stream",
     "text": [
      "Processing false:  86%|████████▋ | 352/408 [59:13<27:15, 29.21s/it]"
     ]
    },
    {
     "name": "stdout",
     "output_type": "stream",
     "text": [
      "✅ false / 20201202_General_065_DOC_A_M40_MM_056 saved\n"
     ]
    },
    {
     "name": "stderr",
     "output_type": "stream",
     "text": [
      "Processing false:  87%|████████▋ | 353/408 [59:42<26:43, 29.15s/it]"
     ]
    },
    {
     "name": "stdout",
     "output_type": "stream",
     "text": [
      "✅ false / 20201202_General_065_DOC_A_M40_MM_058 saved\n"
     ]
    },
    {
     "name": "stderr",
     "output_type": "stream",
     "text": [
      "Processing false:  87%|████████▋ | 354/408 [1:00:09<25:37, 28.46s/it]"
     ]
    },
    {
     "name": "stdout",
     "output_type": "stream",
     "text": [
      "✅ false / 20201202_General_065_DOC_A_M40_MM_059 saved\n"
     ]
    },
    {
     "name": "stderr",
     "output_type": "stream",
     "text": [
      "Processing false:  87%|████████▋ | 355/408 [1:00:35<24:28, 27.70s/it]"
     ]
    },
    {
     "name": "stdout",
     "output_type": "stream",
     "text": [
      "✅ false / 20201202_General_065_DOC_A_M40_MM_060 saved\n"
     ]
    },
    {
     "name": "stderr",
     "output_type": "stream",
     "text": [
      "Processing false:  87%|████████▋ | 356/408 [1:01:09<25:30, 29.43s/it]"
     ]
    },
    {
     "name": "stdout",
     "output_type": "stream",
     "text": [
      "✅ false / 20201202_General_065_DOC_A_M40_MM_062 saved\n"
     ]
    },
    {
     "name": "stderr",
     "output_type": "stream",
     "text": [
      "Processing false:  88%|████████▊ | 357/408 [1:01:36<24:29, 28.81s/it]"
     ]
    },
    {
     "name": "stdout",
     "output_type": "stream",
     "text": [
      "✅ false / 20201202_General_065_DOC_A_M40_MM_065 saved\n"
     ]
    },
    {
     "name": "stderr",
     "output_type": "stream",
     "text": [
      "Processing false:  88%|████████▊ | 358/408 [1:02:04<23:52, 28.65s/it]"
     ]
    },
    {
     "name": "stdout",
     "output_type": "stream",
     "text": [
      "✅ false / 20201202_General_065_DOC_A_M40_MM_066 saved\n"
     ]
    },
    {
     "name": "stderr",
     "output_type": "stream",
     "text": [
      "Processing false:  88%|████████▊ | 359/408 [1:02:29<22:27, 27.51s/it]"
     ]
    },
    {
     "name": "stdout",
     "output_type": "stream",
     "text": [
      "✅ false / 20201202_General_065_DOC_A_M40_MM_067 saved\n"
     ]
    },
    {
     "name": "stderr",
     "output_type": "stream",
     "text": [
      "Processing false:  88%|████████▊ | 360/408 [1:03:02<23:09, 28.95s/it]"
     ]
    },
    {
     "name": "stdout",
     "output_type": "stream",
     "text": [
      "✅ false / 20201202_General_065_DOC_A_M40_MM_070 saved\n"
     ]
    },
    {
     "name": "stderr",
     "output_type": "stream",
     "text": [
      "Processing false:  88%|████████▊ | 361/408 [1:03:31<22:53, 29.23s/it]"
     ]
    },
    {
     "name": "stdout",
     "output_type": "stream",
     "text": [
      "✅ false / 20201202_General_065_DOC_A_M40_MM_071 saved\n"
     ]
    },
    {
     "name": "stderr",
     "output_type": "stream",
     "text": [
      "Processing false:  89%|████████▊ | 362/408 [1:04:00<22:08, 28.89s/it]"
     ]
    },
    {
     "name": "stdout",
     "output_type": "stream",
     "text": [
      "✅ false / 20201202_General_065_DOC_A_M40_MM_074 saved\n"
     ]
    },
    {
     "name": "stderr",
     "output_type": "stream",
     "text": [
      "Processing false:  89%|████████▉ | 363/408 [1:04:24<20:34, 27.44s/it]"
     ]
    },
    {
     "name": "stdout",
     "output_type": "stream",
     "text": [
      "✅ false / 20201202_General_065_DOC_A_M40_MM_075 saved\n"
     ]
    },
    {
     "name": "stderr",
     "output_type": "stream",
     "text": [
      "Processing false:  89%|████████▉ | 364/408 [1:04:48<19:22, 26.43s/it]"
     ]
    },
    {
     "name": "stdout",
     "output_type": "stream",
     "text": [
      "✅ false / 20201202_General_065_DOC_A_M40_MM_076 saved\n"
     ]
    },
    {
     "name": "stderr",
     "output_type": "stream",
     "text": [
      "Processing false:  89%|████████▉ | 365/408 [1:05:19<19:54, 27.77s/it]"
     ]
    },
    {
     "name": "stdout",
     "output_type": "stream",
     "text": [
      "✅ false / 20201202_General_068_DOS_A_M40_MM_001 saved\n"
     ]
    },
    {
     "name": "stderr",
     "output_type": "stream",
     "text": [
      "Processing false:  90%|████████▉ | 366/408 [1:05:46<19:23, 27.70s/it]"
     ]
    },
    {
     "name": "stdout",
     "output_type": "stream",
     "text": [
      "✅ false / 20201202_General_068_DOS_A_M40_MM_002 saved\n"
     ]
    },
    {
     "name": "stderr",
     "output_type": "stream",
     "text": [
      "Processing false:  90%|████████▉ | 367/408 [1:06:16<19:17, 28.23s/it]"
     ]
    },
    {
     "name": "stdout",
     "output_type": "stream",
     "text": [
      "✅ false / 20201202_General_068_DOS_A_M40_MM_003 saved\n"
     ]
    },
    {
     "name": "stderr",
     "output_type": "stream",
     "text": [
      "Processing false:  90%|█████████ | 368/408 [1:06:42<18:31, 27.78s/it]"
     ]
    },
    {
     "name": "stdout",
     "output_type": "stream",
     "text": [
      "✅ false / 20201202_General_068_DOS_A_M40_MM_004 saved\n"
     ]
    },
    {
     "name": "stderr",
     "output_type": "stream",
     "text": [
      "Processing false:  90%|█████████ | 369/408 [1:07:10<18:04, 27.82s/it]"
     ]
    },
    {
     "name": "stdout",
     "output_type": "stream",
     "text": [
      "✅ false / 20201202_General_068_DOS_A_M40_MM_007 saved\n"
     ]
    },
    {
     "name": "stderr",
     "output_type": "stream",
     "text": [
      "Processing false:  91%|█████████ | 370/408 [1:07:38<17:35, 27.78s/it]"
     ]
    },
    {
     "name": "stdout",
     "output_type": "stream",
     "text": [
      "✅ false / 20201202_General_068_DOS_A_M40_MM_008 saved\n"
     ]
    },
    {
     "name": "stderr",
     "output_type": "stream",
     "text": [
      "Processing false:  91%|█████████ | 371/408 [1:08:05<16:56, 27.46s/it]"
     ]
    },
    {
     "name": "stdout",
     "output_type": "stream",
     "text": [
      "✅ false / 20201202_General_068_DOS_A_M40_MM_009 saved\n"
     ]
    },
    {
     "name": "stderr",
     "output_type": "stream",
     "text": [
      "Processing false:  91%|█████████ | 372/408 [1:08:32<16:27, 27.43s/it]"
     ]
    },
    {
     "name": "stdout",
     "output_type": "stream",
     "text": [
      "✅ false / 20201202_General_068_DOS_A_M40_MM_010 saved\n"
     ]
    },
    {
     "name": "stderr",
     "output_type": "stream",
     "text": [
      "Processing false:  91%|█████████▏| 373/408 [1:09:02<16:30, 28.29s/it]"
     ]
    },
    {
     "name": "stdout",
     "output_type": "stream",
     "text": [
      "✅ false / 20201202_General_068_DOS_A_M40_MM_012 saved\n"
     ]
    },
    {
     "name": "stderr",
     "output_type": "stream",
     "text": [
      "Processing false:  92%|█████████▏| 374/408 [1:09:32<16:21, 28.87s/it]"
     ]
    },
    {
     "name": "stdout",
     "output_type": "stream",
     "text": [
      "✅ false / 20201202_General_068_DOS_A_M40_MM_013 saved\n"
     ]
    },
    {
     "name": "stderr",
     "output_type": "stream",
     "text": [
      "Processing false:  92%|█████████▏| 375/408 [1:10:01<15:46, 28.69s/it]"
     ]
    },
    {
     "name": "stdout",
     "output_type": "stream",
     "text": [
      "✅ false / 20201202_General_068_DOS_A_M40_MM_017 saved\n"
     ]
    },
    {
     "name": "stderr",
     "output_type": "stream",
     "text": [
      "Processing false:  92%|█████████▏| 376/408 [1:10:28<15:08, 28.38s/it]"
     ]
    },
    {
     "name": "stdout",
     "output_type": "stream",
     "text": [
      "✅ false / 20201202_General_068_DOS_A_M40_MM_018 saved\n"
     ]
    },
    {
     "name": "stderr",
     "output_type": "stream",
     "text": [
      "Processing false:  92%|█████████▏| 377/408 [1:10:58<14:50, 28.73s/it]"
     ]
    },
    {
     "name": "stdout",
     "output_type": "stream",
     "text": [
      "✅ false / 20201202_General_068_DOS_A_M40_MM_020 saved\n"
     ]
    },
    {
     "name": "stderr",
     "output_type": "stream",
     "text": [
      "Processing false:  93%|█████████▎| 378/408 [1:11:25<14:10, 28.34s/it]"
     ]
    },
    {
     "name": "stdout",
     "output_type": "stream",
     "text": [
      "✅ false / 20201202_General_068_DOS_A_M40_MM_021 saved\n"
     ]
    },
    {
     "name": "stderr",
     "output_type": "stream",
     "text": [
      "Processing false:  93%|█████████▎| 379/408 [1:11:53<13:32, 28.01s/it]"
     ]
    },
    {
     "name": "stdout",
     "output_type": "stream",
     "text": [
      "✅ false / 20201202_General_068_DOS_A_M40_MM_022 saved\n"
     ]
    },
    {
     "name": "stderr",
     "output_type": "stream",
     "text": [
      "Processing false:  93%|█████████▎| 380/408 [1:12:24<13:28, 28.89s/it]"
     ]
    },
    {
     "name": "stdout",
     "output_type": "stream",
     "text": [
      "✅ false / 20201202_General_068_DOS_A_M40_MM_025 saved\n"
     ]
    },
    {
     "name": "stderr",
     "output_type": "stream",
     "text": [
      "Processing false:  93%|█████████▎| 381/408 [1:12:50<12:44, 28.30s/it]"
     ]
    },
    {
     "name": "stdout",
     "output_type": "stream",
     "text": [
      "✅ false / 20201202_General_068_DOS_A_M40_MM_026 saved\n"
     ]
    },
    {
     "name": "stderr",
     "output_type": "stream",
     "text": [
      "Processing false:  94%|█████████▎| 382/408 [1:13:22<12:41, 29.27s/it]"
     ]
    },
    {
     "name": "stdout",
     "output_type": "stream",
     "text": [
      "✅ false / 20201202_General_068_DOS_A_M40_MM_030 saved\n"
     ]
    },
    {
     "name": "stderr",
     "output_type": "stream",
     "text": [
      "Processing false:  94%|█████████▍| 383/408 [1:13:51<12:09, 29.19s/it]"
     ]
    },
    {
     "name": "stdout",
     "output_type": "stream",
     "text": [
      "✅ false / 20201202_General_068_DOS_A_M40_MM_031 saved\n"
     ]
    },
    {
     "name": "stderr",
     "output_type": "stream",
     "text": [
      "Processing false:  94%|█████████▍| 384/408 [1:14:17<11:19, 28.31s/it]"
     ]
    },
    {
     "name": "stdout",
     "output_type": "stream",
     "text": [
      "✅ false / 20201202_General_068_DOS_A_M40_MM_032 saved\n"
     ]
    },
    {
     "name": "stderr",
     "output_type": "stream",
     "text": [
      "Processing false:  94%|█████████▍| 385/408 [1:14:47<10:58, 28.64s/it]"
     ]
    },
    {
     "name": "stdout",
     "output_type": "stream",
     "text": [
      "✅ false / 20201202_General_068_DOS_A_M40_MM_033 saved\n"
     ]
    },
    {
     "name": "stderr",
     "output_type": "stream",
     "text": [
      "Processing false:  95%|█████████▍| 386/408 [1:15:17<10:42, 29.20s/it]"
     ]
    },
    {
     "name": "stdout",
     "output_type": "stream",
     "text": [
      "✅ false / 20201202_General_068_DOS_A_M40_MM_035 saved\n"
     ]
    },
    {
     "name": "stderr",
     "output_type": "stream",
     "text": [
      "Processing false:  95%|█████████▍| 387/408 [1:15:46<10:11, 29.12s/it]"
     ]
    },
    {
     "name": "stdout",
     "output_type": "stream",
     "text": [
      "✅ false / 20201202_General_068_DOS_A_M40_MM_036 saved\n"
     ]
    },
    {
     "name": "stderr",
     "output_type": "stream",
     "text": [
      "Processing false:  95%|█████████▌| 388/408 [1:16:12<09:21, 28.06s/it]"
     ]
    },
    {
     "name": "stdout",
     "output_type": "stream",
     "text": [
      "✅ false / 20201202_General_068_DOS_A_M40_MM_037 saved\n"
     ]
    },
    {
     "name": "stderr",
     "output_type": "stream",
     "text": [
      "Processing false:  95%|█████████▌| 389/408 [1:16:38<08:45, 27.64s/it]"
     ]
    },
    {
     "name": "stdout",
     "output_type": "stream",
     "text": [
      "✅ false / 20201202_General_068_DOS_A_M40_MM_040 saved\n"
     ]
    },
    {
     "name": "stderr",
     "output_type": "stream",
     "text": [
      "Processing false:  96%|█████████▌| 390/408 [1:17:06<08:16, 27.60s/it]"
     ]
    },
    {
     "name": "stdout",
     "output_type": "stream",
     "text": [
      "✅ false / 20201202_General_068_DOS_A_M40_MM_041 saved\n"
     ]
    },
    {
     "name": "stderr",
     "output_type": "stream",
     "text": [
      "Processing false:  96%|█████████▌| 391/408 [1:17:32<07:43, 27.29s/it]"
     ]
    },
    {
     "name": "stdout",
     "output_type": "stream",
     "text": [
      "✅ false / 20201202_General_068_DOS_A_M40_MM_042 saved\n"
     ]
    },
    {
     "name": "stderr",
     "output_type": "stream",
     "text": [
      "Processing false:  96%|█████████▌| 392/408 [1:18:02<07:25, 27.85s/it]"
     ]
    },
    {
     "name": "stdout",
     "output_type": "stream",
     "text": [
      "✅ false / 20201202_General_068_DOS_A_M40_MM_045 saved\n"
     ]
    },
    {
     "name": "stderr",
     "output_type": "stream",
     "text": [
      "Processing false:  96%|█████████▋| 393/408 [1:18:28<06:52, 27.48s/it]"
     ]
    },
    {
     "name": "stdout",
     "output_type": "stream",
     "text": [
      "✅ false / 20201202_General_068_DOS_A_M40_MM_046 saved\n"
     ]
    },
    {
     "name": "stderr",
     "output_type": "stream",
     "text": [
      "Processing false:  97%|█████████▋| 394/408 [1:18:55<06:21, 27.23s/it]"
     ]
    },
    {
     "name": "stdout",
     "output_type": "stream",
     "text": [
      "✅ false / 20201202_General_068_DOS_A_M40_MM_049 saved\n"
     ]
    },
    {
     "name": "stderr",
     "output_type": "stream",
     "text": [
      "Processing false:  97%|█████████▋| 395/408 [1:19:22<05:53, 27.20s/it]"
     ]
    },
    {
     "name": "stdout",
     "output_type": "stream",
     "text": [
      "✅ false / 20201202_General_068_DOS_A_M40_MM_050 saved\n"
     ]
    },
    {
     "name": "stderr",
     "output_type": "stream",
     "text": [
      "Processing false:  97%|█████████▋| 396/408 [1:19:47<05:19, 26.63s/it]"
     ]
    },
    {
     "name": "stdout",
     "output_type": "stream",
     "text": [
      "✅ false / 20201202_General_068_DOS_A_M40_MM_051 saved\n"
     ]
    },
    {
     "name": "stderr",
     "output_type": "stream",
     "text": [
      "Processing false:  97%|█████████▋| 397/408 [1:20:18<05:05, 27.74s/it]"
     ]
    },
    {
     "name": "stdout",
     "output_type": "stream",
     "text": [
      "✅ false / 20201202_General_068_DOS_A_M40_MM_053 saved\n"
     ]
    },
    {
     "name": "stderr",
     "output_type": "stream",
     "text": [
      "Processing false:  98%|█████████▊| 398/408 [1:20:44<04:32, 27.29s/it]"
     ]
    },
    {
     "name": "stdout",
     "output_type": "stream",
     "text": [
      "✅ false / 20201202_General_068_DOS_A_M40_MM_054 saved\n"
     ]
    },
    {
     "name": "stderr",
     "output_type": "stream",
     "text": [
      "Processing false:  98%|█████████▊| 399/408 [1:21:09<03:58, 26.52s/it]"
     ]
    },
    {
     "name": "stdout",
     "output_type": "stream",
     "text": [
      "✅ false / 20201202_General_068_DOS_A_M40_MM_055 saved\n"
     ]
    },
    {
     "name": "stderr",
     "output_type": "stream",
     "text": [
      "Processing false:  98%|█████████▊| 400/408 [1:21:36<03:33, 26.75s/it]"
     ]
    },
    {
     "name": "stdout",
     "output_type": "stream",
     "text": [
      "✅ false / 20201202_General_068_DOS_A_M40_MM_058 saved\n"
     ]
    },
    {
     "name": "stderr",
     "output_type": "stream",
     "text": [
      "Processing false:  98%|█████████▊| 401/408 [1:22:01<03:04, 26.39s/it]"
     ]
    },
    {
     "name": "stdout",
     "output_type": "stream",
     "text": [
      "✅ false / 20201202_General_068_DOS_A_M40_MM_059 saved\n"
     ]
    },
    {
     "name": "stderr",
     "output_type": "stream",
     "text": [
      "Processing false:  99%|█████████▊| 402/408 [1:22:32<02:46, 27.67s/it]"
     ]
    },
    {
     "name": "stdout",
     "output_type": "stream",
     "text": [
      "✅ false / 20201202_General_068_DOS_A_M40_MM_062 saved\n"
     ]
    },
    {
     "name": "stderr",
     "output_type": "stream",
     "text": [
      "Processing false:  99%|█████████▉| 403/408 [1:22:58<02:16, 27.21s/it]"
     ]
    },
    {
     "name": "stdout",
     "output_type": "stream",
     "text": [
      "✅ false / 20201202_General_068_DOS_A_M40_MM_063 saved\n"
     ]
    },
    {
     "name": "stderr",
     "output_type": "stream",
     "text": [
      "Processing false:  99%|█████████▉| 404/408 [1:23:29<01:52, 28.21s/it]"
     ]
    },
    {
     "name": "stdout",
     "output_type": "stream",
     "text": [
      "✅ false / 20201202_General_068_DOS_A_M40_MM_065 saved\n"
     ]
    },
    {
     "name": "stderr",
     "output_type": "stream",
     "text": [
      "Processing false:  99%|█████████▉| 405/408 [1:23:55<01:23, 27.76s/it]"
     ]
    },
    {
     "name": "stdout",
     "output_type": "stream",
     "text": [
      "✅ false / 20201202_General_068_DOS_A_M40_MM_066 saved\n"
     ]
    },
    {
     "name": "stderr",
     "output_type": "stream",
     "text": [
      "Processing false: 100%|█████████▉| 406/408 [1:24:25<00:56, 28.41s/it]"
     ]
    },
    {
     "name": "stdout",
     "output_type": "stream",
     "text": [
      "✅ false / 20201202_General_068_DOS_A_M40_MM_069 saved\n"
     ]
    },
    {
     "name": "stderr",
     "output_type": "stream",
     "text": [
      "Processing false: 100%|█████████▉| 407/408 [1:24:52<00:27, 27.97s/it]"
     ]
    },
    {
     "name": "stdout",
     "output_type": "stream",
     "text": [
      "✅ false / 20201202_General_068_DOS_A_M40_MM_070 saved\n"
     ]
    },
    {
     "name": "stderr",
     "output_type": "stream",
     "text": [
      "Processing false: 100%|██████████| 408/408 [1:25:18<00:00, 12.55s/it]"
     ]
    },
    {
     "name": "stdout",
     "output_type": "stream",
     "text": [
      "✅ false / 20201202_General_068_DOS_A_M40_MM_074 saved\n"
     ]
    },
    {
     "name": "stderr",
     "output_type": "stream",
     "text": [
      "\n"
     ]
    }
   ],
   "source": [
    "import os\n",
    "import subprocess\n",
    "import json\n",
    "import shutil\n",
    "from pathlib import Path\n",
    "import numpy as np\n",
    "import pandas as pd\n",
    "from tqdm import tqdm\n",
    "from sklearn.cluster import DBSCAN\n",
    "\n",
    "# ✏️ Base 작업 디렉토리 및 서브폴더 목록\n",
    "CUR_DIR = Path(r\"D:\\golfDataset\\dataset\\train\")  # 현재 작업 루트 디렉토리\n",
    "BALANCED_FOLDERS = [\"balanced_true\",\"false\"]   # 처리할 두 가지 서브 디렉토리\n",
    "FPS = 30\n",
    "\n",
    "# OpenPose 설정\n",
    "OPENPOSE_EXE  = Path(r\"C:/openpose/openpose/bin/OpenPoseDemo.exe\")\n",
    "OPENPOSE_ROOT = OPENPOSE_EXE.parent.parent  # …/openpose 폴더\n",
    "PAD_RATIO     = 0.10\n",
    "\n",
    "# Torso Keypoint 인덱스 (Neck, MidHip, RShoulder, LShoulder, RootHip)\n",
    "TORSO_IDXS = [1, 8, 11, 14, 17]\n",
    "# Keypoint 이름 및 CSV 컬럼 생성\n",
    "KP   = [\"Nose\",\"Neck\",\"RShoulder\",\"RElbow\",\"RWrist\",\"LShoulder\",\"LElbow\",\"LWrist\",\n",
    "        \"MidHip\",\"RHip\",\"RKnee\",\"RAnkle\",\"LHip\",\"LKnee\",\"LAnkle\",\"REye\",\"LEye\",\n",
    "        \"REar\",\"LEar\",\"LBigToe\",\"LSmallToe\",\"LHeel\",\"RBigToe\",\"RSmallToe\",\"RHeel\"]\n",
    "COLS = [f\"{n}_{a}\" for n in KP for a in (\"x\",\"y\",\"c\")]\n",
    "\n",
    "# ---------- OpenPose 실행 함수 --------------------------------------\n",
    "def run_openpose(video: Path, out_dir: Path):\n",
    "    \"\"\"OpenPose CLI를 통해 JSON으로 keypoints 추출\"\"\"\n",
    "    out_dir.mkdir(parents=True, exist_ok=True)\n",
    "    cmd = [str(OPENPOSE_EXE),\n",
    "           \"--video\", str(video),\n",
    "           \"--write_json\", str(out_dir),\n",
    "           \"--display\", \"0\", \"--render_pose\", \"0\",\n",
    "           \"--number_people_max\", \"1\",\n",
    "           \"--model_folder\", str(OPENPOSE_ROOT / \"models\")]\n",
    "    subprocess.run(cmd, check=True, cwd=OPENPOSE_ROOT)\n",
    "\n",
    "# ---------- 주요 인물 박스 추출 함수 ---------------------------------\n",
    "def main_person_boxes(json_dir: Path):\n",
    "    centers, boxes = [], []\n",
    "    for jf in sorted(json_dir.glob(\"*.json\")):\n",
    "        data = json.load(open(jf))\n",
    "        people = data.get(\"people\")\n",
    "        if not people:\n",
    "            continue\n",
    "        kps = np.array(people[0][\"pose_keypoints_2d\"]).reshape(-1, 3)\n",
    "        if kps[8, 2] < 0.10:  # MidHip confidence 확인\n",
    "            continue\n",
    "        cx, cy = kps[8, :2]\n",
    "        valid = kps[:, 2] > 0.05\n",
    "        xs, ys = kps[valid, 0], kps[valid, 1]\n",
    "        centers.append([cx, cy])\n",
    "        boxes.append([xs.min(), ys.min(), xs.max(), ys.max()])\n",
    "\n",
    "    if not centers:\n",
    "        return []\n",
    "    centers = np.array(centers)\n",
    "    labels = DBSCAN(eps=100, min_samples=5).fit_predict(centers)\n",
    "    if (labels != -1).any():\n",
    "        main_label = np.bincount(labels[labels != -1]).argmax()\n",
    "    else:\n",
    "        main_label = 0\n",
    "    return [boxes[i] for i, lb in enumerate(labels) if lb == main_label]\n",
    "\n",
    "# ---------- Union Box 계산 함수 ------------------------------------\n",
    "def union_box(box_list):\n",
    "    arr = np.array(box_list)\n",
    "    x1, y1 = arr[:, :2].min(0)\n",
    "    x2, y2 = arr[:, 2:].max(0)\n",
    "    w, h    = x2 - x1, y2 - y1\n",
    "    pad_w   = w * PAD_RATIO\n",
    "    pad_h   = h * PAD_RATIO\n",
    "    return int(x1 - pad_w), int(y1 - pad_h), int(w + 2 * pad_w), int(h + 2 * pad_h)\n",
    "\n",
    "# ---------- FFmpeg Crop 함수 ----------------------------------------\n",
    "def crop_video(src: Path, dst: Path, bbox):\n",
    "    x, y, w, h = bbox\n",
    "\n",
    "    # ▶️ 원본 영상 해상도 확인\n",
    "    import cv2\n",
    "    cap = cv2.VideoCapture(str(src))\n",
    "    orig_w = int(cap.get(cv2.CAP_PROP_FRAME_WIDTH))\n",
    "    orig_h = int(cap.get(cv2.CAP_PROP_FRAME_HEIGHT))\n",
    "    cap.release()\n",
    "\n",
    "    # ✅ crop 범위가 영상 해상도를 초과하지 않도록 조정\n",
    "    if x < 0: x = 0\n",
    "    if y < 0: y = 0\n",
    "    if x + w > orig_w: w = orig_w - x\n",
    "    if y + h > orig_h: h = orig_h - y\n",
    "\n",
    "    # 여전히 잘못된 경우 방어 로직\n",
    "    if w <= 0 or h <= 0:\n",
    "        raise ValueError(f\"❌ Invalid crop size: {(w, h)} for video {src.name}\")\n",
    "\n",
    "    cmd = [\"ffmpeg\", \"-y\", \"-i\", str(src),\n",
    "           \"-filter:v\", f\"crop={w}:{h}:{x}:{y}\",\n",
    "           \"-pix_fmt\", \"yuv420p\", str(dst)]\n",
    "    subprocess.run(cmd, check=True)\n",
    "\n",
    "# ---------- Pose 정규화 함수 ---------------------------------------\n",
    "def normalize_pose(kps):\n",
    "    \"\"\"(25, 3) → (25, 3), MidHip 기준 정규화\"\"\"\n",
    "    if np.isnan(kps).all():\n",
    "        return kps\n",
    "    center = kps[8, :2]  # MidHip\n",
    "    kps[:, :2] -= center\n",
    "    std = np.std(kps[:, :2])\n",
    "    if std > 1e-5:\n",
    "        kps[:, :2] /= std\n",
    "    return kps\n",
    "\n",
    "# ---------- JSON → CSV 변환 함수 ------------------------------------\n",
    "def json_dir_to_csv(json_dir: Path, csv_path: Path):\n",
    "    rows = []\n",
    "    for jf in sorted(json_dir.glob(\"*.json\")):\n",
    "        data = json.load(open(jf))\n",
    "        people = data.get(\"people\")\n",
    "        if not people: \n",
    "            rows.append([np.nan] * len(COLS))\n",
    "        else:\n",
    "            kps = np.array(people[0][\"pose_keypoints_2d\"]).reshape(-1, 3)\n",
    "            kps = normalize_pose(kps)  # ⭐ 정규화 적용 \n",
    "            rows.append(kps.flatten())\n",
    "\n",
    "    pd.DataFrame(rows, columns=COLS).to_csv(csv_path, index=False)\n",
    "\n",
    "# ---------- 전체 파이프라인 함수 -----------------------------------\n",
    "def preprocess_all(root_dir: Path):\n",
    "    VIDEO_DIR      = root_dir / \"video\"\n",
    "    CROP_VIDEO_DIR = root_dir / \"crop_video\"\n",
    "    CROP_KP_DIR    = root_dir / \"crop_keypoint\"\n",
    "    TMP_JSON_DIR   = root_dir / \"_tmp_json\"\n",
    "    for d in [CROP_VIDEO_DIR, CROP_KP_DIR, TMP_JSON_DIR]:\n",
    "        d.mkdir(parents=True, exist_ok=True)\n",
    "\n",
    "    for vid in tqdm(sorted(VIDEO_DIR.glob(\"*.mp4\")), desc=f\"Processing {root_dir.name}\"):\n",
    "        name = vid.stem\n",
    "\n",
    "        # ✅ 이미 처리된 경우 건너뜀\n",
    "        crop_csv  = CROP_KP_DIR / f\"{name}_crop.csv\"\n",
    "        crop_mp4  = CROP_VIDEO_DIR / f\"{name}_crop.mp4\"\n",
    "        if crop_csv.exists() and crop_mp4.exists():\n",
    "            print(f\"⏭️  Skip {name}: already processed.\")\n",
    "            continue\n",
    "\n",
    "        raw_dir = TMP_JSON_DIR / f\"raw_{name}\"\n",
    "        run_openpose(vid, raw_dir)\n",
    "\n",
    "        boxes = main_person_boxes(raw_dir)\n",
    "        if not boxes:\n",
    "            print(f\"⚠️  No valid person in {vid.name}\")\n",
    "            continue\n",
    "        bbox = union_box(boxes)\n",
    "\n",
    "        crop_video(vid, crop_mp4, bbox)\n",
    "\n",
    "        crop_dir = TMP_JSON_DIR / f\"crop_{name}\"\n",
    "        run_openpose(crop_mp4, crop_dir)\n",
    "\n",
    "        json_dir_to_csv(crop_dir, crop_csv)\n",
    "        print(f\"✅ {root_dir.name} / {name} saved\")\n",
    "\n",
    "\n",
    "    # 중간 JSON 삭제가 필요하다면 아래 주석 해제\n",
    "    shutil.rmtree(TMP_JSON_DIR)\n",
    "\n",
    "# ---------- 스크립트 실행부 -----------------------------------------\n",
    "if __name__ == \"__main__\":\n",
    "    for folder in BALANCED_FOLDERS:\n",
    "        root = CUR_DIR / folder\n",
    "        preprocess_all(root)\n"
   ]
  },
  {
   "cell_type": "markdown",
   "id": "2ac2e5ef",
   "metadata": {},
   "source": [
    "# test"
   ]
  },
  {
   "cell_type": "code",
   "execution_count": null,
   "id": "dc0e2c8e",
   "metadata": {},
   "outputs": [],
   "source": [
    "import os\n",
    "import subprocess\n",
    "import json\n",
    "import shutil\n",
    "from pathlib import Path\n",
    "import numpy as np\n",
    "import pandas as pd\n",
    "from tqdm import tqdm\n",
    "from sklearn.cluster import DBSCAN\n",
    "\n",
    "# ✏️ Base 작업 디렉토리 및 서브폴더 목록\n",
    "CUR_DIR = Path(r\"D:\\golfDataset\\dataset\\test\")  # 현재 작업 루트 디렉토리\n",
    "BALANCED_FOLDERS = [\"balanced_true\",\"false\"]   # 처리할 두 가지 서브 디렉토리\n",
    "FPS = 30\n",
    "\n",
    "# OpenPose 설정\n",
    "OPENPOSE_EXE  = Path(r\"C:/openpose/openpose/bin/OpenPoseDemo.exe\")\n",
    "OPENPOSE_ROOT = OPENPOSE_EXE.parent.parent  # …/openpose 폴더\n",
    "PAD_RATIO     = 0.10\n",
    "\n",
    "# Torso Keypoint 인덱스 (Neck, MidHip, RShoulder, LShoulder, RootHip)\n",
    "TORSO_IDXS = [1, 8, 11, 14, 17]\n",
    "# Keypoint 이름 및 CSV 컬럼 생성\n",
    "KP   = [\"Nose\",\"Neck\",\"RShoulder\",\"RElbow\",\"RWrist\",\"LShoulder\",\"LElbow\",\"LWrist\",\n",
    "        \"MidHip\",\"RHip\",\"RKnee\",\"RAnkle\",\"LHip\",\"LKnee\",\"LAnkle\",\"REye\",\"LEye\",\n",
    "        \"REar\",\"LEar\",\"LBigToe\",\"LSmallToe\",\"LHeel\",\"RBigToe\",\"RSmallToe\",\"RHeel\"]\n",
    "COLS = [f\"{n}_{a}\" for n in KP for a in (\"x\",\"y\",\"c\")]\n",
    "\n",
    "# ---------- OpenPose 실행 함수 --------------------------------------\n",
    "def run_openpose(video: Path, out_dir: Path):\n",
    "    \"\"\"OpenPose CLI를 통해 JSON으로 keypoints 추출\"\"\"\n",
    "    out_dir.mkdir(parents=True, exist_ok=True)\n",
    "    cmd = [str(OPENPOSE_EXE),\n",
    "           \"--video\", str(video),\n",
    "           \"--write_json\", str(out_dir),\n",
    "           \"--display\", \"0\", \"--render_pose\", \"0\",\n",
    "           \"--number_people_max\", \"1\",\n",
    "           \"--model_folder\", str(OPENPOSE_ROOT / \"models\")]\n",
    "    subprocess.run(cmd, check=True, cwd=OPENPOSE_ROOT)\n",
    "\n",
    "# ---------- 주요 인물 박스 추출 함수 ---------------------------------\n",
    "def main_person_boxes(json_dir: Path):\n",
    "    centers, boxes = [], []\n",
    "    for jf in sorted(json_dir.glob(\"*.json\")):\n",
    "        data = json.load(open(jf))\n",
    "        people = data.get(\"people\")\n",
    "        if not people:\n",
    "            continue\n",
    "        kps = np.array(people[0][\"pose_keypoints_2d\"]).reshape(-1, 3)\n",
    "        if kps[8, 2] < 0.10:  # MidHip confidence 확인\n",
    "            continue\n",
    "        cx, cy = kps[8, :2]\n",
    "        valid = kps[:, 2] > 0.05\n",
    "        xs, ys = kps[valid, 0], kps[valid, 1]\n",
    "        centers.append([cx, cy])\n",
    "        boxes.append([xs.min(), ys.min(), xs.max(), ys.max()])\n",
    "\n",
    "    if not centers:\n",
    "        return []\n",
    "    centers = np.array(centers)\n",
    "    labels = DBSCAN(eps=100, min_samples=5).fit_predict(centers)\n",
    "    if (labels != -1).any():\n",
    "        main_label = np.bincount(labels[labels != -1]).argmax()\n",
    "    else:\n",
    "        main_label = 0\n",
    "    return [boxes[i] for i, lb in enumerate(labels) if lb == main_label]\n",
    "\n",
    "# ---------- Union Box 계산 함수 ------------------------------------\n",
    "def union_box(box_list):\n",
    "    arr = np.array(box_list)\n",
    "    x1, y1 = arr[:, :2].min(0)\n",
    "    x2, y2 = arr[:, 2:].max(0)\n",
    "    w, h    = x2 - x1, y2 - y1\n",
    "    pad_w   = w * PAD_RATIO\n",
    "    pad_h   = h * PAD_RATIO\n",
    "    return int(x1 - pad_w), int(y1 - pad_h), int(w + 2 * pad_w), int(h + 2 * pad_h)\n",
    "\n",
    "# ---------- FFmpeg Crop 함수 ----------------------------------------\n",
    "def crop_video(src: Path, dst: Path, bbox):\n",
    "    x, y, w, h = bbox\n",
    "\n",
    "    # ▶️ 원본 영상 해상도 확인\n",
    "    import cv2\n",
    "    cap = cv2.VideoCapture(str(src))\n",
    "    orig_w = int(cap.get(cv2.CAP_PROP_FRAME_WIDTH))\n",
    "    orig_h = int(cap.get(cv2.CAP_PROP_FRAME_HEIGHT))\n",
    "    cap.release()\n",
    "\n",
    "    # ✅ crop 범위가 영상 해상도를 초과하지 않도록 조정\n",
    "    if x < 0: x = 0\n",
    "    if y < 0: y = 0\n",
    "    if x + w > orig_w: w = orig_w - x\n",
    "    if y + h > orig_h: h = orig_h - y\n",
    "\n",
    "    # 여전히 잘못된 경우 방어 로직\n",
    "    if w <= 0 or h <= 0:\n",
    "        raise ValueError(f\"❌ Invalid crop size: {(w, h)} for video {src.name}\")\n",
    "\n",
    "    cmd = [\"ffmpeg\", \"-y\", \"-i\", str(src),\n",
    "           \"-filter:v\", f\"crop={w}:{h}:{x}:{y}\",\n",
    "           \"-pix_fmt\", \"yuv420p\", str(dst)]\n",
    "    subprocess.run(cmd, check=True)\n",
    "\n",
    "# ---------- Pose 정규화 함수 ---------------------------------------\n",
    "def normalize_pose(kps):\n",
    "    \"\"\"(25, 3) → (25, 3), MidHip 기준 정규화\"\"\"\n",
    "    if np.isnan(kps).all():\n",
    "        return kps\n",
    "    center = kps[8, :2]  # MidHip\n",
    "    kps[:, :2] -= center\n",
    "    std = np.std(kps[:, :2])\n",
    "    if std > 1e-5:\n",
    "        kps[:, :2] /= std\n",
    "    return kps\n",
    "\n",
    "# ---------- JSON → CSV 변환 함수 ------------------------------------\n",
    "def json_dir_to_csv(json_dir: Path, csv_path: Path):\n",
    "    rows = []\n",
    "    for jf in sorted(json_dir.glob(\"*.json\")):\n",
    "        data = json.load(open(jf))\n",
    "        people = data.get(\"people\")\n",
    "        if not people: \n",
    "            rows.append([np.nan] * len(COLS))\n",
    "        else:\n",
    "            kps = np.array(people[0][\"pose_keypoints_2d\"]).reshape(-1, 3)\n",
    "            kps = normalize_pose(kps)  # ⭐ 정규화 적용 \n",
    "            rows.append(kps.flatten())\n",
    "\n",
    "    pd.DataFrame(rows, columns=COLS).to_csv(csv_path, index=False)\n",
    "\n",
    "# ---------- 전체 파이프라인 함수 -----------------------------------\n",
    "def preprocess_all(root_dir: Path):\n",
    "    VIDEO_DIR      = root_dir / \"video\"\n",
    "    CROP_VIDEO_DIR = root_dir / \"crop_video\"\n",
    "    CROP_KP_DIR    = root_dir / \"crop_keypoint\"\n",
    "    TMP_JSON_DIR   = root_dir / \"_tmp_json\"\n",
    "    for d in [CROP_VIDEO_DIR, CROP_KP_DIR, TMP_JSON_DIR]:\n",
    "        d.mkdir(parents=True, exist_ok=True)\n",
    "\n",
    "    for vid in tqdm(sorted(VIDEO_DIR.glob(\"*.mp4\")), desc=f\"Processing {root_dir.name}\"):\n",
    "        name = vid.stem\n",
    "\n",
    "        # ✅ 이미 처리된 경우 건너뜀\n",
    "        crop_csv  = CROP_KP_DIR / f\"{name}_crop.csv\"\n",
    "        crop_mp4  = CROP_VIDEO_DIR / f\"{name}_crop.mp4\"\n",
    "        if crop_csv.exists() and crop_mp4.exists():\n",
    "            print(f\"⏭️  Skip {name}: already processed.\")\n",
    "            continue\n",
    "\n",
    "        raw_dir = TMP_JSON_DIR / f\"raw_{name}\"\n",
    "        run_openpose(vid, raw_dir)\n",
    "\n",
    "        boxes = main_person_boxes(raw_dir)\n",
    "        if not boxes:\n",
    "            print(f\"⚠️  No valid person in {vid.name}\")\n",
    "            continue\n",
    "        bbox = union_box(boxes)\n",
    "\n",
    "        crop_video(vid, crop_mp4, bbox)\n",
    "\n",
    "        crop_dir = TMP_JSON_DIR / f\"crop_{name}\"\n",
    "        run_openpose(crop_mp4, crop_dir)\n",
    "\n",
    "        json_dir_to_csv(crop_dir, crop_csv)\n",
    "        print(f\"✅ {root_dir.name} / {name} saved\")\n",
    "\n",
    "\n",
    "    # 중간 JSON 삭제가 필요하다면 아래 주석 해제\n",
    "    shutil.rmtree(TMP_JSON_DIR)\n",
    "\n",
    "# ---------- 스크립트 실행부 -----------------------------------------\n",
    "if __name__ == \"__main__\":\n",
    "    for folder in BALANCED_FOLDERS:\n",
    "        root = CUR_DIR / folder\n",
    "        preprocess_all(root)\n"
   ]
  }
 ],
 "metadata": {
  "kernelspec": {
   "display_name": "timesformer",
   "language": "python",
   "name": "python3"
  },
  "language_info": {
   "codemirror_mode": {
    "name": "ipython",
    "version": 3
   },
   "file_extension": ".py",
   "mimetype": "text/x-python",
   "name": "python",
   "nbconvert_exporter": "python",
   "pygments_lexer": "ipython3",
   "version": "3.12.11"
  }
 },
 "nbformat": 4,
 "nbformat_minor": 5
}
