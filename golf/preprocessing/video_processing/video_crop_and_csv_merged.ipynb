{
 "cells": [
  {
   "cell_type": "code",
   "execution_count": 1,
   "id": "1c2e2e20",
   "metadata": {},
   "outputs": [],
   "source": [
    "tf = True   # True면 balanced_true 디렉토리, False면 false 디렉토리"
   ]
  },
  {
   "cell_type": "code",
   "execution_count": null,
   "id": "cf740e9e",
   "metadata": {},
   "outputs": [
    {
     "name": "stderr",
     "output_type": "stream",
     "text": [
      "  0%|          | 1/218 [01:12<4:21:37, 72.34s/it]"
     ]
    },
    {
     "name": "stdout",
     "output_type": "stream",
     "text": [
      "✅ 20201116_General_001_DOS_A_M40_MM_026 saved\n"
     ]
    },
    {
     "name": "stderr",
     "output_type": "stream",
     "text": [
      "  1%|          | 2/218 [02:16<4:04:01, 67.78s/it]"
     ]
    },
    {
     "name": "stdout",
     "output_type": "stream",
     "text": [
      "✅ 20201116_General_001_DOS_A_M40_MM_034 saved\n"
     ]
    },
    {
     "name": "stderr",
     "output_type": "stream",
     "text": [
      "  1%|▏         | 3/218 [02:44<2:57:39, 49.58s/it]"
     ]
    },
    {
     "name": "stdout",
     "output_type": "stream",
     "text": [
      "✅ 20201117_General_007_DOC_A_M40_MM_006 saved\n"
     ]
    },
    {
     "name": "stderr",
     "output_type": "stream",
     "text": [
      "  2%|▏         | 4/218 [03:12<2:26:29, 41.07s/it]"
     ]
    },
    {
     "name": "stdout",
     "output_type": "stream",
     "text": [
      "✅ 20201117_General_007_DOC_A_M40_MM_044 saved\n"
     ]
    },
    {
     "name": "stderr",
     "output_type": "stream",
     "text": [
      "  2%|▏         | 5/218 [03:46<2:15:55, 38.29s/it]"
     ]
    },
    {
     "name": "stdout",
     "output_type": "stream",
     "text": [
      "✅ 20201117_General_007_DOC_A_M40_MM_047 saved\n"
     ]
    },
    {
     "name": "stderr",
     "output_type": "stream",
     "text": [
      "  3%|▎         | 6/218 [04:17<2:06:36, 35.83s/it]"
     ]
    },
    {
     "name": "stdout",
     "output_type": "stream",
     "text": [
      "✅ 20201117_General_007_DOC_A_M40_MM_054 saved\n"
     ]
    },
    {
     "name": "stderr",
     "output_type": "stream",
     "text": [
      "  3%|▎         | 7/218 [04:54<2:07:43, 36.32s/it]"
     ]
    },
    {
     "name": "stdout",
     "output_type": "stream",
     "text": [
      "✅ 20201117_General_007_DOC_A_M40_MM_057 saved\n"
     ]
    },
    {
     "name": "stderr",
     "output_type": "stream",
     "text": [
      "  4%|▎         | 8/218 [05:24<2:00:09, 34.33s/it]"
     ]
    },
    {
     "name": "stdout",
     "output_type": "stream",
     "text": [
      "✅ 20201117_General_007_DOC_A_M40_MM_071 saved\n"
     ]
    },
    {
     "name": "stderr",
     "output_type": "stream",
     "text": [
      "  4%|▍         | 9/218 [05:56<1:57:08, 33.63s/it]"
     ]
    },
    {
     "name": "stdout",
     "output_type": "stream",
     "text": [
      "✅ 20201117_General_008_DOC_A_M40_MM_013 saved\n"
     ]
    },
    {
     "name": "stderr",
     "output_type": "stream",
     "text": [
      "  5%|▍         | 10/218 [06:30<1:56:24, 33.58s/it]"
     ]
    },
    {
     "name": "stdout",
     "output_type": "stream",
     "text": [
      "✅ 20201117_General_008_DOC_A_M40_MM_018 saved\n"
     ]
    },
    {
     "name": "stderr",
     "output_type": "stream",
     "text": [
      "  5%|▌         | 11/218 [07:08<2:01:09, 35.12s/it]"
     ]
    },
    {
     "name": "stdout",
     "output_type": "stream",
     "text": [
      "✅ 20201117_General_008_DOC_A_M40_MM_026 saved\n"
     ]
    },
    {
     "name": "stderr",
     "output_type": "stream",
     "text": [
      "  6%|▌         | 12/218 [07:44<2:01:02, 35.26s/it]"
     ]
    },
    {
     "name": "stdout",
     "output_type": "stream",
     "text": [
      "✅ 20201117_General_008_DOC_A_M40_MM_033 saved\n"
     ]
    },
    {
     "name": "stderr",
     "output_type": "stream",
     "text": [
      "  6%|▌         | 13/218 [08:20<2:01:04, 35.44s/it]"
     ]
    },
    {
     "name": "stdout",
     "output_type": "stream",
     "text": [
      "✅ 20201117_General_008_DOC_A_M40_MM_042 saved\n"
     ]
    },
    {
     "name": "stderr",
     "output_type": "stream",
     "text": [
      "  6%|▋         | 14/218 [08:52<1:57:08, 34.46s/it]"
     ]
    },
    {
     "name": "stdout",
     "output_type": "stream",
     "text": [
      "✅ 20201117_General_008_DOC_A_M40_MM_048 saved\n"
     ]
    },
    {
     "name": "stderr",
     "output_type": "stream",
     "text": [
      "  7%|▋         | 15/218 [09:26<1:55:56, 34.27s/it]"
     ]
    },
    {
     "name": "stdout",
     "output_type": "stream",
     "text": [
      "✅ 20201117_General_008_DOC_A_M40_MM_067 saved\n"
     ]
    },
    {
     "name": "stderr",
     "output_type": "stream",
     "text": [
      "  7%|▋         | 16/218 [09:52<1:47:36, 31.96s/it]"
     ]
    },
    {
     "name": "stdout",
     "output_type": "stream",
     "text": [
      "✅ 20201117_General_009_DOC_A_M40_SM_029 saved\n"
     ]
    },
    {
     "name": "stderr",
     "output_type": "stream",
     "text": [
      "  8%|▊         | 17/218 [10:19<1:41:41, 30.35s/it]"
     ]
    },
    {
     "name": "stdout",
     "output_type": "stream",
     "text": [
      "✅ 20201117_General_009_DOC_A_M40_SM_032 saved\n"
     ]
    },
    {
     "name": "stderr",
     "output_type": "stream",
     "text": [
      "  8%|▊         | 18/218 [10:45<1:37:02, 29.11s/it]"
     ]
    },
    {
     "name": "stdout",
     "output_type": "stream",
     "text": [
      "✅ 20201117_General_009_DOC_A_M40_SM_043 saved\n"
     ]
    },
    {
     "name": "stderr",
     "output_type": "stream",
     "text": [
      "  9%|▊         | 19/218 [11:23<1:45:18, 31.75s/it]"
     ]
    },
    {
     "name": "stdout",
     "output_type": "stream",
     "text": [
      "✅ 20201117_General_009_NOC_A_M40_SM_045 saved\n"
     ]
    },
    {
     "name": "stderr",
     "output_type": "stream",
     "text": [
      "  9%|▉         | 20/218 [11:59<1:48:59, 33.03s/it]"
     ]
    },
    {
     "name": "stdout",
     "output_type": "stream",
     "text": [
      "✅ 20201117_General_009_NOC_A_M40_SM_058 saved\n"
     ]
    },
    {
     "name": "stderr",
     "output_type": "stream",
     "text": [
      " 10%|▉         | 21/218 [12:37<1:53:11, 34.47s/it]"
     ]
    },
    {
     "name": "stdout",
     "output_type": "stream",
     "text": [
      "✅ 20201117_General_010_DOC_A_M40_MM_001 saved\n"
     ]
    },
    {
     "name": "stderr",
     "output_type": "stream",
     "text": [
      " 10%|█         | 22/218 [13:08<1:48:48, 33.31s/it]"
     ]
    },
    {
     "name": "stdout",
     "output_type": "stream",
     "text": [
      "✅ 20201117_General_010_DOC_A_M40_MM_003 saved\n"
     ]
    },
    {
     "name": "stderr",
     "output_type": "stream",
     "text": [
      " 11%|█         | 23/218 [13:47<1:54:16, 35.16s/it]"
     ]
    },
    {
     "name": "stdout",
     "output_type": "stream",
     "text": [
      "✅ 20201117_General_010_DOC_A_M40_MM_011 saved\n"
     ]
    },
    {
     "name": "stderr",
     "output_type": "stream",
     "text": [
      " 11%|█         | 24/218 [14:19<1:50:55, 34.30s/it]"
     ]
    },
    {
     "name": "stdout",
     "output_type": "stream",
     "text": [
      "✅ 20201117_General_010_DOC_A_M40_MM_033 saved\n"
     ]
    },
    {
     "name": "stderr",
     "output_type": "stream",
     "text": [
      " 11%|█▏        | 25/218 [14:58<1:54:48, 35.69s/it]"
     ]
    },
    {
     "name": "stdout",
     "output_type": "stream",
     "text": [
      "✅ 20201117_General_010_DOC_A_M40_MM_045 saved\n"
     ]
    },
    {
     "name": "stderr",
     "output_type": "stream",
     "text": [
      " 12%|█▏        | 26/218 [15:31<1:50:59, 34.68s/it]"
     ]
    },
    {
     "name": "stdout",
     "output_type": "stream",
     "text": [
      "✅ 20201117_General_010_DOC_A_M40_MM_046 saved\n"
     ]
    },
    {
     "name": "stderr",
     "output_type": "stream",
     "text": [
      " 12%|█▏        | 27/218 [16:05<1:50:33, 34.73s/it]"
     ]
    },
    {
     "name": "stdout",
     "output_type": "stream",
     "text": [
      "✅ 20201117_General_010_DOC_A_M40_MM_053 saved\n"
     ]
    },
    {
     "name": "stderr",
     "output_type": "stream",
     "text": [
      " 13%|█▎        | 28/218 [16:41<1:51:05, 35.08s/it]"
     ]
    },
    {
     "name": "stdout",
     "output_type": "stream",
     "text": [
      "✅ 20201117_General_010_NOC_A_M40_MM_065 saved\n"
     ]
    },
    {
     "name": "stderr",
     "output_type": "stream",
     "text": [
      " 13%|█▎        | 29/218 [17:12<1:45:51, 33.60s/it]"
     ]
    },
    {
     "name": "stdout",
     "output_type": "stream",
     "text": [
      "✅ 20201117_General_010_NOC_A_M40_MM_066 saved\n"
     ]
    },
    {
     "name": "stderr",
     "output_type": "stream",
     "text": [
      " 14%|█▍        | 30/218 [17:56<1:55:42, 36.93s/it]"
     ]
    },
    {
     "name": "stdout",
     "output_type": "stream",
     "text": [
      "✅ 20201117_General_010_NOC_A_M40_MM_071 saved\n"
     ]
    },
    {
     "name": "stderr",
     "output_type": "stream",
     "text": [
      " 14%|█▍        | 31/218 [18:29<1:50:52, 35.57s/it]"
     ]
    },
    {
     "name": "stdout",
     "output_type": "stream",
     "text": [
      "✅ 20201117_General_010_NOC_A_M40_MM_072 saved\n"
     ]
    },
    {
     "name": "stderr",
     "output_type": "stream",
     "text": [
      " 15%|█▍        | 32/218 [19:02<1:48:28, 34.99s/it]"
     ]
    },
    {
     "name": "stdout",
     "output_type": "stream",
     "text": [
      "✅ 20201117_General_011_DOC_A_M40_BM_001 saved\n"
     ]
    },
    {
     "name": "stderr",
     "output_type": "stream",
     "text": [
      " 15%|█▌        | 33/218 [19:33<1:43:43, 33.64s/it]"
     ]
    },
    {
     "name": "stdout",
     "output_type": "stream",
     "text": [
      "✅ 20201117_General_011_DOC_A_M40_BM_007 saved\n"
     ]
    },
    {
     "name": "stderr",
     "output_type": "stream",
     "text": [
      " 16%|█▌        | 34/218 [20:11<1:47:28, 35.05s/it]"
     ]
    },
    {
     "name": "stdout",
     "output_type": "stream",
     "text": [
      "✅ 20201117_General_011_DOC_A_M40_BM_008 saved\n"
     ]
    },
    {
     "name": "stderr",
     "output_type": "stream",
     "text": [
      " 16%|█▌        | 35/218 [20:49<1:49:06, 35.77s/it]"
     ]
    },
    {
     "name": "stdout",
     "output_type": "stream",
     "text": [
      "✅ 20201117_General_011_DOC_A_M40_BM_017 saved\n"
     ]
    },
    {
     "name": "stderr",
     "output_type": "stream",
     "text": [
      " 17%|█▋        | 36/218 [21:18<1:43:11, 34.02s/it]"
     ]
    },
    {
     "name": "stdout",
     "output_type": "stream",
     "text": [
      "✅ 20201117_General_011_DOC_A_M40_BM_020 saved\n"
     ]
    },
    {
     "name": "stderr",
     "output_type": "stream",
     "text": [
      " 17%|█▋        | 37/218 [21:46<1:36:38, 32.04s/it]"
     ]
    },
    {
     "name": "stdout",
     "output_type": "stream",
     "text": [
      "✅ 20201117_General_011_DOC_A_M40_BM_034 saved\n"
     ]
    },
    {
     "name": "stderr",
     "output_type": "stream",
     "text": [
      " 17%|█▋        | 38/218 [22:17<1:35:03, 31.69s/it]"
     ]
    },
    {
     "name": "stdout",
     "output_type": "stream",
     "text": [
      "✅ 20201117_General_011_DOC_A_M40_BM_044 saved\n"
     ]
    },
    {
     "name": "stderr",
     "output_type": "stream",
     "text": [
      " 18%|█▊        | 39/218 [22:52<1:37:43, 32.76s/it]"
     ]
    },
    {
     "name": "stdout",
     "output_type": "stream",
     "text": [
      "✅ 20201117_General_011_NOC_A_M40_BM_067 saved\n"
     ]
    },
    {
     "name": "stderr",
     "output_type": "stream",
     "text": [
      " 18%|█▊        | 40/218 [23:24<1:36:51, 32.65s/it]"
     ]
    },
    {
     "name": "stdout",
     "output_type": "stream",
     "text": [
      "✅ 20201117_General_011_NOC_A_M40_BM_072 saved\n"
     ]
    },
    {
     "name": "stderr",
     "output_type": "stream",
     "text": [
      " 19%|█▉        | 41/218 [23:54<1:34:00, 31.87s/it]"
     ]
    },
    {
     "name": "stdout",
     "output_type": "stream",
     "text": [
      "✅ 20201117_General_012_DOC_A_M40_MM_005 saved\n"
     ]
    },
    {
     "name": "stderr",
     "output_type": "stream",
     "text": [
      " 19%|█▉        | 42/218 [24:22<1:29:33, 30.53s/it]"
     ]
    },
    {
     "name": "stdout",
     "output_type": "stream",
     "text": [
      "✅ 20201117_General_012_DOC_A_M40_MM_020 saved\n"
     ]
    },
    {
     "name": "stderr",
     "output_type": "stream",
     "text": [
      " 20%|█▉        | 43/218 [24:49<1:25:53, 29.45s/it]"
     ]
    },
    {
     "name": "stdout",
     "output_type": "stream",
     "text": [
      "✅ 20201117_General_012_DOC_A_M40_MM_030 saved\n"
     ]
    },
    {
     "name": "stderr",
     "output_type": "stream",
     "text": [
      " 20%|██        | 44/218 [25:19<1:26:25, 29.80s/it]"
     ]
    },
    {
     "name": "stdout",
     "output_type": "stream",
     "text": [
      "✅ 20201117_General_012_NOC_A_M40_MM_056 saved\n"
     ]
    },
    {
     "name": "stderr",
     "output_type": "stream",
     "text": [
      " 21%|██        | 45/218 [25:47<1:23:47, 29.06s/it]"
     ]
    },
    {
     "name": "stdout",
     "output_type": "stream",
     "text": [
      "✅ 20201117_General_012_NOC_A_M40_MM_065 saved\n"
     ]
    },
    {
     "name": "stderr",
     "output_type": "stream",
     "text": [
      " 21%|██        | 46/218 [26:14<1:22:04, 28.63s/it]"
     ]
    },
    {
     "name": "stdout",
     "output_type": "stream",
     "text": [
      "✅ 20201117_General_012_NOC_A_M40_MM_069 saved\n"
     ]
    },
    {
     "name": "stderr",
     "output_type": "stream",
     "text": [
      " 22%|██▏       | 47/218 [26:44<1:22:26, 28.93s/it]"
     ]
    },
    {
     "name": "stdout",
     "output_type": "stream",
     "text": [
      "✅ 20201118_General_013_DOC_A_M30_BS_031 saved\n"
     ]
    },
    {
     "name": "stderr",
     "output_type": "stream",
     "text": [
      " 22%|██▏       | 48/218 [27:09<1:18:42, 27.78s/it]"
     ]
    },
    {
     "name": "stdout",
     "output_type": "stream",
     "text": [
      "✅ 20201118_General_013_DOC_A_M30_BS_040 saved\n"
     ]
    },
    {
     "name": "stderr",
     "output_type": "stream",
     "text": [
      " 22%|██▏       | 49/218 [27:34<1:15:51, 26.93s/it]"
     ]
    },
    {
     "name": "stdout",
     "output_type": "stream",
     "text": [
      "✅ 20201118_General_013_DOC_A_M30_BS_044 saved\n"
     ]
    },
    {
     "name": "stderr",
     "output_type": "stream",
     "text": [
      " 23%|██▎       | 50/218 [27:46<1:02:31, 22.33s/it]"
     ]
    },
    {
     "name": "stdout",
     "output_type": "stream",
     "text": [
      "✅ 20201118_General_013_DOC_A_M30_BS_054 saved\n"
     ]
    },
    {
     "name": "stderr",
     "output_type": "stream",
     "text": [
      " 23%|██▎       | 51/218 [28:12<1:05:42, 23.61s/it]"
     ]
    },
    {
     "name": "stdout",
     "output_type": "stream",
     "text": [
      "✅ 20201118_General_013_DOC_A_M30_BS_065 saved\n"
     ]
    },
    {
     "name": "stderr",
     "output_type": "stream",
     "text": [
      " 24%|██▍       | 52/218 [28:48<1:15:14, 27.20s/it]"
     ]
    },
    {
     "name": "stdout",
     "output_type": "stream",
     "text": [
      "✅ 20201118_General_014_DOC_A_M40_MT_001 saved\n"
     ]
    },
    {
     "name": "stderr",
     "output_type": "stream",
     "text": [
      " 24%|██▍       | 53/218 [29:18<1:17:22, 28.14s/it]"
     ]
    },
    {
     "name": "stdout",
     "output_type": "stream",
     "text": [
      "✅ 20201118_General_014_DOC_A_M40_MT_004 saved\n"
     ]
    },
    {
     "name": "stderr",
     "output_type": "stream",
     "text": [
      " 25%|██▍       | 54/218 [29:47<1:17:41, 28.42s/it]"
     ]
    },
    {
     "name": "stdout",
     "output_type": "stream",
     "text": [
      "✅ 20201118_General_014_DOC_A_M40_MT_019 saved\n"
     ]
    },
    {
     "name": "stderr",
     "output_type": "stream",
     "text": [
      " 25%|██▌       | 55/218 [29:57<1:01:59, 22.82s/it]"
     ]
    },
    {
     "name": "stdout",
     "output_type": "stream",
     "text": [
      "✅ 20201118_General_014_DOC_A_M40_MT_025 saved\n"
     ]
    },
    {
     "name": "stderr",
     "output_type": "stream",
     "text": [
      " 26%|██▌       | 56/218 [30:28<1:08:02, 25.20s/it]"
     ]
    },
    {
     "name": "stdout",
     "output_type": "stream",
     "text": [
      "✅ 20201118_General_014_DOC_A_M40_MT_026 saved\n"
     ]
    },
    {
     "name": "stderr",
     "output_type": "stream",
     "text": [
      " 26%|██▌       | 57/218 [30:55<1:09:01, 25.72s/it]"
     ]
    },
    {
     "name": "stdout",
     "output_type": "stream",
     "text": [
      "✅ 20201118_General_014_DOC_A_M40_MT_035 saved\n"
     ]
    },
    {
     "name": "stderr",
     "output_type": "stream",
     "text": [
      " 27%|██▋       | 58/218 [31:31<1:16:51, 28.82s/it]"
     ]
    },
    {
     "name": "stdout",
     "output_type": "stream",
     "text": [
      "✅ 20201118_General_014_DOC_A_M40_MT_036 saved\n"
     ]
    },
    {
     "name": "stderr",
     "output_type": "stream",
     "text": [
      " 27%|██▋       | 59/218 [32:00<1:16:32, 28.89s/it]"
     ]
    },
    {
     "name": "stdout",
     "output_type": "stream",
     "text": [
      "✅ 20201118_General_014_DOC_A_M40_MT_044 saved\n"
     ]
    },
    {
     "name": "stderr",
     "output_type": "stream",
     "text": [
      " 28%|██▊       | 60/218 [32:32<1:18:26, 29.79s/it]"
     ]
    },
    {
     "name": "stdout",
     "output_type": "stream",
     "text": [
      "✅ 20201118_General_014_DOC_A_M40_MT_050 saved\n"
     ]
    },
    {
     "name": "stderr",
     "output_type": "stream",
     "text": [
      " 28%|██▊       | 61/218 [33:04<1:20:19, 30.70s/it]"
     ]
    },
    {
     "name": "stdout",
     "output_type": "stream",
     "text": [
      "✅ 20201118_General_014_DOC_A_M40_MT_054 saved\n"
     ]
    },
    {
     "name": "stderr",
     "output_type": "stream",
     "text": [
      " 28%|██▊       | 62/218 [33:34<1:18:54, 30.35s/it]"
     ]
    },
    {
     "name": "stdout",
     "output_type": "stream",
     "text": [
      "✅ 20201118_General_014_DOC_A_M40_MT_056 saved\n"
     ]
    },
    {
     "name": "stderr",
     "output_type": "stream",
     "text": [
      " 29%|██▉       | 63/218 [33:50<1:07:29, 26.12s/it]"
     ]
    },
    {
     "name": "stdout",
     "output_type": "stream",
     "text": [
      "✅ 20201118_General_014_DOC_A_M40_MT_062 saved\n"
     ]
    },
    {
     "name": "stderr",
     "output_type": "stream",
     "text": [
      " 29%|██▉       | 64/218 [34:18<1:07:58, 26.48s/it]"
     ]
    },
    {
     "name": "stdout",
     "output_type": "stream",
     "text": [
      "✅ 20201118_General_014_DOC_A_M40_MT_064 saved\n"
     ]
    },
    {
     "name": "stderr",
     "output_type": "stream",
     "text": [
      " 30%|██▉       | 65/218 [34:49<1:11:22, 27.99s/it]"
     ]
    },
    {
     "name": "stdout",
     "output_type": "stream",
     "text": [
      "✅ 20201118_General_015_DOC_A_M40_SM_002 saved\n"
     ]
    },
    {
     "name": "stderr",
     "output_type": "stream",
     "text": [
      " 30%|███       | 66/218 [35:17<1:11:13, 28.12s/it]"
     ]
    },
    {
     "name": "stdout",
     "output_type": "stream",
     "text": [
      "✅ 20201118_General_015_DOC_A_M40_SM_012 saved\n"
     ]
    },
    {
     "name": "stderr",
     "output_type": "stream",
     "text": [
      " 31%|███       | 67/218 [35:44<1:09:22, 27.57s/it]"
     ]
    },
    {
     "name": "stdout",
     "output_type": "stream",
     "text": [
      "✅ 20201118_General_015_DOC_A_M40_SM_021 saved\n"
     ]
    },
    {
     "name": "stderr",
     "output_type": "stream",
     "text": [
      " 31%|███       | 68/218 [36:14<1:10:47, 28.32s/it]"
     ]
    },
    {
     "name": "stdout",
     "output_type": "stream",
     "text": [
      "✅ 20201118_General_015_DOC_A_M40_SM_022 saved\n"
     ]
    },
    {
     "name": "stderr",
     "output_type": "stream",
     "text": [
      " 32%|███▏      | 69/218 [36:30<1:01:04, 24.59s/it]"
     ]
    },
    {
     "name": "stdout",
     "output_type": "stream",
     "text": [
      "✅ 20201118_General_015_DOC_A_M40_SM_040 saved\n"
     ]
    },
    {
     "name": "stderr",
     "output_type": "stream",
     "text": [
      " 32%|███▏      | 70/218 [36:58<1:03:28, 25.73s/it]"
     ]
    },
    {
     "name": "stdout",
     "output_type": "stream",
     "text": [
      "✅ 20201118_General_015_DOC_A_M40_SM_045 saved\n"
     ]
    },
    {
     "name": "stderr",
     "output_type": "stream",
     "text": [
      " 33%|███▎      | 71/218 [37:09<52:12, 21.31s/it]  "
     ]
    },
    {
     "name": "stdout",
     "output_type": "stream",
     "text": [
      "✅ 20201118_General_015_DOC_A_M40_SM_050 saved\n"
     ]
    },
    {
     "name": "stderr",
     "output_type": "stream",
     "text": [
      " 33%|███▎      | 72/218 [37:39<58:26, 24.01s/it]"
     ]
    },
    {
     "name": "stdout",
     "output_type": "stream",
     "text": [
      "✅ 20201118_General_015_DOC_A_M40_SM_054 saved\n"
     ]
    },
    {
     "name": "stderr",
     "output_type": "stream",
     "text": [
      " 33%|███▎      | 73/218 [38:07<1:00:26, 25.01s/it]"
     ]
    },
    {
     "name": "stdout",
     "output_type": "stream",
     "text": [
      "✅ 20201118_General_015_DOC_A_M40_SM_062 saved\n"
     ]
    },
    {
     "name": "stderr",
     "output_type": "stream",
     "text": [
      " 34%|███▍      | 74/218 [38:34<1:01:29, 25.62s/it]"
     ]
    },
    {
     "name": "stdout",
     "output_type": "stream",
     "text": [
      "✅ 20201118_General_015_DOC_A_M40_SM_071 saved\n"
     ]
    },
    {
     "name": "stderr",
     "output_type": "stream",
     "text": [
      " 34%|███▍      | 75/218 [39:04<1:04:02, 26.87s/it]"
     ]
    },
    {
     "name": "stdout",
     "output_type": "stream",
     "text": [
      "✅ 20201118_General_017_DOC_A_M40_MM_014 saved\n"
     ]
    },
    {
     "name": "stderr",
     "output_type": "stream",
     "text": [
      " 35%|███▍      | 76/218 [39:19<55:18, 23.37s/it]  "
     ]
    },
    {
     "name": "stdout",
     "output_type": "stream",
     "text": [
      "✅ 20201118_General_017_DOC_A_M40_MM_027 saved\n"
     ]
    },
    {
     "name": "stderr",
     "output_type": "stream",
     "text": [
      " 35%|███▌      | 77/218 [39:48<58:44, 25.00s/it]"
     ]
    },
    {
     "name": "stdout",
     "output_type": "stream",
     "text": [
      "✅ 20201118_General_017_DOR_A_M40_MM_030 saved\n"
     ]
    },
    {
     "name": "stderr",
     "output_type": "stream",
     "text": [
      " 36%|███▌      | 78/218 [40:24<1:06:14, 28.39s/it]"
     ]
    },
    {
     "name": "stdout",
     "output_type": "stream",
     "text": [
      "✅ 20201118_General_017_DOR_A_M40_MM_031 saved\n"
     ]
    },
    {
     "name": "stderr",
     "output_type": "stream",
     "text": [
      " 36%|███▌      | 79/218 [40:52<1:05:43, 28.37s/it]"
     ]
    },
    {
     "name": "stdout",
     "output_type": "stream",
     "text": [
      "✅ 20201118_General_017_DOR_A_M40_MM_040 saved\n"
     ]
    },
    {
     "name": "stderr",
     "output_type": "stream",
     "text": [
      " 37%|███▋      | 80/218 [41:23<1:06:57, 29.11s/it]"
     ]
    },
    {
     "name": "stdout",
     "output_type": "stream",
     "text": [
      "✅ 20201118_General_017_DOR_A_M40_MM_042 saved\n"
     ]
    },
    {
     "name": "stderr",
     "output_type": "stream",
     "text": [
      " 37%|███▋      | 81/218 [42:01<1:12:46, 31.87s/it]"
     ]
    },
    {
     "name": "stdout",
     "output_type": "stream",
     "text": [
      "✅ 20201118_General_017_DOR_A_M40_MM_047 saved\n"
     ]
    },
    {
     "name": "stderr",
     "output_type": "stream",
     "text": [
      " 38%|███▊      | 82/218 [42:30<1:10:19, 31.02s/it]"
     ]
    },
    {
     "name": "stdout",
     "output_type": "stream",
     "text": [
      "✅ 20201118_General_017_NOC_A_M40_MM_060 saved\n"
     ]
    },
    {
     "name": "stderr",
     "output_type": "stream",
     "text": [
      " 38%|███▊      | 83/218 [42:59<1:08:14, 30.33s/it]"
     ]
    },
    {
     "name": "stdout",
     "output_type": "stream",
     "text": [
      "✅ 20201118_General_017_NOC_A_M40_MM_061 saved\n"
     ]
    },
    {
     "name": "stderr",
     "output_type": "stream",
     "text": [
      " 39%|███▊      | 84/218 [43:31<1:08:42, 30.76s/it]"
     ]
    },
    {
     "name": "stdout",
     "output_type": "stream",
     "text": [
      "✅ 20201118_General_017_NOC_A_M40_MM_065 saved\n"
     ]
    },
    {
     "name": "stderr",
     "output_type": "stream",
     "text": [
      " 39%|███▉      | 85/218 [43:59<1:06:15, 29.89s/it]"
     ]
    },
    {
     "name": "stdout",
     "output_type": "stream",
     "text": [
      "✅ 20201118_General_017_NOC_A_M40_MM_073 saved\n"
     ]
    },
    {
     "name": "stderr",
     "output_type": "stream",
     "text": [
      " 39%|███▉      | 86/218 [44:29<1:05:47, 29.91s/it]"
     ]
    },
    {
     "name": "stdout",
     "output_type": "stream",
     "text": [
      "✅ 20201118_General_018_DOC_A_M40_MM_001 saved\n"
     ]
    },
    {
     "name": "stderr",
     "output_type": "stream",
     "text": [
      " 40%|███▉      | 87/218 [44:57<1:04:00, 29.32s/it]"
     ]
    },
    {
     "name": "stdout",
     "output_type": "stream",
     "text": [
      "✅ 20201118_General_018_DOC_A_M40_MM_017 saved\n"
     ]
    },
    {
     "name": "stderr",
     "output_type": "stream",
     "text": [
      " 40%|████      | 88/218 [45:23<1:01:18, 28.30s/it]"
     ]
    },
    {
     "name": "stdout",
     "output_type": "stream",
     "text": [
      "✅ 20201118_General_018_DOC_A_M40_MM_019 saved\n"
     ]
    },
    {
     "name": "stderr",
     "output_type": "stream",
     "text": [
      " 41%|████      | 89/218 [45:53<1:02:19, 28.99s/it]"
     ]
    },
    {
     "name": "stdout",
     "output_type": "stream",
     "text": [
      "✅ 20201118_General_018_DOC_A_M40_MM_021 saved\n"
     ]
    },
    {
     "name": "stderr",
     "output_type": "stream",
     "text": [
      " 41%|████▏     | 90/218 [46:20<1:00:44, 28.47s/it]"
     ]
    },
    {
     "name": "stdout",
     "output_type": "stream",
     "text": [
      "✅ 20201118_General_018_DOR_A_M40_MM_029 saved\n"
     ]
    },
    {
     "name": "stderr",
     "output_type": "stream",
     "text": [
      " 42%|████▏     | 91/218 [46:48<59:58, 28.33s/it]  "
     ]
    },
    {
     "name": "stdout",
     "output_type": "stream",
     "text": [
      "✅ 20201118_General_019_DOC_A_M30_MM_003 saved\n"
     ]
    },
    {
     "name": "stderr",
     "output_type": "stream",
     "text": [
      " 42%|████▏     | 92/218 [47:13<57:09, 27.22s/it]"
     ]
    },
    {
     "name": "stdout",
     "output_type": "stream",
     "text": [
      "✅ 20201118_General_019_DOC_A_M30_MM_018 saved\n"
     ]
    },
    {
     "name": "stderr",
     "output_type": "stream",
     "text": [
      " 43%|████▎     | 93/218 [47:39<55:57, 26.86s/it]"
     ]
    },
    {
     "name": "stdout",
     "output_type": "stream",
     "text": [
      "✅ 20201118_General_019_DOC_A_M30_MM_029 saved\n"
     ]
    },
    {
     "name": "stderr",
     "output_type": "stream",
     "text": [
      " 43%|████▎     | 94/218 [48:05<54:43, 26.48s/it]"
     ]
    },
    {
     "name": "stdout",
     "output_type": "stream",
     "text": [
      "✅ 20201118_General_019_DOR_A_M30_MM_034 saved\n"
     ]
    },
    {
     "name": "stderr",
     "output_type": "stream",
     "text": [
      " 44%|████▎     | 95/218 [48:32<55:04, 26.86s/it]"
     ]
    },
    {
     "name": "stdout",
     "output_type": "stream",
     "text": [
      "✅ 20201118_General_019_NOC_A_M30_MM_066 saved\n"
     ]
    },
    {
     "name": "stderr",
     "output_type": "stream",
     "text": [
      " 44%|████▍     | 96/218 [48:44<45:03, 22.16s/it]"
     ]
    },
    {
     "name": "stdout",
     "output_type": "stream",
     "text": [
      "✅ 20201118_General_019_NOC_A_M30_MM_070 saved\n"
     ]
    },
    {
     "name": "stderr",
     "output_type": "stream",
     "text": [
      " 44%|████▍     | 97/218 [49:16<50:36, 25.10s/it]"
     ]
    },
    {
     "name": "stdout",
     "output_type": "stream",
     "text": [
      "✅ 20201120_General_021_DOC_A_M40_MM_006 saved\n"
     ]
    },
    {
     "name": "stderr",
     "output_type": "stream",
     "text": [
      " 45%|████▍     | 98/218 [50:00<1:01:39, 30.83s/it]"
     ]
    },
    {
     "name": "stdout",
     "output_type": "stream",
     "text": [
      "✅ 20201120_General_021_DOC_A_M40_MM_007 saved\n"
     ]
    },
    {
     "name": "stderr",
     "output_type": "stream",
     "text": [
      " 45%|████▌     | 99/218 [50:07<46:48, 23.60s/it]  "
     ]
    },
    {
     "name": "stdout",
     "output_type": "stream",
     "text": [
      "✅ 20201120_General_021_DOC_A_M40_MM_013 saved\n"
     ]
    },
    {
     "name": "stderr",
     "output_type": "stream",
     "text": [
      " 46%|████▌     | 100/218 [50:49<57:37, 29.30s/it]"
     ]
    },
    {
     "name": "stdout",
     "output_type": "stream",
     "text": [
      "✅ 20201120_General_021_DOC_A_M40_MM_024 saved\n"
     ]
    },
    {
     "name": "stderr",
     "output_type": "stream",
     "text": [
      " 46%|████▋     | 101/218 [51:16<55:58, 28.70s/it]"
     ]
    },
    {
     "name": "stdout",
     "output_type": "stream",
     "text": [
      "✅ 20201120_General_021_NOC_A_M40_MM_034 saved\n"
     ]
    },
    {
     "name": "stderr",
     "output_type": "stream",
     "text": [
      " 47%|████▋     | 102/218 [51:45<55:12, 28.56s/it]"
     ]
    },
    {
     "name": "stdout",
     "output_type": "stream",
     "text": [
      "✅ 20201120_General_021_NOC_A_M40_MM_035 saved\n"
     ]
    },
    {
     "name": "stderr",
     "output_type": "stream",
     "text": [
      " 47%|████▋     | 103/218 [52:29<1:03:54, 33.34s/it]"
     ]
    },
    {
     "name": "stdout",
     "output_type": "stream",
     "text": [
      "✅ 20201120_General_022_DOC_A_M40_MS_019 saved\n"
     ]
    },
    {
     "name": "stderr",
     "output_type": "stream",
     "text": [
      " 48%|████▊     | 104/218 [52:58<1:00:56, 32.08s/it]"
     ]
    },
    {
     "name": "stdout",
     "output_type": "stream",
     "text": [
      "✅ 20201120_General_022_DOC_A_M40_MS_023 saved\n"
     ]
    },
    {
     "name": "stderr",
     "output_type": "stream",
     "text": [
      " 48%|████▊     | 105/218 [53:27<58:24, 31.01s/it]  "
     ]
    },
    {
     "name": "stdout",
     "output_type": "stream",
     "text": [
      "✅ 20201120_General_022_DOC_A_M40_MS_025 saved\n"
     ]
    },
    {
     "name": "stderr",
     "output_type": "stream",
     "text": [
      " 49%|████▊     | 106/218 [53:57<57:40, 30.90s/it]"
     ]
    },
    {
     "name": "stdout",
     "output_type": "stream",
     "text": [
      "✅ 20201120_General_022_DOC_A_M40_MS_037 saved\n"
     ]
    },
    {
     "name": "stderr",
     "output_type": "stream",
     "text": [
      " 49%|████▉     | 107/218 [54:31<58:26, 31.59s/it]"
     ]
    },
    {
     "name": "stdout",
     "output_type": "stream",
     "text": [
      "✅ 20201120_General_022_DOC_A_M40_MS_038 saved\n"
     ]
    },
    {
     "name": "stderr",
     "output_type": "stream",
     "text": [
      " 50%|████▉     | 108/218 [55:09<1:01:33, 33.58s/it]"
     ]
    },
    {
     "name": "stdout",
     "output_type": "stream",
     "text": [
      "✅ 20201120_General_022_DOC_A_M40_MS_062 saved\n"
     ]
    },
    {
     "name": "stderr",
     "output_type": "stream",
     "text": [
      " 50%|█████     | 109/218 [55:38<58:39, 32.29s/it]  "
     ]
    },
    {
     "name": "stdout",
     "output_type": "stream",
     "text": [
      "✅ 20201120_General_022_DOC_A_M40_MS_067 saved\n"
     ]
    },
    {
     "name": "stderr",
     "output_type": "stream",
     "text": [
      " 50%|█████     | 110/218 [56:04<54:26, 30.25s/it]"
     ]
    },
    {
     "name": "stdout",
     "output_type": "stream",
     "text": [
      "✅ 20201120_General_023_DOC_A_M40_MM_001 saved\n"
     ]
    },
    {
     "name": "stderr",
     "output_type": "stream",
     "text": [
      " 51%|█████     | 111/218 [56:40<57:02, 31.99s/it]"
     ]
    },
    {
     "name": "stdout",
     "output_type": "stream",
     "text": [
      "✅ 20201120_General_023_DOC_A_M40_MM_004 saved\n"
     ]
    },
    {
     "name": "stderr",
     "output_type": "stream",
     "text": [
      " 51%|█████▏    | 112/218 [57:19<1:00:14, 34.10s/it]"
     ]
    },
    {
     "name": "stdout",
     "output_type": "stream",
     "text": [
      "✅ 20201120_General_023_DOC_A_M40_MM_008 saved\n"
     ]
    },
    {
     "name": "stderr",
     "output_type": "stream",
     "text": [
      " 52%|█████▏    | 113/218 [57:47<56:27, 32.26s/it]  "
     ]
    },
    {
     "name": "stdout",
     "output_type": "stream",
     "text": [
      "✅ 20201120_General_023_DOC_A_M40_MM_017 saved\n"
     ]
    },
    {
     "name": "stderr",
     "output_type": "stream",
     "text": [
      " 52%|█████▏    | 114/218 [58:20<56:12, 32.43s/it]"
     ]
    },
    {
     "name": "stdout",
     "output_type": "stream",
     "text": [
      "✅ 20201120_General_023_DOC_A_M40_MM_032 saved\n"
     ]
    },
    {
     "name": "stderr",
     "output_type": "stream",
     "text": [
      " 53%|█████▎    | 115/218 [58:53<56:26, 32.87s/it]"
     ]
    },
    {
     "name": "stdout",
     "output_type": "stream",
     "text": [
      "✅ 20201120_General_023_DOC_A_M40_MM_035 saved\n"
     ]
    },
    {
     "name": "stderr",
     "output_type": "stream",
     "text": [
      " 53%|█████▎    | 116/218 [59:29<57:13, 33.66s/it]"
     ]
    },
    {
     "name": "stdout",
     "output_type": "stream",
     "text": [
      "✅ 20201120_General_023_DOC_A_M40_MM_043 saved\n"
     ]
    },
    {
     "name": "stderr",
     "output_type": "stream",
     "text": [
      " 54%|█████▎    | 117/218 [1:00:05<57:45, 34.31s/it]"
     ]
    },
    {
     "name": "stdout",
     "output_type": "stream",
     "text": [
      "✅ 20201120_General_023_DOC_A_M40_MM_064 saved\n"
     ]
    },
    {
     "name": "stderr",
     "output_type": "stream",
     "text": [
      " 54%|█████▍    | 118/218 [1:00:49<1:02:17, 37.38s/it]"
     ]
    },
    {
     "name": "stdout",
     "output_type": "stream",
     "text": [
      "✅ 20201120_General_024_DOC_A_M40_MM_012 saved\n"
     ]
    },
    {
     "name": "stderr",
     "output_type": "stream",
     "text": [
      " 55%|█████▍    | 119/218 [1:01:22<59:11, 35.88s/it]  "
     ]
    },
    {
     "name": "stdout",
     "output_type": "stream",
     "text": [
      "✅ 20201120_General_024_DOC_A_M40_MM_021 saved\n"
     ]
    },
    {
     "name": "stderr",
     "output_type": "stream",
     "text": [
      " 55%|█████▌    | 120/218 [1:01:55<57:12, 35.02s/it]"
     ]
    },
    {
     "name": "stdout",
     "output_type": "stream",
     "text": [
      "✅ 20201120_General_024_NOC_A_M40_MM_057 saved\n"
     ]
    },
    {
     "name": "stderr",
     "output_type": "stream",
     "text": [
      " 56%|█████▌    | 121/218 [1:02:30<56:49, 35.15s/it]"
     ]
    },
    {
     "name": "stdout",
     "output_type": "stream",
     "text": [
      "✅ 20201120_General_024_NOC_A_M40_MM_069 saved\n"
     ]
    },
    {
     "name": "stderr",
     "output_type": "stream",
     "text": [
      " 56%|█████▌    | 122/218 [1:03:06<56:38, 35.40s/it]"
     ]
    },
    {
     "name": "stdout",
     "output_type": "stream",
     "text": [
      "✅ 20201120_General_024_NOC_A_M40_MM_071 saved\n"
     ]
    },
    {
     "name": "stderr",
     "output_type": "stream",
     "text": [
      " 56%|█████▋    | 123/218 [1:03:30<50:47, 32.08s/it]"
     ]
    },
    {
     "name": "stdout",
     "output_type": "stream",
     "text": [
      "✅ 20201120_General_025_DOC_A_M40_MM_005 saved\n"
     ]
    },
    {
     "name": "stderr",
     "output_type": "stream",
     "text": [
      " 57%|█████▋    | 124/218 [1:03:51<44:41, 28.52s/it]"
     ]
    },
    {
     "name": "stdout",
     "output_type": "stream",
     "text": [
      "✅ 20201120_General_025_DOC_A_M40_MM_008 saved\n"
     ]
    },
    {
     "name": "stderr",
     "output_type": "stream",
     "text": [
      " 57%|█████▋    | 125/218 [1:04:21<45:11, 29.16s/it]"
     ]
    },
    {
     "name": "stdout",
     "output_type": "stream",
     "text": [
      "✅ 20201120_General_025_DOC_A_M40_MM_011 saved\n"
     ]
    },
    {
     "name": "stderr",
     "output_type": "stream",
     "text": [
      " 58%|█████▊    | 126/218 [1:04:48<43:21, 28.28s/it]"
     ]
    },
    {
     "name": "stdout",
     "output_type": "stream",
     "text": [
      "✅ 20201120_General_025_DOC_A_M40_MM_013 saved\n"
     ]
    },
    {
     "name": "stderr",
     "output_type": "stream",
     "text": [
      " 58%|█████▊    | 127/218 [1:05:07<38:42, 25.53s/it]"
     ]
    },
    {
     "name": "stdout",
     "output_type": "stream",
     "text": [
      "✅ 20201120_General_025_DOC_A_M40_MM_018 saved\n"
     ]
    },
    {
     "name": "stderr",
     "output_type": "stream",
     "text": [
      " 59%|█████▊    | 128/218 [1:05:23<34:13, 22.82s/it]"
     ]
    },
    {
     "name": "stdout",
     "output_type": "stream",
     "text": [
      "✅ 20201120_General_025_DOC_A_M40_MM_024 saved\n"
     ]
    },
    {
     "name": "stderr",
     "output_type": "stream",
     "text": [
      " 59%|█████▉    | 129/218 [1:05:43<32:30, 21.91s/it]"
     ]
    },
    {
     "name": "stdout",
     "output_type": "stream",
     "text": [
      "✅ 20201120_General_025_DOC_A_M40_MM_037 saved\n"
     ]
    },
    {
     "name": "stderr",
     "output_type": "stream",
     "text": [
      " 60%|█████▉    | 130/218 [1:06:06<32:29, 22.15s/it]"
     ]
    },
    {
     "name": "stdout",
     "output_type": "stream",
     "text": [
      "✅ 20201120_General_025_DOC_A_M40_MM_038 saved\n"
     ]
    },
    {
     "name": "stderr",
     "output_type": "stream",
     "text": [
      " 60%|██████    | 131/218 [1:06:24<30:27, 21.01s/it]"
     ]
    },
    {
     "name": "stdout",
     "output_type": "stream",
     "text": [
      "✅ 20201120_General_025_DOC_A_M40_MM_046 saved\n"
     ]
    },
    {
     "name": "stderr",
     "output_type": "stream",
     "text": [
      " 61%|██████    | 132/218 [1:06:40<28:08, 19.63s/it]"
     ]
    },
    {
     "name": "stdout",
     "output_type": "stream",
     "text": [
      "✅ 20201120_General_025_DOC_A_M40_MM_052 saved\n"
     ]
    },
    {
     "name": "stderr",
     "output_type": "stream",
     "text": [
      " 61%|██████    | 133/218 [1:07:00<27:59, 19.75s/it]"
     ]
    },
    {
     "name": "stdout",
     "output_type": "stream",
     "text": [
      "✅ 20201120_General_025_DOC_A_M40_MM_066 saved\n"
     ]
    },
    {
     "name": "stderr",
     "output_type": "stream",
     "text": [
      " 61%|██████▏   | 134/218 [1:07:20<27:40, 19.76s/it]"
     ]
    },
    {
     "name": "stdout",
     "output_type": "stream",
     "text": [
      "✅ 20201120_General_025_DOC_A_M40_MM_072 saved\n"
     ]
    },
    {
     "name": "stderr",
     "output_type": "stream",
     "text": [
      " 62%|██████▏   | 135/218 [1:07:43<28:27, 20.58s/it]"
     ]
    },
    {
     "name": "stdout",
     "output_type": "stream",
     "text": [
      "✅ 20201120_General_025_DOC_A_M40_MM_077 saved\n"
     ]
    },
    {
     "name": "stderr",
     "output_type": "stream",
     "text": [
      " 62%|██████▏   | 136/218 [1:08:03<28:07, 20.58s/it]"
     ]
    },
    {
     "name": "stdout",
     "output_type": "stream",
     "text": [
      "✅ 20201120_General_025_DOC_A_M40_MM_083 saved\n"
     ]
    },
    {
     "name": "stderr",
     "output_type": "stream",
     "text": [
      " 63%|██████▎   | 137/218 [1:08:40<34:15, 25.37s/it]"
     ]
    },
    {
     "name": "stdout",
     "output_type": "stream",
     "text": [
      "✅ 20201120_General_026_DOC_A_M40_MM_024 saved\n"
     ]
    },
    {
     "name": "stderr",
     "output_type": "stream",
     "text": [
      " 63%|██████▎   | 138/218 [1:09:15<37:42, 28.28s/it]"
     ]
    },
    {
     "name": "stdout",
     "output_type": "stream",
     "text": [
      "✅ 20201120_General_026_DOC_A_M40_MM_029 saved\n"
     ]
    },
    {
     "name": "stderr",
     "output_type": "stream",
     "text": [
      " 64%|██████▍   | 139/218 [1:10:03<44:54, 34.11s/it]"
     ]
    },
    {
     "name": "stdout",
     "output_type": "stream",
     "text": [
      "✅ 20201120_General_026_DOC_A_M40_MM_030 saved\n"
     ]
    },
    {
     "name": "stderr",
     "output_type": "stream",
     "text": [
      " 64%|██████▍   | 140/218 [1:10:35<43:45, 33.66s/it]"
     ]
    },
    {
     "name": "stdout",
     "output_type": "stream",
     "text": [
      "✅ 20201120_General_026_DOC_A_M40_MM_037 saved\n"
     ]
    },
    {
     "name": "stderr",
     "output_type": "stream",
     "text": [
      " 65%|██████▍   | 141/218 [1:11:05<41:37, 32.44s/it]"
     ]
    },
    {
     "name": "stdout",
     "output_type": "stream",
     "text": [
      "✅ 20201120_General_026_DOC_A_M40_MM_042 saved\n"
     ]
    },
    {
     "name": "stderr",
     "output_type": "stream",
     "text": [
      " 65%|██████▌   | 142/218 [1:11:13<31:49, 25.12s/it]"
     ]
    },
    {
     "name": "stdout",
     "output_type": "stream",
     "text": [
      "✅ 20201120_General_026_DOC_A_M40_MM_051 saved\n"
     ]
    },
    {
     "name": "stderr",
     "output_type": "stream",
     "text": [
      " 66%|██████▌   | 143/218 [1:11:45<33:50, 27.07s/it]"
     ]
    },
    {
     "name": "stdout",
     "output_type": "stream",
     "text": [
      "✅ 20201120_General_026_NOC_A_M40_MM_073 saved\n"
     ]
    },
    {
     "name": "stderr",
     "output_type": "stream",
     "text": [
      " 66%|██████▌   | 144/218 [1:12:15<34:49, 28.23s/it]"
     ]
    },
    {
     "name": "stdout",
     "output_type": "stream",
     "text": [
      "✅ 20201120_General_026_NOC_A_M40_MM_075 saved\n"
     ]
    },
    {
     "name": "stderr",
     "output_type": "stream",
     "text": [
      " 67%|██████▋   | 145/218 [1:12:41<33:12, 27.30s/it]"
     ]
    },
    {
     "name": "stdout",
     "output_type": "stream",
     "text": [
      "✅ 20201120_General_026_NOC_A_M40_MM_077 saved\n"
     ]
    },
    {
     "name": "stderr",
     "output_type": "stream",
     "text": [
      " 67%|██████▋   | 146/218 [1:13:02<30:36, 25.51s/it]"
     ]
    },
    {
     "name": "stdout",
     "output_type": "stream",
     "text": [
      "✅ 20201120_General_027_DOC_A_M40_MM_003 saved\n"
     ]
    },
    {
     "name": "stderr",
     "output_type": "stream",
     "text": [
      " 67%|██████▋   | 147/218 [1:13:18<26:50, 22.68s/it]"
     ]
    },
    {
     "name": "stdout",
     "output_type": "stream",
     "text": [
      "✅ 20201120_General_027_DOC_A_M40_MM_008 saved\n"
     ]
    },
    {
     "name": "stderr",
     "output_type": "stream",
     "text": [
      " 68%|██████▊   | 148/218 [1:13:51<29:58, 25.69s/it]"
     ]
    },
    {
     "name": "stdout",
     "output_type": "stream",
     "text": [
      "✅ 20201120_General_027_DOC_A_M40_MM_013 saved\n"
     ]
    },
    {
     "name": "stderr",
     "output_type": "stream",
     "text": [
      " 68%|██████▊   | 149/218 [1:14:16<29:17, 25.47s/it]"
     ]
    },
    {
     "name": "stdout",
     "output_type": "stream",
     "text": [
      "✅ 20201120_General_027_DOC_A_M40_MM_015 saved\n"
     ]
    },
    {
     "name": "stderr",
     "output_type": "stream",
     "text": [
      " 69%|██████▉   | 150/218 [1:14:54<33:14, 29.33s/it]"
     ]
    },
    {
     "name": "stdout",
     "output_type": "stream",
     "text": [
      "✅ 20201120_General_027_DOC_A_M40_MM_025 saved\n"
     ]
    },
    {
     "name": "stderr",
     "output_type": "stream",
     "text": [
      " 69%|██████▉   | 151/218 [1:15:31<35:14, 31.56s/it]"
     ]
    },
    {
     "name": "stdout",
     "output_type": "stream",
     "text": [
      "✅ 20201120_General_027_DOC_A_M40_MM_028 saved\n"
     ]
    },
    {
     "name": "stderr",
     "output_type": "stream",
     "text": [
      " 70%|██████▉   | 152/218 [1:16:07<36:23, 33.09s/it]"
     ]
    },
    {
     "name": "stdout",
     "output_type": "stream",
     "text": [
      "✅ 20201120_General_027_DOC_A_M40_MM_033 saved\n"
     ]
    },
    {
     "name": "stderr",
     "output_type": "stream",
     "text": [
      " 70%|███████   | 153/218 [1:16:42<36:14, 33.45s/it]"
     ]
    },
    {
     "name": "stdout",
     "output_type": "stream",
     "text": [
      "✅ 20201120_General_027_DOC_A_M40_MM_035 saved\n"
     ]
    },
    {
     "name": "stderr",
     "output_type": "stream",
     "text": [
      " 71%|███████   | 154/218 [1:17:15<35:28, 33.26s/it]"
     ]
    },
    {
     "name": "stdout",
     "output_type": "stream",
     "text": [
      "✅ 20201120_General_027_DOC_A_M40_MM_040 saved\n"
     ]
    },
    {
     "name": "stderr",
     "output_type": "stream",
     "text": [
      " 71%|███████   | 155/218 [1:17:50<35:43, 34.03s/it]"
     ]
    },
    {
     "name": "stdout",
     "output_type": "stream",
     "text": [
      "✅ 20201120_General_027_DOC_A_M40_MM_047 saved\n"
     ]
    },
    {
     "name": "stderr",
     "output_type": "stream",
     "text": [
      " 72%|███████▏  | 156/218 [1:18:27<35:56, 34.78s/it]"
     ]
    },
    {
     "name": "stdout",
     "output_type": "stream",
     "text": [
      "✅ 20201120_General_027_DOC_A_M40_MM_049 saved\n"
     ]
    },
    {
     "name": "stderr",
     "output_type": "stream",
     "text": [
      " 72%|███████▏  | 157/218 [1:19:04<36:11, 35.60s/it]"
     ]
    },
    {
     "name": "stdout",
     "output_type": "stream",
     "text": [
      "✅ 20201120_General_027_DOC_A_M40_MM_050 saved\n"
     ]
    },
    {
     "name": "stderr",
     "output_type": "stream",
     "text": [
      " 72%|███████▏  | 158/218 [1:19:38<35:05, 35.10s/it]"
     ]
    },
    {
     "name": "stdout",
     "output_type": "stream",
     "text": [
      "✅ 20201120_General_027_DOC_A_M40_MM_051 saved\n"
     ]
    },
    {
     "name": "stderr",
     "output_type": "stream",
     "text": [
      " 73%|███████▎  | 159/218 [1:20:04<31:36, 32.15s/it]"
     ]
    },
    {
     "name": "stdout",
     "output_type": "stream",
     "text": [
      "✅ 20201120_General_028_DOC_A_M40_MM_005 saved\n"
     ]
    },
    {
     "name": "stderr",
     "output_type": "stream",
     "text": [
      " 73%|███████▎  | 160/218 [1:20:29<29:12, 30.21s/it]"
     ]
    },
    {
     "name": "stdout",
     "output_type": "stream",
     "text": [
      "✅ 20201120_General_028_DOC_A_M40_MM_023 saved\n"
     ]
    },
    {
     "name": "stderr",
     "output_type": "stream",
     "text": [
      " 74%|███████▍  | 161/218 [1:20:58<28:21, 29.86s/it]"
     ]
    },
    {
     "name": "stdout",
     "output_type": "stream",
     "text": [
      "✅ 20201120_General_028_DOC_A_M40_MM_036 saved\n"
     ]
    },
    {
     "name": "stderr",
     "output_type": "stream",
     "text": [
      " 74%|███████▍  | 162/218 [1:21:23<26:22, 28.26s/it]"
     ]
    },
    {
     "name": "stdout",
     "output_type": "stream",
     "text": [
      "✅ 20201120_General_028_DOC_A_M40_MM_039 saved\n"
     ]
    },
    {
     "name": "stderr",
     "output_type": "stream",
     "text": [
      " 75%|███████▍  | 163/218 [1:21:29<19:50, 21.65s/it]"
     ]
    },
    {
     "name": "stdout",
     "output_type": "stream",
     "text": [
      "✅ 20201120_General_028_DOC_A_M40_MM_046 saved\n"
     ]
    },
    {
     "name": "stderr",
     "output_type": "stream",
     "text": [
      " 75%|███████▌  | 164/218 [1:21:57<21:08, 23.49s/it]"
     ]
    },
    {
     "name": "stdout",
     "output_type": "stream",
     "text": [
      "✅ 20201120_General_028_DOC_A_M40_MM_050 saved\n"
     ]
    },
    {
     "name": "stderr",
     "output_type": "stream",
     "text": [
      " 76%|███████▌  | 165/218 [1:22:22<21:19, 24.14s/it]"
     ]
    },
    {
     "name": "stdout",
     "output_type": "stream",
     "text": [
      "✅ 20201120_General_028_DOC_A_M40_MM_057 saved\n"
     ]
    },
    {
     "name": "stderr",
     "output_type": "stream",
     "text": [
      " 76%|███████▌  | 166/218 [1:22:45<20:37, 23.80s/it]"
     ]
    },
    {
     "name": "stdout",
     "output_type": "stream",
     "text": [
      "✅ 20201120_General_028_NOC_A_M40_MM_060 saved\n"
     ]
    },
    {
     "name": "stderr",
     "output_type": "stream",
     "text": [
      " 77%|███████▋  | 167/218 [1:23:10<20:24, 24.00s/it]"
     ]
    },
    {
     "name": "stdout",
     "output_type": "stream",
     "text": [
      "✅ 20201120_General_028_NOC_A_M40_MM_064 saved\n"
     ]
    },
    {
     "name": "stderr",
     "output_type": "stream",
     "text": [
      " 77%|███████▋  | 168/218 [1:23:37<20:42, 24.85s/it]"
     ]
    },
    {
     "name": "stdout",
     "output_type": "stream",
     "text": [
      "✅ 20201120_General_028_NOC_A_M40_MM_066 saved\n"
     ]
    },
    {
     "name": "stderr",
     "output_type": "stream",
     "text": [
      " 78%|███████▊  | 169/218 [1:24:01<20:13, 24.76s/it]"
     ]
    },
    {
     "name": "stdout",
     "output_type": "stream",
     "text": [
      "✅ 20201120_General_028_NOC_A_M40_MM_072 saved\n"
     ]
    },
    {
     "name": "stderr",
     "output_type": "stream",
     "text": [
      " 78%|███████▊  | 170/218 [1:24:30<20:40, 25.85s/it]"
     ]
    },
    {
     "name": "stdout",
     "output_type": "stream",
     "text": [
      "✅ 20201120_General_028_NOC_A_M40_MM_077 saved\n"
     ]
    },
    {
     "name": "stderr",
     "output_type": "stream",
     "text": [
      " 78%|███████▊  | 171/218 [1:24:43<17:16, 22.06s/it]"
     ]
    },
    {
     "name": "stdout",
     "output_type": "stream",
     "text": [
      "✅ 20201120_General_028_NOC_A_M40_MM_078 saved\n"
     ]
    },
    {
     "name": "stderr",
     "output_type": "stream",
     "text": [
      " 79%|███████▉  | 172/218 [1:25:12<18:30, 24.15s/it]"
     ]
    },
    {
     "name": "stdout",
     "output_type": "stream",
     "text": [
      "✅ 20201120_General_028_NOC_A_M40_MM_081 saved\n"
     ]
    },
    {
     "name": "stderr",
     "output_type": "stream",
     "text": [
      " 79%|███████▉  | 173/218 [1:25:42<19:32, 26.05s/it]"
     ]
    },
    {
     "name": "stdout",
     "output_type": "stream",
     "text": [
      "✅ 20201123_General_029_DOS_A_M40_MM_003 saved\n"
     ]
    },
    {
     "name": "stderr",
     "output_type": "stream",
     "text": [
      " 80%|███████▉  | 174/218 [1:26:07<18:50, 25.70s/it]"
     ]
    },
    {
     "name": "stdout",
     "output_type": "stream",
     "text": [
      "✅ 20201123_General_029_DOS_A_M40_MM_005 saved\n"
     ]
    },
    {
     "name": "stderr",
     "output_type": "stream",
     "text": [
      " 80%|████████  | 175/218 [1:26:40<19:48, 27.65s/it]"
     ]
    },
    {
     "name": "stdout",
     "output_type": "stream",
     "text": [
      "✅ 20201123_General_029_DOS_A_M40_MM_044 saved\n"
     ]
    },
    {
     "name": "stderr",
     "output_type": "stream",
     "text": [
      " 81%|████████  | 176/218 [1:27:11<20:13, 28.90s/it]"
     ]
    },
    {
     "name": "stdout",
     "output_type": "stream",
     "text": [
      "✅ 20201123_General_029_DOS_A_M40_MM_045 saved\n"
     ]
    },
    {
     "name": "stderr",
     "output_type": "stream",
     "text": [
      " 81%|████████  | 177/218 [1:27:43<20:22, 29.81s/it]"
     ]
    },
    {
     "name": "stdout",
     "output_type": "stream",
     "text": [
      "✅ 20201123_General_029_DOS_A_M40_MM_057 saved\n"
     ]
    },
    {
     "name": "stderr",
     "output_type": "stream",
     "text": [
      " 82%|████████▏ | 178/218 [1:28:09<19:05, 28.64s/it]"
     ]
    },
    {
     "name": "stdout",
     "output_type": "stream",
     "text": [
      "✅ 20201123_General_031_DOS_A_M30_MM_013 saved\n"
     ]
    },
    {
     "name": "stderr",
     "output_type": "stream",
     "text": [
      " 82%|████████▏ | 179/218 [1:28:37<18:29, 28.45s/it]"
     ]
    },
    {
     "name": "stdout",
     "output_type": "stream",
     "text": [
      "✅ 20201123_General_031_DOS_A_M30_MM_035 saved\n"
     ]
    },
    {
     "name": "stderr",
     "output_type": "stream",
     "text": [
      " 83%|████████▎ | 180/218 [1:29:08<18:25, 29.10s/it]"
     ]
    },
    {
     "name": "stdout",
     "output_type": "stream",
     "text": [
      "✅ 20201123_General_031_DOS_A_M30_MM_047 saved\n"
     ]
    },
    {
     "name": "stderr",
     "output_type": "stream",
     "text": [
      " 83%|████████▎ | 181/218 [1:29:36<17:44, 28.77s/it]"
     ]
    },
    {
     "name": "stdout",
     "output_type": "stream",
     "text": [
      "✅ 20201123_General_031_DOS_A_M30_MM_051 saved\n"
     ]
    },
    {
     "name": "stderr",
     "output_type": "stream",
     "text": [
      " 83%|████████▎ | 182/218 [1:30:03<16:58, 28.28s/it]"
     ]
    },
    {
     "name": "stdout",
     "output_type": "stream",
     "text": [
      "✅ 20201124_General_033_DOS_A_M40_MM_005 saved\n"
     ]
    },
    {
     "name": "stderr",
     "output_type": "stream",
     "text": [
      " 84%|████████▍ | 183/218 [1:30:27<15:48, 27.11s/it]"
     ]
    },
    {
     "name": "stdout",
     "output_type": "stream",
     "text": [
      "✅ 20201124_General_033_DOS_A_M40_MM_008 saved\n"
     ]
    },
    {
     "name": "stderr",
     "output_type": "stream",
     "text": [
      " 84%|████████▍ | 184/218 [1:30:45<13:50, 24.41s/it]"
     ]
    },
    {
     "name": "stdout",
     "output_type": "stream",
     "text": [
      "✅ 20201124_General_033_DOS_A_M40_MM_023 saved\n"
     ]
    },
    {
     "name": "stderr",
     "output_type": "stream",
     "text": [
      " 85%|████████▍ | 185/218 [1:31:15<14:20, 26.07s/it]"
     ]
    },
    {
     "name": "stdout",
     "output_type": "stream",
     "text": [
      "✅ 20201124_General_033_DOS_A_M40_MM_024 saved\n"
     ]
    },
    {
     "name": "stderr",
     "output_type": "stream",
     "text": [
      " 85%|████████▌ | 186/218 [1:31:40<13:40, 25.65s/it]"
     ]
    },
    {
     "name": "stdout",
     "output_type": "stream",
     "text": [
      "✅ 20201124_General_033_DOS_A_M40_MM_026 saved\n"
     ]
    },
    {
     "name": "stderr",
     "output_type": "stream",
     "text": [
      " 86%|████████▌ | 187/218 [1:31:57<11:51, 22.96s/it]"
     ]
    },
    {
     "name": "stdout",
     "output_type": "stream",
     "text": [
      "✅ 20201124_General_033_DOS_A_M40_MM_027 saved\n"
     ]
    },
    {
     "name": "stderr",
     "output_type": "stream",
     "text": [
      " 86%|████████▌ | 188/218 [1:32:20<11:34, 23.14s/it]"
     ]
    },
    {
     "name": "stdout",
     "output_type": "stream",
     "text": [
      "✅ 20201124_General_033_DOS_A_M40_MM_032 saved\n"
     ]
    },
    {
     "name": "stderr",
     "output_type": "stream",
     "text": [
      " 87%|████████▋ | 189/218 [1:32:45<11:26, 23.66s/it]"
     ]
    },
    {
     "name": "stdout",
     "output_type": "stream",
     "text": [
      "✅ 20201124_General_033_DOS_A_M40_MM_041 saved\n"
     ]
    },
    {
     "name": "stderr",
     "output_type": "stream",
     "text": [
      " 87%|████████▋ | 190/218 [1:33:06<10:37, 22.76s/it]"
     ]
    },
    {
     "name": "stdout",
     "output_type": "stream",
     "text": [
      "✅ 20201124_General_033_DOS_A_M40_MM_061 saved\n"
     ]
    },
    {
     "name": "stderr",
     "output_type": "stream",
     "text": [
      " 88%|████████▊ | 191/218 [1:33:35<11:02, 24.53s/it]"
     ]
    },
    {
     "name": "stdout",
     "output_type": "stream",
     "text": [
      "✅ 20201124_General_033_DOS_A_M40_MM_063 saved\n"
     ]
    },
    {
     "name": "stderr",
     "output_type": "stream",
     "text": [
      " 88%|████████▊ | 192/218 [1:34:00<10:42, 24.71s/it]"
     ]
    },
    {
     "name": "stdout",
     "output_type": "stream",
     "text": [
      "✅ 20201124_General_034_DOS_A_M40_MM_004 saved\n"
     ]
    },
    {
     "name": "stderr",
     "output_type": "stream",
     "text": [
      " 89%|████████▊ | 193/218 [1:34:30<11:03, 26.52s/it]"
     ]
    },
    {
     "name": "stdout",
     "output_type": "stream",
     "text": [
      "✅ 20201124_General_034_DOS_A_M40_MM_011 saved\n"
     ]
    },
    {
     "name": "stderr",
     "output_type": "stream",
     "text": [
      " 89%|████████▉ | 194/218 [1:34:56<10:27, 26.13s/it]"
     ]
    },
    {
     "name": "stdout",
     "output_type": "stream",
     "text": [
      "✅ 20201124_General_034_DOS_A_M40_MM_016 saved\n"
     ]
    },
    {
     "name": "stderr",
     "output_type": "stream",
     "text": [
      " 89%|████████▉ | 195/218 [1:35:12<08:56, 23.33s/it]"
     ]
    },
    {
     "name": "stdout",
     "output_type": "stream",
     "text": [
      "✅ 20201124_General_034_DOS_A_M40_MM_028 saved\n"
     ]
    },
    {
     "name": "stderr",
     "output_type": "stream",
     "text": [
      " 90%|████████▉ | 196/218 [1:35:45<09:34, 26.11s/it]"
     ]
    },
    {
     "name": "stdout",
     "output_type": "stream",
     "text": [
      "✅ 20201124_General_034_DOS_A_M40_MM_036 saved\n"
     ]
    },
    {
     "name": "stderr",
     "output_type": "stream",
     "text": [
      " 90%|█████████ | 197/218 [1:36:10<08:59, 25.71s/it]"
     ]
    },
    {
     "name": "stdout",
     "output_type": "stream",
     "text": [
      "✅ 20201124_General_034_DOS_A_M40_MM_038 saved\n"
     ]
    },
    {
     "name": "stderr",
     "output_type": "stream",
     "text": [
      " 91%|█████████ | 198/218 [1:36:40<09:02, 27.14s/it]"
     ]
    },
    {
     "name": "stdout",
     "output_type": "stream",
     "text": [
      "✅ 20201124_General_034_DOS_A_M40_MM_040 saved\n"
     ]
    },
    {
     "name": "stderr",
     "output_type": "stream",
     "text": [
      " 91%|█████████▏| 199/218 [1:37:06<08:28, 26.74s/it]"
     ]
    },
    {
     "name": "stdout",
     "output_type": "stream",
     "text": [
      "✅ 20201124_General_034_DOS_A_M40_MM_050 saved\n"
     ]
    },
    {
     "name": "stderr",
     "output_type": "stream",
     "text": [
      " 92%|█████████▏| 200/218 [1:37:28<07:37, 25.42s/it]"
     ]
    },
    {
     "name": "stdout",
     "output_type": "stream",
     "text": [
      "✅ 20201124_General_034_DOS_A_M40_MM_062 saved\n"
     ]
    },
    {
     "name": "stderr",
     "output_type": "stream",
     "text": [
      " 92%|█████████▏| 201/218 [1:37:55<07:18, 25.81s/it]"
     ]
    },
    {
     "name": "stdout",
     "output_type": "stream",
     "text": [
      "✅ 20201124_General_034_DOS_A_M40_MM_063 saved\n"
     ]
    },
    {
     "name": "stderr",
     "output_type": "stream",
     "text": [
      " 93%|█████████▎| 202/218 [1:38:14<06:18, 23.68s/it]"
     ]
    },
    {
     "name": "stdout",
     "output_type": "stream",
     "text": [
      "✅ 20201124_General_034_DOS_A_M40_MM_083 saved\n"
     ]
    },
    {
     "name": "stderr",
     "output_type": "stream",
     "text": [
      " 93%|█████████▎| 203/218 [1:38:42<06:14, 25.00s/it]"
     ]
    },
    {
     "name": "stdout",
     "output_type": "stream",
     "text": [
      "✅ 20201124_General_034_DOS_A_M40_MM_084 saved\n"
     ]
    },
    {
     "name": "stderr",
     "output_type": "stream",
     "text": [
      " 94%|█████████▎| 204/218 [1:38:58<05:14, 22.45s/it]"
     ]
    },
    {
     "name": "stdout",
     "output_type": "stream",
     "text": [
      "✅ 20201124_General_034_DOS_A_M40_MM_085 saved\n"
     ]
    },
    {
     "name": "stderr",
     "output_type": "stream",
     "text": [
      " 94%|█████████▍| 205/218 [1:39:22<04:54, 22.64s/it]"
     ]
    },
    {
     "name": "stdout",
     "output_type": "stream",
     "text": [
      "✅ 20201124_General_034_DOS_A_M40_MM_088 saved\n"
     ]
    },
    {
     "name": "stderr",
     "output_type": "stream",
     "text": [
      " 94%|█████████▍| 206/218 [1:39:56<05:14, 26.17s/it]"
     ]
    },
    {
     "name": "stdout",
     "output_type": "stream",
     "text": [
      "✅ 20201124_General_035_DOS_A_M40_BT_007 saved\n"
     ]
    },
    {
     "name": "stderr",
     "output_type": "stream",
     "text": [
      " 95%|█████████▍| 207/218 [1:40:25<04:55, 26.90s/it]"
     ]
    },
    {
     "name": "stdout",
     "output_type": "stream",
     "text": [
      "✅ 20201124_General_035_DOS_A_M40_BT_019 saved\n"
     ]
    },
    {
     "name": "stderr",
     "output_type": "stream",
     "text": [
      " 95%|█████████▌| 208/218 [1:40:54<04:36, 27.66s/it]"
     ]
    },
    {
     "name": "stdout",
     "output_type": "stream",
     "text": [
      "✅ 20201124_General_035_DOS_A_M40_BT_028 saved\n"
     ]
    },
    {
     "name": "stderr",
     "output_type": "stream",
     "text": [
      " 96%|█████████▌| 209/218 [1:41:16<03:54, 26.07s/it]"
     ]
    },
    {
     "name": "stdout",
     "output_type": "stream",
     "text": [
      "✅ 20201124_General_035_DOS_A_M40_BT_031 saved\n"
     ]
    },
    {
     "name": "stderr",
     "output_type": "stream",
     "text": [
      " 96%|█████████▋| 210/218 [1:41:49<03:45, 28.14s/it]"
     ]
    },
    {
     "name": "stdout",
     "output_type": "stream",
     "text": [
      "✅ 20201124_General_035_DOS_A_M40_BT_052 saved\n"
     ]
    },
    {
     "name": "stderr",
     "output_type": "stream",
     "text": [
      " 97%|█████████▋| 211/218 [1:42:18<03:17, 28.21s/it]"
     ]
    },
    {
     "name": "stdout",
     "output_type": "stream",
     "text": [
      "✅ 20201124_General_035_DOS_A_M40_BT_055 saved\n"
     ]
    },
    {
     "name": "stderr",
     "output_type": "stream",
     "text": [
      " 97%|█████████▋| 212/218 [1:42:45<02:47, 27.91s/it]"
     ]
    },
    {
     "name": "stdout",
     "output_type": "stream",
     "text": [
      "✅ 20201124_General_035_DOS_A_M40_BT_069 saved\n"
     ]
    },
    {
     "name": "stderr",
     "output_type": "stream",
     "text": [
      " 98%|█████████▊| 213/218 [1:43:15<02:23, 28.72s/it]"
     ]
    },
    {
     "name": "stdout",
     "output_type": "stream",
     "text": [
      "✅ 20201124_General_036_DOS_A_M50_MM_017 saved\n"
     ]
    },
    {
     "name": "stderr",
     "output_type": "stream",
     "text": [
      " 98%|█████████▊| 214/218 [1:43:42<01:51, 27.94s/it]"
     ]
    },
    {
     "name": "stdout",
     "output_type": "stream",
     "text": [
      "✅ 20201124_General_036_DOS_A_M50_MM_023 saved\n"
     ]
    },
    {
     "name": "stderr",
     "output_type": "stream",
     "text": [
      " 99%|█████████▊| 215/218 [1:44:04<01:19, 26.39s/it]"
     ]
    },
    {
     "name": "stdout",
     "output_type": "stream",
     "text": [
      "✅ 20201124_General_036_DOS_A_M50_MM_034 saved\n"
     ]
    },
    {
     "name": "stderr",
     "output_type": "stream",
     "text": [
      " 99%|█████████▉| 216/218 [1:44:36<00:55, 27.86s/it]"
     ]
    },
    {
     "name": "stdout",
     "output_type": "stream",
     "text": [
      "✅ 20201124_General_036_DOS_A_M50_MM_042 saved\n"
     ]
    },
    {
     "name": "stderr",
     "output_type": "stream",
     "text": [
      "100%|█████████▉| 217/218 [1:45:03<00:27, 27.58s/it]"
     ]
    },
    {
     "name": "stdout",
     "output_type": "stream",
     "text": [
      "✅ 20201124_General_036_DOS_A_M50_MM_068 saved\n"
     ]
    },
    {
     "name": "stderr",
     "output_type": "stream",
     "text": [
      "100%|██████████| 218/218 [1:45:27<00:00, 29.02s/it]"
     ]
    },
    {
     "name": "stdout",
     "output_type": "stream",
     "text": [
      "✅ 20201124_General_036_DOS_A_M50_MM_069 saved\n"
     ]
    },
    {
     "name": "stderr",
     "output_type": "stream",
     "text": [
      "\n"
     ]
    }
   ],
   "source": [
    "# %% -------------------------------------------------\n",
    "# 🏌️‍♂️ Cell 2 — OpenPose ➜ 1-Person Median-Box Crop & CSV Keypoints\n",
    "# ---------------------------------------------------------\n",
    "\"\"\"\n",
    "1. OpenPose (`--tracking 1 --number_people_max 2`) → _tmp_json/raw_<name>\n",
    "   • frame마다 person_id==0 만 추출\n",
    "2. Torso keypoints(Neck·MidHip·Shoulders·RootHip)로\n",
    "   • 중심(cx,cy) = median\n",
    "   • 폭·높이(w,h) = 90-percentile × (1+MARGIN)\n",
    "3. FFmpeg 고정 크롭 → crop_video/\n",
    "4. 크롭 영상 재-OpenPose → _tmp_json/crop_<name>\n",
    "5. frame별 keypoints → CSV(25×3 cols) → crop_keypoint/\n",
    "\"\"\"\n",
    "\n",
    "import os, subprocess\n",
    "from pathlib import Path\n",
    "import subprocess, json, shutil, numpy as np, pandas as pd\n",
    "from tqdm import tqdm\n",
    "from sklearn.cluster import DBSCAN\n",
    "\n",
    "# ✏️ 경로 설정\n",
    "CUR_DIR = Path(os.getcwd())  # 현재 작업 디렉토리\n",
    "\n",
    "\n",
    "# ROOT_DIR을 balanced_true냐 false 냐에 따라 작업 위치 변경\n",
    "if tf:\n",
    "    ROOT_DIR = CUR_DIR / \"balanced_true\"  # true 데이터셋 작업 디렉토리\n",
    "else:\n",
    "    ROOT_DIR = CUR_DIR / \"false\"\n",
    "VIDEO_DIR  = ROOT_DIR / \"video\"        # 생성될 MP4 저장 폴더\n",
    "FPS        = 30                        # 출력 비디오 FPS\n",
    "VIDEO_DIR.mkdir(parents=True, exist_ok=True)\n",
    "\n",
    "# ✏️ 경로 / 파라미터 -----------------------------------------------------------\n",
    "OPENPOSE_EXE    = Path(r\"C:/openpose/openpose/bin/OpenPoseDemo.exe\")\n",
    "OPENPOSE_ROOT   = OPENPOSE_EXE.parent.parent       # …/openpose\n",
    "CROP_VIDEO_DIR  = ROOT_DIR / \"crop_video\"\n",
    "CROP_KP_DIR     = ROOT_DIR / \"crop_keypoint\"\n",
    "TMP_JSON_DIR    = ROOT_DIR / \"_tmp_json\"\n",
    "PAD_RATIO       = 0.10\n",
    "for d in [CROP_VIDEO_DIR, CROP_KP_DIR, TMP_JSON_DIR]:\n",
    "    d.mkdir(parents=True, exist_ok=True)\n",
    "\n",
    "# ---------- OpenPose ---------------------------------------------------\n",
    "\n",
    "def run_openpose(video: Path, out_dir: Path):\n",
    "    \"\"\"Run OpenPose CLI (CPU/GPU auto) and dump JSONs to out_dir.\"\"\"\n",
    "    out_dir.mkdir(parents=True, exist_ok=True)\n",
    "    cmd = [str(OPENPOSE_EXE),\n",
    "           \"--video\", str(video),\n",
    "           \"--write_json\", str(out_dir),\n",
    "           \"--display\", \"0\", \"--render_pose\", \"0\",\n",
    "           \"--number_people_max\", \"1\",\n",
    "           \"--model_folder\", str(OPENPOSE_ROOT / \"models\")]\n",
    "    subprocess.run(cmd, check=True, cwd=OPENPOSE_ROOT)\n",
    "\n",
    "# ---------- 주요 인물 프레임 추출 --------------------------------------\n",
    "TORSO_IDXS = [1, 8, 11, 14, 17]   # Neck, MidHip, Shoulders, RootHip\n",
    "\n",
    "def main_person_boxes(json_dir: Path):\n",
    "    \"\"\"Return list[box] for the dominant person (DBSCAN filtering).\"\"\"\n",
    "    centers, boxes = [], []\n",
    "    for jf in sorted(json_dir.glob(\"*.json\")):\n",
    "        data = json.load(open(jf))\n",
    "        if not data.get(\"people\"):             # no detections\n",
    "            continue\n",
    "        kps = np.array(data[\"people\"][0][\"pose_keypoints_2d\"]).reshape(-1, 3)\n",
    "        if kps[8, 2] < 0.10:                    # MidHip conf too low\n",
    "            continue\n",
    "        cx, cy = kps[8, :2]\n",
    "        valid = kps[:, 2] > 0.05\n",
    "        xs, ys = kps[valid, 0], kps[valid, 1]\n",
    "        centers.append([cx, cy])\n",
    "        boxes.append([xs.min(), ys.min(), xs.max(), ys.max()])\n",
    "\n",
    "    if not centers:\n",
    "        return []\n",
    "\n",
    "    centers = np.array(centers)\n",
    "    # DBSCAN cluster on MidHip center positions (pixel space)\n",
    "    labels = DBSCAN(eps=100, min_samples=5).fit_predict(centers)\n",
    "    if (labels != -1).any():\n",
    "        main_label = np.bincount(labels[labels != -1]).argmax()\n",
    "    else:                                       # all noise → take all\n",
    "        main_label = 0\n",
    "    return [boxes[i] for i, lb in enumerate(labels) if lb == main_label]\n",
    "\n",
    "# ---------- Union‑box ---------------------------------------------------\n",
    "\n",
    "def union_box(box_list):\n",
    "    arr = np.array(box_list)\n",
    "    x1, y1 = arr[:, :2].min(0)\n",
    "    x2, y2 = arr[:, 2:].max(0)\n",
    "    w, h = x2 - x1, y2 - y1\n",
    "    pad_w, pad_h = w * PAD_RATIO, h * PAD_RATIO\n",
    "    return int(x1 - pad_w), int(y1 - pad_h), int(w + 2 * pad_w), int(h + 2 * pad_h)\n",
    "\n",
    "# ---------- Crop helper -------------------------------------------------\n",
    "\n",
    "def crop_video(src: Path, dst: Path, bbox):\n",
    "    x, y, w, h = bbox\n",
    "    cmd = [\"ffmpeg\", \"-y\", \"-i\", str(src),\n",
    "           \"-filter:v\", f\"crop={w}:{h}:{x}:{y}\",\n",
    "           \"-pix_fmt\", \"yuv420p\", str(dst)]\n",
    "    subprocess.run(cmd, check=True)\n",
    "\n",
    "# ---------- JSON → CSV --------------------------------------------------\n",
    "KP = [\"Nose\", \"Neck\", \"RShoulder\", \"RElbow\", \"RWrist\", \"LShoulder\", \"LElbow\", \"LWrist\",\n",
    "      \"MidHip\", \"RHip\", \"RKnee\", \"RAnkle\", \"LHip\", \"LKnee\", \"LAnkle\", \"REye\", \"LEye\",\n",
    "      \"REar\", \"LEar\", \"LBigToe\", \"LSmallToe\", \"LHeel\", \"RBigToe\", \"RSmallToe\", \"RHeel\"]\n",
    "COLS = [f\"{n}_{a}\" for n in KP for a in (\"x\", \"y\", \"c\")]\n",
    "\n",
    "def json_dir_to_csv(json_dir: Path, csv_path: Path):\n",
    "    rows = []\n",
    "    for jf in sorted(json_dir.glob(\"*.json\")):\n",
    "        data = json.load(open(jf))\n",
    "        if not data.get(\"people\"):\n",
    "            rows.append([np.nan] * 75)\n",
    "            continue\n",
    "        rows.append(data[\"people\"][0][\"pose_keypoints_2d\"])\n",
    "    pd.DataFrame(rows, columns=COLS).to_csv(csv_path, index=False)\n",
    "\n",
    "# ---------- 전체 파이프라인 --------------------------------------------\n",
    "\n",
    "def preprocess_all():\n",
    "    for vid in tqdm(sorted(VIDEO_DIR.glob(\"*.mp4\"))):\n",
    "        name = vid.stem\n",
    "        raw_dir = TMP_JSON_DIR / f\"raw_{name}\"\n",
    "        run_openpose(vid, raw_dir)\n",
    "\n",
    "        boxes = main_person_boxes(raw_dir)\n",
    "        if not boxes:\n",
    "            print(f\"⚠️  No valid person in {vid.name}\")\n",
    "            continue\n",
    "        bbox = union_box(boxes)\n",
    "\n",
    "        crop_mp4 = CROP_VIDEO_DIR / f\"{name}_crop.mp4\"\n",
    "        crop_video(vid, crop_mp4, bbox)\n",
    "\n",
    "        crop_dir = TMP_JSON_DIR / f\"crop_{name}\"\n",
    "        run_openpose(crop_mp4, crop_dir)\n",
    "\n",
    "        csv_path = CROP_KP_DIR / f\"{name}.csv\"\n",
    "        json_dir_to_csv(crop_dir, csv_path)\n",
    "        print(f\"✅ {name} saved\")\n",
    "\n",
    "    shutil.rmtree(TMP_JSON_DIR)  # ← 중간 JSON 정리하려면 주석 해제\n",
    "\n",
    "# 실행 예시\n",
    "preprocess_all()\n"
   ]
  }
 ],
 "metadata": {
  "kernelspec": {
   "display_name": "base",
   "language": "python",
   "name": "python3"
  },
  "language_info": {
   "codemirror_mode": {
    "name": "ipython",
    "version": 3
   },
   "file_extension": ".py",
   "mimetype": "text/x-python",
   "name": "python",
   "nbconvert_exporter": "python",
   "pygments_lexer": "ipython3",
   "version": "3.12.3"
  }
 },
 "nbformat": 4,
 "nbformat_minor": 5
}
