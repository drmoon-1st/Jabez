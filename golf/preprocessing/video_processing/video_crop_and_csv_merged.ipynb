{
 "cells": [
  {
   "cell_type": "code",
   "execution_count": null,
   "id": "cf740e9e",
   "metadata": {},
   "outputs": [
    {
     "name": "stderr",
     "output_type": "stream",
     "text": [
      "Processing false:   1%|          | 1/148 [00:26<1:03:46, 26.03s/it]"
     ]
    },
    {
     "name": "stdout",
     "output_type": "stream",
     "text": [
      "✅ false / 20201123_General_030_DOS_A_M40_MM_070 saved\n"
     ]
    },
    {
     "name": "stderr",
     "output_type": "stream",
     "text": [
      "Processing false:   1%|▏         | 2/148 [00:55<1:07:38, 27.80s/it]"
     ]
    },
    {
     "name": "stdout",
     "output_type": "stream",
     "text": [
      "✅ false / 20201210_General_112_DOC_A_M20_MM_001 saved\n"
     ]
    },
    {
     "name": "stderr",
     "output_type": "stream",
     "text": [
      "Processing false:   2%|▏         | 3/148 [01:23<1:07:24, 27.89s/it]"
     ]
    },
    {
     "name": "stdout",
     "output_type": "stream",
     "text": [
      "✅ false / 20201210_General_112_DOC_A_M20_MM_002 saved\n"
     ]
    },
    {
     "name": "stderr",
     "output_type": "stream",
     "text": [
      "Processing false:   3%|▎         | 4/148 [01:48<1:04:49, 27.01s/it]"
     ]
    },
    {
     "name": "stdout",
     "output_type": "stream",
     "text": [
      "✅ false / 20201210_General_112_DOC_A_M20_MM_003 saved\n"
     ]
    },
    {
     "name": "stderr",
     "output_type": "stream",
     "text": [
      "Processing false:   3%|▎         | 5/148 [02:15<1:04:22, 27.01s/it]"
     ]
    },
    {
     "name": "stdout",
     "output_type": "stream",
     "text": [
      "✅ false / 20201210_General_112_DOC_A_M20_MM_004 saved\n"
     ]
    },
    {
     "name": "stderr",
     "output_type": "stream",
     "text": [
      "Processing false:   4%|▍         | 6/148 [02:41<1:02:50, 26.55s/it]"
     ]
    },
    {
     "name": "stdout",
     "output_type": "stream",
     "text": [
      "✅ false / 20201210_General_112_DOC_A_M20_MM_005 saved\n"
     ]
    },
    {
     "name": "stderr",
     "output_type": "stream",
     "text": [
      "Processing false:   5%|▍         | 7/148 [03:06<1:01:36, 26.21s/it]"
     ]
    },
    {
     "name": "stdout",
     "output_type": "stream",
     "text": [
      "✅ false / 20201210_General_112_DOC_A_M20_MM_006 saved\n"
     ]
    },
    {
     "name": "stderr",
     "output_type": "stream",
     "text": [
      "Processing false:   5%|▌         | 8/148 [03:32<1:00:49, 26.07s/it]"
     ]
    },
    {
     "name": "stdout",
     "output_type": "stream",
     "text": [
      "✅ false / 20201210_General_112_DOC_A_M20_MM_007 saved\n"
     ]
    },
    {
     "name": "stderr",
     "output_type": "stream",
     "text": [
      "Processing false:   6%|▌         | 9/148 [03:59<1:00:39, 26.18s/it]"
     ]
    },
    {
     "name": "stdout",
     "output_type": "stream",
     "text": [
      "✅ false / 20201210_General_112_DOC_A_M20_MM_008 saved\n"
     ]
    },
    {
     "name": "stderr",
     "output_type": "stream",
     "text": [
      "Processing false:   7%|▋         | 10/148 [04:27<1:02:02, 26.97s/it]"
     ]
    },
    {
     "name": "stdout",
     "output_type": "stream",
     "text": [
      "✅ false / 20201210_General_112_DOC_A_M20_MM_009 saved\n"
     ]
    },
    {
     "name": "stderr",
     "output_type": "stream",
     "text": [
      "Processing false:   7%|▋         | 11/148 [04:55<1:02:00, 27.16s/it]"
     ]
    },
    {
     "name": "stdout",
     "output_type": "stream",
     "text": [
      "✅ false / 20201210_General_112_DOC_A_M20_MM_010 saved\n"
     ]
    },
    {
     "name": "stderr",
     "output_type": "stream",
     "text": [
      "Processing false:   8%|▊         | 12/148 [05:22<1:01:24, 27.09s/it]"
     ]
    },
    {
     "name": "stdout",
     "output_type": "stream",
     "text": [
      "✅ false / 20201210_General_112_DOC_A_M20_MM_011 saved\n"
     ]
    },
    {
     "name": "stderr",
     "output_type": "stream",
     "text": [
      "Processing false:   9%|▉         | 13/148 [05:49<1:01:03, 27.14s/it]"
     ]
    },
    {
     "name": "stdout",
     "output_type": "stream",
     "text": [
      "✅ false / 20201210_General_112_DOC_A_M20_MM_012 saved\n"
     ]
    },
    {
     "name": "stderr",
     "output_type": "stream",
     "text": [
      "Processing false:   9%|▉         | 14/148 [06:16<1:00:16, 26.99s/it]"
     ]
    },
    {
     "name": "stdout",
     "output_type": "stream",
     "text": [
      "✅ false / 20201210_General_112_DOC_A_M20_MM_013 saved\n"
     ]
    },
    {
     "name": "stderr",
     "output_type": "stream",
     "text": [
      "Processing false:  10%|█         | 15/148 [06:42<59:28, 26.83s/it]  "
     ]
    },
    {
     "name": "stdout",
     "output_type": "stream",
     "text": [
      "✅ false / 20201210_General_112_DOC_A_M20_MM_014 saved\n"
     ]
    },
    {
     "name": "stderr",
     "output_type": "stream",
     "text": [
      "Processing false:  11%|█         | 16/148 [07:06<57:00, 25.92s/it]"
     ]
    },
    {
     "name": "stdout",
     "output_type": "stream",
     "text": [
      "✅ false / 20201210_General_112_DOC_A_M20_MM_015 saved\n"
     ]
    },
    {
     "name": "stderr",
     "output_type": "stream",
     "text": [
      "Processing false:  11%|█▏        | 17/148 [07:18<47:32, 21.78s/it]"
     ]
    },
    {
     "name": "stdout",
     "output_type": "stream",
     "text": [
      "✅ false / 20201210_General_112_DOC_A_M20_MM_017 saved\n"
     ]
    },
    {
     "name": "stderr",
     "output_type": "stream",
     "text": [
      "Processing false:  12%|█▏        | 18/148 [07:45<50:42, 23.40s/it]"
     ]
    },
    {
     "name": "stdout",
     "output_type": "stream",
     "text": [
      "✅ false / 20201210_General_112_DOC_A_M20_MM_018 saved\n"
     ]
    },
    {
     "name": "stderr",
     "output_type": "stream",
     "text": [
      "Processing false:  13%|█▎        | 19/148 [14:39<5:02:21, 140.63s/it]"
     ]
    },
    {
     "name": "stdout",
     "output_type": "stream",
     "text": [
      "✅ false / 20201210_General_112_DOC_A_M20_MM_019 saved\n"
     ]
    },
    {
     "name": "stderr",
     "output_type": "stream",
     "text": [
      "Processing false:  14%|█▎        | 20/148 [15:05<3:46:25, 106.14s/it]"
     ]
    },
    {
     "name": "stdout",
     "output_type": "stream",
     "text": [
      "✅ false / 20201210_General_112_DOC_A_M20_MM_020 saved\n"
     ]
    },
    {
     "name": "stderr",
     "output_type": "stream",
     "text": [
      "Processing false:  14%|█▍        | 21/148 [15:30<2:53:16, 81.86s/it] "
     ]
    },
    {
     "name": "stdout",
     "output_type": "stream",
     "text": [
      "✅ false / 20201210_General_112_DOC_A_M20_MM_021 saved\n"
     ]
    },
    {
     "name": "stderr",
     "output_type": "stream",
     "text": [
      "Processing false:  15%|█▍        | 22/148 [15:56<2:16:21, 64.93s/it]"
     ]
    },
    {
     "name": "stdout",
     "output_type": "stream",
     "text": [
      "✅ false / 20201210_General_112_DOC_A_M20_MM_022 saved\n"
     ]
    },
    {
     "name": "stderr",
     "output_type": "stream",
     "text": [
      "Processing false:  16%|█▌        | 23/148 [16:21<1:50:36, 53.09s/it]"
     ]
    },
    {
     "name": "stdout",
     "output_type": "stream",
     "text": [
      "✅ false / 20201210_General_112_DOC_A_M20_MM_023 saved\n"
     ]
    },
    {
     "name": "stderr",
     "output_type": "stream",
     "text": [
      "Processing false:  16%|█▌        | 24/148 [16:47<1:32:37, 44.82s/it]"
     ]
    },
    {
     "name": "stdout",
     "output_type": "stream",
     "text": [
      "✅ false / 20201210_General_112_DOC_A_M20_MM_024 saved\n"
     ]
    },
    {
     "name": "stderr",
     "output_type": "stream",
     "text": [
      "Processing false:  17%|█▋        | 25/148 [17:13<1:20:41, 39.36s/it]"
     ]
    },
    {
     "name": "stdout",
     "output_type": "stream",
     "text": [
      "✅ false / 20201210_General_112_DOC_A_M20_MM_025 saved\n"
     ]
    },
    {
     "name": "stderr",
     "output_type": "stream",
     "text": [
      "Processing false:  18%|█▊        | 26/148 [17:43<1:14:04, 36.43s/it]"
     ]
    },
    {
     "name": "stdout",
     "output_type": "stream",
     "text": [
      "✅ false / 20201210_General_112_DOC_A_M20_MM_026 saved\n"
     ]
    },
    {
     "name": "stderr",
     "output_type": "stream",
     "text": [
      "Processing false:  18%|█▊        | 27/148 [18:12<1:09:03, 34.25s/it]"
     ]
    },
    {
     "name": "stdout",
     "output_type": "stream",
     "text": [
      "✅ false / 20201210_General_112_DOC_A_M20_MM_027 saved\n"
     ]
    },
    {
     "name": "stderr",
     "output_type": "stream",
     "text": [
      "Processing false:  19%|█▉        | 28/148 [18:39<1:04:20, 32.17s/it]"
     ]
    },
    {
     "name": "stdout",
     "output_type": "stream",
     "text": [
      "✅ false / 20201210_General_112_DOC_A_M20_MM_028 saved\n"
     ]
    },
    {
     "name": "stderr",
     "output_type": "stream",
     "text": [
      "Processing false:  20%|█▉        | 29/148 [19:07<1:00:55, 30.72s/it]"
     ]
    },
    {
     "name": "stdout",
     "output_type": "stream",
     "text": [
      "✅ false / 20201210_General_112_DOC_A_M20_MM_029 saved\n"
     ]
    },
    {
     "name": "stderr",
     "output_type": "stream",
     "text": [
      "Processing false:  20%|██        | 30/148 [19:33<58:01, 29.50s/it]  "
     ]
    },
    {
     "name": "stdout",
     "output_type": "stream",
     "text": [
      "✅ false / 20201210_General_112_DOC_A_M20_MM_030 saved\n"
     ]
    },
    {
     "name": "stderr",
     "output_type": "stream",
     "text": [
      "Processing false:  21%|██        | 31/148 [20:01<56:48, 29.13s/it]"
     ]
    },
    {
     "name": "stdout",
     "output_type": "stream",
     "text": [
      "✅ false / 20201210_General_112_DOC_A_M20_MM_031 saved\n"
     ]
    },
    {
     "name": "stderr",
     "output_type": "stream",
     "text": [
      "Processing false:  22%|██▏       | 32/148 [20:30<56:01, 28.98s/it]"
     ]
    },
    {
     "name": "stdout",
     "output_type": "stream",
     "text": [
      "✅ false / 20201210_General_112_DOC_A_M20_MM_032 saved\n"
     ]
    },
    {
     "name": "stderr",
     "output_type": "stream",
     "text": [
      "Processing false:  22%|██▏       | 33/148 [20:57<54:27, 28.41s/it]"
     ]
    },
    {
     "name": "stdout",
     "output_type": "stream",
     "text": [
      "✅ false / 20201210_General_112_DOC_A_M20_MM_033 saved\n"
     ]
    },
    {
     "name": "stderr",
     "output_type": "stream",
     "text": [
      "Processing false:  23%|██▎       | 34/148 [21:27<54:37, 28.75s/it]"
     ]
    },
    {
     "name": "stdout",
     "output_type": "stream",
     "text": [
      "✅ false / 20201210_General_112_DOC_A_M20_MM_034 saved\n"
     ]
    },
    {
     "name": "stderr",
     "output_type": "stream",
     "text": [
      "Processing false:  24%|██▎       | 35/148 [21:54<53:19, 28.31s/it]"
     ]
    },
    {
     "name": "stdout",
     "output_type": "stream",
     "text": [
      "✅ false / 20201210_General_112_DOC_A_M20_MM_035 saved\n"
     ]
    },
    {
     "name": "stderr",
     "output_type": "stream",
     "text": [
      "Processing false:  24%|██▍       | 36/148 [22:21<51:58, 27.85s/it]"
     ]
    },
    {
     "name": "stdout",
     "output_type": "stream",
     "text": [
      "✅ false / 20201210_General_112_DOC_A_M20_MM_036 saved\n"
     ]
    },
    {
     "name": "stderr",
     "output_type": "stream",
     "text": [
      "Processing false:  25%|██▌       | 37/148 [22:47<50:40, 27.39s/it]"
     ]
    },
    {
     "name": "stdout",
     "output_type": "stream",
     "text": [
      "✅ false / 20201210_General_112_DOC_A_M20_MM_037 saved\n"
     ]
    },
    {
     "name": "stderr",
     "output_type": "stream",
     "text": [
      "Processing false:  26%|██▌       | 38/148 [23:14<49:45, 27.14s/it]"
     ]
    },
    {
     "name": "stdout",
     "output_type": "stream",
     "text": [
      "✅ false / 20201210_General_112_DOC_A_M20_MM_038 saved\n"
     ]
    },
    {
     "name": "stderr",
     "output_type": "stream",
     "text": [
      "Processing false:  26%|██▋       | 39/148 [23:40<48:54, 26.92s/it]"
     ]
    },
    {
     "name": "stdout",
     "output_type": "stream",
     "text": [
      "✅ false / 20201210_General_112_DOC_A_M20_MM_039 saved\n"
     ]
    },
    {
     "name": "stderr",
     "output_type": "stream",
     "text": [
      "Processing false:  27%|██▋       | 40/148 [24:05<47:12, 26.22s/it]"
     ]
    },
    {
     "name": "stdout",
     "output_type": "stream",
     "text": [
      "✅ false / 20201210_General_112_DOC_A_M20_MM_040 saved\n"
     ]
    },
    {
     "name": "stderr",
     "output_type": "stream",
     "text": [
      "Processing false:  28%|██▊       | 41/148 [24:34<48:21, 27.12s/it]"
     ]
    },
    {
     "name": "stdout",
     "output_type": "stream",
     "text": [
      "✅ false / 20201210_General_112_DOC_A_M20_MM_041 saved\n"
     ]
    },
    {
     "name": "stderr",
     "output_type": "stream",
     "text": [
      "Processing false:  28%|██▊       | 42/148 [25:03<48:45, 27.60s/it]"
     ]
    },
    {
     "name": "stdout",
     "output_type": "stream",
     "text": [
      "✅ false / 20201210_General_112_DOC_A_M20_MM_042 saved\n"
     ]
    },
    {
     "name": "stderr",
     "output_type": "stream",
     "text": [
      "Processing false:  29%|██▉       | 43/148 [25:11<38:00, 21.72s/it]"
     ]
    },
    {
     "name": "stdout",
     "output_type": "stream",
     "text": [
      "✅ false / 20201210_General_112_DOC_A_M20_MM_043 saved\n"
     ]
    },
    {
     "name": "stderr",
     "output_type": "stream",
     "text": [
      "Processing false:  30%|██▉       | 44/148 [25:15<28:35, 16.49s/it]"
     ]
    },
    {
     "name": "stdout",
     "output_type": "stream",
     "text": [
      "⚠️  No valid person in 20201210_General_112_DOC_A_M20_MM_045.mp4\n"
     ]
    },
    {
     "name": "stderr",
     "output_type": "stream",
     "text": [
      "Processing false:  30%|███       | 45/148 [25:41<33:27, 19.49s/it]"
     ]
    },
    {
     "name": "stdout",
     "output_type": "stream",
     "text": [
      "✅ false / 20201210_General_112_DOC_A_M20_MM_046 saved\n"
     ]
    },
    {
     "name": "stderr",
     "output_type": "stream",
     "text": [
      "Processing false:  31%|███       | 46/148 [26:10<37:56, 22.32s/it]"
     ]
    },
    {
     "name": "stdout",
     "output_type": "stream",
     "text": [
      "✅ false / 20201210_General_112_DOC_A_M20_MM_047 saved\n"
     ]
    },
    {
     "name": "stderr",
     "output_type": "stream",
     "text": [
      "Processing false:  32%|███▏      | 47/148 [26:39<40:55, 24.31s/it]"
     ]
    },
    {
     "name": "stdout",
     "output_type": "stream",
     "text": [
      "✅ false / 20201210_General_112_DOC_A_M20_MM_048 saved\n"
     ]
    },
    {
     "name": "stderr",
     "output_type": "stream",
     "text": [
      "Processing false:  32%|███▏      | 48/148 [27:05<41:28, 24.89s/it]"
     ]
    },
    {
     "name": "stdout",
     "output_type": "stream",
     "text": [
      "✅ false / 20201210_General_112_DOC_A_M20_MM_049 saved\n"
     ]
    },
    {
     "name": "stderr",
     "output_type": "stream",
     "text": [
      "Processing false:  33%|███▎      | 49/148 [27:32<41:59, 25.45s/it]"
     ]
    },
    {
     "name": "stdout",
     "output_type": "stream",
     "text": [
      "✅ false / 20201210_General_112_DOC_A_M20_MM_050 saved\n"
     ]
    },
    {
     "name": "stderr",
     "output_type": "stream",
     "text": [
      "Processing false:  34%|███▍      | 50/148 [27:59<42:02, 25.74s/it]"
     ]
    },
    {
     "name": "stdout",
     "output_type": "stream",
     "text": [
      "✅ false / 20201210_General_112_DOC_A_M20_MM_051 saved\n"
     ]
    },
    {
     "name": "stderr",
     "output_type": "stream",
     "text": [
      "Processing false:  34%|███▍      | 51/148 [28:27<43:05, 26.65s/it]"
     ]
    },
    {
     "name": "stdout",
     "output_type": "stream",
     "text": [
      "✅ false / 20201210_General_112_DOC_A_M20_MM_052 saved\n"
     ]
    },
    {
     "name": "stderr",
     "output_type": "stream",
     "text": [
      "Processing false:  35%|███▌      | 52/148 [28:56<43:32, 27.21s/it]"
     ]
    },
    {
     "name": "stdout",
     "output_type": "stream",
     "text": [
      "✅ false / 20201210_General_112_DOC_A_M20_MM_053 saved\n"
     ]
    },
    {
     "name": "stderr",
     "output_type": "stream",
     "text": [
      "Processing false:  36%|███▌      | 53/148 [29:23<42:51, 27.07s/it]"
     ]
    },
    {
     "name": "stdout",
     "output_type": "stream",
     "text": [
      "✅ false / 20201210_General_112_DOC_A_M20_MM_054 saved\n"
     ]
    },
    {
     "name": "stderr",
     "output_type": "stream",
     "text": [
      "Processing false:  36%|███▋      | 54/148 [29:49<41:55, 26.76s/it]"
     ]
    },
    {
     "name": "stdout",
     "output_type": "stream",
     "text": [
      "✅ false / 20201210_General_112_DOC_A_M20_MM_055 saved\n"
     ]
    },
    {
     "name": "stderr",
     "output_type": "stream",
     "text": [
      "Processing false:  37%|███▋      | 55/148 [30:15<41:10, 26.57s/it]"
     ]
    },
    {
     "name": "stdout",
     "output_type": "stream",
     "text": [
      "✅ false / 20201210_General_112_DOC_A_M20_MM_056 saved\n"
     ]
    },
    {
     "name": "stderr",
     "output_type": "stream",
     "text": [
      "Processing false:  38%|███▊      | 56/148 [30:41<40:33, 26.45s/it]"
     ]
    },
    {
     "name": "stdout",
     "output_type": "stream",
     "text": [
      "✅ false / 20201210_General_112_DOC_A_M20_MM_057 saved\n"
     ]
    },
    {
     "name": "stderr",
     "output_type": "stream",
     "text": [
      "Processing false:  39%|███▊      | 57/148 [31:08<40:10, 26.49s/it]"
     ]
    },
    {
     "name": "stdout",
     "output_type": "stream",
     "text": [
      "✅ false / 20201210_General_112_DOC_A_M20_MM_058 saved\n"
     ]
    },
    {
     "name": "stderr",
     "output_type": "stream",
     "text": [
      "Processing false:  39%|███▉      | 58/148 [31:37<40:54, 27.27s/it]"
     ]
    },
    {
     "name": "stdout",
     "output_type": "stream",
     "text": [
      "✅ false / 20201210_General_112_DOC_A_M20_MM_059 saved\n"
     ]
    },
    {
     "name": "stderr",
     "output_type": "stream",
     "text": [
      "Processing false:  40%|███▉      | 59/148 [32:06<41:15, 27.82s/it]"
     ]
    },
    {
     "name": "stdout",
     "output_type": "stream",
     "text": [
      "✅ false / 20201210_General_112_DOC_A_M20_MM_060 saved\n"
     ]
    },
    {
     "name": "stderr",
     "output_type": "stream",
     "text": [
      "Processing false:  41%|████      | 60/148 [32:34<41:09, 28.06s/it]"
     ]
    },
    {
     "name": "stdout",
     "output_type": "stream",
     "text": [
      "✅ false / 20201210_General_112_DOC_A_M20_MM_061 saved\n"
     ]
    },
    {
     "name": "stderr",
     "output_type": "stream",
     "text": [
      "Processing false:  41%|████      | 61/148 [33:04<41:09, 28.38s/it]"
     ]
    },
    {
     "name": "stdout",
     "output_type": "stream",
     "text": [
      "✅ false / 20201210_General_112_DOC_A_M20_MM_062 saved\n"
     ]
    },
    {
     "name": "stderr",
     "output_type": "stream",
     "text": [
      "Processing false:  42%|████▏     | 62/148 [33:31<40:05, 27.97s/it]"
     ]
    },
    {
     "name": "stdout",
     "output_type": "stream",
     "text": [
      "✅ false / 20201210_General_112_DOC_A_M20_MM_063 saved\n"
     ]
    },
    {
     "name": "stderr",
     "output_type": "stream",
     "text": [
      "Processing false:  43%|████▎     | 63/148 [33:59<39:44, 28.05s/it]"
     ]
    },
    {
     "name": "stdout",
     "output_type": "stream",
     "text": [
      "✅ false / 20201210_General_112_DOC_A_M20_MM_064 saved\n"
     ]
    },
    {
     "name": "stderr",
     "output_type": "stream",
     "text": [
      "Processing false:  43%|████▎     | 64/148 [34:25<38:33, 27.54s/it]"
     ]
    },
    {
     "name": "stdout",
     "output_type": "stream",
     "text": [
      "✅ false / 20201210_General_112_DOC_A_M20_MM_065 saved\n"
     ]
    },
    {
     "name": "stderr",
     "output_type": "stream",
     "text": [
      "Processing false:  44%|████▍     | 65/148 [34:51<37:30, 27.11s/it]"
     ]
    },
    {
     "name": "stdout",
     "output_type": "stream",
     "text": [
      "✅ false / 20201210_General_112_DOC_A_M20_MM_066 saved\n"
     ]
    },
    {
     "name": "stderr",
     "output_type": "stream",
     "text": [
      "Processing false:  45%|████▍     | 66/148 [35:18<36:51, 26.97s/it]"
     ]
    },
    {
     "name": "stdout",
     "output_type": "stream",
     "text": [
      "✅ false / 20201210_General_112_DOC_A_M20_MM_067 saved\n"
     ]
    },
    {
     "name": "stderr",
     "output_type": "stream",
     "text": [
      "Processing false:  45%|████▌     | 67/148 [35:44<36:14, 26.85s/it]"
     ]
    },
    {
     "name": "stdout",
     "output_type": "stream",
     "text": [
      "✅ false / 20201210_General_112_DOC_A_M20_MM_068 saved\n"
     ]
    },
    {
     "name": "stderr",
     "output_type": "stream",
     "text": [
      "Processing false:  46%|████▌     | 68/148 [36:11<35:51, 26.89s/it]"
     ]
    },
    {
     "name": "stdout",
     "output_type": "stream",
     "text": [
      "✅ false / 20201210_General_112_DOC_A_M20_MM_069 saved\n"
     ]
    },
    {
     "name": "stderr",
     "output_type": "stream",
     "text": [
      "Processing false:  47%|████▋     | 69/148 [36:38<35:09, 26.71s/it]"
     ]
    },
    {
     "name": "stdout",
     "output_type": "stream",
     "text": [
      "✅ false / 20201210_General_112_DOC_A_M20_MM_070 saved\n"
     ]
    },
    {
     "name": "stderr",
     "output_type": "stream",
     "text": [
      "Processing false:  47%|████▋     | 70/148 [37:07<35:45, 27.50s/it]"
     ]
    },
    {
     "name": "stdout",
     "output_type": "stream",
     "text": [
      "✅ false / 20201210_General_112_DOC_A_M20_MM_071 saved\n"
     ]
    },
    {
     "name": "stderr",
     "output_type": "stream",
     "text": [
      "Processing false:  48%|████▊     | 71/148 [37:34<34:55, 27.21s/it]"
     ]
    },
    {
     "name": "stdout",
     "output_type": "stream",
     "text": [
      "✅ false / 20201210_General_112_DOC_A_M20_MM_072 saved\n"
     ]
    },
    {
     "name": "stderr",
     "output_type": "stream",
     "text": [
      "Processing false:  49%|████▊     | 72/148 [37:57<32:54, 25.97s/it]"
     ]
    },
    {
     "name": "stdout",
     "output_type": "stream",
     "text": [
      "✅ false / 20201210_General_112_DOC_A_M20_MM_073 saved\n"
     ]
    },
    {
     "name": "stderr",
     "output_type": "stream",
     "text": [
      "Processing false:  49%|████▉     | 73/148 [38:23<32:31, 26.02s/it]"
     ]
    },
    {
     "name": "stdout",
     "output_type": "stream",
     "text": [
      "✅ false / 20201210_General_112_DOC_A_M20_MM_074 saved\n"
     ]
    },
    {
     "name": "stderr",
     "output_type": "stream",
     "text": [
      "Processing false:  50%|█████     | 74/148 [38:51<33:02, 26.79s/it]"
     ]
    },
    {
     "name": "stdout",
     "output_type": "stream",
     "text": [
      "✅ false / 20201210_General_112_NOC_A_M20_MM_075 saved\n"
     ]
    },
    {
     "name": "stderr",
     "output_type": "stream",
     "text": [
      "Processing false:  51%|█████     | 75/148 [39:18<32:36, 26.80s/it]"
     ]
    },
    {
     "name": "stdout",
     "output_type": "stream",
     "text": [
      "✅ false / 20201210_General_112_NOC_A_M20_MM_076 saved\n"
     ]
    },
    {
     "name": "stderr",
     "output_type": "stream",
     "text": [
      "Processing false:  51%|█████▏    | 76/148 [39:50<33:54, 28.25s/it]"
     ]
    },
    {
     "name": "stdout",
     "output_type": "stream",
     "text": [
      "✅ false / 20201210_General_114_DOC_A_M30_MM_001 saved\n"
     ]
    },
    {
     "name": "stderr",
     "output_type": "stream",
     "text": [
      "Processing false:  52%|█████▏    | 77/148 [40:21<34:19, 29.00s/it]"
     ]
    },
    {
     "name": "stdout",
     "output_type": "stream",
     "text": [
      "✅ false / 20201210_General_114_DOC_A_M30_MM_002 saved\n"
     ]
    },
    {
     "name": "stderr",
     "output_type": "stream",
     "text": [
      "Processing false:  53%|█████▎    | 78/148 [40:47<32:59, 28.27s/it]"
     ]
    },
    {
     "name": "stdout",
     "output_type": "stream",
     "text": [
      "✅ false / 20201210_General_114_DOC_A_M30_MM_003 saved\n"
     ]
    },
    {
     "name": "stderr",
     "output_type": "stream",
     "text": [
      "Processing false:  53%|█████▎    | 79/148 [41:14<31:54, 27.74s/it]"
     ]
    },
    {
     "name": "stdout",
     "output_type": "stream",
     "text": [
      "✅ false / 20201210_General_114_DOC_A_M30_MM_004 saved\n"
     ]
    },
    {
     "name": "stderr",
     "output_type": "stream",
     "text": [
      "Processing false:  54%|█████▍    | 80/148 [41:37<30:01, 26.49s/it]"
     ]
    },
    {
     "name": "stdout",
     "output_type": "stream",
     "text": [
      "✅ false / 20201210_General_114_DOC_A_M30_MM_005 saved\n"
     ]
    },
    {
     "name": "stderr",
     "output_type": "stream",
     "text": [
      "Processing false:  55%|█████▍    | 81/148 [42:07<30:42, 27.50s/it]"
     ]
    },
    {
     "name": "stdout",
     "output_type": "stream",
     "text": [
      "✅ false / 20201210_General_114_DOC_A_M30_MM_006 saved\n"
     ]
    },
    {
     "name": "stderr",
     "output_type": "stream",
     "text": [
      "Processing false:  55%|█████▌    | 82/148 [42:38<31:24, 28.56s/it]"
     ]
    },
    {
     "name": "stdout",
     "output_type": "stream",
     "text": [
      "✅ false / 20201210_General_114_DOC_A_M30_MM_007 saved\n"
     ]
    },
    {
     "name": "stderr",
     "output_type": "stream",
     "text": [
      "Processing false:  56%|█████▌    | 83/148 [43:11<32:26, 29.94s/it]"
     ]
    },
    {
     "name": "stdout",
     "output_type": "stream",
     "text": [
      "✅ false / 20201210_General_114_DOC_A_M30_MM_008 saved\n"
     ]
    },
    {
     "name": "stderr",
     "output_type": "stream",
     "text": [
      "Processing false:  57%|█████▋    | 84/148 [43:37<30:27, 28.55s/it]"
     ]
    },
    {
     "name": "stdout",
     "output_type": "stream",
     "text": [
      "✅ false / 20201210_General_114_DOC_A_M30_MM_009 saved\n"
     ]
    },
    {
     "name": "stderr",
     "output_type": "stream",
     "text": [
      "Processing false:  57%|█████▋    | 85/148 [44:09<31:03, 29.58s/it]"
     ]
    },
    {
     "name": "stdout",
     "output_type": "stream",
     "text": [
      "✅ false / 20201210_General_114_DOC_A_M30_MM_010 saved\n"
     ]
    },
    {
     "name": "stderr",
     "output_type": "stream",
     "text": [
      "Processing false:  58%|█████▊    | 86/148 [44:41<31:32, 30.52s/it]"
     ]
    },
    {
     "name": "stdout",
     "output_type": "stream",
     "text": [
      "✅ false / 20201210_General_114_DOC_A_M30_MM_011 saved\n"
     ]
    },
    {
     "name": "stderr",
     "output_type": "stream",
     "text": [
      "Processing false:  59%|█████▉    | 87/148 [44:46<23:00, 22.64s/it]"
     ]
    },
    {
     "name": "stdout",
     "output_type": "stream",
     "text": [
      "✅ false / 20201210_General_114_DOC_A_M30_MM_012 saved\n"
     ]
    },
    {
     "name": "stderr",
     "output_type": "stream",
     "text": [
      "Processing false:  59%|█████▉    | 88/148 [44:54<18:21, 18.35s/it]"
     ]
    },
    {
     "name": "stdout",
     "output_type": "stream",
     "text": [
      "✅ false / 20201210_General_114_DOC_A_M30_MM_013 saved\n"
     ]
    },
    {
     "name": "stderr",
     "output_type": "stream",
     "text": [
      "Processing false:  60%|██████    | 89/148 [45:21<20:40, 21.03s/it]"
     ]
    },
    {
     "name": "stdout",
     "output_type": "stream",
     "text": [
      "✅ false / 20201210_General_114_DOC_A_M30_MM_014 saved\n"
     ]
    },
    {
     "name": "stderr",
     "output_type": "stream",
     "text": [
      "Processing false:  61%|██████    | 90/148 [45:50<22:34, 23.35s/it]"
     ]
    },
    {
     "name": "stdout",
     "output_type": "stream",
     "text": [
      "✅ false / 20201210_General_114_DOC_A_M30_MM_015 saved\n"
     ]
    },
    {
     "name": "stderr",
     "output_type": "stream",
     "text": [
      "Processing false:  61%|██████▏   | 91/148 [46:18<23:35, 24.83s/it]"
     ]
    },
    {
     "name": "stdout",
     "output_type": "stream",
     "text": [
      "✅ false / 20201210_General_114_DOC_A_M30_MM_016 saved\n"
     ]
    },
    {
     "name": "stderr",
     "output_type": "stream",
     "text": [
      "Processing false:  62%|██████▏   | 92/148 [46:46<24:01, 25.74s/it]"
     ]
    },
    {
     "name": "stdout",
     "output_type": "stream",
     "text": [
      "✅ false / 20201210_General_114_DOC_A_M30_MM_017 saved\n"
     ]
    },
    {
     "name": "stderr",
     "output_type": "stream",
     "text": [
      "Processing false:  63%|██████▎   | 93/148 [47:10<22:56, 25.03s/it]"
     ]
    },
    {
     "name": "stdout",
     "output_type": "stream",
     "text": [
      "✅ false / 20201210_General_114_DOC_A_M30_MM_018 saved\n"
     ]
    },
    {
     "name": "stderr",
     "output_type": "stream",
     "text": [
      "Processing false:  64%|██████▎   | 94/148 [47:34<22:28, 24.97s/it]"
     ]
    },
    {
     "name": "stdout",
     "output_type": "stream",
     "text": [
      "✅ false / 20201210_General_114_DOC_A_M30_MM_019 saved\n"
     ]
    },
    {
     "name": "stderr",
     "output_type": "stream",
     "text": [
      "Processing false:  64%|██████▍   | 95/148 [48:08<24:19, 27.53s/it]"
     ]
    },
    {
     "name": "stdout",
     "output_type": "stream",
     "text": [
      "✅ false / 20201210_General_114_DOC_A_M30_MM_020 saved\n"
     ]
    },
    {
     "name": "stderr",
     "output_type": "stream",
     "text": [
      "Processing false:  65%|██████▍   | 96/148 [48:36<24:04, 27.77s/it]"
     ]
    },
    {
     "name": "stdout",
     "output_type": "stream",
     "text": [
      "✅ false / 20201210_General_114_DOC_A_M30_MM_021 saved\n"
     ]
    },
    {
     "name": "stderr",
     "output_type": "stream",
     "text": [
      "Processing false:  66%|██████▌   | 97/148 [49:05<23:46, 27.97s/it]"
     ]
    },
    {
     "name": "stdout",
     "output_type": "stream",
     "text": [
      "✅ false / 20201210_General_114_DOC_A_M30_MM_022 saved\n"
     ]
    },
    {
     "name": "stderr",
     "output_type": "stream",
     "text": [
      "Processing false:  66%|██████▌   | 98/148 [49:36<24:08, 28.97s/it]"
     ]
    },
    {
     "name": "stdout",
     "output_type": "stream",
     "text": [
      "✅ false / 20201210_General_114_DOC_A_M30_MM_023 saved\n"
     ]
    },
    {
     "name": "stderr",
     "output_type": "stream",
     "text": [
      "Processing false:  67%|██████▋   | 99/148 [50:08<24:28, 29.97s/it]"
     ]
    },
    {
     "name": "stdout",
     "output_type": "stream",
     "text": [
      "✅ false / 20201210_General_114_DOC_A_M30_MM_024 saved\n"
     ]
    },
    {
     "name": "stderr",
     "output_type": "stream",
     "text": [
      "Processing false:  68%|██████▊   | 100/148 [50:59<28:54, 36.14s/it]"
     ]
    },
    {
     "name": "stdout",
     "output_type": "stream",
     "text": [
      "✅ false / 20201210_General_114_DOC_A_M30_MM_025 saved\n"
     ]
    },
    {
     "name": "stderr",
     "output_type": "stream",
     "text": [
      "Processing false:  68%|██████▊   | 101/148 [51:38<29:04, 37.13s/it]"
     ]
    },
    {
     "name": "stdout",
     "output_type": "stream",
     "text": [
      "✅ false / 20201210_General_114_DOC_A_M30_MM_026 saved\n"
     ]
    },
    {
     "name": "stderr",
     "output_type": "stream",
     "text": [
      "Processing false:  69%|██████▉   | 102/148 [52:30<31:50, 41.53s/it]"
     ]
    },
    {
     "name": "stdout",
     "output_type": "stream",
     "text": [
      "✅ false / 20201210_General_114_DOC_A_M30_MM_027 saved\n"
     ]
    },
    {
     "name": "stderr",
     "output_type": "stream",
     "text": [
      "Processing false:  70%|██████▉   | 103/148 [53:12<31:12, 41.60s/it]"
     ]
    },
    {
     "name": "stdout",
     "output_type": "stream",
     "text": [
      "✅ false / 20201210_General_114_DOC_A_M30_MM_028 saved\n"
     ]
    },
    {
     "name": "stderr",
     "output_type": "stream",
     "text": [
      "Processing false:  70%|███████   | 104/148 [53:53<30:30, 41.59s/it]"
     ]
    },
    {
     "name": "stdout",
     "output_type": "stream",
     "text": [
      "✅ false / 20201210_General_114_DOC_A_M30_MM_029 saved\n"
     ]
    },
    {
     "name": "stderr",
     "output_type": "stream",
     "text": [
      "Processing false:  71%|███████   | 105/148 [54:41<31:02, 43.31s/it]"
     ]
    },
    {
     "name": "stdout",
     "output_type": "stream",
     "text": [
      "✅ false / 20201210_General_114_DOC_A_M30_MM_030 saved\n"
     ]
    },
    {
     "name": "stderr",
     "output_type": "stream",
     "text": [
      "Processing false:  72%|███████▏  | 106/148 [55:15<28:26, 40.64s/it]"
     ]
    },
    {
     "name": "stdout",
     "output_type": "stream",
     "text": [
      "✅ false / 20201210_General_114_DOC_A_M30_MM_031 saved\n"
     ]
    },
    {
     "name": "stderr",
     "output_type": "stream",
     "text": [
      "Processing false:  72%|███████▏  | 107/148 [55:37<23:54, 34.99s/it]"
     ]
    },
    {
     "name": "stdout",
     "output_type": "stream",
     "text": [
      "✅ false / 20201210_General_114_DOC_A_M30_MM_033 saved\n"
     ]
    },
    {
     "name": "stderr",
     "output_type": "stream",
     "text": [
      "Processing false:  73%|███████▎  | 108/148 [56:14<23:44, 35.60s/it]"
     ]
    },
    {
     "name": "stdout",
     "output_type": "stream",
     "text": [
      "✅ false / 20201210_General_114_DOC_A_M30_MM_034 saved\n"
     ]
    },
    {
     "name": "stderr",
     "output_type": "stream",
     "text": [
      "Processing false:  74%|███████▎  | 109/148 [56:50<23:17, 35.83s/it]"
     ]
    },
    {
     "name": "stdout",
     "output_type": "stream",
     "text": [
      "✅ false / 20201210_General_114_DOC_A_M30_MM_035 saved\n"
     ]
    },
    {
     "name": "stderr",
     "output_type": "stream",
     "text": [
      "Processing false:  74%|███████▍  | 110/148 [57:21<21:45, 34.34s/it]"
     ]
    },
    {
     "name": "stdout",
     "output_type": "stream",
     "text": [
      "✅ false / 20201210_General_114_DOC_A_M30_MM_036 saved\n"
     ]
    },
    {
     "name": "stderr",
     "output_type": "stream",
     "text": [
      "Processing false:  75%|███████▌  | 111/148 [57:49<19:56, 32.34s/it]"
     ]
    },
    {
     "name": "stdout",
     "output_type": "stream",
     "text": [
      "✅ false / 20201210_General_114_DOC_A_M30_MM_037 saved\n"
     ]
    },
    {
     "name": "stderr",
     "output_type": "stream",
     "text": [
      "Processing false:  76%|███████▌  | 112/148 [58:24<19:52, 33.12s/it]"
     ]
    },
    {
     "name": "stdout",
     "output_type": "stream",
     "text": [
      "✅ false / 20201210_General_114_DOC_A_M30_MM_038 saved\n"
     ]
    },
    {
     "name": "stderr",
     "output_type": "stream",
     "text": [
      "Processing false:  76%|███████▋  | 113/148 [1:01:08<42:10, 72.31s/it]"
     ]
    },
    {
     "name": "stdout",
     "output_type": "stream",
     "text": [
      "✅ false / 20201210_General_114_DOC_A_M30_MM_039 saved\n"
     ]
    },
    {
     "name": "stderr",
     "output_type": "stream",
     "text": [
      "Processing false:  77%|███████▋  | 114/148 [1:01:33<33:00, 58.26s/it]"
     ]
    },
    {
     "name": "stdout",
     "output_type": "stream",
     "text": [
      "✅ false / 20201210_General_114_DOC_A_M30_MM_040 saved\n"
     ]
    },
    {
     "name": "stderr",
     "output_type": "stream",
     "text": [
      "Processing false:  78%|███████▊  | 115/148 [1:01:58<26:33, 48.27s/it]"
     ]
    },
    {
     "name": "stdout",
     "output_type": "stream",
     "text": [
      "✅ false / 20201210_General_114_DOC_A_M30_MM_041 saved\n"
     ]
    },
    {
     "name": "stderr",
     "output_type": "stream",
     "text": [
      "Processing false:  78%|███████▊  | 116/148 [1:02:25<22:19, 41.86s/it]"
     ]
    },
    {
     "name": "stdout",
     "output_type": "stream",
     "text": [
      "✅ false / 20201210_General_114_DOC_A_M30_MM_042 saved\n"
     ]
    },
    {
     "name": "stderr",
     "output_type": "stream",
     "text": [
      "Processing false:  79%|███████▉  | 117/148 [1:02:53<19:33, 37.86s/it]"
     ]
    },
    {
     "name": "stdout",
     "output_type": "stream",
     "text": [
      "✅ false / 20201210_General_114_DOC_A_M30_MM_043 saved\n"
     ]
    },
    {
     "name": "stderr",
     "output_type": "stream",
     "text": [
      "Processing false:  80%|███████▉  | 118/148 [1:03:24<17:54, 35.83s/it]"
     ]
    },
    {
     "name": "stdout",
     "output_type": "stream",
     "text": [
      "✅ false / 20201210_General_114_DOC_A_M30_MM_044 saved\n"
     ]
    },
    {
     "name": "stderr",
     "output_type": "stream",
     "text": [
      "Processing false:  80%|████████  | 119/148 [1:03:50<15:48, 32.69s/it]"
     ]
    },
    {
     "name": "stdout",
     "output_type": "stream",
     "text": [
      "✅ false / 20201210_General_114_DOC_A_M30_MM_045 saved\n"
     ]
    },
    {
     "name": "stderr",
     "output_type": "stream",
     "text": [
      "Processing false:  81%|████████  | 120/148 [1:04:01<12:18, 26.37s/it]"
     ]
    },
    {
     "name": "stdout",
     "output_type": "stream",
     "text": [
      "✅ false / 20201210_General_114_DOC_A_M30_MM_046 saved\n"
     ]
    },
    {
     "name": "stderr",
     "output_type": "stream",
     "text": [
      "Processing false:  82%|████████▏ | 121/148 [1:04:18<10:34, 23.48s/it]"
     ]
    },
    {
     "name": "stdout",
     "output_type": "stream",
     "text": [
      "✅ false / 20201210_General_114_DOC_A_M30_MM_048 saved\n"
     ]
    },
    {
     "name": "stderr",
     "output_type": "stream",
     "text": [
      "Processing false:  82%|████████▏ | 122/148 [1:04:47<10:53, 25.14s/it]"
     ]
    },
    {
     "name": "stdout",
     "output_type": "stream",
     "text": [
      "✅ false / 20201210_General_114_DOC_A_M30_MM_049 saved\n"
     ]
    },
    {
     "name": "stderr",
     "output_type": "stream",
     "text": [
      "Processing false:  83%|████████▎ | 123/148 [1:05:15<10:45, 25.81s/it]"
     ]
    },
    {
     "name": "stdout",
     "output_type": "stream",
     "text": [
      "✅ false / 20201210_General_114_DOC_A_M30_MM_050 saved\n"
     ]
    },
    {
     "name": "stderr",
     "output_type": "stream",
     "text": [
      "Processing false:  84%|████████▍ | 124/148 [1:05:37<09:53, 24.73s/it]"
     ]
    },
    {
     "name": "stdout",
     "output_type": "stream",
     "text": [
      "✅ false / 20201210_General_114_DOC_A_M30_MM_051 saved\n"
     ]
    },
    {
     "name": "stderr",
     "output_type": "stream",
     "text": [
      "Processing false:  84%|████████▍ | 125/148 [1:06:05<09:51, 25.73s/it]"
     ]
    },
    {
     "name": "stdout",
     "output_type": "stream",
     "text": [
      "✅ false / 20201210_General_114_DOC_A_M30_MM_052 saved\n"
     ]
    },
    {
     "name": "stderr",
     "output_type": "stream",
     "text": [
      "Processing false:  85%|████████▌ | 126/148 [1:06:34<09:47, 26.71s/it]"
     ]
    },
    {
     "name": "stdout",
     "output_type": "stream",
     "text": [
      "✅ false / 20201210_General_114_DOC_A_M30_MM_053 saved\n"
     ]
    },
    {
     "name": "stderr",
     "output_type": "stream",
     "text": [
      "Processing false:  86%|████████▌ | 127/148 [1:06:56<08:50, 25.26s/it]"
     ]
    },
    {
     "name": "stdout",
     "output_type": "stream",
     "text": [
      "✅ false / 20201210_General_114_DOC_A_M30_MM_054 saved\n"
     ]
    },
    {
     "name": "stderr",
     "output_type": "stream",
     "text": [
      "Processing false:  86%|████████▋ | 128/148 [1:07:18<08:08, 24.42s/it]"
     ]
    },
    {
     "name": "stdout",
     "output_type": "stream",
     "text": [
      "✅ false / 20201210_General_114_DOC_A_M30_MM_055 saved\n"
     ]
    },
    {
     "name": "stderr",
     "output_type": "stream",
     "text": [
      "Processing false:  87%|████████▋ | 129/148 [1:07:40<07:26, 23.52s/it]"
     ]
    },
    {
     "name": "stdout",
     "output_type": "stream",
     "text": [
      "✅ false / 20201210_General_114_DOC_A_M30_MM_056 saved\n"
     ]
    },
    {
     "name": "stderr",
     "output_type": "stream",
     "text": [
      "Processing false:  88%|████████▊ | 130/148 [1:08:07<07:23, 24.64s/it]"
     ]
    },
    {
     "name": "stdout",
     "output_type": "stream",
     "text": [
      "✅ false / 20201210_General_114_DOC_A_M30_MM_057 saved\n"
     ]
    },
    {
     "name": "stderr",
     "output_type": "stream",
     "text": [
      "Processing false:  89%|████████▊ | 131/148 [1:08:29<06:47, 23.95s/it]"
     ]
    },
    {
     "name": "stdout",
     "output_type": "stream",
     "text": [
      "✅ false / 20201210_General_114_DOC_A_M30_MM_058 saved\n"
     ]
    },
    {
     "name": "stderr",
     "output_type": "stream",
     "text": [
      "Processing false:  89%|████████▉ | 132/148 [1:09:02<07:03, 26.47s/it]"
     ]
    },
    {
     "name": "stdout",
     "output_type": "stream",
     "text": [
      "✅ false / 20201210_General_114_DOC_A_M30_MM_059 saved\n"
     ]
    },
    {
     "name": "stderr",
     "output_type": "stream",
     "text": [
      "Processing false:  90%|████████▉ | 133/148 [1:09:27<06:33, 26.25s/it]"
     ]
    },
    {
     "name": "stdout",
     "output_type": "stream",
     "text": [
      "✅ false / 20201210_General_114_DOC_A_M30_MM_060 saved\n"
     ]
    },
    {
     "name": "stderr",
     "output_type": "stream",
     "text": [
      "Processing false:  91%|█████████ | 134/148 [1:09:56<06:16, 26.92s/it]"
     ]
    },
    {
     "name": "stdout",
     "output_type": "stream",
     "text": [
      "✅ false / 20201210_General_114_DOC_A_M30_MM_061 saved\n"
     ]
    },
    {
     "name": "stderr",
     "output_type": "stream",
     "text": [
      "Processing false:  91%|█████████ | 135/148 [1:10:19<05:34, 25.71s/it]"
     ]
    },
    {
     "name": "stdout",
     "output_type": "stream",
     "text": [
      "✅ false / 20201210_General_114_DOC_A_M30_MM_062 saved\n"
     ]
    },
    {
     "name": "stderr",
     "output_type": "stream",
     "text": [
      "Processing false:  92%|█████████▏| 136/148 [1:10:41<04:56, 24.69s/it]"
     ]
    },
    {
     "name": "stdout",
     "output_type": "stream",
     "text": [
      "✅ false / 20201210_General_114_DOC_A_M30_MM_063 saved\n"
     ]
    },
    {
     "name": "stderr",
     "output_type": "stream",
     "text": [
      "Processing false:  93%|█████████▎| 137/148 [1:11:03<04:23, 23.93s/it]"
     ]
    },
    {
     "name": "stdout",
     "output_type": "stream",
     "text": [
      "✅ false / 20201210_General_114_DOC_A_M30_MM_064 saved\n"
     ]
    },
    {
     "name": "stderr",
     "output_type": "stream",
     "text": [
      "Processing false:  93%|█████████▎| 138/148 [1:11:31<04:09, 24.97s/it]"
     ]
    },
    {
     "name": "stdout",
     "output_type": "stream",
     "text": [
      "✅ false / 20201210_General_114_DOC_A_M30_MM_065 saved\n"
     ]
    },
    {
     "name": "stderr",
     "output_type": "stream",
     "text": [
      "Processing false:  94%|█████████▍| 139/148 [1:11:46<03:18, 22.03s/it]"
     ]
    },
    {
     "name": "stdout",
     "output_type": "stream",
     "text": [
      "✅ false / 20201210_General_114_DOC_A_M30_MM_068 saved\n"
     ]
    },
    {
     "name": "stderr",
     "output_type": "stream",
     "text": [
      "Processing false:  95%|█████████▍| 140/148 [1:12:16<03:15, 24.44s/it]"
     ]
    },
    {
     "name": "stdout",
     "output_type": "stream",
     "text": [
      "✅ false / 20201210_General_114_DOC_A_M30_MM_069 saved\n"
     ]
    },
    {
     "name": "stderr",
     "output_type": "stream",
     "text": [
      "Processing false:  95%|█████████▌| 141/148 [1:12:34<02:38, 22.61s/it]"
     ]
    },
    {
     "name": "stdout",
     "output_type": "stream",
     "text": [
      "✅ false / 20201210_General_114_DOC_A_M30_MM_070 saved\n"
     ]
    },
    {
     "name": "stderr",
     "output_type": "stream",
     "text": [
      "Processing false:  96%|█████████▌| 142/148 [1:12:54<02:10, 21.69s/it]"
     ]
    },
    {
     "name": "stdout",
     "output_type": "stream",
     "text": [
      "✅ false / 20201210_General_114_DOC_A_M30_MM_071 saved\n"
     ]
    },
    {
     "name": "stderr",
     "output_type": "stream",
     "text": [
      "Processing false:  97%|█████████▋| 143/148 [1:13:20<01:56, 23.20s/it]"
     ]
    },
    {
     "name": "stdout",
     "output_type": "stream",
     "text": [
      "✅ false / 20201210_General_114_DOC_A_M30_MM_072 saved\n"
     ]
    },
    {
     "name": "stderr",
     "output_type": "stream",
     "text": [
      "Processing false:  97%|█████████▋| 144/148 [1:13:38<01:26, 21.58s/it]"
     ]
    },
    {
     "name": "stdout",
     "output_type": "stream",
     "text": [
      "✅ false / 20201210_General_114_NOC_A_M30_MM_073 saved\n"
     ]
    },
    {
     "name": "stderr",
     "output_type": "stream",
     "text": [
      "Processing false:  98%|█████████▊| 145/148 [1:14:04<01:08, 22.89s/it]"
     ]
    },
    {
     "name": "stdout",
     "output_type": "stream",
     "text": [
      "✅ false / 20201210_General_114_NOC_A_M30_MM_074 saved\n"
     ]
    },
    {
     "name": "stderr",
     "output_type": "stream",
     "text": [
      "Processing false:  99%|█████████▊| 146/148 [1:14:26<00:45, 22.64s/it]"
     ]
    },
    {
     "name": "stdout",
     "output_type": "stream",
     "text": [
      "✅ false / 20201210_General_114_NOC_A_M30_MM_075 saved\n"
     ]
    },
    {
     "name": "stderr",
     "output_type": "stream",
     "text": [
      "Processing false:  99%|█████████▉| 147/148 [1:14:55<00:24, 24.47s/it]"
     ]
    },
    {
     "name": "stdout",
     "output_type": "stream",
     "text": [
      "✅ false / 20201210_General_114_NOC_A_M30_MM_076 saved\n"
     ]
    },
    {
     "name": "stderr",
     "output_type": "stream",
     "text": [
      "Processing false: 100%|██████████| 148/148 [1:15:08<00:00, 30.47s/it]"
     ]
    },
    {
     "name": "stdout",
     "output_type": "stream",
     "text": [
      "✅ false / 20201210_General_114_NOC_A_M30_MM_077 saved\n"
     ]
    },
    {
     "name": "stderr",
     "output_type": "stream",
     "text": [
      "\n"
     ]
    }
   ],
   "source": [
    "import os\n",
    "import subprocess\n",
    "import json\n",
    "import shutil\n",
    "from pathlib import Path\n",
    "import numpy as np\n",
    "import pandas as pd\n",
    "from tqdm import tqdm\n",
    "from sklearn.cluster import DBSCAN\n",
    "\n",
    "# ✏️ Base 작업 디렉토리 및 서브폴더 목록\n",
    "CUR_DIR = Path(r\"D:\\golfDataset\\dataset\\test\")  # 현재 작업 루트 디렉토리\n",
    "BALANCED_FOLDERS = [\"balanced_true\",\"false\"]   # 처리할 두 가지 서브 디렉토리\n",
    "FPS = 30\n",
    "\n",
    "# OpenPose 설정\n",
    "OPENPOSE_EXE  = Path(r\"C:/openpose/openpose/bin/OpenPoseDemo.exe\")\n",
    "OPENPOSE_ROOT = OPENPOSE_EXE.parent.parent  # …/openpose 폴더\n",
    "PAD_RATIO     = 0.10\n",
    "\n",
    "# Torso Keypoint 인덱스 (Neck, MidHip, RShoulder, LShoulder, RootHip)\n",
    "TORSO_IDXS = [1, 8, 11, 14, 17]\n",
    "# Keypoint 이름 및 CSV 컬럼 생성\n",
    "KP   = [\"Nose\",\"Neck\",\"RShoulder\",\"RElbow\",\"RWrist\",\"LShoulder\",\"LElbow\",\"LWrist\",\n",
    "        \"MidHip\",\"RHip\",\"RKnee\",\"RAnkle\",\"LHip\",\"LKnee\",\"LAnkle\",\"REye\",\"LEye\",\n",
    "        \"REar\",\"LEar\",\"LBigToe\",\"LSmallToe\",\"LHeel\",\"RBigToe\",\"RSmallToe\",\"RHeel\"]\n",
    "COLS = [f\"{n}_{a}\" for n in KP for a in (\"x\",\"y\",\"c\")]\n",
    "\n",
    "# ---------- OpenPose 실행 함수 --------------------------------------\n",
    "def run_openpose(video: Path, out_dir: Path):\n",
    "    \"\"\"OpenPose CLI를 통해 JSON으로 keypoints 추출\"\"\"\n",
    "    out_dir.mkdir(parents=True, exist_ok=True)\n",
    "    cmd = [str(OPENPOSE_EXE),\n",
    "           \"--video\", str(video),\n",
    "           \"--write_json\", str(out_dir),\n",
    "           \"--display\", \"0\", \"--render_pose\", \"0\",\n",
    "           \"--number_people_max\", \"1\",\n",
    "           \"--model_folder\", str(OPENPOSE_ROOT / \"models\")]\n",
    "    subprocess.run(cmd, check=True, cwd=OPENPOSE_ROOT)\n",
    "\n",
    "# ---------- 주요 인물 박스 추출 함수 ---------------------------------\n",
    "def main_person_boxes(json_dir: Path):\n",
    "    centers, boxes = [], []\n",
    "    for jf in sorted(json_dir.glob(\"*.json\")):\n",
    "        data = json.load(open(jf))\n",
    "        people = data.get(\"people\")\n",
    "        if not people:\n",
    "            continue\n",
    "        kps = np.array(people[0][\"pose_keypoints_2d\"]).reshape(-1, 3)\n",
    "        if kps[8, 2] < 0.10:  # MidHip confidence 확인\n",
    "            continue\n",
    "        cx, cy = kps[8, :2]\n",
    "        valid = kps[:, 2] > 0.05\n",
    "        xs, ys = kps[valid, 0], kps[valid, 1]\n",
    "        centers.append([cx, cy])\n",
    "        boxes.append([xs.min(), ys.min(), xs.max(), ys.max()])\n",
    "\n",
    "    if not centers:\n",
    "        return []\n",
    "    centers = np.array(centers)\n",
    "    labels = DBSCAN(eps=100, min_samples=5).fit_predict(centers)\n",
    "    if (labels != -1).any():\n",
    "        main_label = np.bincount(labels[labels != -1]).argmax()\n",
    "    else:\n",
    "        main_label = 0\n",
    "    return [boxes[i] for i, lb in enumerate(labels) if lb == main_label]\n",
    "\n",
    "# ---------- Union Box 계산 함수 ------------------------------------\n",
    "def union_box(box_list):\n",
    "    arr = np.array(box_list)\n",
    "    x1, y1 = arr[:, :2].min(0)\n",
    "    x2, y2 = arr[:, 2:].max(0)\n",
    "    w, h    = x2 - x1, y2 - y1\n",
    "    pad_w   = w * PAD_RATIO\n",
    "    pad_h   = h * PAD_RATIO\n",
    "    return int(x1 - pad_w), int(y1 - pad_h), int(w + 2 * pad_w), int(h + 2 * pad_h)\n",
    "\n",
    "# ---------- FFmpeg Crop 함수 ----------------------------------------\n",
    "def crop_video(src: Path, dst: Path, bbox):\n",
    "    x, y, w, h = bbox\n",
    "    cmd = [\"ffmpeg\", \"-y\", \"-i\", str(src),\n",
    "           \"-filter:v\", f\"crop={w}:{h}:{x}:{y}\",\n",
    "           \"-pix_fmt\", \"yuv420p\", str(dst)]\n",
    "    subprocess.run(cmd, check=True)\n",
    "\n",
    "# ---------- JSON → CSV 변환 함수 ------------------------------------\n",
    "def json_dir_to_csv(json_dir: Path, csv_path: Path):\n",
    "    rows = []\n",
    "    for jf in sorted(json_dir.glob(\"*.json\")):\n",
    "        data = json.load(open(jf))\n",
    "        people = data.get(\"people\")\n",
    "        if not people:\n",
    "            rows.append([np.nan] * len(COLS))\n",
    "        else:\n",
    "            rows.append(people[0][\"pose_keypoints_2d\"])\n",
    "    pd.DataFrame(rows, columns=COLS).to_csv(csv_path, index=False)\n",
    "\n",
    "# ---------- 전체 파이프라인 함수 -----------------------------------\n",
    "def preprocess_all(root_dir: Path):\n",
    "    VIDEO_DIR      = root_dir / \"video\"\n",
    "    CROP_VIDEO_DIR = root_dir / \"crop_video\"\n",
    "    CROP_KP_DIR    = root_dir / \"crop_keypoint\"\n",
    "    TMP_JSON_DIR   = root_dir / \"_tmp_json\"\n",
    "    for d in [CROP_VIDEO_DIR, CROP_KP_DIR, TMP_JSON_DIR]:\n",
    "        d.mkdir(parents=True, exist_ok=True)\n",
    "\n",
    "    for vid in tqdm(sorted(VIDEO_DIR.glob(\"*.mp4\")), desc=f\"Processing {root_dir.name}\"):\n",
    "        name    = vid.stem\n",
    "        raw_dir = TMP_JSON_DIR / f\"raw_{name}\"\n",
    "        run_openpose(vid, raw_dir)\n",
    "\n",
    "        boxes = main_person_boxes(raw_dir)\n",
    "        if not boxes:\n",
    "            print(f\"⚠️  No valid person in {vid.name}\")\n",
    "            continue\n",
    "        bbox = union_box(boxes)\n",
    "\n",
    "        crop_mp4 = CROP_VIDEO_DIR / f\"{name}_crop.mp4\"\n",
    "        crop_video(vid, crop_mp4, bbox)\n",
    "\n",
    "        crop_dir  = TMP_JSON_DIR / f\"crop_{name}\"\n",
    "        run_openpose(crop_mp4, crop_dir)\n",
    "\n",
    "        csv_path = CROP_KP_DIR / f\"{name}_crop.csv\"\n",
    "        json_dir_to_csv(crop_dir, csv_path)\n",
    "        print(f\"✅ {root_dir.name} / {name} saved\")\n",
    "\n",
    "    # 중간 JSON 삭제가 필요하다면 아래 주석 해제\n",
    "    # shutil.rmtree(TMP_JSON_DIR)\n",
    "\n",
    "# ---------- 스크립트 실행부 -----------------------------------------\n",
    "if __name__ == \"__main__\":\n",
    "    for folder in BALANCED_FOLDERS:\n",
    "        root = CUR_DIR / folder\n",
    "        preprocess_all(root)\n"
   ]
  }
 ],
 "metadata": {
  "kernelspec": {
   "display_name": "timesformer",
   "language": "python",
   "name": "python3"
  },
  "language_info": {
   "codemirror_mode": {
    "name": "ipython",
    "version": 3
   },
   "file_extension": ".py",
   "mimetype": "text/x-python",
   "name": "python",
   "nbconvert_exporter": "python",
   "pygments_lexer": "ipython3",
   "version": "3.12.11"
  }
 },
 "nbformat": 4,
 "nbformat_minor": 5
}
