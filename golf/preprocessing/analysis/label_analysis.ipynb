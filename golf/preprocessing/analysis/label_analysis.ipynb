{
 "cells": [
  {
   "cell_type": "code",
   "execution_count": null,
   "id": "c7e44bdd",
   "metadata": {},
   "outputs": [
    {
     "name": "stdout",
     "output_type": "stream",
     "text": [
      "\n",
      "▶ Swing ID: 20201123_General_030_DOS_A_M40_MM_070  (총 프레임 116개)\n",
      "   - bad       : 116개  (100.0%)\n"
     ]
    }
   ],
   "source": [
    "import os\n",
    "import json\n",
    "from collections import defaultdict, Counter\n",
    "\n",
    "# 조사할 JSON 폴더\n",
    "json_dir = r\"D:\\golfDataset\\스포츠 사람 동작 영상(골프)\\Validation\\Public\\male\\[라벨]swing_01\\20201209_General_107_DOS_A_M20_MT\"\n",
    "\n",
    "# swing_id → Counter(evaluation)\n",
    "swing_evals = defaultdict(Counter)\n",
    "\n",
    "# 1) 모든 JSON 파일 순회\n",
    "for fname in os.listdir(json_dir):\n",
    "    if not fname.lower().endswith(\".json\"):\n",
    "        continue\n",
    "\n",
    "    # swing_id 추출 (마지막 \"_\" 앞까지)\n",
    "    swing_id = fname.rsplit(\"_\", 1)[0]\n",
    "\n",
    "    # 파일 열기\n",
    "    path = os.path.join(json_dir, fname)\n",
    "    try:\n",
    "        with open(path, \"r\", encoding=\"utf-8\") as f:\n",
    "            data = json.load(f)\n",
    "        ev = data.get(\"image\", {}).get(\"evaluation\", \"\").lower()\n",
    "    except Exception as e:\n",
    "        print(f\"⚠️ {fname} 읽기 오류: {e}\")\n",
    "        continue\n",
    "\n",
    "    # 분포 집계\n",
    "    swing_evals[swing_id][ev] += 1\n",
    "\n",
    "# 2) 결과 출력\n",
    "for sid, counter in sorted(swing_evals.items()):\n",
    "    total = sum(counter.values())\n",
    "    print(f\"\\n▶ Swing ID: {sid}  (총 프레임 {total}개)\")\n",
    "    for ev, cnt in counter.most_common():\n",
    "        pct = cnt / total * 100\n",
    "        print(f\"   - {ev:10s}: {cnt:2d}개  ({pct:5.1f}%)\")\n"
   ]
  }
 ],
 "metadata": {
  "kernelspec": {
   "display_name": "classifier_fusion",
   "language": "python",
   "name": "python3"
  },
  "language_info": {
   "codemirror_mode": {
    "name": "ipython",
    "version": 3
   },
   "file_extension": ".py",
   "mimetype": "text/x-python",
   "name": "python",
   "nbconvert_exporter": "python",
   "pygments_lexer": "ipython3",
   "version": "3.10.18"
  }
 },
 "nbformat": 4,
 "nbformat_minor": 5
}
