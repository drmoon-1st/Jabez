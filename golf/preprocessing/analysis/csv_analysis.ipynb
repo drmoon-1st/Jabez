{
 "cells": [
  {
   "cell_type": "code",
   "execution_count": 1,
   "id": "4b70eba4",
   "metadata": {},
   "outputs": [
    {
     "name": "stdout",
     "output_type": "stream",
     "text": [
      "                         frames               mean_x    mean_y     std_x  \\\n",
      "                           mean        std      mean      mean      mean   \n",
      "split label                                                                \n",
      "test  balanced_true  169.511111  30.293802  0.091567  0.134576  0.478340   \n",
      "      false          164.182482  31.547168  0.052550  0.118809  0.430992   \n",
      "train balanced_true  187.146657  62.088682  0.062349  0.101669  0.456826   \n",
      "      false          197.764706  67.610741  0.079889  0.117252  0.478723   \n",
      "\n",
      "                        std_y conf_mean  conf_std  \n",
      "                         mean      mean      mean  \n",
      "split label                                        \n",
      "test  balanced_true  1.331917  0.541361  0.251375  \n",
      "      false          1.345588  0.535493  0.243918  \n",
      "train balanced_true  1.341218  0.543732  0.251619  \n",
      "      false          1.331488  0.564273  0.243516  \n"
     ]
    }
   ],
   "source": [
    "import os\n",
    "import pandas as pd\n",
    "import numpy as np\n",
    "from pathlib import Path\n",
    "from glob import glob\n",
    "\n",
    "# 분석 대상 경로\n",
    "ROOT_TRAIN = Path(r\"D:\\golfDataset\\dataset\\train\")\n",
    "ROOT_TEST  = Path(r\"D:\\golfDataset\\dataset\\test\")\n",
    "CATEGORIES = ['balanced_true', 'false']\n",
    "\n",
    "def collect_keypoint_statistics(root_dir):\n",
    "    results = []\n",
    "    for label in CATEGORIES:\n",
    "        path = root_dir / label / 'crop_keypoint'\n",
    "        for csv_path in path.glob(\"*.csv\"):\n",
    "            df = pd.read_csv(csv_path)\n",
    "            T = len(df)\n",
    "            arr = df.values.reshape(T, 25, 3)\n",
    "            coords = arr[:, :, :2]\n",
    "            confs = arr[:, :, 2]\n",
    "            result = {\n",
    "                'split': root_dir.name,\n",
    "                'label': label,\n",
    "                'file': csv_path.name,\n",
    "                'frames': T,\n",
    "                'mean_x': coords[:,:,0].mean(),\n",
    "                'mean_y': coords[:,:,1].mean(),\n",
    "                'std_x':  coords[:,:,0].std(),\n",
    "                'std_y':  coords[:,:,1].std(),\n",
    "                'conf_mean': confs.mean(),\n",
    "                'conf_std':  confs.std()\n",
    "            }\n",
    "            results.append(result)\n",
    "    return pd.DataFrame(results)\n",
    "\n",
    "df_train = collect_keypoint_statistics(ROOT_TRAIN)\n",
    "df_test  = collect_keypoint_statistics(ROOT_TEST)\n",
    "df_all = pd.concat([df_train, df_test], ignore_index=True)\n",
    "\n",
    "# 요약\n",
    "summary = df_all.groupby(['split', 'label']).agg({\n",
    "    'frames': ['mean', 'std'],\n",
    "    'mean_x': 'mean',\n",
    "    'mean_y': 'mean',\n",
    "    'std_x': 'mean',\n",
    "    'std_y': 'mean',\n",
    "    'conf_mean': 'mean',\n",
    "    'conf_std': 'mean'\n",
    "})\n",
    "print(summary)\n"
   ]
  }
 ],
 "metadata": {
  "kernelspec": {
   "display_name": "classifier_fusion",
   "language": "python",
   "name": "python3"
  },
  "language_info": {
   "codemirror_mode": {
    "name": "ipython",
    "version": 3
   },
   "file_extension": ".py",
   "mimetype": "text/x-python",
   "name": "python",
   "nbconvert_exporter": "python",
   "pygments_lexer": "ipython3",
   "version": "3.10.18"
  }
 },
 "nbformat": 4,
 "nbformat_minor": 5
}
