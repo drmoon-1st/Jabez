{
 "cells": [
  {
   "cell_type": "code",
   "execution_count": 5,
   "id": "8294d11c",
   "metadata": {},
   "outputs": [
    {
     "name": "stdout",
     "output_type": "stream",
     "text": [
      "[+] 파일: skeleton_dataset_train.pkl\n",
      "- 전체 샘플 수: 806\n",
      "- split keys: ['xsub_val']\n",
      "- 샘플 예시 (최대 3개)\n",
      "  [0] frame_dir: 20201120_General_025_DOC_A_M40_MM_035_crop, label: 1\n",
      "    metainfo: {'frame_dir': '20201120_General_025_DOC_A_M40_MM_035_crop', 'img_shape': (1080, 1920)}\n",
      "    keys: ['total_frames', 'img_shape', 'original_shape', 'keypoint', 'keypoint_score', 'frame_dir', 'label', 'metainfo']\n",
      "  [1] frame_dir: 20201116_General_001_DOS_A_M40_MM_053_crop, label: 0\n",
      "    metainfo: {'frame_dir': '20201116_General_001_DOS_A_M40_MM_053_crop', 'img_shape': (1080, 1920)}\n",
      "    keys: ['total_frames', 'img_shape', 'original_shape', 'keypoint', 'keypoint_score', 'frame_dir', 'label', 'metainfo']\n",
      "  [2] frame_dir: 20201117_General_005_DOC_A_M40_MM_039_crop, label: 0\n",
      "    metainfo: {'frame_dir': '20201117_General_005_DOC_A_M40_MM_039_crop', 'img_shape': (1080, 1920)}\n",
      "    keys: ['total_frames', 'img_shape', 'original_shape', 'keypoint', 'keypoint_score', 'frame_dir', 'label', 'metainfo']\n"
     ]
    }
   ],
   "source": [
    "import pickle\n",
    "from pathlib import Path\n",
    "\n",
    "# --- 설정: 분석할 PKL 파일 경로를 지정하세요 ---\n",
    "pkl_path = Path(\"skeleton_dataset_train.pkl\")  # 예시: 현재 디렉토리 기준\n",
    "\n",
    "# --- PKL 파일 로드 및 구조 확인 ---\n",
    "def analyze_pkl(pkl_path: Path, max_samples=3):\n",
    "    with open(pkl_path, \"rb\") as f:\n",
    "        data = pickle.load(f)\n",
    "    print(f\"[+] 파일: {pkl_path}\")\n",
    "    print(f\"- 전체 샘플 수: {len(data['annotations'])}\")\n",
    "    print(f\"- split keys: {list(data.get('split', {}).keys())}\")\n",
    "\n",
    "    print(f\"- 샘플 예시 (최대 {max_samples}개)\")\n",
    "    for i, ann in enumerate(data['annotations'][:max_samples]):\n",
    "        print(f\"  [{i}] frame_dir: {ann.get('frame_dir')}, label: {ann.get('label')}\")\n",
    "        if 'metainfo' in ann:\n",
    "            print(f\"    metainfo: {ann['metainfo']}\")\n",
    "        print(f\"    keys: {list(ann.keys())}\")\n",
    "\n",
    "    return data\n",
    "\n",
    "# --- 실행 예시 ---\n",
    "data = analyze_pkl(pkl_path)\n"
   ]
  }
 ],
 "metadata": {
  "kernelspec": {
   "display_name": "classifier_fusion",
   "language": "python",
   "name": "python3"
  },
  "language_info": {
   "codemirror_mode": {
    "name": "ipython",
    "version": 3
   },
   "file_extension": ".py",
   "mimetype": "text/x-python",
   "name": "python",
   "nbconvert_exporter": "python",
   "pygments_lexer": "ipython3",
   "version": "3.10.18"
  }
 },
 "nbformat": 4,
 "nbformat_minor": 5
}
