{
 "cells": [
  {
   "cell_type": "code",
   "execution_count": 1,
   "id": "ea6d9c7c",
   "metadata": {},
   "outputs": [
    {
     "name": "stdout",
     "output_type": "stream",
     "text": [
      "선택된 스윙 수: 39968개 프레임 수: 39968\n"
     ]
    },
    {
     "name": "stderr",
     "output_type": "stream",
     "text": [
      "Copying selected swing files: 100%|██████████| 39968/39968 [01:26<00:00, 462.13it/s]\n"
     ]
    }
   ],
   "source": [
    "import os\n",
    "import shutil\n",
    "import random\n",
    "from collections import defaultdict\n",
    "from tqdm import tqdm\n",
    "\n",
    "# 원본 true 데이터 경로\n",
    "base_true_dir = r'D:\\golfDataset\\스포츠 사람 동작 영상(골프)\\Training\\Public\\male\\tf\\true'\n",
    "json_dir = os.path.join(base_true_dir, 'json')\n",
    "jpg_dir = os.path.join(base_true_dir, 'jpg')\n",
    "\n",
    "# 저장할 대상 디렉토리\n",
    "balanced_dir = os.path.join(base_true_dir, 'balanced_true')\n",
    "save_json_dir = os.path.join(balanced_dir, 'json')\n",
    "save_jpg_dir = os.path.join(balanced_dir, 'jpg')\n",
    "os.makedirs(save_json_dir, exist_ok=True)\n",
    "os.makedirs(save_jpg_dir, exist_ok=True)\n",
    "\n",
    "# 스윙 단위로 그룹화 (key: 스윙 식별자 ex: '20201116_General_001_DOS_A_M40_MM_001')\n",
    "swing_groups = defaultdict(list)\n",
    "\n",
    "for file in os.listdir(json_dir):\n",
    "    if file.endswith('.json'):\n",
    "        name_without_ext = file[:-5]  # remove .json\n",
    "        # 스윙 구분: 마지막 4자리 이전까지 동일하면 같은 스윙\n",
    "        swing_key = '_'.join(name_without_ext.split('_')[:-1])  # 마지막 번호 제외\n",
    "        swing_groups[swing_key].append(name_without_ext)\n",
    "\n",
    "# 스윙 단위로 섞고 선택\n",
    "swing_keys = list(swing_groups.keys())\n",
    "random.shuffle(swing_keys)\n",
    "\n",
    "selected_files = []\n",
    "frame_count = 0\n",
    "max_frames = 40000\n",
    "\n",
    "for swing_key in swing_keys:\n",
    "    frames = swing_groups[swing_key]\n",
    "    if frame_count + len(frames) > max_frames:\n",
    "        break\n",
    "    selected_files.extend(frames)\n",
    "    frame_count += len(frames)\n",
    "\n",
    "print(f\"선택된 스윙 수: {len(selected_files)}개 프레임 수: {frame_count}\")\n",
    "\n",
    "# 선택된 json/jpg 복사\n",
    "for name in tqdm(selected_files, desc=\"Copying selected swing files\"):\n",
    "    json_src = os.path.join(json_dir, name + '.json')\n",
    "    jpg_src = os.path.join(jpg_dir, name + '.jpg')\n",
    "    \n",
    "    if os.path.exists(json_src):\n",
    "        shutil.copy2(json_src, os.path.join(save_json_dir, os.path.basename(json_src)))\n",
    "    else:\n",
    "        print(f\"[!] 누락된 JSON: {json_src}\")\n",
    "        \n",
    "    if os.path.exists(jpg_src):\n",
    "        shutil.copy2(jpg_src, os.path.join(save_jpg_dir, os.path.basename(jpg_src)))\n",
    "    else:\n",
    "        print(f\"[!] 누락된 JPG: {jpg_src}\")\n"
   ]
  }
 ],
 "metadata": {
  "kernelspec": {
   "display_name": "base",
   "language": "python",
   "name": "python3"
  },
  "language_info": {
   "codemirror_mode": {
    "name": "ipython",
    "version": 3
   },
   "file_extension": ".py",
   "mimetype": "text/x-python",
   "name": "python",
   "nbconvert_exporter": "python",
   "pygments_lexer": "ipython3",
   "version": "3.12.3"
  }
 },
 "nbformat": 4,
 "nbformat_minor": 5
}
