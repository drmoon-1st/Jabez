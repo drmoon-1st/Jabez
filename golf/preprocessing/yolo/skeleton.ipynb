{
 "cells": [
  {
   "cell_type": "code",
   "execution_count": null,
   "id": "d6f13200",
   "metadata": {},
   "outputs": [],
   "source": [
    "import cv2\n",
    "import mediapipe as mp\n",
    "import pandas as pd\n",
    "\n",
    "mp_pose = mp.solutions.pose\n",
    "\n",
    "def extract_pose_landmarks_as_df(image_path):\n",
    "    image = cv2.imread(image_path)\n",
    "    if image is None:\n",
    "        print(f\"이미지 불러오기 실패: {image_path}\")\n",
    "        return None\n",
    "\n",
    "    with mp_pose.Pose(static_image_mode=True) as pose:\n",
    "        results = pose.process(cv2.cvtColor(image, cv2.COLOR_BGR2RGB))\n",
    "\n",
    "        if not results.pose_landmarks:\n",
    "            print(\"신체 랜드마크를 찾을 수 없습니다.\")\n",
    "            return None\n",
    "\n",
    "        landmarks = results.pose_landmarks.landmark\n",
    "\n",
    "        # 각 랜드마크 정보를 리스트로 정리\n",
    "        data = []\n",
    "        for idx, lm in enumerate(landmarks):\n",
    "            data.append({\n",
    "                'id': idx,\n",
    "                'x': lm.x,\n",
    "                'y': lm.y,\n",
    "                'z': lm.z,\n",
    "                'visibility': lm.visibility\n",
    "            })\n",
    "\n",
    "        df = pd.DataFrame(data)\n",
    "        return df\n",
    "\n",
    "# ✅ 예시 실행\n",
    "image_path = \"20201120_General_026_NOC_A_M40_MM_068_0001.jpg\"\n",
    "pose_df = extract_pose_landmarks_as_df(image_path)\n",
    "\n",
    "# 출력\n",
    "if pose_df is not None:\n",
    "    print(pose_df.head())  # 앞 5개 랜드마크 정보 출력\n"
   ]
  }
 ],
 "metadata": {
  "language_info": {
   "name": "python"
  }
 },
 "nbformat": 4,
 "nbformat_minor": 5
}
