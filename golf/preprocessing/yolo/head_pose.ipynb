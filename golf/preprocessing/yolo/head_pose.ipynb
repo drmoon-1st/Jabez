{
 "cells": [
  {
   "cell_type": "code",
   "execution_count": null,
   "id": "0120ba4e",
   "metadata": {},
   "outputs": [
    {
     "name": "stdout",
     "output_type": "stream",
     "text": [
      "비정면입니다.\n"
     ]
    }
   ],
   "source": [
    "import cv2\n",
    "import mediapipe as mp\n",
    "\n",
    "mp_pose = mp.solutions.pose\n",
    "\n",
    "def calculate_facing_score(landmarks):\n",
    "    left_shoulder = landmarks[mp_pose.PoseLandmark.LEFT_SHOULDER]\n",
    "    right_shoulder = landmarks[mp_pose.PoseLandmark.RIGHT_SHOULDER]\n",
    "    x_diff = abs(left_shoulder.x - right_shoulder.x)\n",
    "    return x_diff\n",
    "\n",
    "def is_facing_forward_from_body(landmarks):\n",
    "    x_diff = calculate_facing_score(landmarks)\n",
    "    return x_diff < 0.001  # 클수록 정면임 (기준값은 실험적으로 조정 가능)\n",
    "\n",
    "\n",
    "def process_pose_image(image_path):\n",
    "    image = cv2.imread(image_path)\n",
    "    if image is None:\n",
    "        print(f\"이미지 불러오기 실패: {image_path}\")\n",
    "        return\n",
    "\n",
    "    with mp_pose.Pose(static_image_mode=True) as pose:\n",
    "        results = pose.process(cv2.cvtColor(image, cv2.COLOR_BGR2RGB))\n",
    "\n",
    "        if not results.pose_landmarks:\n",
    "            print(\"신체 랜드마크를 찾을 수 없습니다.\")\n",
    "            return\n",
    "\n",
    "        landmarks = results.pose_landmarks.landmark\n",
    "        is_forward = is_facing_forward_from_body(landmarks)\n",
    "        print(\"정면입니다.\" if is_forward else \"비정면입니다.\")\n",
    "\n",
    "# 예시 실행\n",
    "process_pose_image(\"20201116_General_001_DOS_A_M40_MM_009_0001.jpg\")\n"
   ]
  },
  {
   "cell_type": "code",
   "execution_count": null,
   "id": "aad0b5a9",
   "metadata": {},
   "outputs": [],
   "source": []
  }
 ],
 "metadata": {
  "kernelspec": {
   "display_name": "golfCNN",
   "language": "python",
   "name": "python3"
  },
  "language_info": {
   "codemirror_mode": {
    "name": "ipython",
    "version": 3
   },
   "file_extension": ".py",
   "mimetype": "text/x-python",
   "name": "python",
   "nbconvert_exporter": "python",
   "pygments_lexer": "ipython3",
   "version": "3.9.21"
  }
 },
 "nbformat": 4,
 "nbformat_minor": 5
}
