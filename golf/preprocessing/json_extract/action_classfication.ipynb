{
 "cells": [
  {
   "cell_type": "markdown",
   "id": "84b387e6",
   "metadata": {},
   "source": [
    "# train 데이터 분리"
   ]
  },
  {
   "cell_type": "code",
   "execution_count": null,
   "id": "799105c6",
   "metadata": {},
   "outputs": [
    {
     "name": "stdout",
     "output_type": "stream",
     "text": [
      "분류 및 복사 완료.\n"
     ]
    }
   ],
   "source": [
    "import os\n",
    "import json\n",
    "import shutil\n",
    "\n",
    "# 경로 설정\n",
    "base_path = r\"D:\\golfDataset\\스포츠 사람 동작 영상(골프)\\Training\\Public\\male\"\n",
    "dataset_base_path = r\"D:\\golfDataset\\dataset\"   # 저장은 다른 접근이 쉬운 dataset 폴더에\n",
    "\n",
    "# 기준\n",
    "true_evaluations = {\"best\", \"good\", \"normal\"}\n",
    "false_evaluations = {\"bad\", \"worst\"}\n",
    "\n",
    "# dataset 디렉토리 구조 생성\n",
    "for dataset in [\"true\", \"false\"]:\n",
    "    for ext in [\"json\", \"jpg\"]:\n",
    "        os.makedirs(os.path.join(dataset_base_path, dataset, ext), exist_ok=True)\n",
    "\n",
    "# JSON 탐색 (라벨 폴더에서만)\n",
    "for root, dirs, files in os.walk(base_path):\n",
    "    if \"[라벨]\" not in root:\n",
    "        continue\n",
    "\n",
    "    for file in files:\n",
    "        if not file.endswith(\".json\"):\n",
    "            continue\n",
    "\n",
    "        json_path = os.path.join(root, file)\n",
    "\n",
    "        # 대응되는 JPG 경로 생성\n",
    "        relative_parts = os.path.relpath(json_path, base_path).split(os.sep)\n",
    "        relative_parts[0] = relative_parts[0].replace(\"[라벨]\", \"[원천]\")\n",
    "        jpg_filename = os.path.splitext(file)[0] + \".jpg\"\n",
    "        jpg_path = os.path.join(base_path, *relative_parts[:-1], jpg_filename)\n",
    "\n",
    "        # JSON 열기 및 evaluation 추출\n",
    "        try:\n",
    "            with open(json_path, \"r\", encoding=\"utf-8\") as f:\n",
    "                data = json.load(f)\n",
    "                evaluation = data.get(\"image\", {}).get(\"evaluation\", \"\").lower()\n",
    "        except Exception as e:\n",
    "            print(f\"Error reading {json_path}: {e}\")\n",
    "            continue\n",
    "\n",
    "        if evaluation in true_evaluations:\n",
    "            tf_label = \"true\"\n",
    "        elif evaluation in false_evaluations:\n",
    "            tf_label = \"false\"\n",
    "        else:\n",
    "            print(f\"Unknown evaluation '{evaluation}' in {json_path}\")\n",
    "            continue\n",
    "\n",
    "        # JSON 복사\n",
    "        shutil.copy2(json_path, os.path.join(dataset_base_path, tf_label, \"json\", file))\n",
    "\n",
    "        # JPG 복사 (존재 확인)\n",
    "        if os.path.exists(jpg_path):\n",
    "            shutil.copy2(jpg_path, os.path.join(dataset_base_path, tf_label, \"jpg\", jpg_filename))\n",
    "        else:\n",
    "            print(f\"Missing JPG for {json_path} → expected {jpg_path}\")\n",
    "\n",
    "print(\"분류 및 복사 완료.\")\n"
   ]
  },
  {
   "cell_type": "markdown",
   "id": "0b53079f",
   "metadata": {},
   "source": [
    "# test 데이터 분리"
   ]
  },
  {
   "cell_type": "code",
   "execution_count": null,
   "id": "9b82124c",
   "metadata": {},
   "outputs": [
    {
     "name": "stdout",
     "output_type": "stream",
     "text": [
      "test 폴더 분류 및 복사 완료.\n"
     ]
    }
   ],
   "source": [
    "import os\n",
    "import json\n",
    "import shutil\n",
    "\n",
    "# 경로 설정\n",
    "test_base_path = os.path.join(dataset_base_path, \"test\")    # dataset 폴더에 test 폴더 생성\n",
    "\n",
    "# 기준\n",
    "true_evaluations = {\"best\", \"good\", \"normal\"}\n",
    "false_evaluations = {\"bad\", \"worst\"}\n",
    "\n",
    "# test 디렉토리 구조 생성\n",
    "for tf in [\"true\", \"false\"]:\n",
    "    for ext in [\"json\", \"jpg\"]:\n",
    "        os.makedirs(os.path.join(test_base_path, tf, ext), exist_ok=True)\n",
    "\n",
    "# [라벨]swing_11에 해당하는 경로만 처리\n",
    "for root, dirs, files in os.walk(os.path.join(base_path, \"[라벨]swing_11\")):\n",
    "    for file in files:\n",
    "        if not file.endswith(\".json\"):\n",
    "            continue\n",
    "\n",
    "        json_path = os.path.join(root, file)\n",
    "\n",
    "        # 대응되는 JPG 경로 생성\n",
    "        relative_parts = os.path.relpath(json_path, base_path).split(os.sep)\n",
    "        relative_parts[0] = relative_parts[0].replace(\"[라벨]\", \"[원천]\")\n",
    "        jpg_filename = os.path.splitext(file)[0] + \".jpg\"\n",
    "        jpg_path = os.path.join(base_path, *relative_parts[:-1], jpg_filename)\n",
    "\n",
    "        # JSON 열기 및 evaluation 추출\n",
    "        try:\n",
    "            with open(json_path, \"r\", encoding=\"utf-8\") as f:\n",
    "                data = json.load(f)\n",
    "                evaluation = data.get(\"image\", {}).get(\"evaluation\", \"\").lower()\n",
    "        except Exception as e:\n",
    "            print(f\"Error reading {json_path}: {e}\")\n",
    "            continue\n",
    "\n",
    "        if evaluation in true_evaluations:\n",
    "            tf_label = \"true\"\n",
    "        elif evaluation in false_evaluations:\n",
    "            tf_label = \"false\"\n",
    "        else:\n",
    "            print(f\"Unknown evaluation '{evaluation}' in {json_path}\")\n",
    "            continue\n",
    "\n",
    "        # JSON 복사\n",
    "        shutil.copy2(json_path, os.path.join(test_base_path, tf_label, \"json\", file))\n",
    "\n",
    "        # JPG 복사 (존재 확인)\n",
    "        if os.path.exists(jpg_path):\n",
    "            shutil.copy2(jpg_path, os.path.join(test_base_path, tf_label, \"jpg\", jpg_filename))\n",
    "        else:\n",
    "            print(f\"Missing JPG for {json_path} → expected {jpg_path}\")\n",
    "\n",
    "print(\"test 폴더 분류 및 복사 완료.\")\n"
   ]
  }
 ],
 "metadata": {
  "kernelspec": {
   "display_name": "golfCNN",
   "language": "python",
   "name": "python3"
  },
  "language_info": {
   "codemirror_mode": {
    "name": "ipython",
    "version": 3
   },
   "file_extension": ".py",
   "mimetype": "text/x-python",
   "name": "python",
   "nbconvert_exporter": "python",
   "pygments_lexer": "ipython3",
   "version": "3.9.21"
  }
 },
 "nbformat": 4,
 "nbformat_minor": 5
}
