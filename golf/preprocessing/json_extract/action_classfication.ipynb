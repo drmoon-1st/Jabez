{
 "cells": [
  {
   "cell_type": "markdown",
   "id": "84b387e6",
   "metadata": {},
   "source": [
    "# 데이터 분리"
   ]
  },
  {
   "cell_type": "code",
   "execution_count": 1,
   "id": "799105c6",
   "metadata": {},
   "outputs": [
    {
     "name": "stdout",
     "output_type": "stream",
     "text": [
      "분류 및 복사 완료.\n"
     ]
    }
   ],
   "source": [
    "# TrainValid 파라미터에 따라 경로 자동 설정\n",
    "TrainValid = \"Validation\"  # \"Training\" 또는 \"Validation\" 중 선택\n",
    "\n",
    "if TrainValid == \"Training\":\n",
    "    base_path = r\"D:\\golfDataset\\스포츠 사람 동작 영상(골프)\\Training\\Public\\female\"\n",
    "    dataset_base_path = r\"D:\\golfDataset\\dataset\\train\"\n",
    "elif TrainValid == \"Validation\":\n",
    "    base_path = r\"D:\\golfDataset\\스포츠 사람 동작 영상(골프)\\Validation\\Public\\female\"\n",
    "    dataset_base_path = r\"D:\\golfDataset\\dataset\\test\"\n",
    "else:\n",
    "    raise ValueError(\"TrainValid는 'Training' 또는 'Validation'이어야 합니다.\")\n",
    "\n",
    "# 이하 기존 코드\n",
    "import os\n",
    "import json\n",
    "import shutil\n",
    "\n",
    "# Training/Validation, Public/Assosiation/Amature, male/female 로 경로 나뉨\n",
    "# base_path, dataset_base_path는 위에서 자동 설정됨\n",
    "# test, train은 직접 지정\n",
    "\n",
    "# 기준\n",
    "true_evaluations = {\"best\", \"good\", \"normal\"}\n",
    "false_evaluations = {\"bad\", \"worst\"}\n",
    "\n",
    "# dataset 디렉토리 구조 생성\n",
    "for dataset in [\"true\", \"false\"]:\n",
    "    for ext in [\"json\", \"jpg\"]:\n",
    "        os.makedirs(os.path.join(dataset_base_path, dataset, ext), exist_ok=True)\n",
    "\n",
    "# JSON 탐색 (라벨 폴더에서만)\n",
    "for root, dirs, files in os.walk(base_path):\n",
    "    if \"[라벨]\" not in root:\n",
    "        continue\n",
    "\n",
    "    for file in files:\n",
    "        if not file.endswith(\".json\"):\n",
    "            continue\n",
    "\n",
    "        json_path = os.path.join(root, file)\n",
    "\n",
    "        # 대응되는 JPG 경로 생성\n",
    "        relative_parts = os.path.relpath(json_path, base_path).split(os.sep)\n",
    "        relative_parts[0] = relative_parts[0].replace(\"[라벨]\", \"[원천]\")\n",
    "        jpg_filename = os.path.splitext(file)[0] + \".jpg\"\n",
    "        jpg_path = os.path.join(base_path, *relative_parts[:-1], jpg_filename)\n",
    "\n",
    "        # JSON 열기 및 evaluation 추출\n",
    "        try:\n",
    "            with open(json_path, \"r\", encoding=\"utf-8\") as f:\n",
    "                data = json.load(f)\n",
    "                evaluation = data.get(\"image\", {}).get(\"evaluation\", \"\").lower()\n",
    "        except Exception as e:\n",
    "            print(f\"Error reading {json_path}: {e}\")\n",
    "            continue\n",
    "\n",
    "        if evaluation in true_evaluations:\n",
    "            tf_label = \"true\"\n",
    "        elif evaluation in false_evaluations:\n",
    "            tf_label = \"false\"\n",
    "        else:\n",
    "            print(f\"Unknown evaluation '{evaluation}' in {json_path}\")\n",
    "            continue\n",
    "\n",
    "        # JSON 복사\n",
    "        shutil.copy2(json_path, os.path.join(dataset_base_path, tf_label, \"json\", file))\n",
    "\n",
    "        # JPG 복사 (존재 확인)\n",
    "        if os.path.exists(jpg_path):\n",
    "            shutil.copy2(jpg_path, os.path.join(dataset_base_path, tf_label, \"jpg\", jpg_filename))\n",
    "        else:\n",
    "            print(f\"Missing JPG for {json_path} → expected {jpg_path}\")\n",
    "\n",
    "print(\"분류 및 복사 완료.\")\n"
   ]
  }
 ],
 "metadata": {
  "kernelspec": {
   "display_name": "classifier_fusion",
   "language": "python",
   "name": "python3"
  },
  "language_info": {
   "codemirror_mode": {
    "name": "ipython",
    "version": 3
   },
   "file_extension": ".py",
   "mimetype": "text/x-python",
   "name": "python",
   "nbconvert_exporter": "python",
   "pygments_lexer": "ipython3",
   "version": "3.10.18"
  }
 },
 "nbformat": 4,
 "nbformat_minor": 5
}
