{
 "cells": [
  {
   "cell_type": "code",
   "execution_count": 4,
   "id": "ea6d9c7c",
   "metadata": {},
   "outputs": [
    {
     "name": "stdout",
     "output_type": "stream",
     "text": [
      "총 true 비디오 수: 1633\n"
     ]
    },
    {
     "name": "stderr",
     "output_type": "stream",
     "text": [
      "Copying selected mp4 files: 100%|██████████| 218/218 [00:01<00:00, 140.87it/s]\n"
     ]
    }
   ],
   "source": [
    "import os\n",
    "import shutil\n",
    "import random\n",
    "from tqdm import tqdm\n",
    "\n",
    "# ✅ 경로 설정 -----------------------------------------------------------------\n",
    "base_dir = r'D:\\golfDataset\\스포츠 사람 동작 영상(골프)\\Training\\Public\\male\\tf'\n",
    "true_dif = r'D:\\golfDataset\\스포츠 사람 동작 영상(골프)\\Training\\Public\\male\\tf\\true'\n",
    "mp4_dir       = os.path.join(true_dif, 'video')          # true 비디오들이 있는 곳\n",
    "balanced_dir  = os.path.join(base_dir, 'balanced_true')\n",
    "save_mp4_dir  = os.path.join(balanced_dir, 'video')  # 선택된 true 비디오를 저장할 곳\n",
    "\n",
    "os.makedirs(save_mp4_dir, exist_ok=True)\n",
    "\n",
    "# ✅ 무작위 추출 ---------------------------------------------------------------\n",
    "num_to_select = 218                                          # false 비디오 수와 동일하게\n",
    "\n",
    "mp4_files = [f for f in os.listdir(mp4_dir) if f.lower().endswith('.mp4')]\n",
    "print(f'총 true 비디오 수: {len(mp4_files)}')\n",
    "\n",
    "if len(mp4_files) < num_to_select:\n",
    "    raise ValueError(f'true 비디오가 {num_to_select}개보다 적습니다.')\n",
    "\n",
    "random.shuffle(mp4_files)\n",
    "selected_videos = mp4_files[:num_to_select]\n",
    "\n",
    "# ✅ 파일 복사(또는 이동) -------------------------------------------------------\n",
    "for vid in tqdm(selected_videos, desc='Copying selected mp4 files'):\n",
    "    src = os.path.join(mp4_dir, vid)\n",
    "    dst = os.path.join(save_mp4_dir, vid)\n",
    "    shutil.copy2(src, dst)          # ➡️ 만약 '이동'이 필요하면 shutil.move(src, dst) 사용\n"
   ]
  }
 ],
 "metadata": {
  "kernelspec": {
   "display_name": "base",
   "language": "python",
   "name": "python3"
  },
  "language_info": {
   "codemirror_mode": {
    "name": "ipython",
    "version": 3
   },
   "file_extension": ".py",
   "mimetype": "text/x-python",
   "name": "python",
   "nbconvert_exporter": "python",
   "pygments_lexer": "ipython3",
   "version": "3.12.3"
  }
 },
 "nbformat": 4,
 "nbformat_minor": 5
}
