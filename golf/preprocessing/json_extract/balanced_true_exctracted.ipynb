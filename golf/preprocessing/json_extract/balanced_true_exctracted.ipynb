{
 "cells": [
  {
   "cell_type": "code",
   "execution_count": 2,
   "id": "ea6d9c7c",
   "metadata": {},
   "outputs": [
    {
     "name": "stdout",
     "output_type": "stream",
     "text": [
      "총 true 비디오 수: 169\n"
     ]
    },
    {
     "name": "stderr",
     "output_type": "stream",
     "text": [
      "Copying selected mp4 files: 100%|██████████| 1/1 [00:00<00:00, 45.79it/s]"
     ]
    },
    {
     "name": "stdout",
     "output_type": "stream",
     "text": [
      "비디오 분류 및 복사 완료.\n"
     ]
    },
    {
     "name": "stderr",
     "output_type": "stream",
     "text": [
      "\n"
     ]
    }
   ],
   "source": [
    "import os\n",
    "import shutil\n",
    "import random\n",
    "from pathlib import Path\n",
    "from tqdm import tqdm\n",
    "\n",
    "# ✅ 경로 설정 -----------------------------------------------------------------\n",
    "# base_dir를 기준으로 모든 하위 경로를 Path 객체로 정의합니다.\n",
    "base_dir = Path(r'D:\\golfDataset\\dataset\\test')    # test 폴더 기준, train 원하면 train\n",
    "true_dir = base_dir / 'true'  # true 비디오들이 있는 곳\n",
    "false_dir = base_dir / 'false'  # false 비디오들이 있는 곳\n",
    "\n",
    "# mp4_dir는 true_dir 내의 'video' 폴더를 가리킵니다.\n",
    "true_mp4_dir = true_dir / 'video'\n",
    "false_mp4_dir = false_dir / 'video'  # false 비디오들이 있는 곳\n",
    "\n",
    "# balanced_dir와 save_mp4_dir도 base_dir를 기준으로 정의합니다.\n",
    "balanced_dir = base_dir / 'balanced_true'\n",
    "save_mp4_dir = balanced_dir / 'video'  # 선택된 true 비디오를 저장할 곳\n",
    "\n",
    "# 비디오 저장 폴더를 생성합니다.\n",
    "save_mp4_dir.mkdir(parents=True, exist_ok=True)\n",
    "\n",
    "# ✅ 무작위 추출 ---------------------------------------------------------------\n",
    "# false 비디오 수에 맞춰 true 비디오를 무작위로 선택\n",
    "# false_dir에 있는 파일의 수를 세어 num_to_select를 설정합니다.\n",
    "num_to_select = len(list(false_mp4_dir.iterdir()))  # false 비디오 수에 맞춰 true 비디오 수 설정 (폴더 내 모든 항목)\n",
    "\n",
    "# mp4_dir 내의 .mp4 파일만 필터링합니다.\n",
    "mp4_files = [f for f in true_mp4_dir.iterdir() if f.is_file() and f.suffix.lower() == '.mp4']\n",
    "print(f'총 true 비디오 수: {len(mp4_files)}')\n",
    "\n",
    "if len(mp4_files) < num_to_select:\n",
    "    raise ValueError(f'true 비디오가 {num_to_select}개보다 적습니다.')\n",
    "\n",
    "random.shuffle(mp4_files)\n",
    "selected_videos = mp4_files[:num_to_select]\n",
    "\n",
    "# ✅ 파일 복사(또는 이동) -------------------------------------------------------\n",
    "for vid_path in tqdm(selected_videos, desc='Copying selected mp4 files'):\n",
    "    # Path 객체를 사용하므로 바로 src와 dst를 조합할 수 있습니다.\n",
    "    src = vid_path\n",
    "    dst = save_mp4_dir / vid_path.name\n",
    "    shutil.copy2(src, dst)  # ➡️ 만약 '이동'이 필요하면 shutil.move(src, dst) 사용\n",
    "\n",
    "print(\"비디오 분류 및 복사 완료.\")"
   ]
  }
 ],
 "metadata": {
  "kernelspec": {
   "display_name": "mmaction",
   "language": "python",
   "name": "python3"
  },
  "language_info": {
   "codemirror_mode": {
    "name": "ipython",
    "version": 3
   },
   "file_extension": ".py",
   "mimetype": "text/x-python",
   "name": "python",
   "nbconvert_exporter": "python",
   "pygments_lexer": "ipython3",
   "version": "3.8.20"
  }
 },
 "nbformat": 4,
 "nbformat_minor": 5
}
