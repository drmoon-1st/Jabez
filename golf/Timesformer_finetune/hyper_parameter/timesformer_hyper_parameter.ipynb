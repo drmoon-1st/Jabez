{
 "cells": [
  {
   "cell_type": "code",
   "execution_count": 1,
   "id": "4d2f8a4c",
   "metadata": {},
   "outputs": [
    {
     "name": "stdout",
     "output_type": "stream",
     "text": [
      "\n",
      "=== Generation 1 ===\n",
      "\n",
      "[GA] Individual 1: {'LR': 1.9004375238737116e-05, 'WEIGHT_DECAY': 0.0012250967970040025, 'DROPOUT': 0.38250879551073574, 'TF_RATIO': [1.2232107381488229, 1.0], 'TRAIN_BLOCK': 2}\n",
      "✅ 2404 samples found in D:\\golfDataset\\dataset\\train (balanced=True)\n",
      "✅ 295 samples found in D:\\golfDataset\\dataset\\test (balanced=False)\n"
     ]
    },
    {
     "name": "stderr",
     "output_type": "stream",
     "text": [
      "                                                                      \r"
     ]
    },
    {
     "name": "stdout",
     "output_type": "stream",
     "text": [
      "  train acc: 76.331%, loss: 0.1165\n"
     ]
    },
    {
     "name": "stderr",
     "output_type": "stream",
     "text": [
      "                                                                      \r"
     ]
    },
    {
     "name": "stdout",
     "output_type": "stream",
     "text": [
      "  test  acc: 43.051%\n"
     ]
    },
    {
     "name": "stderr",
     "output_type": "stream",
     "text": [
      "                                                                      \r"
     ]
    },
    {
     "name": "stdout",
     "output_type": "stream",
     "text": [
      "  train acc: 91.639%, loss: 0.0508\n"
     ]
    },
    {
     "name": "stderr",
     "output_type": "stream",
     "text": [
      "                                                                      \r"
     ]
    },
    {
     "name": "stdout",
     "output_type": "stream",
     "text": [
      "  test  acc: 42.373%\n",
      "⚠️ Early stopping (overfitting): train_acc=91.64%, test_acc=42.37%\n"
     ]
    },
    {
     "name": "stderr",
     "output_type": "stream",
     "text": [
      "                                                                      \r"
     ]
    },
    {
     "name": "stdout",
     "output_type": "stream",
     "text": [
      "  test  acc: 42.373%\n",
      "\n",
      "[GA] Individual 2: {'LR': 2.2563110735889073e-05, 'WEIGHT_DECAY': 0.009029616109343611, 'DROPOUT': 0.3260816497888248, 'TF_RATIO': [1.4219218196852705, 1.0], 'TRAIN_BLOCK': 2}\n",
      "✅ 2404 samples found in D:\\golfDataset\\dataset\\train (balanced=True)\n",
      "✅ 295 samples found in D:\\golfDataset\\dataset\\test (balanced=False)\n"
     ]
    },
    {
     "name": "stderr",
     "output_type": "stream",
     "text": [
      "                                                                      \r"
     ]
    },
    {
     "name": "stdout",
     "output_type": "stream",
     "text": [
      "  train acc: 78.702%, loss: 0.1058\n"
     ]
    },
    {
     "name": "stderr",
     "output_type": "stream",
     "text": [
      "                                                                      \r"
     ]
    },
    {
     "name": "stdout",
     "output_type": "stream",
     "text": [
      "  test  acc: 48.136%\n"
     ]
    },
    {
     "name": "stderr",
     "output_type": "stream",
     "text": [
      "                                                                      \r"
     ]
    },
    {
     "name": "stdout",
     "output_type": "stream",
     "text": [
      "  train acc: 92.263%, loss: 0.0457\n"
     ]
    },
    {
     "name": "stderr",
     "output_type": "stream",
     "text": [
      "                                                                      \r"
     ]
    },
    {
     "name": "stdout",
     "output_type": "stream",
     "text": [
      "  test  acc: 41.017%\n",
      "⚠️ Early stopping (overfitting): train_acc=92.26%, test_acc=41.02%\n"
     ]
    },
    {
     "name": "stderr",
     "output_type": "stream",
     "text": [
      "                                                                      \r"
     ]
    },
    {
     "name": "stdout",
     "output_type": "stream",
     "text": [
      "  test  acc: 41.017%\n",
      "\n",
      "[GA] Individual 3: {'LR': 1.53953823672411e-06, 'WEIGHT_DECAY': 0.0030939480405166564, 'DROPOUT': 0.4806056187149941, 'TF_RATIO': [1.561245062938613, 1.0], 'TRAIN_BLOCK': 2}\n",
      "✅ 2404 samples found in D:\\golfDataset\\dataset\\train (balanced=True)\n",
      "✅ 295 samples found in D:\\golfDataset\\dataset\\test (balanced=False)\n"
     ]
    },
    {
     "name": "stderr",
     "output_type": "stream",
     "text": [
      "                                                                      \r"
     ]
    },
    {
     "name": "stdout",
     "output_type": "stream",
     "text": [
      "  train acc: 53.910%, loss: 0.1802\n"
     ]
    },
    {
     "name": "stderr",
     "output_type": "stream",
     "text": [
      "                                                                      \r"
     ]
    },
    {
     "name": "stdout",
     "output_type": "stream",
     "text": [
      "  test  acc: 35.932%\n"
     ]
    },
    {
     "name": "stderr",
     "output_type": "stream",
     "text": [
      "                                                                      \r"
     ]
    },
    {
     "name": "stdout",
     "output_type": "stream",
     "text": [
      "  train acc: 61.481%, loss: 0.1606\n"
     ]
    },
    {
     "name": "stderr",
     "output_type": "stream",
     "text": [
      "                                                                      \r"
     ]
    },
    {
     "name": "stdout",
     "output_type": "stream",
     "text": [
      "  test  acc: 38.983%\n"
     ]
    },
    {
     "name": "stderr",
     "output_type": "stream",
     "text": [
      "                                                                      \r"
     ]
    },
    {
     "name": "stdout",
     "output_type": "stream",
     "text": [
      "  train acc: 66.805%, loss: 0.1442\n"
     ]
    },
    {
     "name": "stderr",
     "output_type": "stream",
     "text": [
      "                                                                      \r"
     ]
    },
    {
     "name": "stdout",
     "output_type": "stream",
     "text": [
      "  test  acc: 39.661%\n"
     ]
    },
    {
     "name": "stderr",
     "output_type": "stream",
     "text": [
      "                                                                      \r"
     ]
    },
    {
     "name": "stdout",
     "output_type": "stream",
     "text": [
      "  train acc: 72.379%, loss: 0.1301\n"
     ]
    },
    {
     "name": "stderr",
     "output_type": "stream",
     "text": [
      "                                                                      \r"
     ]
    },
    {
     "name": "stdout",
     "output_type": "stream",
     "text": [
      "  test  acc: 40.678%\n"
     ]
    },
    {
     "name": "stderr",
     "output_type": "stream",
     "text": [
      "                                                                      \r"
     ]
    },
    {
     "name": "stdout",
     "output_type": "stream",
     "text": [
      "  train acc: 77.038%, loss: 0.1160\n"
     ]
    },
    {
     "name": "stderr",
     "output_type": "stream",
     "text": [
      "                                                                      \r"
     ]
    },
    {
     "name": "stdout",
     "output_type": "stream",
     "text": [
      "  test  acc: 42.034%\n",
      "⚠️ Early stopping (overfitting): train_acc=77.04%, test_acc=42.03%\n"
     ]
    },
    {
     "name": "stderr",
     "output_type": "stream",
     "text": [
      "                                                                      \r"
     ]
    },
    {
     "name": "stdout",
     "output_type": "stream",
     "text": [
      "  test  acc: 42.034%\n",
      "\n",
      "[GA] Individual 4: {'LR': 2.7598230915285763e-06, 'WEIGHT_DECAY': 0.006303391154883179, 'DROPOUT': 0.542829137003348, 'TF_RATIO': [1.006498759678061, 1.0], 'TRAIN_BLOCK': 2}\n",
      "✅ 2404 samples found in D:\\golfDataset\\dataset\\train (balanced=True)\n",
      "✅ 295 samples found in D:\\golfDataset\\dataset\\test (balanced=False)\n"
     ]
    },
    {
     "name": "stderr",
     "output_type": "stream",
     "text": [
      "                                                                      \r"
     ]
    },
    {
     "name": "stdout",
     "output_type": "stream",
     "text": [
      "  train acc: 52.704%, loss: 0.1985\n"
     ]
    },
    {
     "name": "stderr",
     "output_type": "stream",
     "text": [
      "                                                                      \r"
     ]
    },
    {
     "name": "stdout",
     "output_type": "stream",
     "text": [
      "  test  acc: 52.203%\n"
     ]
    },
    {
     "name": "stderr",
     "output_type": "stream",
     "text": [
      "                                                                      \r"
     ]
    },
    {
     "name": "stdout",
     "output_type": "stream",
     "text": [
      "  train acc: 64.850%, loss: 0.1587\n"
     ]
    },
    {
     "name": "stderr",
     "output_type": "stream",
     "text": [
      "                                                                      \r"
     ]
    },
    {
     "name": "stdout",
     "output_type": "stream",
     "text": [
      "  test  acc: 46.102%\n"
     ]
    },
    {
     "name": "stderr",
     "output_type": "stream",
     "text": [
      "                                                                      \r"
     ]
    },
    {
     "name": "stdout",
     "output_type": "stream",
     "text": [
      "  train acc: 73.087%, loss: 0.1311\n"
     ]
    },
    {
     "name": "stderr",
     "output_type": "stream",
     "text": [
      "                                                                      \r"
     ]
    },
    {
     "name": "stdout",
     "output_type": "stream",
     "text": [
      "  test  acc: 45.424%\n"
     ]
    },
    {
     "name": "stderr",
     "output_type": "stream",
     "text": [
      "                                                                      \r"
     ]
    },
    {
     "name": "stdout",
     "output_type": "stream",
     "text": [
      "  train acc: 78.869%, loss: 0.1117\n"
     ]
    },
    {
     "name": "stderr",
     "output_type": "stream",
     "text": [
      "                                                                      \r"
     ]
    },
    {
     "name": "stdout",
     "output_type": "stream",
     "text": [
      "  test  acc: 45.085%\n",
      "⏹️ Early stopping (no test acc improvement for 3 epochs)\n"
     ]
    },
    {
     "name": "stderr",
     "output_type": "stream",
     "text": [
      "                                                                      \r"
     ]
    },
    {
     "name": "stdout",
     "output_type": "stream",
     "text": [
      "  test  acc: 45.085%\n",
      "\n",
      "[GA] Individual 5: {'LR': 2.4904555224040003e-05, 'WEIGHT_DECAY': 0.0040622546486619275, 'DROPOUT': 0.3466438499435345, 'TF_RATIO': [1.9572130722067813, 1.0], 'TRAIN_BLOCK': 2}\n",
      "✅ 2404 samples found in D:\\golfDataset\\dataset\\train (balanced=True)\n",
      "✅ 295 samples found in D:\\golfDataset\\dataset\\test (balanced=False)\n"
     ]
    },
    {
     "name": "stderr",
     "output_type": "stream",
     "text": [
      "                                                                      \r"
     ]
    },
    {
     "name": "stdout",
     "output_type": "stream",
     "text": [
      "  train acc: 79.243%, loss: 0.1007\n"
     ]
    },
    {
     "name": "stderr",
     "output_type": "stream",
     "text": [
      "                                                                      \r"
     ]
    },
    {
     "name": "stdout",
     "output_type": "stream",
     "text": [
      "  test  acc: 45.424%\n"
     ]
    },
    {
     "name": "stderr",
     "output_type": "stream",
     "text": [
      "                                                                      \r"
     ]
    },
    {
     "name": "stdout",
     "output_type": "stream",
     "text": [
      "  train acc: 92.388%, loss: 0.0436\n"
     ]
    },
    {
     "name": "stderr",
     "output_type": "stream",
     "text": [
      "                                                                      \r"
     ]
    },
    {
     "name": "stdout",
     "output_type": "stream",
     "text": [
      "  test  acc: 40.339%\n",
      "⚠️ Early stopping (overfitting): train_acc=92.39%, test_acc=40.34%\n"
     ]
    },
    {
     "name": "stderr",
     "output_type": "stream",
     "text": [
      "                                                                      \r"
     ]
    },
    {
     "name": "stdout",
     "output_type": "stream",
     "text": [
      "  test  acc: 40.339%\n",
      "\n",
      "[GA] Individual 6: {'LR': 1.6011077254941482e-06, 'WEIGHT_DECAY': 0.004419345705736037, 'DROPOUT': 0.4076938141453885, 'TF_RATIO': [1.343955722478971, 1.0], 'TRAIN_BLOCK': 2}\n",
      "✅ 2404 samples found in D:\\golfDataset\\dataset\\train (balanced=True)\n",
      "✅ 295 samples found in D:\\golfDataset\\dataset\\test (balanced=False)\n"
     ]
    },
    {
     "name": "stderr",
     "output_type": "stream",
     "text": [
      "                                                                      \r"
     ]
    },
    {
     "name": "stdout",
     "output_type": "stream",
     "text": [
      "  train acc: 54.201%, loss: 0.1842\n"
     ]
    },
    {
     "name": "stderr",
     "output_type": "stream",
     "text": [
      "                                                                      \r"
     ]
    },
    {
     "name": "stdout",
     "output_type": "stream",
     "text": [
      "  test  acc: 54.237%\n"
     ]
    },
    {
     "name": "stderr",
     "output_type": "stream",
     "text": [
      "                                                                      \r"
     ]
    },
    {
     "name": "stdout",
     "output_type": "stream",
     "text": [
      "  train acc: 64.975%, loss: 0.1556\n"
     ]
    },
    {
     "name": "stderr",
     "output_type": "stream",
     "text": [
      "                                                                      \r"
     ]
    },
    {
     "name": "stdout",
     "output_type": "stream",
     "text": [
      "  test  acc: 51.525%\n"
     ]
    },
    {
     "name": "stderr",
     "output_type": "stream",
     "text": [
      "                                                                      \r"
     ]
    },
    {
     "name": "stdout",
     "output_type": "stream",
     "text": [
      "  train acc: 72.879%, loss: 0.1354\n"
     ]
    },
    {
     "name": "stderr",
     "output_type": "stream",
     "text": [
      "                                                                      \r"
     ]
    },
    {
     "name": "stdout",
     "output_type": "stream",
     "text": [
      "  test  acc: 51.525%\n"
     ]
    },
    {
     "name": "stderr",
     "output_type": "stream",
     "text": [
      "                                                                      \r"
     ]
    },
    {
     "name": "stdout",
     "output_type": "stream",
     "text": [
      "  train acc: 76.165%, loss: 0.1215\n"
     ]
    },
    {
     "name": "stderr",
     "output_type": "stream",
     "text": [
      "                                                                      \r"
     ]
    },
    {
     "name": "stdout",
     "output_type": "stream",
     "text": [
      "  test  acc: 50.169%\n",
      "⏹️ Early stopping (no test acc improvement for 3 epochs)\n"
     ]
    },
    {
     "name": "stderr",
     "output_type": "stream",
     "text": [
      "                                                                      \r"
     ]
    },
    {
     "name": "stdout",
     "output_type": "stream",
     "text": [
      "  test  acc: 50.169%\n",
      "\n",
      "=== Generation 2 ===\n",
      "\n",
      "[GA] Individual 1: {'LR': 1.6011077254941482e-06, 'WEIGHT_DECAY': 0.004419345705736037, 'DROPOUT': 0.4076938141453885, 'TF_RATIO': [1.343955722478971, 1.0], 'TRAIN_BLOCK': 2, 'test_acc': 0.5423728813559322}\n",
      "✅ 2404 samples found in D:\\golfDataset\\dataset\\train (balanced=True)\n",
      "✅ 295 samples found in D:\\golfDataset\\dataset\\test (balanced=False)\n"
     ]
    },
    {
     "name": "stderr",
     "output_type": "stream",
     "text": [
      "                                                                      \r"
     ]
    },
    {
     "name": "stdout",
     "output_type": "stream",
     "text": [
      "  train acc: 51.747%, loss: 0.1885\n"
     ]
    },
    {
     "name": "stderr",
     "output_type": "stream",
     "text": [
      "                                                                      \r"
     ]
    },
    {
     "name": "stdout",
     "output_type": "stream",
     "text": [
      "  test  acc: 41.017%\n"
     ]
    },
    {
     "name": "stderr",
     "output_type": "stream",
     "text": [
      "                                                                      \r"
     ]
    },
    {
     "name": "stdout",
     "output_type": "stream",
     "text": [
      "  train acc: 62.646%, loss: 0.1619\n"
     ]
    },
    {
     "name": "stderr",
     "output_type": "stream",
     "text": [
      "                                                                      \r"
     ]
    },
    {
     "name": "stdout",
     "output_type": "stream",
     "text": [
      "  test  acc: 43.051%\n"
     ]
    },
    {
     "name": "stderr",
     "output_type": "stream",
     "text": [
      "                                                                      \r"
     ]
    },
    {
     "name": "stdout",
     "output_type": "stream",
     "text": [
      "  train acc: 69.800%, loss: 0.1403\n"
     ]
    },
    {
     "name": "stderr",
     "output_type": "stream",
     "text": [
      "                                                                      \r"
     ]
    },
    {
     "name": "stdout",
     "output_type": "stream",
     "text": [
      "  test  acc: 42.373%\n"
     ]
    },
    {
     "name": "stderr",
     "output_type": "stream",
     "text": [
      "                                                                      \r"
     ]
    },
    {
     "name": "stdout",
     "output_type": "stream",
     "text": [
      "  train acc: 73.877%, loss: 0.1289\n"
     ]
    },
    {
     "name": "stderr",
     "output_type": "stream",
     "text": [
      "                                                                      \r"
     ]
    },
    {
     "name": "stdout",
     "output_type": "stream",
     "text": [
      "  test  acc: 44.746%\n"
     ]
    },
    {
     "name": "stderr",
     "output_type": "stream",
     "text": [
      "                                                                      \r"
     ]
    },
    {
     "name": "stdout",
     "output_type": "stream",
     "text": [
      "  train acc: 76.955%, loss: 0.1161\n"
     ]
    },
    {
     "name": "stderr",
     "output_type": "stream",
     "text": [
      "                                                                      \r"
     ]
    },
    {
     "name": "stdout",
     "output_type": "stream",
     "text": [
      "  test  acc: 42.712%\n"
     ]
    },
    {
     "name": "stderr",
     "output_type": "stream",
     "text": [
      "                                                                      \r"
     ]
    },
    {
     "name": "stdout",
     "output_type": "stream",
     "text": [
      "  train acc: 80.075%, loss: 0.1037\n"
     ]
    },
    {
     "name": "stderr",
     "output_type": "stream",
     "text": [
      "                                                                      \r"
     ]
    },
    {
     "name": "stdout",
     "output_type": "stream",
     "text": [
      "  test  acc: 41.695%\n",
      "⚠️ Early stopping (overfitting): train_acc=80.07%, test_acc=41.69%\n"
     ]
    },
    {
     "name": "stderr",
     "output_type": "stream",
     "text": [
      "                                                                      \r"
     ]
    },
    {
     "name": "stdout",
     "output_type": "stream",
     "text": [
      "  test  acc: 41.695%\n",
      "\n",
      "[GA] Individual 2: {'LR': 2.7598230915285763e-06, 'WEIGHT_DECAY': 0.006303391154883179, 'DROPOUT': 0.542829137003348, 'TF_RATIO': [1.006498759678061, 1.0], 'TRAIN_BLOCK': 2, 'test_acc': 0.5220338983050847}\n",
      "✅ 2404 samples found in D:\\golfDataset\\dataset\\train (balanced=True)\n",
      "✅ 295 samples found in D:\\golfDataset\\dataset\\test (balanced=False)\n"
     ]
    },
    {
     "name": "stderr",
     "output_type": "stream",
     "text": [
      "                                                                      \r"
     ]
    },
    {
     "name": "stdout",
     "output_type": "stream",
     "text": [
      "  train acc: 55.033%, loss: 0.1856\n"
     ]
    },
    {
     "name": "stderr",
     "output_type": "stream",
     "text": [
      "                                                                      \r"
     ]
    },
    {
     "name": "stdout",
     "output_type": "stream",
     "text": [
      "  test  acc: 43.729%\n"
     ]
    },
    {
     "name": "stderr",
     "output_type": "stream",
     "text": [
      "                                                                      \r"
     ]
    },
    {
     "name": "stdout",
     "output_type": "stream",
     "text": [
      "  train acc: 66.930%, loss: 0.1492\n"
     ]
    },
    {
     "name": "stderr",
     "output_type": "stream",
     "text": [
      "                                                                      \r"
     ]
    },
    {
     "name": "stdout",
     "output_type": "stream",
     "text": [
      "  test  acc: 46.780%\n"
     ]
    },
    {
     "name": "stderr",
     "output_type": "stream",
     "text": [
      "                                                                      \r"
     ]
    },
    {
     "name": "stdout",
     "output_type": "stream",
     "text": [
      "  train acc: 73.502%, loss: 0.1292\n"
     ]
    },
    {
     "name": "stderr",
     "output_type": "stream",
     "text": [
      "                                                                      \r"
     ]
    },
    {
     "name": "stdout",
     "output_type": "stream",
     "text": [
      "  test  acc: 45.085%\n"
     ]
    },
    {
     "name": "stderr",
     "output_type": "stream",
     "text": [
      "                                                                      \r"
     ]
    },
    {
     "name": "stdout",
     "output_type": "stream",
     "text": [
      "  train acc: 78.037%, loss: 0.1143\n"
     ]
    },
    {
     "name": "stderr",
     "output_type": "stream",
     "text": [
      "                                                                      \r"
     ]
    },
    {
     "name": "stdout",
     "output_type": "stream",
     "text": [
      "  test  acc: 41.695%\n",
      "⚠️ Early stopping (overfitting): train_acc=78.04%, test_acc=41.69%\n"
     ]
    },
    {
     "name": "stderr",
     "output_type": "stream",
     "text": [
      "                                                                      \r"
     ]
    },
    {
     "name": "stdout",
     "output_type": "stream",
     "text": [
      "  test  acc: 41.695%\n",
      "\n",
      "[GA] Individual 3: {'LR': 2.7598230915285763e-06, 'WEIGHT_DECAY': 0.004419345705736037, 'DROPOUT': 0.4076938141453885, 'TF_RATIO': [1.866967491594551, 1.0], 'TRAIN_BLOCK': 2, 'test_acc': 0.5220338983050847}\n",
      "✅ 2404 samples found in D:\\golfDataset\\dataset\\train (balanced=True)\n",
      "✅ 295 samples found in D:\\golfDataset\\dataset\\test (balanced=False)\n"
     ]
    },
    {
     "name": "stderr",
     "output_type": "stream",
     "text": [
      "                                                                      \r"
     ]
    },
    {
     "name": "stdout",
     "output_type": "stream",
     "text": [
      "  train acc: 57.321%, loss: 0.1679\n"
     ]
    },
    {
     "name": "stderr",
     "output_type": "stream",
     "text": [
      "                                                                      \r"
     ]
    },
    {
     "name": "stdout",
     "output_type": "stream",
     "text": [
      "  test  acc: 41.017%\n"
     ]
    },
    {
     "name": "stderr",
     "output_type": "stream",
     "text": [
      "                                                                      \r"
     ]
    },
    {
     "name": "stdout",
     "output_type": "stream",
     "text": [
      "  train acc: 69.093%, loss: 0.1375\n"
     ]
    },
    {
     "name": "stderr",
     "output_type": "stream",
     "text": [
      "                                                                      \r"
     ]
    },
    {
     "name": "stdout",
     "output_type": "stream",
     "text": [
      "  test  acc: 46.780%\n"
     ]
    },
    {
     "name": "stderr",
     "output_type": "stream",
     "text": [
      "                                                                      \r"
     ]
    },
    {
     "name": "stdout",
     "output_type": "stream",
     "text": [
      "  train acc: 75.874%, loss: 0.1158\n"
     ]
    },
    {
     "name": "stderr",
     "output_type": "stream",
     "text": [
      "                                                                      \r"
     ]
    },
    {
     "name": "stdout",
     "output_type": "stream",
     "text": [
      "  test  acc: 46.102%\n"
     ]
    },
    {
     "name": "stderr",
     "output_type": "stream",
     "text": [
      "                                                                      \r"
     ]
    },
    {
     "name": "stdout",
     "output_type": "stream",
     "text": [
      "  train acc: 81.156%, loss: 0.0980\n"
     ]
    },
    {
     "name": "stderr",
     "output_type": "stream",
     "text": [
      "                                                                      \r"
     ]
    },
    {
     "name": "stdout",
     "output_type": "stream",
     "text": [
      "  test  acc: 45.424%\n",
      "⚠️ Early stopping (overfitting): train_acc=81.16%, test_acc=45.42%\n"
     ]
    },
    {
     "name": "stderr",
     "output_type": "stream",
     "text": [
      "                                                                      \r"
     ]
    },
    {
     "name": "stdout",
     "output_type": "stream",
     "text": [
      "  test  acc: 45.424%\n",
      "\n",
      "[GA] Individual 4: {'LR': 2.7598230915285763e-06, 'WEIGHT_DECAY': 0.006303391154883179, 'DROPOUT': 0.45994687682983904, 'TF_RATIO': [1.006498759678061, 1.0], 'TRAIN_BLOCK': 2, 'test_acc': 0.5220338983050847}\n",
      "✅ 2404 samples found in D:\\golfDataset\\dataset\\train (balanced=True)\n",
      "✅ 295 samples found in D:\\golfDataset\\dataset\\test (balanced=False)\n"
     ]
    },
    {
     "name": "stderr",
     "output_type": "stream",
     "text": [
      "                                                                      \r"
     ]
    },
    {
     "name": "stdout",
     "output_type": "stream",
     "text": [
      "  train acc: 62.646%, loss: 0.1626\n"
     ]
    },
    {
     "name": "stderr",
     "output_type": "stream",
     "text": [
      "                                                                      \r"
     ]
    },
    {
     "name": "stdout",
     "output_type": "stream",
     "text": [
      "  test  acc: 43.390%\n"
     ]
    },
    {
     "name": "stderr",
     "output_type": "stream",
     "text": [
      "                                                                      \r"
     ]
    },
    {
     "name": "stdout",
     "output_type": "stream",
     "text": [
      "  train acc: 72.005%, loss: 0.1361\n"
     ]
    },
    {
     "name": "stderr",
     "output_type": "stream",
     "text": [
      "                                                                      \r"
     ]
    },
    {
     "name": "stdout",
     "output_type": "stream",
     "text": [
      "  test  acc: 45.763%\n"
     ]
    },
    {
     "name": "stderr",
     "output_type": "stream",
     "text": [
      "                                                                      \r"
     ]
    },
    {
     "name": "stdout",
     "output_type": "stream",
     "text": [
      "  train acc: 77.953%, loss: 0.1164\n"
     ]
    },
    {
     "name": "stderr",
     "output_type": "stream",
     "text": [
      "                                                                      \r"
     ]
    },
    {
     "name": "stdout",
     "output_type": "stream",
     "text": [
      "  test  acc: 45.424%\n"
     ]
    },
    {
     "name": "stderr",
     "output_type": "stream",
     "text": [
      "                                                                      \r"
     ]
    },
    {
     "name": "stdout",
     "output_type": "stream",
     "text": [
      "  train acc: 82.862%, loss: 0.0947\n"
     ]
    },
    {
     "name": "stderr",
     "output_type": "stream",
     "text": [
      "                                                                      \r"
     ]
    },
    {
     "name": "stdout",
     "output_type": "stream",
     "text": [
      "  test  acc: 45.763%\n",
      "⚠️ Early stopping (overfitting): train_acc=82.86%, test_acc=45.76%\n"
     ]
    },
    {
     "name": "stderr",
     "output_type": "stream",
     "text": [
      "                                                                      \r"
     ]
    },
    {
     "name": "stdout",
     "output_type": "stream",
     "text": [
      "  test  acc: 45.763%\n",
      "\n",
      "[GA] Individual 5: {'LR': 1.6011077254941482e-06, 'WEIGHT_DECAY': 0.009631510881500823, 'DROPOUT': 0.4076938141453885, 'TF_RATIO': [1.9009566196929555, 1.0], 'TRAIN_BLOCK': 2, 'test_acc': 0.5220338983050847}\n",
      "✅ 2404 samples found in D:\\golfDataset\\dataset\\train (balanced=True)\n",
      "✅ 295 samples found in D:\\golfDataset\\dataset\\test (balanced=False)\n"
     ]
    },
    {
     "name": "stderr",
     "output_type": "stream",
     "text": [
      "                                                                      \r"
     ]
    },
    {
     "name": "stdout",
     "output_type": "stream",
     "text": [
      "  train acc: 56.572%, loss: 0.1712\n"
     ]
    },
    {
     "name": "stderr",
     "output_type": "stream",
     "text": [
      "                                                                      \r"
     ]
    },
    {
     "name": "stdout",
     "output_type": "stream",
     "text": [
      "  test  acc: 47.119%\n"
     ]
    },
    {
     "name": "stderr",
     "output_type": "stream",
     "text": [
      "                                                                      \r"
     ]
    },
    {
     "name": "stdout",
     "output_type": "stream",
     "text": [
      "  train acc: 63.727%, loss: 0.1490\n"
     ]
    },
    {
     "name": "stderr",
     "output_type": "stream",
     "text": [
      "                                                                      \r"
     ]
    },
    {
     "name": "stdout",
     "output_type": "stream",
     "text": [
      "  test  acc: 44.407%\n"
     ]
    },
    {
     "name": "stderr",
     "output_type": "stream",
     "text": [
      "                                                                      \r"
     ]
    },
    {
     "name": "stdout",
     "output_type": "stream",
     "text": [
      "  train acc: 69.426%, loss: 0.1347\n"
     ]
    },
    {
     "name": "stderr",
     "output_type": "stream",
     "text": [
      "                                                                      \r"
     ]
    },
    {
     "name": "stdout",
     "output_type": "stream",
     "text": [
      "  test  acc: 44.068%\n"
     ]
    },
    {
     "name": "stderr",
     "output_type": "stream",
     "text": [
      "                                                                      \r"
     ]
    },
    {
     "name": "stdout",
     "output_type": "stream",
     "text": [
      "  train acc: 74.750%, loss: 0.1218\n"
     ]
    },
    {
     "name": "stderr",
     "output_type": "stream",
     "text": [
      "                                                                      \r"
     ]
    },
    {
     "name": "stdout",
     "output_type": "stream",
     "text": [
      "  test  acc: 44.068%\n",
      "⏹️ Early stopping (no test acc improvement for 3 epochs)\n"
     ]
    },
    {
     "name": "stderr",
     "output_type": "stream",
     "text": [
      "                                                                      \r"
     ]
    },
    {
     "name": "stdout",
     "output_type": "stream",
     "text": [
      "  test  acc: 44.068%\n",
      "\n",
      "[GA] Individual 6: {'LR': 1.6011077254941482e-06, 'WEIGHT_DECAY': 0.006303391154883179, 'DROPOUT': 0.5200381471509872, 'TF_RATIO': [1.006498759678061, 1.0], 'TRAIN_BLOCK': 2, 'test_acc': 0.5423728813559322}\n",
      "✅ 2404 samples found in D:\\golfDataset\\dataset\\train (balanced=True)\n",
      "✅ 295 samples found in D:\\golfDataset\\dataset\\test (balanced=False)\n"
     ]
    },
    {
     "name": "stderr",
     "output_type": "stream",
     "text": [
      "                                                                      \r"
     ]
    },
    {
     "name": "stdout",
     "output_type": "stream",
     "text": [
      "  train acc: 56.822%, loss: 0.1809\n"
     ]
    },
    {
     "name": "stderr",
     "output_type": "stream",
     "text": [
      "                                                                      \r"
     ]
    },
    {
     "name": "stdout",
     "output_type": "stream",
     "text": [
      "  test  acc: 44.407%\n"
     ]
    },
    {
     "name": "stderr",
     "output_type": "stream",
     "text": [
      "                                                                      \r"
     ]
    },
    {
     "name": "stdout",
     "output_type": "stream",
     "text": [
      "  train acc: 63.519%, loss: 0.1607\n"
     ]
    },
    {
     "name": "stderr",
     "output_type": "stream",
     "text": [
      "                                                                      \r"
     ]
    },
    {
     "name": "stdout",
     "output_type": "stream",
     "text": [
      "  test  acc: 47.458%\n"
     ]
    },
    {
     "name": "stderr",
     "output_type": "stream",
     "text": [
      "                                                                      \r"
     ]
    },
    {
     "name": "stdout",
     "output_type": "stream",
     "text": [
      "  train acc: 68.053%, loss: 0.1457\n"
     ]
    },
    {
     "name": "stderr",
     "output_type": "stream",
     "text": [
      "                                                                      \r"
     ]
    },
    {
     "name": "stdout",
     "output_type": "stream",
     "text": [
      "  test  acc: 48.136%\n"
     ]
    },
    {
     "name": "stderr",
     "output_type": "stream",
     "text": [
      "                                                                      \r"
     ]
    },
    {
     "name": "stdout",
     "output_type": "stream",
     "text": [
      "  train acc: 71.755%, loss: 0.1355\n"
     ]
    },
    {
     "name": "stderr",
     "output_type": "stream",
     "text": [
      "                                                                      \r"
     ]
    },
    {
     "name": "stdout",
     "output_type": "stream",
     "text": [
      "  test  acc: 46.780%\n"
     ]
    },
    {
     "name": "stderr",
     "output_type": "stream",
     "text": [
      "                                                                      \r"
     ]
    },
    {
     "name": "stdout",
     "output_type": "stream",
     "text": [
      "  train acc: 75.416%, loss: 0.1233\n"
     ]
    },
    {
     "name": "stderr",
     "output_type": "stream",
     "text": [
      "                                                                      \r"
     ]
    },
    {
     "name": "stdout",
     "output_type": "stream",
     "text": [
      "  test  acc: 47.458%\n"
     ]
    },
    {
     "name": "stderr",
     "output_type": "stream",
     "text": [
      "                                                                      \r"
     ]
    },
    {
     "name": "stdout",
     "output_type": "stream",
     "text": [
      "  train acc: 77.662%, loss: 0.1137\n"
     ]
    },
    {
     "name": "stderr",
     "output_type": "stream",
     "text": [
      "                                                                      \r"
     ]
    },
    {
     "name": "stdout",
     "output_type": "stream",
     "text": [
      "  test  acc: 45.763%\n",
      "⏹️ Early stopping (no test acc improvement for 3 epochs)\n"
     ]
    },
    {
     "name": "stderr",
     "output_type": "stream",
     "text": [
      "                                                                      \r"
     ]
    },
    {
     "name": "stdout",
     "output_type": "stream",
     "text": [
      "  test  acc: 45.763%\n",
      "\n",
      "=== Generation 3 ===\n",
      "\n",
      "[GA] Individual 1: {'LR': 1.6011077254941482e-06, 'WEIGHT_DECAY': 0.006303391154883179, 'DROPOUT': 0.5200381471509872, 'TF_RATIO': [1.006498759678061, 1.0], 'TRAIN_BLOCK': 2, 'test_acc': 0.48135593220338985}\n",
      "✅ 2404 samples found in D:\\golfDataset\\dataset\\train (balanced=True)\n",
      "✅ 295 samples found in D:\\golfDataset\\dataset\\test (balanced=False)\n"
     ]
    },
    {
     "name": "stderr",
     "output_type": "stream",
     "text": [
      "                                                                      \r"
     ]
    },
    {
     "name": "stdout",
     "output_type": "stream",
     "text": [
      "  train acc: 54.908%, loss: 0.1882\n"
     ]
    },
    {
     "name": "stderr",
     "output_type": "stream",
     "text": [
      "                                                                      \r"
     ]
    },
    {
     "name": "stdout",
     "output_type": "stream",
     "text": [
      "  test  acc: 48.814%\n"
     ]
    },
    {
     "name": "stderr",
     "output_type": "stream",
     "text": [
      "                                                                      \r"
     ]
    },
    {
     "name": "stdout",
     "output_type": "stream",
     "text": [
      "  train acc: 63.311%, loss: 0.1639\n"
     ]
    },
    {
     "name": "stderr",
     "output_type": "stream",
     "text": [
      "                                                                      \r"
     ]
    },
    {
     "name": "stdout",
     "output_type": "stream",
     "text": [
      "  test  acc: 48.814%\n"
     ]
    },
    {
     "name": "stderr",
     "output_type": "stream",
     "text": [
      "                                                                      \r"
     ]
    },
    {
     "name": "stdout",
     "output_type": "stream",
     "text": [
      "  train acc: 68.469%, loss: 0.1484\n"
     ]
    },
    {
     "name": "stderr",
     "output_type": "stream",
     "text": [
      "                                                                      \r"
     ]
    },
    {
     "name": "stdout",
     "output_type": "stream",
     "text": [
      "  test  acc: 47.458%\n"
     ]
    },
    {
     "name": "stderr",
     "output_type": "stream",
     "text": [
      "                                                                      \r"
     ]
    },
    {
     "name": "stdout",
     "output_type": "stream",
     "text": [
      "  train acc: 72.130%, loss: 0.1366\n"
     ]
    },
    {
     "name": "stderr",
     "output_type": "stream",
     "text": [
      "                                                                      \r"
     ]
    },
    {
     "name": "stdout",
     "output_type": "stream",
     "text": [
      "  test  acc: 45.763%\n",
      "⏹️ Early stopping (no test acc improvement for 3 epochs)\n"
     ]
    },
    {
     "name": "stderr",
     "output_type": "stream",
     "text": [
      "                                                                      \r"
     ]
    },
    {
     "name": "stdout",
     "output_type": "stream",
     "text": [
      "  test  acc: 45.763%\n",
      "\n",
      "[GA] Individual 2: {'LR': 1.6011077254941482e-06, 'WEIGHT_DECAY': 0.009631510881500823, 'DROPOUT': 0.4076938141453885, 'TF_RATIO': [1.9009566196929555, 1.0], 'TRAIN_BLOCK': 2, 'test_acc': 0.4711864406779661}\n",
      "✅ 2404 samples found in D:\\golfDataset\\dataset\\train (balanced=True)\n",
      "✅ 295 samples found in D:\\golfDataset\\dataset\\test (balanced=False)\n"
     ]
    },
    {
     "name": "stderr",
     "output_type": "stream",
     "text": [
      "                                                                      \r"
     ]
    },
    {
     "name": "stdout",
     "output_type": "stream",
     "text": [
      "  train acc: 57.529%, loss: 0.1681\n"
     ]
    },
    {
     "name": "stderr",
     "output_type": "stream",
     "text": [
      "                                                                      \r"
     ]
    },
    {
     "name": "stdout",
     "output_type": "stream",
     "text": [
      "  test  acc: 46.441%\n"
     ]
    },
    {
     "name": "stderr",
     "output_type": "stream",
     "text": [
      "                                                                      \r"
     ]
    },
    {
     "name": "stdout",
     "output_type": "stream",
     "text": [
      "  train acc: 65.849%, loss: 0.1460\n"
     ]
    },
    {
     "name": "stderr",
     "output_type": "stream",
     "text": [
      "                                                                      \r"
     ]
    },
    {
     "name": "stdout",
     "output_type": "stream",
     "text": [
      "  test  acc: 48.136%\n"
     ]
    },
    {
     "name": "stderr",
     "output_type": "stream",
     "text": [
      "                                                                      \r"
     ]
    },
    {
     "name": "stdout",
     "output_type": "stream",
     "text": [
      "  train acc: 70.008%, loss: 0.1320\n"
     ]
    },
    {
     "name": "stderr",
     "output_type": "stream",
     "text": [
      "                                                                      \r"
     ]
    },
    {
     "name": "stdout",
     "output_type": "stream",
     "text": [
      "  test  acc: 48.136%\n"
     ]
    },
    {
     "name": "stderr",
     "output_type": "stream",
     "text": [
      "                                                                      \r"
     ]
    },
    {
     "name": "stdout",
     "output_type": "stream",
     "text": [
      "  train acc: 74.251%, loss: 0.1202\n"
     ]
    },
    {
     "name": "stderr",
     "output_type": "stream",
     "text": [
      "                                                                      \r"
     ]
    },
    {
     "name": "stdout",
     "output_type": "stream",
     "text": [
      "  test  acc: 49.153%\n"
     ]
    },
    {
     "name": "stderr",
     "output_type": "stream",
     "text": [
      "                                                                      \r"
     ]
    },
    {
     "name": "stdout",
     "output_type": "stream",
     "text": [
      "  train acc: 76.747%, loss: 0.1112\n"
     ]
    },
    {
     "name": "stderr",
     "output_type": "stream",
     "text": [
      "                                                                      \r"
     ]
    },
    {
     "name": "stdout",
     "output_type": "stream",
     "text": [
      "  test  acc: 48.475%\n"
     ]
    },
    {
     "name": "stderr",
     "output_type": "stream",
     "text": [
      "                                                                      \r"
     ]
    },
    {
     "name": "stdout",
     "output_type": "stream",
     "text": [
      "  train acc: 80.782%, loss: 0.0996\n"
     ]
    },
    {
     "name": "stderr",
     "output_type": "stream",
     "text": [
      "                                                                      \r"
     ]
    },
    {
     "name": "stdout",
     "output_type": "stream",
     "text": [
      "  test  acc: 49.831%\n"
     ]
    },
    {
     "name": "stderr",
     "output_type": "stream",
     "text": [
      "                                                                      \r"
     ]
    },
    {
     "name": "stdout",
     "output_type": "stream",
     "text": [
      "  train acc: 81.489%, loss: 0.0930\n"
     ]
    },
    {
     "name": "stderr",
     "output_type": "stream",
     "text": [
      "                                                                      \r"
     ]
    },
    {
     "name": "stdout",
     "output_type": "stream",
     "text": [
      "  test  acc: 48.814%\n"
     ]
    },
    {
     "name": "stderr",
     "output_type": "stream",
     "text": [
      "                                                                      \r"
     ]
    },
    {
     "name": "stdout",
     "output_type": "stream",
     "text": [
      "  train acc: 84.235%, loss: 0.0832\n"
     ]
    },
    {
     "name": "stderr",
     "output_type": "stream",
     "text": [
      "                                                                      \r"
     ]
    },
    {
     "name": "stdout",
     "output_type": "stream",
     "text": [
      "  test  acc: 49.492%\n"
     ]
    },
    {
     "name": "stderr",
     "output_type": "stream",
     "text": [
      "                                                                      \r"
     ]
    },
    {
     "name": "stdout",
     "output_type": "stream",
     "text": [
      "  train acc: 86.356%, loss: 0.0749\n"
     ]
    },
    {
     "name": "stderr",
     "output_type": "stream",
     "text": [
      "                                                                      \r"
     ]
    },
    {
     "name": "stdout",
     "output_type": "stream",
     "text": [
      "  test  acc: 47.797%\n",
      "⚠️ Early stopping (overfitting): train_acc=86.36%, test_acc=47.80%\n"
     ]
    },
    {
     "name": "stderr",
     "output_type": "stream",
     "text": [
      "                                                                      \r"
     ]
    },
    {
     "name": "stdout",
     "output_type": "stream",
     "text": [
      "  test  acc: 47.797%\n",
      "\n",
      "[GA] Individual 3: {'LR': 1.6011077254941482e-06, 'WEIGHT_DECAY': 0.006303391154883179, 'DROPOUT': 0.5980524521206514, 'TF_RATIO': [1.006498759678061, 1.0], 'TRAIN_BLOCK': 2, 'test_acc': 0.4711864406779661}\n",
      "✅ 2404 samples found in D:\\golfDataset\\dataset\\train (balanced=True)\n",
      "✅ 295 samples found in D:\\golfDataset\\dataset\\test (balanced=False)\n"
     ]
    },
    {
     "name": "stderr",
     "output_type": "stream",
     "text": [
      "                                                                      \r"
     ]
    },
    {
     "name": "stdout",
     "output_type": "stream",
     "text": [
      "  train acc: 55.699%, loss: 0.1923\n"
     ]
    },
    {
     "name": "stderr",
     "output_type": "stream",
     "text": [
      "                                                                      \r"
     ]
    },
    {
     "name": "stdout",
     "output_type": "stream",
     "text": [
      "  test  acc: 50.508%\n"
     ]
    },
    {
     "name": "stderr",
     "output_type": "stream",
     "text": [
      "                                                                      \r"
     ]
    },
    {
     "name": "stdout",
     "output_type": "stream",
     "text": [
      "  train acc: 59.110%, loss: 0.1748\n"
     ]
    },
    {
     "name": "stderr",
     "output_type": "stream",
     "text": [
      "                                                                      \r"
     ]
    },
    {
     "name": "stdout",
     "output_type": "stream",
     "text": [
      "  test  acc: 49.153%\n"
     ]
    },
    {
     "name": "stderr",
     "output_type": "stream",
     "text": [
      "                                                                      \r"
     ]
    },
    {
     "name": "stdout",
     "output_type": "stream",
     "text": [
      "  train acc: 65.058%, loss: 0.1577\n"
     ]
    },
    {
     "name": "stderr",
     "output_type": "stream",
     "text": [
      "                                                                      \r"
     ]
    },
    {
     "name": "stdout",
     "output_type": "stream",
     "text": [
      "  test  acc: 47.119%\n"
     ]
    },
    {
     "name": "stderr",
     "output_type": "stream",
     "text": [
      "                                                                      \r"
     ]
    },
    {
     "name": "stdout",
     "output_type": "stream",
     "text": [
      "  train acc: 68.719%, loss: 0.1480\n"
     ]
    },
    {
     "name": "stderr",
     "output_type": "stream",
     "text": [
      "                                                                      \r"
     ]
    },
    {
     "name": "stdout",
     "output_type": "stream",
     "text": [
      "  test  acc: 45.763%\n",
      "⏹️ Early stopping (no test acc improvement for 3 epochs)\n"
     ]
    },
    {
     "name": "stderr",
     "output_type": "stream",
     "text": [
      "                                                                      \r"
     ]
    },
    {
     "name": "stdout",
     "output_type": "stream",
     "text": [
      "  test  acc: 45.763%\n",
      "\n",
      "[GA] Individual 4: {'LR': 1.6011077254941482e-06, 'WEIGHT_DECAY': 0.006260765939108424, 'DROPOUT': 0.39252742038651733, 'TF_RATIO': [1.006498759678061, 1.0], 'TRAIN_BLOCK': 2, 'test_acc': 0.4711864406779661}\n",
      "✅ 2404 samples found in D:\\golfDataset\\dataset\\train (balanced=True)\n",
      "✅ 295 samples found in D:\\golfDataset\\dataset\\test (balanced=False)\n"
     ]
    },
    {
     "name": "stderr",
     "output_type": "stream",
     "text": [
      "                                                                      \r"
     ]
    },
    {
     "name": "stdout",
     "output_type": "stream",
     "text": [
      "  train acc: 53.453%, loss: 0.1837\n"
     ]
    },
    {
     "name": "stderr",
     "output_type": "stream",
     "text": [
      "                                                                      \r"
     ]
    },
    {
     "name": "stdout",
     "output_type": "stream",
     "text": [
      "  test  acc: 46.780%\n"
     ]
    },
    {
     "name": "stderr",
     "output_type": "stream",
     "text": [
      "                                                                      \r"
     ]
    },
    {
     "name": "stdout",
     "output_type": "stream",
     "text": [
      "  train acc: 63.686%, loss: 0.1606\n"
     ]
    },
    {
     "name": "stderr",
     "output_type": "stream",
     "text": [
      "                                                                      \r"
     ]
    },
    {
     "name": "stdout",
     "output_type": "stream",
     "text": [
      "  test  acc: 46.780%\n"
     ]
    },
    {
     "name": "stderr",
     "output_type": "stream",
     "text": [
      "                                                                      \r"
     ]
    },
    {
     "name": "stdout",
     "output_type": "stream",
     "text": [
      "  train acc: 71.298%, loss: 0.1411\n"
     ]
    },
    {
     "name": "stderr",
     "output_type": "stream",
     "text": [
      "                                                                      \r"
     ]
    },
    {
     "name": "stdout",
     "output_type": "stream",
     "text": [
      "  test  acc: 45.424%\n"
     ]
    },
    {
     "name": "stderr",
     "output_type": "stream",
     "text": [
      "                                                                      \r"
     ]
    },
    {
     "name": "stdout",
     "output_type": "stream",
     "text": [
      "  train acc: 74.958%, loss: 0.1283\n"
     ]
    },
    {
     "name": "stderr",
     "output_type": "stream",
     "text": [
      "                                                                      \r"
     ]
    },
    {
     "name": "stdout",
     "output_type": "stream",
     "text": [
      "  test  acc: 43.729%\n",
      "⏹️ Early stopping (no test acc improvement for 3 epochs)\n"
     ]
    },
    {
     "name": "stderr",
     "output_type": "stream",
     "text": [
      "                                                                      \r"
     ]
    },
    {
     "name": "stdout",
     "output_type": "stream",
     "text": [
      "  test  acc: 43.729%\n",
      "\n",
      "[GA] Individual 5: {'LR': 1.6011077254941482e-06, 'WEIGHT_DECAY': 0.009631510881500823, 'DROPOUT': 0.4076938141453885, 'TF_RATIO': [1.006498759678061, 1.0], 'TRAIN_BLOCK': 2, 'test_acc': 0.48135593220338985}\n",
      "✅ 2404 samples found in D:\\golfDataset\\dataset\\train (balanced=True)\n",
      "✅ 295 samples found in D:\\golfDataset\\dataset\\test (balanced=False)\n"
     ]
    },
    {
     "name": "stderr",
     "output_type": "stream",
     "text": [
      "                                                                      \r"
     ]
    },
    {
     "name": "stdout",
     "output_type": "stream",
     "text": [
      "  train acc: 54.576%, loss: 0.1810\n"
     ]
    },
    {
     "name": "stderr",
     "output_type": "stream",
     "text": [
      "                                                                      \r"
     ]
    },
    {
     "name": "stdout",
     "output_type": "stream",
     "text": [
      "  test  acc: 47.119%\n"
     ]
    },
    {
     "name": "stderr",
     "output_type": "stream",
     "text": [
      "                                                                      \r"
     ]
    },
    {
     "name": "stdout",
     "output_type": "stream",
     "text": [
      "  train acc: 63.769%, loss: 0.1587\n"
     ]
    },
    {
     "name": "stderr",
     "output_type": "stream",
     "text": [
      "                                                                      \r"
     ]
    },
    {
     "name": "stdout",
     "output_type": "stream",
     "text": [
      "  test  acc: 48.136%\n"
     ]
    },
    {
     "name": "stderr",
     "output_type": "stream",
     "text": [
      "                                                                      \r"
     ]
    },
    {
     "name": "stdout",
     "output_type": "stream",
     "text": [
      "  train acc: 70.923%, loss: 0.1400\n"
     ]
    },
    {
     "name": "stderr",
     "output_type": "stream",
     "text": [
      "                                                                      \r"
     ]
    },
    {
     "name": "stdout",
     "output_type": "stream",
     "text": [
      "  test  acc: 48.136%\n"
     ]
    },
    {
     "name": "stderr",
     "output_type": "stream",
     "text": [
      "                                                                      \r"
     ]
    },
    {
     "name": "stdout",
     "output_type": "stream",
     "text": [
      "  train acc: 74.459%, loss: 0.1266\n"
     ]
    },
    {
     "name": "stderr",
     "output_type": "stream",
     "text": [
      "                                                                      \r"
     ]
    },
    {
     "name": "stdout",
     "output_type": "stream",
     "text": [
      "  test  acc: 45.763%\n"
     ]
    },
    {
     "name": "stderr",
     "output_type": "stream",
     "text": [
      "                                                                      \r"
     ]
    },
    {
     "name": "stdout",
     "output_type": "stream",
     "text": [
      "  train acc: 77.953%, loss: 0.1151\n"
     ]
    },
    {
     "name": "stderr",
     "output_type": "stream",
     "text": [
      "                                                                      \r"
     ]
    },
    {
     "name": "stdout",
     "output_type": "stream",
     "text": [
      "  test  acc: 43.729%\n",
      "⏹️ Early stopping (no test acc improvement for 3 epochs)\n"
     ]
    },
    {
     "name": "stderr",
     "output_type": "stream",
     "text": [
      "                                                                      \r"
     ]
    },
    {
     "name": "stdout",
     "output_type": "stream",
     "text": [
      "  test  acc: 43.729%\n",
      "\n",
      "[GA] Individual 6: {'LR': 1.6011077254941482e-06, 'WEIGHT_DECAY': 0.006303391154883179, 'DROPOUT': 0.4076938141453885, 'TF_RATIO': [1.9009566196929555, 1.0], 'TRAIN_BLOCK': 2, 'test_acc': 0.48135593220338985}\n",
      "✅ 2404 samples found in D:\\golfDataset\\dataset\\train (balanced=True)\n",
      "✅ 295 samples found in D:\\golfDataset\\dataset\\test (balanced=False)\n"
     ]
    },
    {
     "name": "stderr",
     "output_type": "stream",
     "text": [
      "                                                                      \r"
     ]
    },
    {
     "name": "stdout",
     "output_type": "stream",
     "text": [
      "  train acc: 56.905%, loss: 0.1692\n"
     ]
    },
    {
     "name": "stderr",
     "output_type": "stream",
     "text": [
      "                                                                      \r"
     ]
    },
    {
     "name": "stdout",
     "output_type": "stream",
     "text": [
      "  test  acc: 48.814%\n"
     ]
    },
    {
     "name": "stderr",
     "output_type": "stream",
     "text": [
      "                                                                      \r"
     ]
    },
    {
     "name": "stdout",
     "output_type": "stream",
     "text": [
      "  train acc: 63.186%, loss: 0.1491\n"
     ]
    },
    {
     "name": "stderr",
     "output_type": "stream",
     "text": [
      "                                                                      \r"
     ]
    },
    {
     "name": "stdout",
     "output_type": "stream",
     "text": [
      "  test  acc: 49.153%\n"
     ]
    },
    {
     "name": "stderr",
     "output_type": "stream",
     "text": [
      "                                                                      \r"
     ]
    },
    {
     "name": "stdout",
     "output_type": "stream",
     "text": [
      "  train acc: 70.799%, loss: 0.1300\n"
     ]
    },
    {
     "name": "stderr",
     "output_type": "stream",
     "text": [
      "                                                                      \r"
     ]
    },
    {
     "name": "stdout",
     "output_type": "stream",
     "text": [
      "  test  acc: 47.119%\n"
     ]
    },
    {
     "name": "stderr",
     "output_type": "stream",
     "text": [
      "                                                                      \r"
     ]
    },
    {
     "name": "stdout",
     "output_type": "stream",
     "text": [
      "  train acc: 74.626%, loss: 0.1177\n"
     ]
    },
    {
     "name": "stderr",
     "output_type": "stream",
     "text": [
      "                                                                      \r"
     ]
    },
    {
     "name": "stdout",
     "output_type": "stream",
     "text": [
      "  test  acc: 47.458%\n"
     ]
    },
    {
     "name": "stderr",
     "output_type": "stream",
     "text": [
      "                                                                      \r"
     ]
    },
    {
     "name": "stdout",
     "output_type": "stream",
     "text": [
      "  train acc: 78.286%, loss: 0.1074\n"
     ]
    },
    {
     "name": "stderr",
     "output_type": "stream",
     "text": [
      "                                                                      \r"
     ]
    },
    {
     "name": "stdout",
     "output_type": "stream",
     "text": [
      "  test  acc: 48.475%\n",
      "⏹️ Early stopping (no test acc improvement for 3 epochs)\n"
     ]
    },
    {
     "name": "stderr",
     "output_type": "stream",
     "text": [
      "                                                                      \r"
     ]
    },
    {
     "name": "stdout",
     "output_type": "stream",
     "text": [
      "  test  acc: 48.475%\n",
      "\n",
      "=== Generation 4 ===\n",
      "\n",
      "[GA] Individual 1: {'LR': 1.6011077254941482e-06, 'WEIGHT_DECAY': 0.006303391154883179, 'DROPOUT': 0.5980524521206514, 'TF_RATIO': [1.006498759678061, 1.0], 'TRAIN_BLOCK': 2, 'test_acc': 0.5050847457627119}\n",
      "✅ 2404 samples found in D:\\golfDataset\\dataset\\train (balanced=True)\n",
      "✅ 295 samples found in D:\\golfDataset\\dataset\\test (balanced=False)\n"
     ]
    },
    {
     "name": "stderr",
     "output_type": "stream",
     "text": [
      "                                                                      \r"
     ]
    },
    {
     "name": "stdout",
     "output_type": "stream",
     "text": [
      "  train acc: 53.078%, loss: 0.1990\n"
     ]
    },
    {
     "name": "stderr",
     "output_type": "stream",
     "text": [
      "                                                                      \r"
     ]
    },
    {
     "name": "stdout",
     "output_type": "stream",
     "text": [
      "  test  acc: 48.814%\n"
     ]
    },
    {
     "name": "stderr",
     "output_type": "stream",
     "text": [
      "                                                                      \r"
     ]
    },
    {
     "name": "stdout",
     "output_type": "stream",
     "text": [
      "  train acc: 60.150%, loss: 0.1739\n"
     ]
    },
    {
     "name": "stderr",
     "output_type": "stream",
     "text": [
      "                                                                      \r"
     ]
    },
    {
     "name": "stdout",
     "output_type": "stream",
     "text": [
      "  test  acc: 46.441%\n"
     ]
    },
    {
     "name": "stderr",
     "output_type": "stream",
     "text": [
      "                                                                      \r"
     ]
    },
    {
     "name": "stdout",
     "output_type": "stream",
     "text": [
      "  train acc: 65.849%, loss: 0.1587\n"
     ]
    },
    {
     "name": "stderr",
     "output_type": "stream",
     "text": [
      "                                                                      \r"
     ]
    },
    {
     "name": "stdout",
     "output_type": "stream",
     "text": [
      "  test  acc: 43.729%\n"
     ]
    },
    {
     "name": "stderr",
     "output_type": "stream",
     "text": [
      "                                                                      \r"
     ]
    },
    {
     "name": "stdout",
     "output_type": "stream",
     "text": [
      "  train acc: 69.592%, loss: 0.1450\n"
     ]
    },
    {
     "name": "stderr",
     "output_type": "stream",
     "text": [
      "                                                                      \r"
     ]
    },
    {
     "name": "stdout",
     "output_type": "stream",
     "text": [
      "  test  acc: 41.695%\n",
      "⏹️ Early stopping (no test acc improvement for 3 epochs)\n"
     ]
    },
    {
     "name": "stderr",
     "output_type": "stream",
     "text": [
      "                                                                      \r"
     ]
    },
    {
     "name": "stdout",
     "output_type": "stream",
     "text": [
      "  test  acc: 41.695%\n",
      "\n",
      "[GA] Individual 2: {'LR': 1.6011077254941482e-06, 'WEIGHT_DECAY': 0.009631510881500823, 'DROPOUT': 0.4076938141453885, 'TF_RATIO': [1.9009566196929555, 1.0], 'TRAIN_BLOCK': 2, 'test_acc': 0.49830508474576274}\n",
      "✅ 2404 samples found in D:\\golfDataset\\dataset\\train (balanced=True)\n",
      "✅ 295 samples found in D:\\golfDataset\\dataset\\test (balanced=False)\n"
     ]
    },
    {
     "name": "stderr",
     "output_type": "stream",
     "text": [
      "                                                                      \r"
     ]
    },
    {
     "name": "stdout",
     "output_type": "stream",
     "text": [
      "  train acc: 57.654%, loss: 0.1704\n"
     ]
    },
    {
     "name": "stderr",
     "output_type": "stream",
     "text": [
      "                                                                      \r"
     ]
    },
    {
     "name": "stdout",
     "output_type": "stream",
     "text": [
      "  test  acc: 43.390%\n"
     ]
    },
    {
     "name": "stderr",
     "output_type": "stream",
     "text": [
      "                                                                      \r"
     ]
    },
    {
     "name": "stdout",
     "output_type": "stream",
     "text": [
      "  train acc: 64.933%, loss: 0.1454\n"
     ]
    },
    {
     "name": "stderr",
     "output_type": "stream",
     "text": [
      "                                                                      \r"
     ]
    },
    {
     "name": "stdout",
     "output_type": "stream",
     "text": [
      "  test  acc: 45.085%\n"
     ]
    },
    {
     "name": "stderr",
     "output_type": "stream",
     "text": [
      "                                                                      \r"
     ]
    },
    {
     "name": "stdout",
     "output_type": "stream",
     "text": [
      "  train acc: 72.088%, loss: 0.1274\n"
     ]
    },
    {
     "name": "stderr",
     "output_type": "stream",
     "text": [
      "                                                                      \r"
     ]
    },
    {
     "name": "stdout",
     "output_type": "stream",
     "text": [
      "  test  acc: 44.068%\n"
     ]
    },
    {
     "name": "stderr",
     "output_type": "stream",
     "text": [
      "                                                                      \r"
     ]
    },
    {
     "name": "stdout",
     "output_type": "stream",
     "text": [
      "  train acc: 75.499%, loss: 0.1130\n"
     ]
    },
    {
     "name": "stderr",
     "output_type": "stream",
     "text": [
      "                                                                      \r"
     ]
    },
    {
     "name": "stdout",
     "output_type": "stream",
     "text": [
      "  test  acc: 43.390%\n"
     ]
    },
    {
     "name": "stderr",
     "output_type": "stream",
     "text": [
      "                                                                      \r"
     ]
    },
    {
     "name": "stdout",
     "output_type": "stream",
     "text": [
      "  train acc: 80.075%, loss: 0.1013\n"
     ]
    },
    {
     "name": "stderr",
     "output_type": "stream",
     "text": [
      "                                                                      \r"
     ]
    },
    {
     "name": "stdout",
     "output_type": "stream",
     "text": [
      "  test  acc: 44.068%\n",
      "⚠️ Early stopping (overfitting): train_acc=80.07%, test_acc=44.07%\n"
     ]
    },
    {
     "name": "stderr",
     "output_type": "stream",
     "text": [
      "                                                                      \r"
     ]
    },
    {
     "name": "stdout",
     "output_type": "stream",
     "text": [
      "  test  acc: 44.068%\n",
      "\n",
      "[GA] Individual 3: {'LR': 1.6011077254941482e-06, 'WEIGHT_DECAY': 0.0021273159474264674, 'DROPOUT': 0.4464679848486083, 'TF_RATIO': [1.614289001017703, 1.0], 'TRAIN_BLOCK': 2, 'test_acc': 0.5050847457627119}\n",
      "✅ 2404 samples found in D:\\golfDataset\\dataset\\train (balanced=True)\n",
      "✅ 295 samples found in D:\\golfDataset\\dataset\\test (balanced=False)\n"
     ]
    },
    {
     "name": "stderr",
     "output_type": "stream",
     "text": [
      "                                                                      \r"
     ]
    },
    {
     "name": "stdout",
     "output_type": "stream",
     "text": [
      "  train acc: 57.155%, loss: 0.1724\n"
     ]
    },
    {
     "name": "stderr",
     "output_type": "stream",
     "text": [
      "                                                                      \r"
     ]
    },
    {
     "name": "stdout",
     "output_type": "stream",
     "text": [
      "  test  acc: 51.864%\n"
     ]
    },
    {
     "name": "stderr",
     "output_type": "stream",
     "text": [
      "                                                                      \r"
     ]
    },
    {
     "name": "stdout",
     "output_type": "stream",
     "text": [
      "  train acc: 63.311%, loss: 0.1563\n"
     ]
    },
    {
     "name": "stderr",
     "output_type": "stream",
     "text": [
      "                                                                      \r"
     ]
    },
    {
     "name": "stdout",
     "output_type": "stream",
     "text": [
      "  test  acc: 51.525%\n"
     ]
    },
    {
     "name": "stderr",
     "output_type": "stream",
     "text": [
      "                                                                      \r"
     ]
    },
    {
     "name": "stdout",
     "output_type": "stream",
     "text": [
      "  train acc: 69.260%, loss: 0.1376\n"
     ]
    },
    {
     "name": "stderr",
     "output_type": "stream",
     "text": [
      "                                                                      \r"
     ]
    },
    {
     "name": "stdout",
     "output_type": "stream",
     "text": [
      "  test  acc: 49.492%\n"
     ]
    },
    {
     "name": "stderr",
     "output_type": "stream",
     "text": [
      "                                                                      \r"
     ]
    },
    {
     "name": "stdout",
     "output_type": "stream",
     "text": [
      "  train acc: 72.463%, loss: 0.1281\n"
     ]
    },
    {
     "name": "stderr",
     "output_type": "stream",
     "text": [
      "                                                                      \r"
     ]
    },
    {
     "name": "stdout",
     "output_type": "stream",
     "text": [
      "  test  acc: 51.864%\n",
      "⏹️ Early stopping (no test acc improvement for 3 epochs)\n"
     ]
    },
    {
     "name": "stderr",
     "output_type": "stream",
     "text": [
      "                                                                      \r"
     ]
    },
    {
     "name": "stdout",
     "output_type": "stream",
     "text": [
      "  test  acc: 51.864%\n",
      "\n",
      "[GA] Individual 4: {'LR': 1.6011077254941482e-06, 'WEIGHT_DECAY': 0.007428308726019948, 'DROPOUT': 0.513007569140643, 'TF_RATIO': [1.9009566196929555, 1.0], 'TRAIN_BLOCK': 2, 'test_acc': 0.49830508474576274}\n",
      "✅ 2404 samples found in D:\\golfDataset\\dataset\\train (balanced=True)\n",
      "✅ 295 samples found in D:\\golfDataset\\dataset\\test (balanced=False)\n"
     ]
    },
    {
     "name": "stderr",
     "output_type": "stream",
     "text": [
      "                                                                      \r"
     ]
    },
    {
     "name": "stdout",
     "output_type": "stream",
     "text": [
      "  train acc: 52.829%, loss: 0.1788\n"
     ]
    },
    {
     "name": "stderr",
     "output_type": "stream",
     "text": [
      "                                                                      \r"
     ]
    },
    {
     "name": "stdout",
     "output_type": "stream",
     "text": [
      "  test  acc: 52.203%\n"
     ]
    },
    {
     "name": "stderr",
     "output_type": "stream",
     "text": [
      "                                                                      \r"
     ]
    },
    {
     "name": "stdout",
     "output_type": "stream",
     "text": [
      "  train acc: 60.275%, loss: 0.1602\n"
     ]
    },
    {
     "name": "stderr",
     "output_type": "stream",
     "text": [
      "                                                                      \r"
     ]
    },
    {
     "name": "stdout",
     "output_type": "stream",
     "text": [
      "  test  acc: 50.508%\n"
     ]
    },
    {
     "name": "stderr",
     "output_type": "stream",
     "text": [
      "                                                                      \r"
     ]
    },
    {
     "name": "stdout",
     "output_type": "stream",
     "text": [
      "  train acc: 65.807%, loss: 0.1430\n"
     ]
    },
    {
     "name": "stderr",
     "output_type": "stream",
     "text": [
      "                                                                      \r"
     ]
    },
    {
     "name": "stdout",
     "output_type": "stream",
     "text": [
      "  test  acc: 49.492%\n"
     ]
    },
    {
     "name": "stderr",
     "output_type": "stream",
     "text": [
      "                                                                      \r"
     ]
    },
    {
     "name": "stdout",
     "output_type": "stream",
     "text": [
      "  train acc: 71.381%, loss: 0.1307\n"
     ]
    },
    {
     "name": "stderr",
     "output_type": "stream",
     "text": [
      "                                                                      \r"
     ]
    },
    {
     "name": "stdout",
     "output_type": "stream",
     "text": [
      "  test  acc: 50.169%\n",
      "⏹️ Early stopping (no test acc improvement for 3 epochs)\n"
     ]
    },
    {
     "name": "stderr",
     "output_type": "stream",
     "text": [
      "                                                                      \r"
     ]
    },
    {
     "name": "stdout",
     "output_type": "stream",
     "text": [
      "  test  acc: 50.169%\n",
      "\n",
      "[GA] Individual 5: {'LR': 1.6011077254941482e-06, 'WEIGHT_DECAY': 0.006303391154883179, 'DROPOUT': 0.4076938141453885, 'TF_RATIO': [1.006498759678061, 1.0], 'TRAIN_BLOCK': 2, 'test_acc': 0.5050847457627119}\n",
      "✅ 2404 samples found in D:\\golfDataset\\dataset\\train (balanced=True)\n",
      "✅ 295 samples found in D:\\golfDataset\\dataset\\test (balanced=False)\n"
     ]
    },
    {
     "name": "stderr",
     "output_type": "stream",
     "text": [
      "                                                                      \r"
     ]
    },
    {
     "name": "stdout",
     "output_type": "stream",
     "text": [
      "  train acc: 53.702%, loss: 0.1867\n"
     ]
    },
    {
     "name": "stderr",
     "output_type": "stream",
     "text": [
      "                                                                      \r"
     ]
    },
    {
     "name": "stdout",
     "output_type": "stream",
     "text": [
      "  test  acc: 40.339%\n"
     ]
    },
    {
     "name": "stderr",
     "output_type": "stream",
     "text": [
      "                                                                      \r"
     ]
    },
    {
     "name": "stdout",
     "output_type": "stream",
     "text": [
      "  train acc: 65.100%, loss: 0.1577\n"
     ]
    },
    {
     "name": "stderr",
     "output_type": "stream",
     "text": [
      "                                                                      \r"
     ]
    },
    {
     "name": "stdout",
     "output_type": "stream",
     "text": [
      "  test  acc: 40.678%\n"
     ]
    },
    {
     "name": "stderr",
     "output_type": "stream",
     "text": [
      "                                                                      \r"
     ]
    },
    {
     "name": "stdout",
     "output_type": "stream",
     "text": [
      "  train acc: 70.258%, loss: 0.1414\n"
     ]
    },
    {
     "name": "stderr",
     "output_type": "stream",
     "text": [
      "                                                                      \r"
     ]
    },
    {
     "name": "stdout",
     "output_type": "stream",
     "text": [
      "  test  acc: 40.678%\n"
     ]
    },
    {
     "name": "stderr",
     "output_type": "stream",
     "text": [
      "                                                                      \r"
     ]
    },
    {
     "name": "stdout",
     "output_type": "stream",
     "text": [
      "  train acc: 75.874%, loss: 0.1252\n"
     ]
    },
    {
     "name": "stderr",
     "output_type": "stream",
     "text": [
      "                                                                      \r"
     ]
    },
    {
     "name": "stdout",
     "output_type": "stream",
     "text": [
      "  test  acc: 42.373%\n"
     ]
    },
    {
     "name": "stderr",
     "output_type": "stream",
     "text": [
      "                                                                      \r"
     ]
    },
    {
     "name": "stdout",
     "output_type": "stream",
     "text": [
      "  train acc: 78.328%, loss: 0.1144\n"
     ]
    },
    {
     "name": "stderr",
     "output_type": "stream",
     "text": [
      "                                                                      \r"
     ]
    },
    {
     "name": "stdout",
     "output_type": "stream",
     "text": [
      "  test  acc: 41.356%\n",
      "⚠️ Early stopping (overfitting): train_acc=78.33%, test_acc=41.36%\n"
     ]
    },
    {
     "name": "stderr",
     "output_type": "stream",
     "text": [
      "                                                                      \r"
     ]
    },
    {
     "name": "stdout",
     "output_type": "stream",
     "text": [
      "  test  acc: 41.356%\n",
      "\n",
      "[GA] Individual 6: {'LR': 1.6011077254941482e-06, 'WEIGHT_DECAY': 0.005650822060912167, 'DROPOUT': 0.4918223242920275, 'TF_RATIO': [1.006498759678061, 1.0], 'TRAIN_BLOCK': 2, 'test_acc': 0.5050847457627119}\n",
      "✅ 2404 samples found in D:\\golfDataset\\dataset\\train (balanced=True)\n",
      "✅ 295 samples found in D:\\golfDataset\\dataset\\test (balanced=False)\n"
     ]
    },
    {
     "name": "stderr",
     "output_type": "stream",
     "text": [
      "                                                                      \r"
     ]
    },
    {
     "name": "stdout",
     "output_type": "stream",
     "text": [
      "  train acc: 50.000%, loss: 0.2056\n"
     ]
    },
    {
     "name": "stderr",
     "output_type": "stream",
     "text": [
      "                                                                      \r"
     ]
    },
    {
     "name": "stdout",
     "output_type": "stream",
     "text": [
      "  test  acc: 52.542%\n"
     ]
    },
    {
     "name": "stderr",
     "output_type": "stream",
     "text": [
      "                                                                      \r"
     ]
    },
    {
     "name": "stdout",
     "output_type": "stream",
     "text": [
      "  train acc: 59.900%, loss: 0.1713\n"
     ]
    },
    {
     "name": "stderr",
     "output_type": "stream",
     "text": [
      "                                                                      \r"
     ]
    },
    {
     "name": "stdout",
     "output_type": "stream",
     "text": [
      "  test  acc: 51.864%\n"
     ]
    },
    {
     "name": "stderr",
     "output_type": "stream",
     "text": [
      "                                                                      \r"
     ]
    },
    {
     "name": "stdout",
     "output_type": "stream",
     "text": [
      "  train acc: 66.306%, loss: 0.1506\n"
     ]
    },
    {
     "name": "stderr",
     "output_type": "stream",
     "text": [
      "                                                                      \r"
     ]
    },
    {
     "name": "stdout",
     "output_type": "stream",
     "text": [
      "  test  acc: 51.186%\n"
     ]
    },
    {
     "name": "stderr",
     "output_type": "stream",
     "text": [
      "                                                                      \r"
     ]
    },
    {
     "name": "stdout",
     "output_type": "stream",
     "text": [
      "  train acc: 72.088%, loss: 0.1341\n"
     ]
    },
    {
     "name": "stderr",
     "output_type": "stream",
     "text": [
      "                                                                      \r"
     ]
    },
    {
     "name": "stdout",
     "output_type": "stream",
     "text": [
      "  test  acc: 50.847%\n",
      "⏹️ Early stopping (no test acc improvement for 3 epochs)\n"
     ]
    },
    {
     "name": "stderr",
     "output_type": "stream",
     "text": [
      "                                                                      "
     ]
    },
    {
     "name": "stdout",
     "output_type": "stream",
     "text": [
      "  test  acc: 50.847%\n",
      "\n",
      "=== 하이퍼파라미터 튜닝 결과 (상위 5개) ===\n",
      "{'LR': 1.6011077254941482e-06, 'WEIGHT_DECAY': 0.004419345705736037, 'DROPOUT': 0.4076938141453885, 'TF_RATIO': [1.343955722478971, 1.0], 'TRAIN_BLOCK': 2, 'test_acc': 0.5423728813559322}\n",
      "{'LR': 1.6011077254941482e-06, 'WEIGHT_DECAY': 0.005650822060912167, 'DROPOUT': 0.4918223242920275, 'TF_RATIO': [1.006498759678061, 1.0], 'TRAIN_BLOCK': 2, 'test_acc': 0.5254237288135594}\n",
      "{'LR': 2.7598230915285763e-06, 'WEIGHT_DECAY': 0.006303391154883179, 'DROPOUT': 0.542829137003348, 'TF_RATIO': [1.006498759678061, 1.0], 'TRAIN_BLOCK': 2, 'test_acc': 0.5220338983050847}\n",
      "{'LR': 1.6011077254941482e-06, 'WEIGHT_DECAY': 0.007428308726019948, 'DROPOUT': 0.513007569140643, 'TF_RATIO': [1.9009566196929555, 1.0], 'TRAIN_BLOCK': 2, 'test_acc': 0.5220338983050847}\n",
      "{'LR': 1.6011077254941482e-06, 'WEIGHT_DECAY': 0.0021273159474264674, 'DROPOUT': 0.4464679848486083, 'TF_RATIO': [1.614289001017703, 1.0], 'TRAIN_BLOCK': 2, 'test_acc': 0.5186440677966102}\n"
     ]
    },
    {
     "name": "stderr",
     "output_type": "stream",
     "text": [
      "\r"
     ]
    }
   ],
   "source": [
    "import sys\n",
    "sys.path.append(r\"D:\\\\timesformer\")\n",
    "\n",
    "import torch\n",
    "import torch.nn as nn\n",
    "import torch.optim as optim\n",
    "from torch.utils.data import Dataset, DataLoader\n",
    "import torchvision.transforms as T\n",
    "from torchvision.transforms import InterpolationMode\n",
    "from pathlib import Path\n",
    "import numpy as np\n",
    "import random\n",
    "from decord import VideoReader\n",
    "from tqdm import tqdm\n",
    "from timesformer.models.vit import TimeSformer\n",
    "import pickle\n",
    "import matplotlib.pyplot as plt\n",
    "from sklearn.metrics import confusion_matrix, ConfusionMatrixDisplay\n",
    "\n",
    "torch.cuda.empty_cache()\n",
    "\n",
    "# ----------------- 하이퍼파라미터 및 경로 ----------------------------\n",
    "TRAIN_ROOT = Path(r\"D:\\golfDataset\\dataset\\train\")\n",
    "TEST_ROOT  = Path(r\"D:\\golfDataset\\dataset\\test\")\n",
    "PRETRAIN_PTH = Path(r\"D:\\timesformer\\pretrained\\TimeSformer_divST_8x32_224_K600.pyth\")\n",
    "NUM_FRAMES = 8\n",
    "IMG_SIZE = 224\n",
    "CLIPS_PER_VIDEO = 1\n",
    "\n",
    "BATCH_SIZE = 4\n",
    "EPOCHS = 10\n",
    "SEED = 42\n",
    "\n",
    "EPOCHS_DIR = Path(\"epochs\")\n",
    "EPOCHS_DIR.mkdir(exist_ok=True)\n",
    "CHECKPOINT_PATH = Path(\"checkpoint.pth\")\n",
    "\n",
    "# ----------------- 재현성 ----------------------------\n",
    "torch.manual_seed(SEED)\n",
    "random.seed(SEED)\n",
    "np.random.seed(SEED)\n",
    "torch.backends.cudnn.deterministic = True\n",
    "DEVICE = \"cuda\" if torch.cuda.is_available() else \"cpu\"\n",
    "\n",
    "# ----------------- 데이터 증강 transform 정의 ----------------------------\n",
    "train_transform = T.Compose([\n",
    "    T.ToPILImage(),\n",
    "    T.RandomResizedCrop(IMG_SIZE, scale=(0.8, 1.0)),\n",
    "    T.RandomHorizontalFlip(),\n",
    "    T.ColorJitter(brightness=0.2, contrast=0.2, saturation=0.2),\n",
    "    T.ToTensor(),\n",
    "    T.Normalize([0.45]*3, [0.225]*3)\n",
    "])\n",
    "\n",
    "test_transform = T.Compose([\n",
    "    T.ToPILImage(),\n",
    "    T.Resize(256, interpolation=InterpolationMode.BICUBIC),\n",
    "    T.CenterCrop(IMG_SIZE),\n",
    "    T.ToTensor(),\n",
    "    T.Normalize([0.45]*3, [0.225]*3)\n",
    "])\n",
    "\n",
    "def preprocess_tensor(img_tensor, train=True):\n",
    "    if train:\n",
    "        img = train_transform(img_tensor)\n",
    "    else:\n",
    "        img = test_transform(img_tensor)\n",
    "    return img\n",
    "\n",
    "def uniform_sample(L, N):\n",
    "    if L >= N:\n",
    "        return np.linspace(0, L-1, N).astype(int)\n",
    "    return np.pad(np.arange(L), (0, N-L), mode='edge')\n",
    "\n",
    "def load_clip(path: Path, train=True):\n",
    "    vr = VideoReader(str(path))\n",
    "    L = len(vr)\n",
    "    seg_edges = np.linspace(0, L, 2, dtype=int)\n",
    "    clips = []\n",
    "    for s0, s1 in zip(seg_edges[:-1], seg_edges[1:]):\n",
    "        idx = uniform_sample(s1 - s0, NUM_FRAMES) + s0\n",
    "        arr = vr.get_batch(idx).asnumpy().astype(np.uint8)\n",
    "        clip = torch.from_numpy(arr).permute(0, 3, 1, 2).float() / 255.0\n",
    "        clip = torch.stack([preprocess_tensor(f, train=train) for f in clip])\n",
    "        clips.append(clip.permute(1, 0, 2, 3))\n",
    "    return clips\n",
    "\n",
    "class TimeSformerWithDropout(nn.Module):\n",
    "    def __init__(self, base_model, dropout_p):\n",
    "        super().__init__()\n",
    "        self.base = base_model\n",
    "        self.dropout = nn.Dropout(dropout_p)\n",
    "        self.head = base_model.model.head\n",
    "\n",
    "    def forward(self, x):\n",
    "        feats = self.base.model.forward_features(x)\n",
    "        out = self.dropout(feats)\n",
    "        return self.head(out)\n",
    "\n",
    "class GolfSwingDataset(Dataset):\n",
    "    def __init__(self, root: Path, balance, train=True):\n",
    "        self.samples = []\n",
    "        self.train = train\n",
    "        true_samples = []\n",
    "        false_samples = []\n",
    "        for label, sub in [(1, \"balanced_true\"), (0, \"false\")]:\n",
    "            for p in (root/sub/\"crop_video\").glob(\"*.mp4\"):\n",
    "                if label == 1:\n",
    "                    true_samples.append((p, 1))\n",
    "                else:\n",
    "                    false_samples.append((p, 0))\n",
    "        if balance:\n",
    "            n_true = len(true_samples)\n",
    "            n_false = len(false_samples)\n",
    "            if n_false > 0 and n_true > n_false:\n",
    "                factor = n_true // n_false\n",
    "                remainder = n_true % n_false\n",
    "                false_samples = false_samples * factor + false_samples[:remainder]\n",
    "        self.samples = true_samples + false_samples\n",
    "        random.shuffle(self.samples)\n",
    "        print(f\"✅ {len(self.samples)} samples found in {root} (balanced={balance})\")\n",
    "\n",
    "    def __len__(self):\n",
    "        return len(self.samples)\n",
    "\n",
    "    def __getitem__(self, idx):\n",
    "        path, label = self.samples[idx]\n",
    "        clips = load_clip(path, train=self.train)\n",
    "        return torch.stack(clips), torch.tensor(label)\n",
    "\n",
    "def get_trainable_params(model, train_block):\n",
    "    params = []\n",
    "    total_blocks = 12\n",
    "    for name, param in model.base.model.named_parameters():\n",
    "        if any(f\"blocks.{i}.\" in name for i in range(total_blocks - train_block, total_blocks)):\n",
    "            param.requires_grad = True\n",
    "            params.append(param)\n",
    "        else:\n",
    "            param.requires_grad = False\n",
    "    for param in model.base.model.head.parameters():\n",
    "        param.requires_grad = True\n",
    "        params.append(param)\n",
    "    return params\n",
    "\n",
    "# ----------------- GA 기반 하이퍼파라미터 튜닝 ----------------------------\n",
    "LR_RANGE = (1e-6, 1e-4)\n",
    "WD_RANGE = (0.001, 0.01)\n",
    "DO_RANGE = (0.3, 0.6)\n",
    "TFRATIO_RANGE = (1.0, 2.0)\n",
    "TB_SPACE = [2]  # TRAIN_BLOCK 2로 고정\n",
    "\n",
    "POP_SIZE = 6\n",
    "N_GEN = 4\n",
    "ELITE = 2\n",
    "MUT_PROB = 0.3\n",
    "\n",
    "def random_individual():\n",
    "    return {\n",
    "        \"LR\": float(10 ** random.uniform(np.log10(LR_RANGE[0]), np.log10(LR_RANGE[1]))),\n",
    "        \"WEIGHT_DECAY\": float(random.uniform(WD_RANGE[0], WD_RANGE[1])),\n",
    "        \"DROPOUT\": float(random.uniform(DO_RANGE[0], DO_RANGE[1])),\n",
    "        \"TF_RATIO\": [float(random.uniform(TFRATIO_RANGE[0], TFRATIO_RANGE[1])), 1.0],\n",
    "        \"TRAIN_BLOCK\": random.choice(TB_SPACE)\n",
    "    }\n",
    "\n",
    "def mutate(ind):\n",
    "    if random.random() < MUT_PROB:\n",
    "        ind[\"LR\"] = float(10 ** random.uniform(np.log10(LR_RANGE[0]), np.log10(LR_RANGE[1])))\n",
    "    if random.random() < MUT_PROB:\n",
    "        ind[\"WEIGHT_DECAY\"] = float(random.uniform(WD_RANGE[0], WD_RANGE[1]))\n",
    "    if random.random() < MUT_PROB:\n",
    "        ind[\"DROPOUT\"] = float(random.uniform(DO_RANGE[0], DO_RANGE[1]))\n",
    "    if random.random() < MUT_PROB:\n",
    "        ind[\"TF_RATIO\"] = [float(random.uniform(TFRATIO_RANGE[0], TFRATIO_RANGE[1])), 1.0]\n",
    "    if random.random() < MUT_PROB:\n",
    "        ind[\"TRAIN_BLOCK\"] = random.choice(TB_SPACE)\n",
    "    return ind\n",
    "\n",
    "def crossover(parent1, parent2):\n",
    "    child = {}\n",
    "    for k in parent1.keys():\n",
    "        child[k] = random.choice([parent1[k], parent2[k]])\n",
    "    return child\n",
    "\n",
    "results = []\n",
    "population = [random_individual() for _ in range(POP_SIZE)]\n",
    "\n",
    "for gen in range(N_GEN):\n",
    "    print(f\"\\n=== Generation {gen+1} ===\")\n",
    "    scores = []\n",
    "    for i, indiv in enumerate(population):\n",
    "        print(f\"\\n[GA] Individual {i+1}: {indiv}\")\n",
    "\n",
    "        # 데이터셋\n",
    "        train_dataset = GolfSwingDataset(TRAIN_ROOT, balance=True, train=True)\n",
    "        test_dataset  = GolfSwingDataset(TEST_ROOT, balance=False, train=False)\n",
    "        train_loader = DataLoader(train_dataset, batch_size=BATCH_SIZE, shuffle=True, num_workers=0, pin_memory=True)\n",
    "        test_loader  = DataLoader(test_dataset, batch_size=BATCH_SIZE, shuffle=False, num_workers=0, pin_memory=True)\n",
    "\n",
    "        # 모델\n",
    "        base_model = TimeSformer(img_size=IMG_SIZE, num_frames=NUM_FRAMES,\n",
    "                                 num_classes=2, attention_type='divided_space_time',\n",
    "                                 pretrained_model=str(PRETRAIN_PTH)).to(DEVICE)\n",
    "        model = TimeSformerWithDropout(base_model, dropout_p=indiv[\"DROPOUT\"]).to(DEVICE)\n",
    "        optimizer = optim.AdamW(get_trainable_params(model, indiv[\"TRAIN_BLOCK\"]), lr=indiv[\"LR\"], weight_decay=indiv[\"WEIGHT_DECAY\"])\n",
    "        criterion = nn.CrossEntropyLoss(weight=torch.tensor(indiv[\"TF_RATIO\"]).to(DEVICE))\n",
    "\n",
    "        PATIENCE = 3\n",
    "        BEST_TEST_ACC = 0\n",
    "        PATIENCE_CNT = 0\n",
    "        OVERFIT_GAP = 0.35\n",
    "\n",
    "        for epoch in range(EPOCHS):\n",
    "            model.train()\n",
    "            total = correct = total_loss = 0\n",
    "            for clips, label in tqdm(train_loader, desc=f\"Epoch {epoch+1} [Train]\", ncols=70, leave=False):\n",
    "                B = clips.shape[0]\n",
    "                clips = clips.view(-1, *clips.shape[2:]).to(DEVICE)\n",
    "                labs = label.repeat(CLIPS_PER_VIDEO).to(DEVICE)\n",
    "                outs = model(clips)\n",
    "                loss = criterion(outs, labs)\n",
    "                optimizer.zero_grad(); loss.backward(); optimizer.step()\n",
    "                total_loss += loss.item()\n",
    "                total += labs.size(0)\n",
    "                correct += (outs.argmax(1) == labs).sum().item()\n",
    "            train_acc = correct / total\n",
    "            avg_loss = total_loss / total\n",
    "            print(f\"  train acc: {train_acc:.3%}, loss: {avg_loss:.4f}\")\n",
    "\n",
    "            # --- 각 epoch마다 test 평가 ---\n",
    "            model.eval()\n",
    "            test_total = test_correct = 0\n",
    "            with torch.no_grad():\n",
    "                for clips, label in tqdm(test_loader, desc=f\"Epoch {epoch+1} [Test]\", ncols=70, leave=False):\n",
    "                    B = clips.shape[0]\n",
    "                    vids = clips.view(-1, *clips.shape[2:]).to(DEVICE)\n",
    "                    labs = label.repeat(CLIPS_PER_VIDEO).to(DEVICE)\n",
    "                    probs = model(vids).softmax(1)\n",
    "                    pred = probs.argmax(1)\n",
    "                    test_total += pred.size(0)\n",
    "                    test_correct += (pred.cpu() == labs.cpu()).sum().item()\n",
    "            test_acc = test_correct / test_total if test_total > 0 else 0\n",
    "            print(f\"  test  acc: {test_acc:.3%}\")\n",
    "\n",
    "            # --- Early Stopping 조건 ---\n",
    "            if test_acc > BEST_TEST_ACC:\n",
    "                BEST_TEST_ACC = test_acc\n",
    "                PATIENCE_CNT = 0\n",
    "            else:\n",
    "                PATIENCE_CNT += 1\n",
    "\n",
    "            if train_acc - test_acc > OVERFIT_GAP:\n",
    "                print(f\"⚠️ Early stopping (overfitting): train_acc={train_acc:.2%}, test_acc={test_acc:.2%}\")\n",
    "                break\n",
    "\n",
    "            if PATIENCE_CNT >= PATIENCE:\n",
    "                print(f\"⏹️ Early stopping (no test acc improvement for {PATIENCE} epochs)\")\n",
    "                break\n",
    "\n",
    "        # 평가 (마지막 epoch 기준)\n",
    "        model.eval()\n",
    "        test_total = test_correct = 0\n",
    "        all_preds = []\n",
    "        all_labels = []\n",
    "        with torch.no_grad():\n",
    "            for clips, label in tqdm(test_loader, desc=\"Test\", ncols=70, leave=False):\n",
    "                B = clips.shape[0]\n",
    "                vids = clips.view(-1, *clips.shape[2:]).to(DEVICE)\n",
    "                labs = label.repeat(CLIPS_PER_VIDEO).to(DEVICE)\n",
    "                probs = model(vids).softmax(1)\n",
    "                pred = probs.argmax(1)\n",
    "                test_total += pred.size(0)\n",
    "                test_correct += (pred.cpu() == labs.cpu()).sum().item()\n",
    "                all_preds.extend(pred.cpu().numpy())\n",
    "                all_labels.extend(labs.cpu().numpy())\n",
    "        test_acc = test_correct / test_total if test_total > 0 else 0\n",
    "        print(f\"  test  acc: {test_acc:.3%}\")\n",
    "\n",
    "        # 아래처럼 BEST_TEST_ACC를 사용!\n",
    "        indiv[\"test_acc\"] = BEST_TEST_ACC\n",
    "        scores.append((BEST_TEST_ACC, indiv))\n",
    "        results.append(indiv.copy())\n",
    "\n",
    "    # 상위 elite 개체 선발\n",
    "    scores.sort(reverse=True, key=lambda x: x[0])\n",
    "    elites = [indiv for _, indiv in scores[:ELITE]]\n",
    "\n",
    "    # 다음 세대 생성 (교배+변이)\n",
    "    next_population = elites.copy()\n",
    "    while len(next_population) < POP_SIZE:\n",
    "        p1, p2 = random.sample(elites, 2)\n",
    "        child = crossover(p1, p2)\n",
    "        child = mutate(child)\n",
    "        next_population.append(child)\n",
    "    population = next_population\n",
    "\n",
    "# 결과 정렬 및 출력\n",
    "results = sorted(results, key=lambda x: x[\"test_acc\"], reverse=True)\n",
    "print(\"\\n=== 하이퍼파라미터 튜닝 결과 (상위 5개) ===\")\n",
    "for r in results[:5]:\n",
    "    print(r)"
   ]
  }
 ],
 "metadata": {
  "kernelspec": {
   "display_name": "timesformer",
   "language": "python",
   "name": "python3"
  },
  "language_info": {
   "codemirror_mode": {
    "name": "ipython",
    "version": 3
   },
   "file_extension": ".py",
   "mimetype": "text/x-python",
   "name": "python",
   "nbconvert_exporter": "python",
   "pygments_lexer": "ipython3",
   "version": "3.12.11"
  }
 },
 "nbformat": 4,
 "nbformat_minor": 5
}
