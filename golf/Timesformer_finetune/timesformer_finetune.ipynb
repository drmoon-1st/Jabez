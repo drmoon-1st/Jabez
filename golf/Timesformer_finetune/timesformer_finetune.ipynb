{
 "cells": [
  {
   "cell_type": "code",
   "execution_count": null,
   "id": "68c5a0fb",
   "metadata": {},
   "outputs": [
    {
     "name": "stdout",
     "output_type": "stream",
     "text": [
      "✅ 436 samples found in D:\\golfDataset\\스포츠 사람 동작 영상(골프)\\Training\\Public\\male\\train\n"
     ]
    },
    {
     "name": "stderr",
     "output_type": "stream",
     "text": [
      "Epoch 0: 100%|██████████████████████| 393/393 [10:55<00:00,  1.67s/it]\n"
     ]
    },
    {
     "name": "stdout",
     "output_type": "stream",
     "text": [
      "  train acc: 65.954%, loss: 0.1284\n",
      "  test  acc: 62.791%\n"
     ]
    },
    {
     "name": "stderr",
     "output_type": "stream",
     "text": [
      "Epoch 1: 100%|██████████████████████| 393/393 [10:51<00:00,  1.66s/it]\n"
     ]
    },
    {
     "name": "stdout",
     "output_type": "stream",
     "text": [
      "  train acc: 80.916%, loss: 0.0866\n",
      "  test  acc: 74.419%\n"
     ]
    },
    {
     "name": "stderr",
     "output_type": "stream",
     "text": [
      "Epoch 2: 100%|██████████████████████| 393/393 [10:51<00:00,  1.66s/it]\n"
     ]
    },
    {
     "name": "stdout",
     "output_type": "stream",
     "text": [
      "  train acc: 86.209%, loss: 0.0661\n",
      "  test  acc: 74.419%\n"
     ]
    },
    {
     "name": "stderr",
     "output_type": "stream",
     "text": [
      "Epoch 3: 100%|██████████████████████| 393/393 [10:53<00:00,  1.66s/it]\n"
     ]
    },
    {
     "name": "stdout",
     "output_type": "stream",
     "text": [
      "  train acc: 86.412%, loss: 0.0604\n",
      "  test  acc: 72.093%\n"
     ]
    },
    {
     "name": "stderr",
     "output_type": "stream",
     "text": [
      "Epoch 4: 100%|██████████████████████| 393/393 [10:52<00:00,  1.66s/it]\n"
     ]
    },
    {
     "name": "stdout",
     "output_type": "stream",
     "text": [
      "  train acc: 89.160%, loss: 0.0532\n",
      "  test  acc: 79.070%\n",
      "\n",
      "✅ Final model saved to timesformer_finetuned.pth\n"
     ]
    }
   ],
   "source": [
    "import sys\n",
    "sys.path.append(r\"D:\\timesformer\")  # timesformer 경로를 python 모듈 경로에 추가\n",
    "\n",
    "import torch\n",
    "import torch.nn as nn\n",
    "import torch.optim as optim\n",
    "from torch.utils.data import Dataset, DataLoader, random_split\n",
    "import torchvision.transforms as T\n",
    "from torchvision.transforms import InterpolationMode\n",
    "from pathlib import Path\n",
    "import numpy as np\n",
    "import random\n",
    "from decord import VideoReader\n",
    "from tqdm import tqdm\n",
    "from timesformer.models.vit import TimeSformer\n",
    "\n",
    "from torchvision.transforms import functional as F\n",
    "from torchvision.transforms import InterpolationMode\n",
    "import pickle\n",
    "\n",
    "def preprocess_tensor(img_tensor):  # img_tensor: (3, H, W)\n",
    "    img = F.resize(img_tensor, 256, interpolation=InterpolationMode.BICUBIC)\n",
    "    img = F.center_crop(img, IMG_SIZE)\n",
    "    img = F.normalize(img, [0.45]*3, [0.225]*3)\n",
    "    return img\n",
    "\n",
    "# ----------------- 하이퍼파라미터 ----------------------------\n",
    "ROOT          = Path(r\"D:\\golfDataset\\dataset\\train\")\n",
    "PRETRAIN_PYTH = Path(r\"D:\\timesformer\\pretrained\\TimeSformer_divST_96x4_224_K600.pyth\")\n",
    "NUM_FRAMES    = 32\n",
    "CLIPS_PER_VID = 5\n",
    "IMG_SIZE      = 224\n",
    "BATCH         = 4\n",
    "LR            = 1e-3\n",
    "EPOCHS        = 5\n",
    "SEED          = 42\n",
    "TEST_RATIO    = 0.1     # 테스트셋 비율\n",
    "\n",
    "# ----------------- 재현성 ----------------------------\n",
    "torch.manual_seed(SEED)\n",
    "random.seed(SEED)\n",
    "np.random.seed(SEED)\n",
    "torch.backends.cudnn.deterministic = True\n",
    "device = \"cuda\"  # 무조건 gpu 사용 안되면 오류 내버리기\n",
    "\n",
    "# ----------------- 전처리 ----------------------------\n",
    "base_tf = T.Compose([\n",
    "    T.Resize(256, interpolation=InterpolationMode.BICUBIC),\n",
    "    T.CenterCrop(IMG_SIZE),\n",
    "    T.ToTensor(),\n",
    "    T.Normalize([0.45]*3, [0.225]*3),\n",
    "])\n",
    "\n",
    "def uniform_sample(L, N):\n",
    "    if L >= N:\n",
    "        return np.linspace(0, L-1, N).astype(int)\n",
    "    return np.pad(np.arange(L), (0, N-L), mode='edge')\n",
    "\n",
    "def load_clip(path: Path):  # 비디오를 timesformer 입력에 맞게 전처리\n",
    "    vr = VideoReader(str(path))\n",
    "    L = len(vr)\n",
    "    seg_edges = np.linspace(0, L, CLIPS_PER_VID + 1, dtype=int)\n",
    "    clips = []\n",
    "    for s0, s1 in zip(seg_edges[:-1], seg_edges[1:]):\n",
    "        idx = uniform_sample(s1 - s0, NUM_FRAMES) + s0\n",
    "        arr = vr.get_batch(idx).asnumpy().astype(np.uint8)              # (T, H, W, 3)\n",
    "        clip = torch.from_numpy(arr).permute(0, 3, 1, 2).float() / 255.0  # (T, 3, H, W)\n",
    "        clip = torch.stack([preprocess_tensor(f) for f in clip])         # (T, 3, H, W)\n",
    "        clips.append(clip.permute(1, 0, 2, 3))                            # (3, T, H, W)\n",
    "    return clips  # list of (3, T, H, W)\n",
    "\n",
    "# ----------------- 데이터셋 ----------------------------\n",
    "class SwingDataset(Dataset):\n",
    "    def __init__(self, root: Path):\n",
    "        self.samples = []\n",
    "        for lbl, sub in enumerate((\"balanced_true\", \"false\")):\n",
    "            for p in (root/sub/\"crop_video\").glob(\"*.mp4\"):\n",
    "                self.samples.append((p, lbl))\n",
    "        print(f\"\\u2705 {len(self.samples)} samples found in {root}\")\n",
    "\n",
    "    def __len__(self):\n",
    "        return len(self.samples)\n",
    "\n",
    "    def __getitem__(self, i):\n",
    "        path, lbl = self.samples[i]\n",
    "        clips = load_clip(path)\n",
    "        return torch.stack(clips), torch.tensor(lbl)\n",
    "\n",
    "# ----------------- 데이터 로더 ----------------------------\n",
    "ds_full = SwingDataset(ROOT)\n",
    "n_test = int(len(ds_full)*TEST_RATIO)\n",
    "n_train = len(ds_full) - n_test\n",
    "train_ds, test_ds = random_split(ds_full, [n_train, n_test])\n",
    "train_ld = DataLoader(train_ds, batch_size=1, shuffle=True, num_workers=0, pin_memory=True)\n",
    "test_ld  = DataLoader(test_ds, batch_size=1, shuffle=False, num_workers=0, pin_memory=True)\n",
    "\n",
    "# ----------------- Checkpoint 설정 ----------------------------\n",
    "checkpoint_path = Path(\"checkpoint.pth\")  # 🔧 체크포인트 저장 경로\n",
    "start_epoch = 0  # 🔧 기본값\n",
    "\n",
    "# ----------------- 모델 ----------------------------\n",
    "model = TimeSformer(img_size=IMG_SIZE, num_frames=NUM_FRAMES,\n",
    "                    num_classes=2, attention_type='divided_space_time',\n",
    "                    pretrained_model=str(PRETRAIN_PYTH)).to(device)\n",
    "\n",
    "# 분류 레이어만 학습하도록 설정\n",
    "def get_trainable_params(model):\n",
    "    trainable = []\n",
    "    for name, param in model.named_parameters():\n",
    "        if any(x in name for x in ('head', 'cls_head')):\n",
    "            param.requires_grad = True\n",
    "            trainable.append(param)\n",
    "        else:\n",
    "            param.requires_grad = False\n",
    "    return trainable\n",
    "\n",
    "opt = optim.AdamW(get_trainable_params(model), lr=LR, weight_decay=0.02)\n",
    "crit = nn.CrossEntropyLoss()\n",
    "\n",
    "# 🔧 Checkpoint가 존재하면 불러오기\n",
    "if checkpoint_path.exists():\n",
    "    print(f\"🔁 Loading checkpoint from {checkpoint_path}\")\n",
    "    ckpt = torch.load(checkpoint_path, map_location=device)\n",
    "    model.load_state_dict(ckpt[\"model\"])\n",
    "    opt.load_state_dict(ckpt[\"opt\"])\n",
    "    start_epoch = ckpt[\"epoch\"] + 1\n",
    "    print(f\"✅ Resuming from epoch {start_epoch}\")\n",
    "\n",
    "# ----------------- 학습 ----------------------------\n",
    "train_logs = {\"train_acc\": [], \"test_acc\": [], \"train_loss\": []}\n",
    "\n",
    "for ep in range(start_epoch, EPOCHS):\n",
    "    model.train()\n",
    "    tot = correct = total_loss = 0\n",
    "    for clips, lab in tqdm(train_ld, desc=f\"Epoch {ep}\", ncols=70):\n",
    "        vids = clips.squeeze(0).to(device)  # (5,3,T,H,W)\n",
    "        labs = lab.repeat(CLIPS_PER_VID).to(device)\n",
    "        outs = model(vids)  # (5,2)\n",
    "        loss = crit(outs, labs)\n",
    "        opt.zero_grad(); loss.backward(); opt.step()\n",
    "\n",
    "        total_loss += loss.item()\n",
    "        tot += labs.size(0); correct += (outs.argmax(1) == labs).sum().item()\n",
    "\n",
    "    train_acc = correct / tot\n",
    "    avg_loss = total_loss / tot\n",
    "    train_logs[\"train_acc\"].append(train_acc)\n",
    "    train_logs[\"train_loss\"].append(avg_loss)\n",
    "    print(f\"  train acc: {train_acc:.3%}, loss: {avg_loss:.4f}\")\n",
    "\n",
    "    # ✔ 테스트 정확도 기록\n",
    "    model.eval(); test_tot = test_correct = 0\n",
    "    with torch.no_grad():\n",
    "        for clips, lab in test_ld:\n",
    "            vids = clips.squeeze(0).to(device)\n",
    "            probs = model(vids).softmax(1).mean(0, keepdim=True)\n",
    "            pred = probs.argmax(1)\n",
    "            test_tot += 1; test_correct += (pred.cpu() == lab).item()\n",
    "    test_acc = test_correct / test_tot\n",
    "    train_logs[\"test_acc\"].append(test_acc)\n",
    "    print(f\"  test  acc: {test_acc:.3%}\")\n",
    "\n",
    "    # ✔ 로그 저장\n",
    "    with open(\"train_logs.pkl\", \"wb\") as f:\n",
    "        pickle.dump(train_logs, f)\n",
    "\n",
    "    # ✔ 체크포인트 저장\n",
    "    torch.save({\n",
    "        \"epoch\": ep,\n",
    "        \"model\": model.state_dict(),\n",
    "        \"opt\": opt.state_dict(),\n",
    "    }, checkpoint_path)\n",
    "\n",
    "# 🔧 최종 학습된 모델 저장\n",
    "final_model_path = Path(\"timesformer_finetuned.pth\")\n",
    "torch.save({\n",
    "    \"epoch\": EPOCHS - 1,\n",
    "    \"model\": model.state_dict(),\n",
    "    \"opt\": opt.state_dict(),\n",
    "}, final_model_path)\n",
    "print(f\"\\n✅ Final model saved to {final_model_path}\")\n"
   ]
  },
  {
   "cell_type": "code",
   "execution_count": 3,
   "id": "3137d6b7",
   "metadata": {},
   "outputs": [
    {
     "data": {
      "image/png": "[encoded data removed]",
      "text/plain": [
       "<Figure size 800x400 with 1 Axes>"
      ]
     },
     "metadata": {},
     "output_type": "display_data"
    },
    {
     "data": {
      "image/png": "[encoded data removed]",
      "text/plain": [
       "<Figure size 800x400 with 1 Axes>"
      ]
     },
     "metadata": {},
     "output_type": "display_data"
    }
   ],
   "source": [
    "import pickle\n",
    "import matplotlib.pyplot as plt\n",
    "\n",
    "# 로그 불러오기\n",
    "with open(\"train_logs.pkl\", \"rb\") as f:\n",
    "    logs = pickle.load(f)\n",
    "\n",
    "epochs = list(range(1, len(logs[\"train_acc\"]) + 1))\n",
    "\n",
    "# 정확도 그래프\n",
    "plt.figure(figsize=(8, 4))\n",
    "plt.plot(epochs, logs[\"train_acc\"], label=\"Train Acc\")\n",
    "plt.plot(epochs, logs[\"test_acc\"], label=\"Test Acc\")\n",
    "plt.title(\"Accuracy Curve\")\n",
    "plt.xlabel(\"Epoch\"); plt.ylabel(\"Accuracy\")\n",
    "plt.grid(True); plt.legend(); plt.show()\n",
    "\n",
    "# 손실 그래프\n",
    "plt.figure(figsize=(8, 4))\n",
    "plt.plot(epochs, logs[\"train_loss\"], label=\"Train Loss\", color=\"red\")\n",
    "plt.title(\"Training Loss Curve\")\n",
    "plt.xlabel(\"Epoch\"); plt.ylabel(\"Loss\")\n",
    "plt.grid(True); plt.legend(); plt.show()\n"
   ]
  },
  {
   "cell_type": "markdown",
   "id": "ded9450e",
   "metadata": {},
   "source": [
    "TEST"
   ]
  },
  {
   "cell_type": "code",
   "execution_count": null,
   "id": "7f0f283a",
   "metadata": {},
   "outputs": [
    {
     "name": "stdout",
     "output_type": "stream",
     "text": [
      "⏳ 모델 로드 중...\n"
     ]
    },
    {
     "ename": "KeyError",
     "evalue": "'head.weight'",
     "output_type": "error",
     "traceback": [
      "\u001b[31m---------------------------------------------------------------------------\u001b[39m",
      "\u001b[31mKeyError\u001b[39m                                  Traceback (most recent call last)",
      "\u001b[36mCell\u001b[39m\u001b[36m \u001b[39m\u001b[32mIn[12]\u001b[39m\u001b[32m, line 71\u001b[39m\n\u001b[32m     69\u001b[39m \u001b[38;5;28mprint\u001b[39m(\u001b[33m\"\u001b[39m\u001b[33m⏳ 모델 로드 중...\u001b[39m\u001b[33m\"\u001b[39m)\n\u001b[32m     70\u001b[39m \u001b[38;5;66;03m# 모델 생성\u001b[39;00m\n\u001b[32m---> \u001b[39m\u001b[32m71\u001b[39m model = \u001b[43mTimeSformer\u001b[49m\u001b[43m(\u001b[49m\n\u001b[32m     72\u001b[39m \u001b[43m    \u001b[49m\u001b[43mimg_size\u001b[49m\u001b[43m=\u001b[49m\u001b[43mIMG_SIZE\u001b[49m\u001b[43m,\u001b[49m\n\u001b[32m     73\u001b[39m \u001b[43m    \u001b[49m\u001b[43mnum_frames\u001b[49m\u001b[43m=\u001b[49m\u001b[43mNUM_FRAMES\u001b[49m\u001b[43m,\u001b[49m\n\u001b[32m     74\u001b[39m \u001b[43m    \u001b[49m\u001b[43mnum_classes\u001b[49m\u001b[43m=\u001b[49m\u001b[32;43m2\u001b[39;49m\u001b[43m,\u001b[49m\n\u001b[32m     75\u001b[39m \u001b[43m    \u001b[49m\u001b[43mattention_type\u001b[49m\u001b[43m=\u001b[49m\u001b[33;43m'\u001b[39;49m\u001b[33;43mdivided_space_time\u001b[39;49m\u001b[33;43m'\u001b[39;49m\u001b[43m,\u001b[49m\n\u001b[32m     76\u001b[39m \u001b[43m    \u001b[49m\u001b[43mpretrained_model\u001b[49m\u001b[43m=\u001b[49m\u001b[38;5;28;43mstr\u001b[39;49m\u001b[43m(\u001b[49m\u001b[43mMODEL_PATH\u001b[49m\u001b[43m)\u001b[49m\u001b[43m  \u001b[49m\u001b[38;5;66;43;03m# fine-tuned 모델 경로\u001b[39;49;00m\n\u001b[32m     77\u001b[39m \u001b[43m)\u001b[49m.to(DEVICE)\n\u001b[32m     79\u001b[39m \u001b[38;5;66;03m# finetuned weight만 로드\u001b[39;00m\n\u001b[32m     80\u001b[39m ckpt = torch.load(MODEL_PATH, map_location=DEVICE)\n",
      "\u001b[36mFile \u001b[39m\u001b[32mD:\\timesformer\\timesformer\\models\\vit.py:348\u001b[39m, in \u001b[36mTimeSformer.__init__\u001b[39m\u001b[34m(self, img_size, patch_size, num_classes, num_frames, attention_type, pretrained_model, **kwargs)\u001b[39m\n\u001b[32m    346\u001b[39m \u001b[38;5;28mself\u001b[39m.num_patches = (img_size // patch_size) * (img_size // patch_size)\n\u001b[32m    347\u001b[39m \u001b[38;5;28;01mif\u001b[39;00m \u001b[38;5;28mself\u001b[39m.pretrained:\n\u001b[32m--> \u001b[39m\u001b[32m348\u001b[39m     \u001b[43mload_pretrained\u001b[49m\u001b[43m(\u001b[49m\u001b[38;5;28;43mself\u001b[39;49m\u001b[43m.\u001b[49m\u001b[43mmodel\u001b[49m\u001b[43m,\u001b[49m\u001b[43m \u001b[49m\u001b[43mnum_classes\u001b[49m\u001b[43m=\u001b[49m\u001b[38;5;28;43mself\u001b[39;49m\u001b[43m.\u001b[49m\u001b[43mmodel\u001b[49m\u001b[43m.\u001b[49m\u001b[43mnum_classes\u001b[49m\u001b[43m,\u001b[49m\u001b[43m \u001b[49m\u001b[43min_chans\u001b[49m\u001b[43m=\u001b[49m\u001b[43mkwargs\u001b[49m\u001b[43m.\u001b[49m\u001b[43mget\u001b[49m\u001b[43m(\u001b[49m\u001b[33;43m'\u001b[39;49m\u001b[33;43min_chans\u001b[39;49m\u001b[33;43m'\u001b[39;49m\u001b[43m,\u001b[49m\u001b[43m \u001b[49m\u001b[32;43m3\u001b[39;49m\u001b[43m)\u001b[49m\u001b[43m,\u001b[49m\u001b[43m \u001b[49m\u001b[43mfilter_fn\u001b[49m\u001b[43m=\u001b[49m\u001b[43m_conv_filter\u001b[49m\u001b[43m,\u001b[49m\u001b[43m \u001b[49m\u001b[43mimg_size\u001b[49m\u001b[43m=\u001b[49m\u001b[43mimg_size\u001b[49m\u001b[43m,\u001b[49m\u001b[43m \u001b[49m\u001b[43mnum_frames\u001b[49m\u001b[43m=\u001b[49m\u001b[43mnum_frames\u001b[49m\u001b[43m,\u001b[49m\u001b[43m \u001b[49m\u001b[43mnum_patches\u001b[49m\u001b[43m=\u001b[49m\u001b[38;5;28;43mself\u001b[39;49m\u001b[43m.\u001b[49m\u001b[43mnum_patches\u001b[49m\u001b[43m,\u001b[49m\u001b[43m \u001b[49m\u001b[43mattention_type\u001b[49m\u001b[43m=\u001b[49m\u001b[38;5;28;43mself\u001b[39;49m\u001b[43m.\u001b[49m\u001b[43mattention_type\u001b[49m\u001b[43m,\u001b[49m\u001b[43m \u001b[49m\u001b[43mpretrained_model\u001b[49m\u001b[43m=\u001b[49m\u001b[43mpretrained_model\u001b[49m\u001b[43m)\u001b[49m\n",
      "\u001b[36mFile \u001b[39m\u001b[32mD:\\timesformer\\timesformer\\models\\helpers.py:161\u001b[39m, in \u001b[36mload_pretrained\u001b[39m\u001b[34m(model, cfg, num_classes, in_chans, filter_fn, img_size, num_frames, num_patches, attention_type, pretrained_model, strict)\u001b[39m\n\u001b[32m    159\u001b[39m     classifier_bias = state_dict[classifier_name + \u001b[33m'\u001b[39m\u001b[33m.bias\u001b[39m\u001b[33m'\u001b[39m]\n\u001b[32m    160\u001b[39m     state_dict[classifier_name + \u001b[33m'\u001b[39m\u001b[33m.bias\u001b[39m\u001b[33m'\u001b[39m] = classifier_bias[\u001b[32m1\u001b[39m:]\n\u001b[32m--> \u001b[39m\u001b[32m161\u001b[39m \u001b[38;5;28;01melif\u001b[39;00m num_classes != \u001b[43mstate_dict\u001b[49m\u001b[43m[\u001b[49m\u001b[43mclassifier_name\u001b[49m\u001b[43m \u001b[49m\u001b[43m+\u001b[49m\u001b[43m \u001b[49m\u001b[33;43m'\u001b[39;49m\u001b[33;43m.weight\u001b[39;49m\u001b[33;43m'\u001b[39;49m\u001b[43m]\u001b[49m.size(\u001b[32m0\u001b[39m):\n\u001b[32m    162\u001b[39m     \u001b[38;5;66;03m#print('Removing the last fully connected layer due to dimensions mismatch ('+str(num_classes)+ ' != '+str(state_dict[classifier_name + '.weight'].size(0))+').', flush=True)\u001b[39;00m\n\u001b[32m    163\u001b[39m     \u001b[38;5;66;03m# completely discard fully connected for all other differences between pretrained and created model\u001b[39;00m\n\u001b[32m    164\u001b[39m     \u001b[38;5;28;01mdel\u001b[39;00m state_dict[classifier_name + \u001b[33m'\u001b[39m\u001b[33m.weight\u001b[39m\u001b[33m'\u001b[39m]\n\u001b[32m    165\u001b[39m     \u001b[38;5;28;01mdel\u001b[39;00m state_dict[classifier_name + \u001b[33m'\u001b[39m\u001b[33m.bias\u001b[39m\u001b[33m'\u001b[39m]\n",
      "\u001b[31mKeyError\u001b[39m: 'head.weight'"
     ]
    }
   ],
   "source": [
    "import sys\n",
    "sys.path.append(r\"D:\\timesformer\")  # TimeSformer 모듈 경로 추가\n",
    "\n",
    "import torch\n",
    "from pathlib import Path\n",
    "import numpy as np\n",
    "from decord import VideoReader\n",
    "import torchvision.transforms as T\n",
    "from torchvision.transforms import functional as F, InterpolationMode\n",
    "from torch.utils.data import Dataset, DataLoader\n",
    "from timesformer.models.vit import TimeSformer\n",
    "\n",
    "\n",
    "# ----------------- 설정 ----------------------------\n",
    "TEST_ROOT      = Path(r\"D:\\golfDataset\\dataset\\test\")\n",
    "NUM_FRAMES     = 32\n",
    "CLIPS_PER_VID  = 5\n",
    "IMG_SIZE       = 224\n",
    "DEVICE         = \"cuda\" if torch.cuda.is_available() else \"cpu\"\n",
    "MODEL_PATH     = Path(\"timesformer_finetuned.pth\")  # fine-tuned 모델 파일 경로\n",
    "BATCH_SIZE     = 1\n",
    "NUM_WORKERS    = 0\n",
    "\n",
    "# ----------------- 헬퍼 함수 -------------------------\n",
    "def uniform_sample(L, N):\n",
    "    if L >= N:\n",
    "        return np.linspace(0, L-1, N).astype(int)\n",
    "    return np.pad(np.arange(L), (0, N-L), mode='edge')\n",
    "\n",
    "def preprocess_tensor(img_tensor):  # img_tensor: (3, H, W)\n",
    "    img = F.resize(img_tensor, 256, interpolation=InterpolationMode.BICUBIC)\n",
    "    img = F.center_crop(img, IMG_SIZE)\n",
    "    img = F.normalize(img, [0.45]*3, [0.225]*3)\n",
    "    return img\n",
    "\n",
    "def load_clip(path: Path):\n",
    "    vr = VideoReader(str(path))\n",
    "    L = len(vr)\n",
    "    seg_edges = np.linspace(0, L, CLIPS_PER_VID + 1, dtype=int)\n",
    "    clips = []\n",
    "    for s0, s1 in zip(seg_edges[:-1], seg_edges[1:]):\n",
    "        idx = uniform_sample(s1 - s0, NUM_FRAMES) + s0\n",
    "        arr = vr.get_batch(idx).asnumpy().astype(np.uint8)        # (T, H, W, 3)\n",
    "        clip = torch.from_numpy(arr).permute(0, 3, 1, 2).float() / 255.0\n",
    "        clip = torch.stack([preprocess_tensor(f) for f in clip])   # (T, 3, H, W)\n",
    "        clips.append(clip.permute(1, 0, 2, 3))                       # (3, T, H, W)\n",
    "    return clips\n",
    "\n",
    "# ----------------- Dataset 정의 -----------------------\n",
    "class SwingTestDataset(Dataset):\n",
    "    def __init__(self, root: Path):\n",
    "        self.samples = []\n",
    "        for lbl, sub in enumerate((\"balanced_true\", \"false\")):\n",
    "            folder = root / sub / \"crop_video\"\n",
    "            if folder.exists():\n",
    "                for p in folder.glob(\"*.mp4\"):\n",
    "                    self.samples.append((p, lbl))\n",
    "        print(f\"🔎 {len(self.samples)} test samples found in {root}\")\n",
    "\n",
    "    def __len__(self):\n",
    "        return len(self.samples)\n",
    "\n",
    "    def __getitem__(self, idx):\n",
    "        path, lbl = self.samples[idx]\n",
    "        clips = load_clip(path)\n",
    "        return torch.stack(clips), torch.tensor(lbl)\n",
    "\n",
    "# ----------------- 모델 로드 --------------------------\n",
    "print(\"⏳ 모델 로드 중...\")\n",
    "# 모델 생성\n",
    "model = TimeSformer(\n",
    "    img_size=IMG_SIZE,\n",
    "    num_frames=NUM_FRAMES,\n",
    "    num_classes=2,\n",
    "    attention_type='divided_space_time',\n",
    "    pretrained_model=str(MODEL_PATH)  # fine-tuned 모델 경로\n",
    ").to(DEVICE)\n",
    "\n",
    "# finetuned weight만 로드\n",
    "ckpt = torch.load(MODEL_PATH, map_location=DEVICE)\n",
    "model.load_state_dict(ckpt['model'])\n",
    "model.eval()\n",
    "print(\"✅ 모델 로드 완료\")\n",
    "\n",
    "# ----------------- 평가 ------------------------------\n",
    "test_ds = SwingTestDataset(TEST_ROOT)\n",
    "test_ld = DataLoader(test_ds, batch_size=BATCH_SIZE, shuffle=False,\n",
    "                     num_workers=NUM_WORKERS, pin_memory=True)\n",
    "\n",
    "total = correct = 0\n",
    "with torch.no_grad():\n",
    "    for clips, labels in test_ld:\n",
    "        vids = clips.squeeze(0).to(DEVICE)  # (5,3,T,H,W)\n",
    "        labels = labels.to(DEVICE)\n",
    "        probs = model(vids).softmax(1).mean(0, keepdim=True)\n",
    "        pred = probs.argmax(1)\n",
    "        total += 1\n",
    "        correct += (pred == labels).sum().item()\n",
    "\n",
    "accuracy = correct / total if total > 0 else 0\n",
    "print(f\"🎯 Test Accuracy: {accuracy * 100:.2f}% ({correct}/{total})\")\n"
   ]
  },
  {
   "cell_type": "code",
   "execution_count": 9,
   "id": "bf941fdf",
   "metadata": {},
   "outputs": [
    {
     "name": "stdout",
     "output_type": "stream",
     "text": [
      "🔖 백업 저장: timesformer_finetuned.backup.pth\n",
      "✅ timesformer_finetuned.pth 을(를) 순수 state_dict 형태로 업데이트했습니다.\n"
     ]
    }
   ],
   "source": [
    "import torch\n",
    "from pathlib import Path\n",
    "\n",
    "# 원본 체크포인트 경로\n",
    "MODEL_PATH = Path(\"timesformer_finetuned.pth\")\n",
    "\n",
    "# 1) 로드\n",
    "ckpt = torch.load(MODEL_PATH, map_location=\"cpu\")\n",
    "\n",
    "# 2) wrapper 안에 'model' 키가 있으면 꺼내고, 없으면 그대로 state_dict로 간주\n",
    "if isinstance(ckpt, dict) and \"model\" in ckpt:\n",
    "    state_dict = ckpt[\"model\"]\n",
    "    # (선택) 원본 백업\n",
    "    backup_path = MODEL_PATH.with_suffix(\".backup.pth\")\n",
    "    if not backup_path.exists():\n",
    "        print(f\"🔖 백업 저장: {backup_path}\")\n",
    "        torch.save(ckpt, backup_path)\n",
    "else:\n",
    "    print(\"⚠️ 'model' 키가 없습니다. 이미 순수 state_dict일 수 있습니다.\")\n",
    "    state_dict = ckpt\n",
    "\n",
    "# 3) 순수 state_dict만 덮어쓰기\n",
    "torch.save(state_dict, MODEL_PATH)\n",
    "print(f\"✅ {MODEL_PATH.name} 을(를) 순수 state_dict 형태로 업데이트했습니다.\")\n"
   ]
  }
 ],
 "metadata": {
  "kernelspec": {
   "display_name": "timesformer",
   "language": "python",
   "name": "python3"
  },
  "language_info": {
   "codemirror_mode": {
    "name": "ipython",
    "version": 3
   },
   "file_extension": ".py",
   "mimetype": "text/x-python",
   "name": "python",
   "nbconvert_exporter": "python",
   "pygments_lexer": "ipython3",
   "version": "3.12.11"
  }
 },
 "nbformat": 4,
 "nbformat_minor": 5
}
