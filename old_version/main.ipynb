{
 "cells": [
  {
   "cell_type": "markdown",
   "metadata": {},
   "source": [
    "## process_video 두번 실행하면 안됨.. ipynb의 변수 초기화에 뭔가 문제가 있는것 같음"
   ]
  },
  {
   "cell_type": "code",
   "execution_count": 1,
   "metadata": {},
   "outputs": [
    {
     "name": "stderr",
     "output_type": "stream",
     "text": [
      "c:\\Users\\qqppq\\anaconda3\\Lib\\site-packages\\google\\protobuf\\symbol_database.py:55: UserWarning: SymbolDatabase.GetPrototype() is deprecated. Please use message_factory.GetMessageClass() instead. SymbolDatabase.GetPrototype() will be removed soon.\n",
      "  warnings.warn('SymbolDatabase.GetPrototype() is deprecated. Please '\n"
     ]
    },
    {
     "name": "stdout",
     "output_type": "stream",
     "text": [
      "영상 처리 완료: c:\\CapStone/output_video/output_processed.mp4\n",
      "포즈 랜드마크 저장 완료: c:\\CapStone/markerless_raw_csv\\pose_landmarks.csv\n"
     ]
    }
   ],
   "source": [
    "from video_processing import process_video\n",
    "from graph_plot import count_rep\n",
    "import pandas as pd\n",
    "import matplotlib.pyplot as plt\n",
    "from config import CSV_FILE_PATH\n",
    "\n",
    "# 비디오 처리\n",
    "process_video()"
   ]
  },
  {
   "cell_type": "code",
   "execution_count": null,
   "metadata": {},
   "outputs": [],
   "source": [
    "count_rep()"
   ]
  }
 ],
 "metadata": {
  "kernelspec": {
   "display_name": "base",
   "language": "python",
   "name": "python3"
  },
  "language_info": {
   "codemirror_mode": {
    "name": "ipython",
    "version": 3
   },
   "file_extension": ".py",
   "mimetype": "text/x-python",
   "name": "python",
   "nbconvert_exporter": "python",
   "pygments_lexer": "ipython3",
   "version": "3.12.3"
  }
 },
 "nbformat": 4,
 "nbformat_minor": 2
}
